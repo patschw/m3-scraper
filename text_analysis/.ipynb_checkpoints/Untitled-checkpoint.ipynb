{
 "cells": [
  {
   "cell_type": "code",
   "execution_count": null,
   "id": "13329c9e-64fb-4dcb-9b7d-4d166d539c1e",
   "metadata": {},
   "outputs": [],
   "source": [
    "from transformers import AutoModelForCausalLM, AutoTokenizer, pipeline\n",
    "\n",
    "model_name_or_path = \"TheBloke/em_german_leo_mistral-GPTQ\"\n",
    "# To use a different branch, change revision\n",
    "# For example: revision=\"gptq-4bit-32g-actorder_True\"\n",
    "model = AutoModelForCausalLM.from_pretrained(model_name_or_path,\n",
    "                                             device_map=\"auto\",\n",
    "                                             trust_remote_code=False,\n",
    "                                             revision=\"main\")\n",
    "\n",
    "tokenizer = AutoTokenizer.from_pretrained(model_name_or_path, use_fast=True)\n",
    "\n",
    "prompt = \"\"\"Trump wettert gegen Harris, Musk lässt ihn machen\n",
    "Es sollte Donald Trumps triumphale Liverückkehr zu X werden, doch zunächst ging technisch gar nichts. Mit reichlich Verspätung konnte Elon Musk dann doch noch Fragen loswerden. Kamala Harris kommentierte die Veranstaltung subtil. \n",
    "Lange Zeit hatte sich Donald Trump sehr rar gemacht bei X, früher als Twitter bekannt. Zunächst war der Ex-US-Präsident ohnehin von der sozialen Plattform verbannt gewesen. Doch auch nachdem Elon Musk den Account des Republikaners wieder freigeschaltet hatte, \n",
    "hielt sich Trump extrem zurück. Nun allerdings – weniger als drei Monate vor der Präsidentschaftswahl – ist er wieder da. Die Rückkehr geriet allerdings wegen technischer Probleme zunächst eher holprig.\n",
    "Musks geplantes Live-Interview mit Trump ist nach Angaben des Tech-Multimilliardärs offenbar durch einen »massiven« Cyberangriff gestört worden. »Es scheint eine massive DDOS-Attacke auf X zu geben«, schrieb Musk am Montag (Ortszeit) auf der Plattform.\n",
    "DDoS-Attacken sind Cyberangriffe mit dem Ziel, Server zu überlasten. Belege dafür gab es zunächst keine, stattdessen wertete Musk die »Attacke als Indiz, dass es viel Widerstand dagegen gibt, Präsident Trump sprechen zu lassen«. Er sei »geehrt, diese Unterhaltung führen zu dürfen«, erklärte der Unternehmer weiter.\n",
    "Musk hatte das Interview für 20 Uhr (US-Ostküstenzeit, Dienstag 2 Uhr MESZ) auf seiner Onlineplattform X angekündigt und wollte das Gespräch selbst führen. Das Gespräch begann schließlich um kurz nach 20.40 Uhr. Zunächst war unklar, ob alle Nutzer das Interview verfolgen konnten. \n",
    "Kurz nach Beginn wurden mehr als eine Million Zuhörer angezeigt. Musk erklärte, ein Mitschnitt werde schnell nach dem Ende des Gesprächs veröffentlicht.\n",
    "Trump-treue Medien verbreiteten während des Termins Fotos, die Trump beim Gespräch mit Musk zeigen sollen:\n",
    "Der Hightech-Unternehmer hatte im Vorfeld angekündigt, dass das Interview in »improvisierter« Form geführt werde und die Themenbreite unbegrenzt sei. »Also sollte es höchst unterhaltsam sein!«, schrieb er. Die X-Nutzerinnen und -Nutzer forderte Musk auf, Fragen und Kommentare zu dem Interview auf der Plattform zu posten.\n",
    "Harte Nachfragen musste Trump jedenfalls nicht befürchten. Stattdessen ließ Musk den Republikaner frei sprechen. Dabei arbeitete sich dieser erwartungsgemäß an seiner Konkurrentin Kamala Harris ab.\n",
    "So äußerte Trump seinen Unmut darüber, dass Vizepräsidentin Harris anstelle von Präsident Joe Biden als demokratische Kandidatin bei der Präsidentschaftswahl im November antreten wird. Er bezeichnete dies wahrheitswidrig als »Putsch« und behauptete, Harris habe seit Beginn dieser »Täuschung« kein Interview mehr gegeben. Trump hatte Biden in vielen Umfragen in den umkämpften Staaten, die für den Ausgang der Wahl am 5. November entscheidend sein dürften, überholt, liegt nun aber in einigen dieser Staaten hinter Harris.\n",
    "Die Demokratin bezeichnete er als »Liberale aus San Francisco«, die Kalifornien »zerstört« habe. »Sie wird schlimmer sein als er«, so Trump in Bezug auf Biden. Zudem folgte er der republikanischen Strategie, Harris für das vermeintliche Chaos an der Grenze zu Mexiko verantwortlich zu machen.\n",
    "Zwischenzeitlich ließ sich Trump über angebliche Einwanderer aus Afrika aus. Er sagte: »Sie kommen aus dem Kongo. 22 Leute sind zuletzt aus dem Kongo gekommen, und das sind Mörder.« Details zu dieser rassistischen Behauptung lieferte Trump nicht. Stattdessen: »Sie holen sie aus den Gefängnissen, schicken sie in die USA und drohen ihnen mit dem Tod, wenn sie zurückkommen.«\n",
    "Musk lobte den ehemaligen Präsidenten für seine Tapferkeit während eines Attentatsversuchs im Juli, bei dem Trump von einer Kugel am Ohr getroffen wurde. Der Tesla-Chef, der nach diesem Vorfall seine Unterstützung für Trump angekündigt hatte, lobte den ehemaligen Präsidenten mehrfach für seine Standhaftigkeit und seinen Mut. Trump kündigte an, im Oktober zu einer Kundgebung nach Butler, Pennsylvania, dem Ort des Angriffs, zurückzukehren.\n",
    "Später behauptete Trump ohne Beweise unter anderem, dass Russland die Ukraine nicht angegriffen hätte, wenn er noch Präsident wäre. Er lobte autoritäre Führer wie den russischen Präsidenten Wladimir Putin und den chinesischen Präsidenten Xi Jinping.\n",
    "Musk schloss das Gespräch mit einer erneuten Versicherung der eigenen Unterstützung für den Republikaner. Er hoffe auf eine »aufregende, inspirierende Zukunft«, so Musk: »Ich denke, dass Sie als Präsident eine solche Zukunft bringen könnten. Deshalb haben Sie meine Unterstützung.«\n",
    "Die Harris-Kampagne selbst kommentierte das technische Hickhack zum Auftakt der Veranstaltung eher subtil – mit dem Zitat einer Trump-Aussage. Dieser hatte sich im vergangenen Jahr über den Kampagnenstart von Ron DeSantis, zwischenzeitlich Trumps Konkurrent im parteiinternen Vorwahlkampf, lustig gemacht. Auch DeSantis hatte damals ein Live-Interview auf X machen wollen. Auch dieses lief technisch aus dem Ruder.\n",
    "Trump wettert gegen Harris, Musk lässt ihn machen\n",
    "Es sollte Donald Trumps triumphale Liverückkehr zu X werden, doch zunächst ging technisch gar nichts. Mit reichlich Verspätung konnte Elon Musk dann doch noch Fragen loswerden. Kamala Harris kommentierte die Veranstaltung subtil. \n",
    "Lange Zeit hatte sich Donald Trump sehr rar gemacht bei X, früher als Twitter bekannt. Zunächst war der Ex-US-Präsident ohnehin von der sozialen Plattform verbannt gewesen. Doch auch nachdem Elon Musk den Account des Republikaners wieder freigeschaltet hatte, \n",
    "hielt sich Trump extrem zurück. Nun allerdings – weniger als drei Monate vor der Präsidentschaftswahl – ist er wieder da. Die Rückkehr geriet allerdings wegen technischer Probleme zunächst eher holprig.\n",
    "Musks geplantes Live-Interview mit Trump ist nach Angaben des Tech-Multimilliardärs offenbar durch einen »massiven« Cyberangriff gestört worden. »Es scheint eine massive DDOS-Attacke auf X zu geben«, schrieb Musk am Montag (Ortszeit) auf der Plattform.\n",
    "DDoS-Attacken sind Cyberangriffe mit dem Ziel, Server zu überlasten. Belege dafür gab es zunächst keine, stattdessen wertete Musk die »Attacke als Indiz, dass es viel Widerstand dagegen gibt, Präsident Trump sprechen zu lassen«. Er sei »geehrt, diese Unterhaltung führen zu dürfen«, erklärte der Unternehmer weiter.\n",
    "Musk hatte das Interview für 20 Uhr (US-Ostküstenzeit, Dienstag 2 Uhr MESZ) auf seiner Onlineplattform X angekündigt und wollte das Gespräch selbst führen. Das Gespräch begann schließlich um kurz nach 20.40 Uhr. Zunächst war unklar, ob alle Nutzer das Interview verfolgen konnten. \n",
    "Kurz nach Beginn wurden mehr als eine Million Zuhörer angezeigt. Musk erklärte, ein Mitschnitt werde schnell nach dem Ende des Gesprächs veröffentlicht.\n",
    "Trump-treue Medien verbreiteten während des Termins Fotos, die Trump beim Gespräch mit Musk zeigen sollen:\n",
    "Der Hightech-Unternehmer hatte im Vorfeld angekündigt, dass das Interview in »improvisierter« Form geführt werde und die Themenbreite unbegrenzt sei. »Also sollte es höchst unterhaltsam sein!«, schrieb er. Die X-Nutzerinnen und -Nutzer forderte Musk auf, Fragen und Kommentare zu dem Interview auf der Plattform zu posten.\n",
    "Harte Nachfragen musste Trump jedenfalls nicht befürchten. Stattdessen ließ Musk den Republikaner frei sprechen. Dabei arbeitete sich dieser erwartungsgemäß an seiner Konkurrentin Kamala Harris ab.\n",
    "So äußerte Trump seinen Unmut darüber, dass Vizepräsidentin Harris anstelle von Präsident Joe Biden als demokratische Kandidatin bei der Präsidentschaftswahl im November antreten wird. Er bezeichnete dies wahrheitswidrig als »Putsch« und behauptete, Harris habe seit Beginn dieser »Täuschung« kein Interview mehr gegeben. Trump hatte Biden in vielen Umfragen in den umkämpften Staaten, die für den Ausgang der Wahl am 5. November entscheidend sein dürften, überholt, liegt nun aber in einigen dieser Staaten hinter Harris.\n",
    "Die Demokratin bezeichnete er als »Liberale aus San Francisco«, die Kalifornien »zerstört« habe. »Sie wird schlimmer sein als er«, so Trump in Bezug auf Biden. Zudem folgte er der republikanischen Strategie, Harris für das vermeintliche Chaos an der Grenze zu Mexiko verantwortlich zu machen.\n",
    "Zwischenzeitlich ließ sich Trump über angebliche Einwanderer aus Afrika aus. Er sagte: »Sie kommen aus dem Kongo. 22 Leute sind zuletzt aus dem Kongo gekommen, und das sind Mörder.« Details zu dieser rassistischen Behauptung lieferte Trump nicht. Stattdessen: »Sie holen sie aus den Gefängnissen, schicken sie in die USA und drohen ihnen mit dem Tod, wenn sie zurückkommen.«\n",
    "Musk lobte den ehemaligen Präsidenten für seine Tapferkeit während eines Attentatsversuchs im Juli, bei dem Trump von einer Kugel am Ohr getroffen wurde. Der Tesla-Chef, der nach diesem Vorfall seine Unterstützung für Trump angekündigt hatte, lobte den ehemaligen Präsidenten mehrfach für seine Standhaftigkeit und seinen Mut. Trump kündigte an, im Oktober zu einer Kundgebung nach Butler, Pennsylvania, dem Ort des Angriffs, zurückzukehren.\n",
    "Später behauptete Trump ohne Beweise unter anderem, dass Russland die Ukraine nicht angegriffen hätte, wenn er noch Präsident wäre. Er lobte autoritäre Führer wie den russischen Präsidenten Wladimir Putin und den chinesischen Präsidenten Xi Jinping.\n",
    "Musk schloss das Gespräch mit einer erneuten Versicherung der eigenen Unterstützung für den Republikaner. Er hoffe auf eine »aufregende, inspirierende Zukunft«, so Musk: »Ich denke, dass Sie als Präsident eine solche Zukunft bringen könnten. Deshalb haben Sie meine Unterstützung.«\n",
    "Die Harris-Kampagne selbst kommentierte das technische Hickhack zum Auftakt der Veranstaltung eher subtil – mit dem Zitat einer Trump-Aussage. Dieser hatte sich im vergangenen Jahr über den Kampagnenstart von Ron DeSantis, zwischenzeitlich Trumps Konkurrent im parteiinternen Vorwahlkampf, lustig gemacht. Auch DeSantis hatte damals ein Live-Interview auf X machen wollen. Auch dieses lief technisch aus dem Ruder.\n",
    "\"\"\"\n",
    "prompt_template = f'''\n",
    "\"Fasse den folgenden Text präzise zusammen. Verwende dabei nicht mehr als 6 aufeinanderfolgende Wörter aus dem Originaltext. \n",
    "Nutze Paraphrasen und Synonyme, um sicherzustellen, dass die Zusammenfassung den Sinn des Originaltexts bewahrt, aber keine längeren Phrasen direkt übernimmt. Text: {prompt} Zusammenfassung:\n",
    "'''\n",
    "\n",
    "\n",
    "#print(\"\\n\\n*** Generate:\")\n",
    "\n",
    "#input_ids = tokenizer(prompt_template, return_tensors='pt').input_ids.cuda()\n",
    "#output = model.generate(inputs=input_ids, temperature=0.7, do_sample=True, top_p=0.95, top_k=40, max_new_tokens=512)\n",
    "#print(tokenizer.decode(output[0]))\n",
    "\n",
    "# Inference can also be done using transformers' pipeline\n",
    "\n",
    "max_output_tokens = int(len(prompt)/4)\n",
    "print(\"*** Pipeline:\")\n",
    "pipe = pipeline(\n",
    "    \"text-generation\",\n",
    "    model=model,\n",
    "    tokenizer=tokenizer,\n",
    "    max_new_tokens=max_output_tokens,\n",
    "    #max_length=4096,\n",
    "    do_sample=True,\n",
    "    temperature=0.7,\n",
    "    top_p=0.95,\n",
    "    top_k=40,\n",
    "    repetition_penalty=1.1\n",
    ")\n",
    "\n",
    "print(pipe(prompt_template)[0]['generated_text'])"
   ]
  },
  {
   "cell_type": "code",
   "execution_count": 16,
   "id": "ebfc7d19-7cff-42c2-b0e1-24c1620e51be",
   "metadata": {},
   "outputs": [
    {
     "data": {
      "text/plain": [
       "1239"
      ]
     },
     "execution_count": 16,
     "metadata": {},
     "output_type": "execute_result"
    }
   ],
   "source": [
    "int(len(prompt)/4)"
   ]
  },
  {
   "cell_type": "code",
   "execution_count": 14,
   "id": "a46ff97d-b753-44bf-8afc-c11d0747682d",
   "metadata": {},
   "outputs": [
    {
     "data": {
      "text/plain": [
       "4957"
      ]
     },
     "execution_count": 14,
     "metadata": {},
     "output_type": "execute_result"
    }
   ],
   "source": []
  },
  {
   "cell_type": "code",
   "execution_count": 15,
   "id": "a1c93000-756c-46d6-ba1b-e4f7c2cfb3bd",
   "metadata": {},
   "outputs": [],
   "source": [
    "import optimum\n",
    "import auto_gptq"
   ]
  },
  {
   "cell_type": "code",
   "execution_count": 8,
   "id": "3fa84e19-7333-470c-8eba-8bc32b8a3dce",
   "metadata": {},
   "outputs": [
    {
     "name": "stdout",
     "output_type": "stream",
     "text": [
      "Requirement already satisfied: auto-gptq in /opt/conda/lib/python3.10/site-packages (0.7.1)\n",
      "Requirement already satisfied: accelerate>=0.26.0 in /opt/conda/lib/python3.10/site-packages (from auto-gptq) (0.30.1)\n",
      "Requirement already satisfied: datasets in /opt/conda/lib/python3.10/site-packages (from auto-gptq) (2.19.1)\n",
      "Requirement already satisfied: sentencepiece in /opt/conda/lib/python3.10/site-packages (from auto-gptq) (0.2.0)\n",
      "Requirement already satisfied: numpy in /opt/conda/lib/python3.10/site-packages (from auto-gptq) (1.23.5)\n",
      "Requirement already satisfied: rouge in /opt/conda/lib/python3.10/site-packages (from auto-gptq) (1.0.1)\n",
      "Requirement already satisfied: gekko in /opt/conda/lib/python3.10/site-packages (from auto-gptq) (1.1.1)\n",
      "Requirement already satisfied: torch>=1.13.0 in /opt/conda/lib/python3.10/site-packages (from auto-gptq) (2.2.2)\n",
      "Requirement already satisfied: safetensors in /opt/conda/lib/python3.10/site-packages (from auto-gptq) (0.4.2)\n",
      "Requirement already satisfied: transformers>=4.31.0 in /opt/conda/lib/python3.10/site-packages (from auto-gptq) (4.40.2)\n",
      "Requirement already satisfied: peft>=0.5.0 in /opt/conda/lib/python3.10/site-packages (from auto-gptq) (0.11.1)\n",
      "Requirement already satisfied: tqdm in /opt/conda/lib/python3.10/site-packages (from auto-gptq) (4.66.2)\n",
      "Requirement already satisfied: packaging>=20.0 in /opt/conda/lib/python3.10/site-packages (from accelerate>=0.26.0->auto-gptq) (24.0)\n",
      "Requirement already satisfied: psutil in /opt/conda/lib/python3.10/site-packages (from accelerate>=0.26.0->auto-gptq) (5.9.0)\n",
      "Requirement already satisfied: pyyaml in /opt/conda/lib/python3.10/site-packages (from accelerate>=0.26.0->auto-gptq) (6.0)\n",
      "Requirement already satisfied: huggingface-hub in /opt/conda/lib/python3.10/site-packages (from accelerate>=0.26.0->auto-gptq) (0.24.5)\n",
      "Requirement already satisfied: filelock in /opt/conda/lib/python3.10/site-packages (from torch>=1.13.0->auto-gptq) (3.13.3)\n",
      "Requirement already satisfied: typing-extensions>=4.8.0 in /opt/conda/lib/python3.10/site-packages (from torch>=1.13.0->auto-gptq) (4.10.0)\n",
      "Requirement already satisfied: sympy in /opt/conda/lib/python3.10/site-packages (from torch>=1.13.0->auto-gptq) (1.12)\n",
      "Requirement already satisfied: networkx in /opt/conda/lib/python3.10/site-packages (from torch>=1.13.0->auto-gptq) (3.2.1)\n",
      "Requirement already satisfied: jinja2 in /opt/conda/lib/python3.10/site-packages (from torch>=1.13.0->auto-gptq) (3.1.4)\n",
      "Requirement already satisfied: fsspec in /opt/conda/lib/python3.10/site-packages (from torch>=1.13.0->auto-gptq) (2024.3.1)\n",
      "Requirement already satisfied: nvidia-cuda-nvrtc-cu12==12.1.105 in /opt/conda/lib/python3.10/site-packages (from torch>=1.13.0->auto-gptq) (12.1.105)\n",
      "Requirement already satisfied: nvidia-cuda-runtime-cu12==12.1.105 in /opt/conda/lib/python3.10/site-packages (from torch>=1.13.0->auto-gptq) (12.1.105)\n",
      "Requirement already satisfied: nvidia-cuda-cupti-cu12==12.1.105 in /opt/conda/lib/python3.10/site-packages (from torch>=1.13.0->auto-gptq) (12.1.105)\n",
      "Requirement already satisfied: nvidia-cudnn-cu12==8.9.2.26 in /opt/conda/lib/python3.10/site-packages (from torch>=1.13.0->auto-gptq) (8.9.2.26)\n",
      "Requirement already satisfied: nvidia-cublas-cu12==12.1.3.1 in /opt/conda/lib/python3.10/site-packages (from torch>=1.13.0->auto-gptq) (12.1.3.1)\n",
      "Requirement already satisfied: nvidia-cufft-cu12==11.0.2.54 in /opt/conda/lib/python3.10/site-packages (from torch>=1.13.0->auto-gptq) (11.0.2.54)\n",
      "Requirement already satisfied: nvidia-curand-cu12==10.3.2.106 in /opt/conda/lib/python3.10/site-packages (from torch>=1.13.0->auto-gptq) (10.3.2.106)\n",
      "Requirement already satisfied: nvidia-cusolver-cu12==11.4.5.107 in /opt/conda/lib/python3.10/site-packages (from torch>=1.13.0->auto-gptq) (11.4.5.107)\n",
      "Requirement already satisfied: nvidia-cusparse-cu12==12.1.0.106 in /opt/conda/lib/python3.10/site-packages (from torch>=1.13.0->auto-gptq) (12.1.0.106)\n",
      "Requirement already satisfied: nvidia-nccl-cu12==2.19.3 in /opt/conda/lib/python3.10/site-packages (from torch>=1.13.0->auto-gptq) (2.19.3)\n",
      "Requirement already satisfied: nvidia-nvtx-cu12==12.1.105 in /opt/conda/lib/python3.10/site-packages (from torch>=1.13.0->auto-gptq) (12.1.105)\n",
      "Requirement already satisfied: triton==2.2.0 in /opt/conda/lib/python3.10/site-packages (from torch>=1.13.0->auto-gptq) (2.2.0)\n",
      "Requirement already satisfied: nvidia-nvjitlink-cu12 in /opt/conda/lib/python3.10/site-packages (from nvidia-cusolver-cu12==11.4.5.107->torch>=1.13.0->auto-gptq) (12.6.20)\n",
      "Requirement already satisfied: regex!=2019.12.17 in /opt/conda/lib/python3.10/site-packages (from transformers>=4.31.0->auto-gptq) (2023.12.25)\n",
      "Requirement already satisfied: requests in /opt/conda/lib/python3.10/site-packages (from transformers>=4.31.0->auto-gptq) (2.32.3)\n",
      "Requirement already satisfied: tokenizers<0.20,>=0.19 in /opt/conda/lib/python3.10/site-packages (from transformers>=4.31.0->auto-gptq) (0.19.1)\n",
      "Requirement already satisfied: pyarrow>=12.0.0 in /opt/conda/lib/python3.10/site-packages (from datasets->auto-gptq) (16.1.0)\n",
      "Requirement already satisfied: pyarrow-hotfix in /opt/conda/lib/python3.10/site-packages (from datasets->auto-gptq) (0.6)\n",
      "Requirement already satisfied: dill<0.3.9,>=0.3.0 in /opt/conda/lib/python3.10/site-packages (from datasets->auto-gptq) (0.3.8)\n",
      "Requirement already satisfied: pandas in /opt/conda/lib/python3.10/site-packages (from datasets->auto-gptq) (2.2.1)\n",
      "Requirement already satisfied: xxhash in /opt/conda/lib/python3.10/site-packages (from datasets->auto-gptq) (3.4.1)\n",
      "Requirement already satisfied: multiprocess in /opt/conda/lib/python3.10/site-packages (from datasets->auto-gptq) (0.70.16)\n",
      "Requirement already satisfied: aiohttp in /opt/conda/lib/python3.10/site-packages (from datasets->auto-gptq) (3.9.5)\n",
      "Requirement already satisfied: six in /opt/conda/lib/python3.10/site-packages (from rouge->auto-gptq) (1.16.0)\n",
      "Requirement already satisfied: aiosignal>=1.1.2 in /opt/conda/lib/python3.10/site-packages (from aiohttp->datasets->auto-gptq) (1.3.1)\n",
      "Requirement already satisfied: attrs>=17.3.0 in /opt/conda/lib/python3.10/site-packages (from aiohttp->datasets->auto-gptq) (23.2.0)\n",
      "Requirement already satisfied: frozenlist>=1.1.1 in /opt/conda/lib/python3.10/site-packages (from aiohttp->datasets->auto-gptq) (1.4.1)\n",
      "Requirement already satisfied: multidict<7.0,>=4.5 in /opt/conda/lib/python3.10/site-packages (from aiohttp->datasets->auto-gptq) (6.0.5)\n",
      "Requirement already satisfied: yarl<2.0,>=1.0 in /opt/conda/lib/python3.10/site-packages (from aiohttp->datasets->auto-gptq) (1.9.4)\n",
      "Requirement already satisfied: async-timeout<5.0,>=4.0 in /opt/conda/lib/python3.10/site-packages (from aiohttp->datasets->auto-gptq) (4.0.3)\n",
      "Requirement already satisfied: charset-normalizer<4,>=2 in /opt/conda/lib/python3.10/site-packages (from requests->transformers>=4.31.0->auto-gptq) (3.3.2)\n",
      "Requirement already satisfied: idna<4,>=2.5 in /opt/conda/lib/python3.10/site-packages (from requests->transformers>=4.31.0->auto-gptq) (3.6)\n",
      "Requirement already satisfied: urllib3<3,>=1.21.1 in /opt/conda/lib/python3.10/site-packages (from requests->transformers>=4.31.0->auto-gptq) (1.26.19)\n",
      "Requirement already satisfied: certifi>=2017.4.17 in /opt/conda/lib/python3.10/site-packages (from requests->transformers>=4.31.0->auto-gptq) (2024.7.4)\n",
      "Requirement already satisfied: MarkupSafe>=2.0 in /opt/conda/lib/python3.10/site-packages (from jinja2->torch>=1.13.0->auto-gptq) (2.1.5)\n",
      "Requirement already satisfied: python-dateutil>=2.8.2 in /opt/conda/lib/python3.10/site-packages (from pandas->datasets->auto-gptq) (2.9.0.post0)\n",
      "Requirement already satisfied: pytz>=2020.1 in /opt/conda/lib/python3.10/site-packages (from pandas->datasets->auto-gptq) (2024.1)\n",
      "Requirement already satisfied: tzdata>=2022.7 in /opt/conda/lib/python3.10/site-packages (from pandas->datasets->auto-gptq) (2024.1)\n",
      "Requirement already satisfied: mpmath>=0.19 in /opt/conda/lib/python3.10/site-packages (from sympy->torch>=1.13.0->auto-gptq) (1.3.0)\n"
     ]
    }
   ],
   "source": [
    "!pip install auto-gptq"
   ]
  },
  {
   "cell_type": "code",
   "execution_count": null,
   "id": "cc324358-dfab-48aa-9363-e423ab8b3b0e",
   "metadata": {},
   "outputs": [],
   "source": []
  }
 ],
 "metadata": {
  "kernelspec": {
   "display_name": "Python (m3_scraper)",
   "language": "python",
   "name": "m3_scraper"
  },
  "language_info": {
   "codemirror_mode": {
    "name": "ipython",
    "version": 3
   },
   "file_extension": ".py",
   "mimetype": "text/x-python",
   "name": "python",
   "nbconvert_exporter": "python",
   "pygments_lexer": "ipython3",
   "version": "3.10.10"
  }
 },
 "nbformat": 4,
 "nbformat_minor": 5
}
