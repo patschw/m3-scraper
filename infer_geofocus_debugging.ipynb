{
 "cells": [
  {
   "cell_type": "code",
   "execution_count": 17,
   "metadata": {},
   "outputs": [],
   "source": [
    "import subprocess\n",
    "import os"
   ]
  },
  {
   "cell_type": "code",
   "execution_count": 1,
   "metadata": {},
   "outputs": [
    {
     "name": "stdout",
     "output_type": "stream",
     "text": [
      "Loaded 26 articles from archive_articles.json\n"
     ]
    }
   ],
   "source": [
    "# read \"archive_articles.json\"\n",
    "import json\n",
    "\n",
    "# Read archive_articles.json\n",
    "with open('archive_articles.json', 'r', encoding='utf-8') as file:\n",
    "    archive_articles = json.load(file)\n",
    "\n",
    "print(f\"Loaded {len(archive_articles)} articles from archive_articles.json\")\n",
    "\n",
    "\n",
    "\n",
    "\n"
   ]
  },
  {
   "cell_type": "code",
   "execution_count": 2,
   "metadata": {},
   "outputs": [],
   "source": [
    "import logging\n"
   ]
  },
  {
   "cell_type": "code",
   "execution_count": 3,
   "metadata": {},
   "outputs": [],
   "source": [
    "logging.basicConfig(level=logging.DEBUG)\n"
   ]
  },
  {
   "cell_type": "code",
   "execution_count": 4,
   "metadata": {},
   "outputs": [
    {
     "name": "stderr",
     "output_type": "stream",
     "text": [
      "c:\\Users\\ra76lax\\AppData\\Local\\anaconda3\\envs\\python_m3_scrapers\\lib\\site-packages\\transformers\\utils\\generic.py:441: UserWarning: torch.utils._pytree._register_pytree_node is deprecated. Please use torch.utils._pytree.register_pytree_node instead.\n",
      "  _torch_pytree._register_pytree_node(\n",
      "c:\\Users\\ra76lax\\AppData\\Local\\anaconda3\\envs\\python_m3_scrapers\\lib\\site-packages\\transformers\\utils\\generic.py:309: UserWarning: torch.utils._pytree._register_pytree_node is deprecated. Please use torch.utils._pytree.register_pytree_node instead.\n",
      "  _torch_pytree._register_pytree_node(\n",
      "c:\\Users\\ra76lax\\AppData\\Local\\anaconda3\\envs\\python_m3_scrapers\\lib\\site-packages\\transformers\\utils\\generic.py:309: UserWarning: torch.utils._pytree._register_pytree_node is deprecated. Please use torch.utils._pytree.register_pytree_node instead.\n",
      "  _torch_pytree._register_pytree_node(\n",
      "INFO:datasets:PyTorch version 2.2.2 available.\n",
      "INFO:text_analysis.NEExtractor:Initializing NEExtractor with model: flair/ner-german-large\n",
      "DEBUG:urllib3.connectionpool:Starting new HTTPS connection (1): huggingface.co:443\n",
      "DEBUG:urllib3.connectionpool:https://huggingface.co:443 \"HEAD /flair/ner-german-large/resolve/main/pytorch_model.bin HTTP/1.1\" 302 0\n",
      "DEBUG:urllib3.connectionpool:https://huggingface.co:443 \"HEAD /xlm-roberta-large/resolve/main/tokenizer_config.json HTTP/1.1\" 200 0\n",
      "DEBUG:urllib3.connectionpool:https://huggingface.co:443 \"HEAD /xlm-roberta-large/resolve/main/preprocessor_config.json HTTP/1.1\" 404 0\n"
     ]
    },
    {
     "name": "stdout",
     "output_type": "stream",
     "text": [
      "2024-09-16 10:21:25,325 SequenceTagger predicts: Dictionary with 20 tags: <unk>, O, B-PER, E-PER, S-LOC, B-MISC, I-MISC, E-MISC, S-PER, B-ORG, E-ORG, S-ORG, I-ORG, B-LOC, E-LOC, S-MISC, I-PER, I-LOC, <START>, <STOP>\n"
     ]
    },
    {
     "name": "stderr",
     "output_type": "stream",
     "text": [
      "INFO:text_analysis.NEExtractor:Tagger instantiated successfully\n"
     ]
    }
   ],
   "source": [
    "from text_analysis.NEExtractor import NEExtractor\n",
    "\n",
    "extractor = NEExtractor()\n"
   ]
  },
  {
   "cell_type": "code",
   "execution_count": 5,
   "metadata": {},
   "outputs": [
    {
     "name": "stderr",
     "output_type": "stream",
     "text": [
      "INFO:text_analysis.NEExtractor:Starting entity extraction for 3 articles\n",
      "INFO:text_analysis.NEExtractor:Applying entity extraction to all articles\n"
     ]
    },
    {
     "data": {
      "application/vnd.jupyter.widget-view+json": {
       "model_id": "229e8ce6776b41e1bd604a0bdab690ed",
       "version_major": 2,
       "version_minor": 0
      },
      "text/plain": [
       "Map:   0%|          | 0/3 [00:00<?, ? examples/s]"
      ]
     },
     "metadata": {},
     "output_type": "display_data"
    },
    {
     "name": "stderr",
     "output_type": "stream",
     "text": [
      "DEBUG:text_analysis.NEExtractor:Processing chunk 1 of 1\n",
      "DEBUG:text_analysis.NEExtractor:Extracted 24 unique entities\n",
      "DEBUG:text_analysis.NEExtractor:Processing chunk 1 of 1\n",
      "DEBUG:text_analysis.NEExtractor:Extracted 21 unique entities\n",
      "DEBUG:text_analysis.NEExtractor:Processing chunk 1 of 1\n",
      "DEBUG:text_analysis.NEExtractor:Extracted 37 unique entities\n",
      "INFO:text_analysis.NEExtractor:Inferring geographical focus\n",
      "INFO:text_analysis.NEExtractor:Starting geographical focus inference for 3 articles\n",
      "DEBUG:text_analysis.NEExtractor:Wrote main texts to file: main_texts_for_geo_focus_inference.txt\n",
      "DEBUG:text_analysis.NEExtractor:Calling R script: text_analysis\\infer_geo_focus.R\n",
      "DEBUG:text_analysis.NEExtractor:Added geographical focus 'India' to article 0\n",
      "DEBUG:text_analysis.NEExtractor:Added geographical focus 'Denmark' to article 1\n",
      "DEBUG:text_analysis.NEExtractor:Added geographical focus 'Russia' to article 2\n",
      "INFO:text_analysis.NEExtractor:Geographical focus inference completed successfully\n",
      "INFO:text_analysis.NEExtractor:Entity extraction and geographical focus inference complete\n"
     ]
    }
   ],
   "source": [
    "archive_articles_inferred_gro_focus = extractor.extract_entities(archive_articles[0:3])\n"
   ]
  },
  {
   "cell_type": "code",
   "execution_count": 6,
   "metadata": {},
   "outputs": [
    {
     "data": {
      "text/plain": [
       "[{'url': 'https://www.zeit.de/1946/10/der-kostenpunkt/komplettansicht',\n",
       "  'main_text': 'Der Kostenpunkt – Seite 1 Achtzig Millionen Pfund Sterling sind im britischen Staatshaushalt für die Kosten der Besatzung von Deutschland vorgesehen, eine \"verblüffende Zahl\", wie der Sprecher der Opposition, Eden, bemerkte. Der Schatzkanzler Dalton, der den Staatshaushalt dem Parlament vorlegte, bezeichnete diese Summe als hoch und erklärte; daß vom britischen Steuerzahler nicht erwartet werden könne, daß er in dieser Höhe Zahlungen leiste, die Reparationen an Deutschland gleichkämen. Achtzig Millionen Pfund! In einer Zeit, die mit Milliardensummen zu rechnen sich gewöhnt hat, mag das ein kleiner Betrag sein. Großbritannien hat im abgelaufenen Etatsjahr nahezu fünfeinhalb Milliarden Pfund ausgegeben. Für das laufende Staatshaushaltsjahr sind Ausgaben von über 3,8 Milliarden Pfund vorgesehen, was zwar eine Herabsetzung von rund einem Drittel gegenüber der Kriegszeit bedeutet, aber immer noch einen ganz ungeheuer hohen Betrag darstellt, wenn wir berücksichtigen, daß der Krieg vorüber ist und die Zeit des Aufbaues beginnen, soll. Während eines Krieges werden die Ausgaben nicht gemessen nach den Entbehrungen, die das Aufbringen der notwendigen Summen dem einzelnen Staatsbürger auferlegen wird. Der Mann, der zu den Fahnen gerufen wird, bringt mehr als Hab und Gut der Freiheit zum Opfer. Was soll der Staat da fragen, ob jemand sich den einen oder anderen Luxus versagen muß. Ob die Substanz der Volkswirtschaft angegriffen wird: Ob die Zukunft in einer Weise vorbelastet wird, daß große, vielleicht wie wieder gutzumachende Schäden eintreten. Es gilt, die letzte, höchste Gefahr vom heimatlichen Herde abzuwenden, und gegenüber diesem Gesichtspunkt treten alleBedenken zurück. Anders im Frieden! Jetzt darf die Substanz nicht mehr angegriffen werden, sondern muß sorgfältig geschont bleiben, denn man darf sich nicht mit der Aussicht auf einen Tag beruhigen, der alle aufgewandten Entbehrungen wettmacht. Wer im Frieden von der Substanz zehrt, der verliert die Achtung vor sich selbst, den Mut zur Arbeit, das Vertrauen seiner Mitbürger und den Respekt seiner Familie, für die er sorgen, die er nicht einem ungewissen Schicksal aussetzen darf. In diesem Augenblick wiegt jede Ausgabe, die nicht gedeckt werden kann, schwer, aber ebenso schwer wiegt jede Belastung, die nötig wird, um den Ausgaben entsprechende Einnahmen gegenüberzustellen. In diesem Augenblick, erhält die Summe von achtzig Millionen Pfund erst ihr volles Gewicht. Achtzig Millionen Pfund Das waren vor 1931. rund 1,6 Milliarden Reichsmark, das waren 1939 zwar in den amtlichen Umrechnungskursen \"nur\" 900 Millionen Reichsmark, aber, an Kaufkraft vielleicht ebensoviel wie zuvor. Heute stellen sie nach den Kursen der Militärregierung 3,2 Milliarden Reichsmark dar. Eine gewaltige Summe! Denken wir daran, daß im Friedensjahr 1913 in Deutschland ein Wehrbeitrag ausgeschrieben wurde, der die damals unglaubliche Höhe von einer Milliarde Mark erreichte. Sie liegt höher als die gesamten Steuern auf den Schnapsverbrauch in England, deren Ertrag im kommenden Jahr auf 77 Millionen Pfund geschätzt wird. Sie erreicht fast ein Viertel der Steuern auf Tabak, die mit 425 Millionen Pfund angesetzt werden. Dabei handelt es sich nicht einmal um Ausgaben, die in der einen oder anderen Form der britischen Volkswirtschaft wieder zugute kommen, die also sich eingliedern in den großen Kreislauf des Wirtschaftsprozesses überhaupt. Wie der Schatzkanzler feststellte, muß ein nicht unbeträchtlicher Teil der achtzig. Millionen Pfund sogar in Devisen ausgegeben werden, um Lebensmittel für das hungernde Deutschland aufzubringen. Hier beginnt das Problem tragisch zu werden. Würde es sich nur um die Kosten der Besatzungsarmee in Deutschland handeln, so könnten wir Deutsche uns auf den Standpunkt stellen: Soll Großbritannien die Zahl seiner Truppen in Deutschland herabsetzen, wenn es die Kosten, nicht aufbringen will. Stünde nur der Umfang der in Deutschland geplanten Zivilverwaltung in Frage, so könnte ein größerer Anteil der Deutschen an der Verwaltung eine beträchtliche finanzielle Erleichterung bringen. In der Frage der Lebensmittelversorgung ist die britische Zone Deutschlands ganz auf den guten Willen und die Unterstützung durch England angewiesen, mindestens so lange, bis dem deutschen Außenhandel die Möglichkeit gewährt wird, das Brot, das wir essen, aus eigener Kraft aufzubringen und durch die Arbeit deutscher Hände zu bezahlen. Der Kostenpunkt – Seite 2 Jede Herabsetzung der Besatzungskosten im britischen Staatshaushalt bedeutet unter diesen Verhältnissen keine Erleichterung für das deutsche Volk, sondern eine Belastung, die angesichts der herabgesetzten Lebensmittelzuteilungen von wenig mehr als 1000 Kalorien am Tage bereits an einem Punkte angelangt ist, der in einer Zuschrift an die \"Times\" als höchst bedenklich bezeichnet wurde. Wir müssen das Problem in seinem ganzen Umfange sehen, und dann ist es weder ein rein britisches noch ein rein deutsches Problem, sondern eine Frage, die beide Nationen gleichmäßig angeht. In dieser Zahl von achtzig Millionen Pfund tritt zum ersten Male in nackte, harte Zahlen gefaßt die Schicksalsgemeinschaft entgegen, die der Krieg mit all seinem Wüten. all seinen Vernichtungen Siegern und Besiegten auferlegt. Jedes Haus, das im Deutschland gebaut oder niedergerissen wird, jede Fabrik, die ihre Pforten der friedlichen Arbeit öffnet oder sie schließen muß, jede Tonne Stahl, die im Ruhrgebiet produziert oder nicht produziert wird, spiegelt sich in der Summe der Besatzungskosten, indem sie sie herunterdrückt oder weiter anschwellen läßt. Jede Hand die sich in Deutschland regt, ganz gleich, welche Parteizugehörigkeit der schaffende Mann früher besessen haben mag, mindert den Fehlbetrag der Besatzungskosten, jeder Posten, der verwaist bleibt, weil keine Person gefunden wird, die fähig genug wäre, ihn auszufüllen, erhöht ihn in der einen oder anderen Form. Niemand wird daraus die Folgerung ziehen, daß deswegen allein auf eine strenge und gerechte Sichtung aller in Deutschland Tätigen verzichtet werden sollte. Man kann jedoch zu verschiedener Bewertung kommen, je nachdem, ob diese Sichtung ausschließlich von moralischen und politischen Gesichtspunkten aus vorgenommen wird, oder ob bei jeder Maßregelung in Deutschland der Gedanke mitspricht, daß der britische Steuerzahler für jeden Fehler, jeden Mißgriff, jede unnötige Härte aufzukommen hat. Jede Zigarette, die in Großbritannien geraucht wird, trägt in den Steuern einen Teil der Lasten mit, die dem besiegten deutschen Volke auferlegt werden. Der Schatzkanzler Dalton hat betont, daß die Gegenleistungen, die England bisher aus Deutschland erhalten hat, verschwindend gering seien Diese Erklärung entspricht dem Eindruck, den jeder Beobachter von der deutschen Wirtschaft im letztes Jahr erhalten hat. Solange das deutsche Volk nur um den allernotwendigsten Lebensunterhalt kämpft um die tausend Kalorien, die ihm kartenmäßig zu stehen, solange es in den Verkaufsläden so gut wie nichts kaufen kann, keine Zahnbürste und kein Rasiermesser, keine Holzkohle und kein Handtuch, so lange können Überschüsse nicht abgeschöpft werden, die dringend notwendig sind, um die Lasten der Besatzungskosten von den Schultern Englands abzunehmen und dem deutschen Volk aufzubürden. Der Augenblick wird kommen, da die deutsche Wirtschaft wieder arbeiten wird. In diesem Augenblick werden nicht nur die Besatzungskosten von der deutschen Seite übernommen werden. sondern dann wird Deutschland auch die Reparatiönssummen aufbringen können, auf die England auf Grund seiner Schäden im zweiten Weltkriege Anspruch erhebt. Bis dahin zahlt, nach den Worten des britischen Schatzkanzlers, Großbritannien Reparationen an Deutschland. Ein ganz undenkbarer Gedanke! Beide Nationen, die britische wie die deutsche, haben ein ernstes Interesse daran, daß dieser Zeitpunkt so bald wie möglich eintritt. Der amerikanische Präsident Truman hat bereits vor Monaten angekündigt, daß der 2. Februar dieses Jahres der Wendepunkt sein würde, daß von diesem Tage an die zweite Phase der Nachkriegszeit in Deutschland beginnen würde. Bis zu diesem Stichtage sollte festgestellt sein, weiche deutschen Werke und Anlagen nicht zur Deckung des durchschnittlichen europäischen lebensstandes notwendig und damit den Bestimmungen der Abmachungen von Potsdam unterworfen seien und abgebaut würden. Seit diesem Termin ist nahezu ein Vierteljahr verstrichen, und bisher haben wir keine Wendung im angekündigten Sinne beobachten können. Immerhin: in Terminen kann man irren. Jedenfalls sehen wir heute schon, daß das Hinausziehen des Beginns eines deutschen Wiederaufbaus sich in dem britischen Staatshaushalt in aller Deutlichkeit abzeichnet. Das ist der Sinn der achtzig Millionen Pfund. Nach einem Kriege von solchem Ausmaße und solchen Verheerungen können wir nicht erwarten, daß die politischen Zielsetzungen, noch getragen von den Gefühlen der Bevölkerungen, sehr bald durch nüchterne wirtschaftliche Erwägungen abgelöst werden. Es ist notwendig, daß in der einen oder anderen Form die Nachteile der rein politischen Betrachtungs- und Verhaltungsweise klar und scharf hervortreten, jedermann, nicht nur den klugen Staatsmännern in den Beamtenstuben, sondern dem Manne auf der Straße, sichtbar werden. Nirgends kann das so eindeutig und einwandfrei, so unwiderlegbar geschehen wie im Staatshaushalt einer großen Nation. Der Kostenpunkt – Seite 3 Das englische Volk weiß jetzt, was von seiner Politik auf dem Festlande abhängt. Es tritt nicht der Zustand ein wie nach 1919, nach Versailles, da die Reparationsfrage Jahre und Jahre hindurch von einer Konferenz zur anderen geschleppt wurde und kein Staat sich Klarheit darüber verschaffte, was für ihn und seine eigene Wirtschaft auf dem Spiele stand, obwohl der Ruhreinmarsch den französischen Frank erschütterte und die Wirtschaftskrise das englische Pfund Sterling 1931 zwang, vom Goldstandard abzugehen. Heute steht die Zahl wie ein Felsblock inmitten aller Betrachtungen: Achtzig Millionen Pfund! Das Elend in dem einen Lande mag den Menschen in einem anderen zunächst gleichgültig sein. Haben wir selbst in vergangenen, glücklicheren Zeiten gefragt, ob in den Hungergebieten Indiens oder Chinas Millionen von Menschen dem Tode verfallen waren? Aber in Europa liegen die Dinge anders. Jeder trägt an der Gesamtbürde mit. Selbstverständlich werden die Lasten in Zukunft verschieden verteilt sein; selbstverständlich . wird Deutschland Reparationen zu leisten haben. Dennoch wird von der Blüte der deutschen Volkswirtschaft der Staatshaushalt aller europäischen Länder abhängen, teils in dem Sinne, daß in ihm Reparationsleistungen erscheinen oder ausbleiben, teils im anderen Sinne, daß die eigenen Einkünfte aus dem Warenaustausch mit dem deutschen Absatz- und Liefermarkt größer oder kleiner sein werden, schließlich aber auch, ob in ihm weiterhin der Posten \"Besatzungskosten\" enthalten sein wird oder nicht. Ein verelendetes Deutschland würde weiterhin eine Belastung aller Besatzungsmächte darstellen, und zwar in einem Maße, wie wir es heute noch nicht übersehen können. Mit dem Betrag von achtzig Millionen Pfund wird es möglicherweise nicht sein Bewenden haben. Diese Summe ist zunächst für das nächste Etatsjahr angesetzt. Sollte es zu Beginn des Winters zu einer Nachforderung kommen, könnten die schwersten Folgen eintreten. Im Augenblick, da England aufbauen möchte, da es jeden Schilling braucht, um die Folgen des Krieges zu überwinden, während die Staatseinnahmen zurückgehen und die Kriegskonjunktur abflauen wird, eine Nachforderung von so unliebsamer Art vorzulegen, dürfte jedem britischen Schatzkanzler denkbar unangenehm sein. Kein Geringerer als Winston Churchill hat erklärt, daß die zögernde Demobilmachung und der Einsatz hochwertiger, in der Heimat dringend notwendiger Fachkräfte in der zivilen Verwaltung Deutschlands kaum tragbar sein werden. Der Schatzkanzler Dalton hat ausdrücklich erklärt, daß er diesen Posten bedaure, wenn er auch, einschränkend hinzufügte \"als Schatzkanzler\". Vorläufig verlangen politische Erwägungen dringend, daß die Besatzungskosten vom britischen Volk aufgebracht und geleistet werden. Hierin sehen wir jedoch eine gewisse Möglichkeit auch für uns Deutsche. Wir werden alles daransetzen müssen, um die politische? Voraussetzungen zu schaffen, daß die Kosten der Besatzung auf ein Mindestmaß gesenkt werden können. Das bedeutet insbesondere, daß alle Gründe der Besatzung, zum mindesten in der jetzigen Form und der jetzigen Höhe, abgebaut werden und schließlich ganz verschwinden wie Mißtrauen, Furcht vor einem neuen Kriege, Notwendigkeit der Erziehung zur Demokratie und Umerziehung des deutschen Volkes zu internationaler Zusammenarbeit. Wir müssen so weit mitarbeiten, daß diese Übergangszeit auf ein Mindestmaß zusammengedrängt werden kann. Jede Betätigung der britischen Besatzung mag für das Wohl Englands und das Wohl Europas und sogar der ganzen Welt notwendig, wohltätig, segensreich sein, auch dem deutschen Volk in seiner jetzigen Notlage materielle und seelische Erleichterung bringen. Sie muß bezahlt werden und strömt nicht aus einem überquellenden Füllhorn. Jede einzelne Aufgabe, die sich die Besatzungstruppe vorgenommen hat, kostet Geld, und dieses Geld bringt vorläufig der englische Steuerzahler auf. Insgesamt jedoch erreichen diese Kosten die Summe von achtzig Millionen Pfund. Aus der gemeinsamen Zusammenarbeit, aus dem gemeinsamen Wunsch, diese Summe verschwinden zu lassen, noch besser, sie in deutsche Reparationen an England zu verwandeln, damit wir endlich aus dem Bannkreis der finanziellen Verschuldung herauskommen. wird der deutsche Wiederaufbau erwachsen. Nur eine blühende deutsche Volkswirtschaft kann, dieses Ziel erfüllen. Nur eine bis zu den Grenzen ihrer Leistungsfähigkeit beschäftigte deutsche Industrie kann auch das hohe Maß an Leistungen aufbringen, das den an uns gestellten Reparationsforderungen gerecht wird. Nur eine blühende deutsche Volkswirtschaft kann den unhaltbaren Zustand beseitigen, daß das siegreiche Großbritannien jährlich 80 Millionen Pfund Sterling \"Reparationen\" zahlt. Ernst Samhaber Achtzig Millionen Pfund Sterling sind im britischen Staatshaushalt für die Kosten der Besatzung von Deutschland vorgesehen, eine \"verblüffende Zahl\", wie der Sprecher der Opposition, Eden, bemerkte. Der Schatzkanzler Dalton, der den Staatshaushalt dem Parlament vorlegte, bezeichnete diese Summe als hoch und erklärte; daß vom britischen Steuerzahler nicht erwartet werden könne, daß er in dieser Höhe Zahlungen leiste, die Reparationen an Deutschland gleichkämen. Achtzig Millionen Pfund! In einer Zeit, die mit Milliardensummen zu rechnen sich gewöhnt hat, mag das ein kleiner Betrag sein. Großbritannien hat im abgelaufenen Etatsjahr nahezu fünfeinhalb Milliarden Pfund ausgegeben. Für das laufende Staatshaushaltsjahr sind Ausgaben von über 3,8 Milliarden Pfund vorgesehen, was zwar eine Herabsetzung von rund einem Drittel gegenüber der Kriegszeit bedeutet, aber immer noch einen ganz ungeheuer hohen Betrag darstellt, wenn wir berücksichtigen, daß der Krieg vorüber ist und die Zeit des Aufbaues beginnen, soll.',\n",
       "  'lead_text': 'Achtzig Millionen Pfund Sterling sind im britischen Staatshaushalt für die Kosten der Besatzung von Deutschland vorgesehen, eine \"verblüffende Zahl\", wie der Sprecher der Opposition, Eden, bemerkte.',\n",
       "  'last_online_verification_date': '2024-09-09T14:14:08.923040',\n",
       "  'medium': {'readable_id': 'zeit'},\n",
       "  'crawler_medium': 'zeit',\n",
       "  'crawler_version': '0.1',\n",
       "  'central_entities': [{'title': 'Pfund', 'type_id': 'misc'},\n",
       "   {'title': 'Sterling', 'type_id': 'misc'},\n",
       "   {'title': 'Deutschland', 'type_id': 'loc'},\n",
       "   {'title': 'Eden', 'type_id': 'per'},\n",
       "   {'title': 'Dalton', 'type_id': 'per'},\n",
       "   {'title': 'Großbritannien', 'type_id': 'loc'},\n",
       "   {'title': 'Reichsmark', 'type_id': 'misc'},\n",
       "   {'title': 'Mark', 'type_id': 'misc'},\n",
       "   {'title': 'England', 'type_id': 'loc'},\n",
       "   {'title': 'Deutschlands', 'type_id': 'loc'},\n",
       "   {'title': 'Times', 'type_id': 'org'},\n",
       "   {'title': 'Ruhrgebiet', 'type_id': 'loc'},\n",
       "   {'title': 'Englands', 'type_id': 'loc'},\n",
       "   {'title': 'zweiten Weltkriege', 'type_id': 'misc'},\n",
       "   {'title': 'Truman', 'type_id': 'per'},\n",
       "   {'title': 'Potsdam', 'type_id': 'loc'},\n",
       "   {'title': 'Versailles', 'type_id': 'loc'},\n",
       "   {'title': 'Frank', 'type_id': 'misc'},\n",
       "   {'title': 'Indiens', 'type_id': 'loc'},\n",
       "   {'title': 'Chinas', 'type_id': 'loc'},\n",
       "   {'title': 'Europa', 'type_id': 'loc'},\n",
       "   {'title': 'Winston Churchill', 'type_id': 'per'},\n",
       "   {'title': 'Europas', 'type_id': 'loc'},\n",
       "   {'title': 'Ernst Samhaber', 'type_id': 'per'},\n",
       "   {'title': 'India', 'type_id': 'loc'}]},\n",
       " {'url': 'https://www.zeit.de/1946/10/daenische-reise',\n",
       "  'main_text': 'Der erste Eindruck, den man von Dänemark nach fünfjähriger Abwesenheit gewinnt, ist weniger bestimmt durch die Veränderung, die dieses Land inzwischen durchgemacht hat, als vielmehr durch den unbewußten Wandel der eigenen Wertungsbasis und die Gewöhnung an anomale Zustände und Aspekte als etwas mittlerweile Alltägliches. In welch hohem Maße dies der Fall ist, kommt einem erst zum Bewußtsein, wenn man das Erstaunen realisiert, welche dieses im Grunde nur normale Leben – bei uns Deutschen auslöst. Fast menschenleer wirkt das Land verglichen mit den übervölkerten Städten, Dörfern und Straßen Schleswig-Holsteins. Man bemerkt auffallend. viele Privatwagen, denn seit März dieses Jahres kann jeder, der ein Auto besitzt, dieses ohne besondere Genehmigung wieder fahren, nur mit der Einschränkung, nicht mehr als 60 bis 100 Liter Benzin im Monat zugeteilt zu bekommen. Eine Ausnahme bilden vordringliche Behörden und Wirtschaftskreise sowie Ärzte, die über ein Sonderkontingent verfügen. Man sieht riesige moderne Amerikaner und daneben hochbeinige alte Fords, die noch aus den zwanziger Jahren stammen. Die Straßen sind erst-; klassig und durchweg in hervorragendem Zustand. Der Weg geht über Apenrade, Kolding und über die große Brücke, die Jütland mit Fünen verbindet Und deren Tarnanstrich eine der wenigen Spuren zu sein scheint, die der Krieg hier hinterlassen hat, bis zu der kleinen Hafenstadt Nyborg, von wo aus die moderne große Fähre der dänischen Staatsbahn Eisenbahn, Autos und Wagen über den Großen Belt nach Seeland trägt. Während der anderthalbstündigen Fahrt ist man vollauf damit beschäftigt, den Magen an die ungewohnten Genüsse der verschiedenen Speisesäle zu gewöhnen. Alles im Restaurantleben Dänemarks ist \"markenfrei\", mit Ausnahme von Butter. Diese wird im Haushalt noch rationiert, etwa auf der Basis von zwei Pfund je Person und Monat, ebenso wie Brot, Zucker, Kaffee, Tee in gleich reichlichem Maß. Zum erstenmal sieht man einen größeren Kreis von Menschen beieinander, sorglose, heitere und zufriedene Menschen. Es ist längst dunkel geworden, und der Eindruck von \"Märchenwelt\" wird nun noch verstärkt durch die riesigen Bogenlampen und Straßenbeleuchtungen der an den Autostraßen nach Kopenhagen liegenden Städte, bis schließlich die hellerleuchtete Hauptstadt auftaucht und man plötzlich umgeben ist von zahllosen bunten Lichtreklamen inmitten eines nächtlich flanierenden Treibens fröhlich ausgelassener Menschen. Kopenhagen hat sein gewohntes internationales Gepräge schon wiedergewonnen, viele Wagen mit dem schwedischen großen \"S’ oder – dem USA-Nummernschild rollen lautlos, vorüber, nordische Sprachen werden mit Englisch und Französisch untermischt, und man gewinnt in jeder Beziehung einen durchaus friedensmäßigen Eindruck. Erstaunlich und immer wieder faszinierend sind die Schaufenster der Lebensmittelläden und die sich türmenden Berge von Torten, Kuchen und Schlagsahne in den Konditoreien. Ein fast aufreizender Anblick, der den verantwortlichen Kreisen bereits Anlaß dazu gegeben hat, darauf hinzuweisen, daß angesichts der Hungersnöte in vielen europäischen Ländern diese Pracht und Fülle eingeschränkt werden müßte. Aber auch die Auslagen aller anderen Läden überraschen immer wieder durch Vielfalt, Luxus und Geschmack und stellen den Besucher vor manche Qual der Wahl. Man gewöhnt sich verhältnismäßig rasch an alle diese vielen ungewöhnlichen Anblicke, und nur im Unterbewußtsein bleibt irgendwo das befremdende Gefühl, daß etwas nicht stimme oder fehle, bis einem nach einigen Tagen der erlösende Gedanke kommt, daß es die Trümmer und Ruinen sind, die man vermißte Die Warenhäuser sind gleichermaßen voll von Menschen und Ware; gewisse Dinge fehlen zwar einstweilen noch, so zum Beispiel gewisse Glaswaren, auch Textilien sind knapp und die wirklich guten Qualitäten nur in Spezialgeschäften und nur in beschränktem Umfang zu haben; einstweilen handelt es sich vorwiegend um alte Lagerbestände von Zellwolle deutschen Ursprungs, die verkauft werden. Sowohl Textilien als auch Schuhe können vorläufig nur gegen Punkte erworben werden, wobei die Zuteilung etwa so ist, daß jeder Erwachsene im Jahr ein bis zwei Anzüge, einige Hemden und ein bis zwei Paar Schuhe kaufen kann. Die Konsumgüterindustrie ist allenthalben im Anlaufen und wird, nachdem in den letzten Monaten die Importe an Wolle, Baumwolle, Eisen und anderen Rohstoffen Zugenommenhaben, sich vermutlich rasch ausweiten lassen. Kohlenmäßig ist Dänemark noch nicht ausreichend versorgt. Von den beschränkten Lieferungen stammen etwa 20 v. H. aus Polen, 70 v. H. aus dem Ruhrgebiet, der Rest aus anderen Ländern.’ Eine wesentliche Schwierigkeit hierbei liegt im Transport. Die Ruhrkohle, die für das deutsche-Ausland bestimmt ist, mußte bisher ausnahmslos in Emden abgenommen werden, wobei es häufig vorkam, daß die dänischen Dampfer bis zu acht Tagen dort aufs Beladen warten mußten und außerdem noch genötigt sind, englische Häfen zum Bunkern anzulaufen, weil in Dänemark nicht genügend Kohle vorhanden ist und sie in deutschen Häfen selten bunkern können. Einstweilen ist die Schiffahrt noch nicht frei, sondern untersteht den Einsatzbefehlen der internationalen Schiffahrtsbehörden. Genügend. Kohle standen bisher nur der Eisenbahn und den Versorgungsbetrieben zur Verfügung. Für Heizung und private Bedarfszwecke gab es eine einmalige Zuteilung. Eine verhältnismäßig günstige Ausweichmöglichkeit war jedoch in der hochentwickelten Torf Industrie gegeben. Der Hafen ist gut beschäftigt. Während der letzten Monate haben die Importe so stark zugenommen, daß bereits Schwierigkeiten in der Lagerung entstanden sind. Diese Zunahme ist bereits mit auf die Auswirkungen der von Amerika gewährten 20-Millionen-Dollar-Anleihe. zurückzuführen. Nicht ganz einfach dagegen liegen die Verhältnisse auf sozialem Gebiet. Der Krieg hat auch in diesem Lande ähnliche psychologische Nachwirkungen gezeitigt wie in Amerika und England. Allgemein wird über Knappheit an Facharbeitern geklagt und über eine gewisse Arbeitsunlust, die in gelegentlichen Streiks zum Ausdruck kommt, in denen die Forderung von gleichbleibenden Löhnen bei herabgesetzter Arbeitszeit vertreten wird. So drohte neulich durch einen Bäckerstreik ein schwieriges Versorgungsproblem zu entstehen, während sich einige Fachverbände der dänischen Hafenarbeiter eines-Tages aus politischen Gründen weigerten, Schiffe mit Tomaten, Apfelsinen und Zitronen aus Franco-Spanien, die bereits in Devisen bezahlt waren, zu löschen; in den Jutespinnereien ist der Mangel an Arbeitskräften so gravierend, daß die verarbeitende Industrie nicht vollarbeiten kann trotz reichlicher Rohprodukte. Politisch gesehen hat die Linke in der im vorigen Jahr neugewählten Regierung eine gewisse Stärkung erfahren. Allerdings muß gesagt werden, daß der Einfluß und das zahlenmäßige Anwachsen der Kommunisten bereits wieder eine rückläufige Bewegung aufweist. Die einzige Gruppe in Dänemark, die zunächst noch unbefriedigt von der Entwicklung ist, sind die Bauern, und zwar liegt das an der im Rahmen der heutigen Welternährungsituation fast unvorstellbaren Tatsache, daß die dänische Landwirtschaft unter Absatzschwierigkeiten zu leiden hat, was in erster Linie auf die für Dänemark recht ungünstigen Bedingungen zurückzuführen ist, die dem im vorigen Jahr abgeschlossenen englischdänischen Handelsabkommen zugrunde gelegt worden sind. Da dieses Abkommen im übrigen vorsieht, daß Lieferungen dänischerseits an andere Länder nur zu den gleichen Preisrelationen getätigt werden dürfen, gibt es auch keinerlei Ausweichmöglichkeiten, zumal der deutsche Markt mangels Zahlungsmöglichkeit als Abnehmer restlos ausfällt. Die hochqualifizierte dänische Landwirtschaft ist eben einerseits auf den Import von billigem Überseegetreide und anderseits auf die Verwertung ihrer Veredelungsprodukte zu relativ hohen Preisen auf dem Weltmarkt angewiesen. Da beide Voraussetzungen zurzeit noch nicht gegeben sind, mußten die Viehbestände stark vermindert und die Schweinemast, die im Hinblick auf den für England zu liefernden \"bacon\" früher einen sehr großen Umfang einnahm, ganz wesentlich eingeschränkt werden. Im Augenblick besteht ein Überangebot an Fischen, Innereien, Eiern und Nährmitteln, und zwar in solchem Umfang, daß vor allem Fische im Umfang von vielen Millionen Kronen bereits verdorben sind. Im vorigen Jahr hatte Dänemark noch eine aktive Handelsbilanz, in diesem Jahr liegen die Importe wesentlich über den Exporten, aber die Zusammensetzung dieser Einfuhr entspricht nicht ganz den Wünschen und Erfordernissen der dänischen Wirtschaft, die im Hinblick auf die eigene Industrie vor allen Dingen Rohstoffe benötigt. England aber, das selbst unter dem Zwang steht, exportieren zu müssen, d. h. seiner Hände Arbeit in Devisen umzusetzen, um allmählich seine eigene passive Handelsbilanz auszugleichen, schickt nicht Rohstoffe, sondern Fertigwaren und Halbfabrikate. Im Grunde kristallisiert sich alles auf die Frage: Wird es für Dänemark möglich sein, im Rahmen der europäischen Wirtschaftsmärkte und Handelsbeziehungen in England, dessen Interessen sich im Verlauf des Krieges völlig gewandelt haben, zuvorderst den Handelspartner zu finden, der es für den Ausfall seiner übrigen Beziehungen entschädigt? Die Dänen hoffen, daß England die Bedingungen des Handelsvertrages lockert und damit die sehr einseitige Festlegung Dänemarks auf den britischen Partner aufhört. In dänischen Geschäfts- und Handelskreisen wird die Notwendigkeit, unter solchen Gesichtspunkten mit Deutschland, das mit etwa 15 v. H. an dem dänischen Vorkriegsimport und mit 25 v. H. am Export beteiligt war, wieder in wirtschaftliche Verbindung zu kommen, bereits sachlich und nicht unfreundlich besprochen, während sich die breite Menge der Bevölkerung Deutschland gegenüber einstweilen noch feindlich und ablehnend verhält. Diese Einstellung erfährt täglich neue Nahrung durch die Prozesse gegen Kollaborationisten, die vom dänischen Steuerzahler ernährten rund eine viertel Million deutsche internierte Ostflüchtlinge und nicht zuletzt auch durch den Verlauf des Nürnberger Prozesses, über den alle Zeitungen täglich in großen Schlagzeilen auf der ersten Seite berichten. Der erste Eindruck, den man von Dänemark nach fünfjähriger Abwesenheit gewinnt, ist weniger bestimmt durch die Veränderung, die dieses Land inzwischen durchgemacht hat, als vielmehr durch den unbewußten Wandel der eigenen Wertungsbasis und die Gewöhnung an anomale Zustände und Aspekte als etwas mittlerweile Alltägliches. In welch hohem Maße dies der Fall ist, kommt einem erst zum Bewußtsein, wenn man das Erstaunen realisiert, welche dieses im Grunde nur normale Leben – bei uns Deutschen auslöst. Fast menschenleer wirkt das Land verglichen mit den übervölkerten Städten, Dörfern und Straßen Schleswig-Holsteins. Man bemerkt auffallend. viele Privatwagen, denn seit März dieses Jahres kann jeder, der ein Auto besitzt, dieses ohne besondere Genehmigung wieder fahren, nur mit der Einschränkung, nicht mehr als 60 bis 100 Liter Benzin im Monat zugeteilt zu bekommen. Eine Ausnahme bilden vordringliche Behörden und Wirtschaftskreise sowie Ärzte, die über ein Sonderkontingent verfügen. Man sieht riesige moderne Amerikaner und daneben hochbeinige alte Fords, die noch aus den zwanziger Jahren stammen. Die Straßen sind erst-; klassig und durchweg in hervorragendem Zustand. Der Weg geht über Apenrade, Kolding und über die große Brücke, die Jütland mit Fünen verbindet Und deren Tarnanstrich eine der wenigen Spuren zu sein scheint, die der Krieg hier hinterlassen hat, bis zu der kleinen Hafenstadt Nyborg, von wo aus die moderne große Fähre der dänischen Staatsbahn Eisenbahn, Autos und Wagen über den Großen Belt nach Seeland trägt. Während der anderthalbstündigen Fahrt ist man vollauf damit beschäftigt, den Magen an die ungewohnten Genüsse der verschiedenen Speisesäle zu gewöhnen. Alles im Restaurantleben Dänemarks ist \"markenfrei\", mit Ausnahme von Butter. Diese wird im Haushalt noch rationiert, etwa auf der Basis von zwei Pfund je Person und Monat, ebenso wie Brot, Zucker, Kaffee, Tee in gleich reichlichem Maß. Zum erstenmal sieht man einen größeren Kreis von Menschen beieinander, sorglose, heitere und zufriedene Menschen. Es ist längst dunkel geworden, und der Eindruck von \"Märchenwelt\" wird nun noch verstärkt durch die riesigen Bogenlampen und Straßenbeleuchtungen der an den Autostraßen nach Kopenhagen liegenden Städte, bis schließlich die hellerleuchtete Hauptstadt auftaucht und man plötzlich umgeben ist von zahllosen bunten Lichtreklamen inmitten eines nächtlich flanierenden Treibens fröhlich ausgelassener Menschen.',\n",
       "  'lead_text': 'Der erste Eindruck, den man von Dänemark nach fünfjähriger Abwesenheit gewinnt, ist weniger bestimmt durch die Veränderung, die dieses Land inzwischen durchgemacht hat, als vielmehr durch den unbewußten Wandel der eigenen Wertungsbasis und die Gewöhnung an anomale Zustände und Aspekte als etwas mittlerweile Alltägliches.',\n",
       "  'last_online_verification_date': '2024-09-09T14:14:09.699875',\n",
       "  'medium': {'readable_id': 'zeit'},\n",
       "  'crawler_medium': 'zeit',\n",
       "  'crawler_version': '0.1',\n",
       "  'central_entities': [{'title': 'Dänemark', 'type_id': 'loc'},\n",
       "   {'title': 'Schleswig-Holsteins', 'type_id': 'loc'},\n",
       "   {'title': 'Fords', 'type_id': 'org'},\n",
       "   {'title': 'Apenrade', 'type_id': 'loc'},\n",
       "   {'title': 'Kolding', 'type_id': 'loc'},\n",
       "   {'title': 'Jütland', 'type_id': 'loc'},\n",
       "   {'title': 'Fünen', 'type_id': 'loc'},\n",
       "   {'title': 'Nyborg', 'type_id': 'loc'},\n",
       "   {'title': 'Großen Belt', 'type_id': 'loc'},\n",
       "   {'title': 'Seeland', 'type_id': 'loc'},\n",
       "   {'title': 'Dänemarks', 'type_id': 'loc'},\n",
       "   {'title': 'Kopenhagen', 'type_id': 'loc'},\n",
       "   {'title': 'Polen', 'type_id': 'loc'},\n",
       "   {'title': 'Ruhrgebiet', 'type_id': 'loc'},\n",
       "   {'title': 'Emden', 'type_id': 'loc'},\n",
       "   {'title': 'Amerika', 'type_id': 'loc'},\n",
       "   {'title': 'England', 'type_id': 'loc'},\n",
       "   {'title': 'Franco-Spanien', 'type_id': 'loc'},\n",
       "   {'title': 'Kronen', 'type_id': 'misc'},\n",
       "   {'title': 'Deutschland', 'type_id': 'loc'},\n",
       "   {'title': 'Nürnberger Prozesses', 'type_id': 'misc'},\n",
       "   {'title': 'Denmark', 'type_id': 'loc'}]},\n",
       " {'url': 'https://www.zeit.de/1946/10/umstrittene-einheit/komplettansicht',\n",
       "  'main_text': 'Umstrittene Einheit – Seite 1 K. W. Berlin, April 1946 Berlin hatte in diesen Wochen seine erste aktivpolitische Atmosphäre seit dem Zusammenbruch. Die Sorge um die warme Stube und um den leeren Magen ist verdrängt. Und selbst die peinlich genaue Aufmerksamkeit, mit der sein Dutzend je nach Zone und Partei anders reagierender Blätter den spannungsschweren Auseinandersetzungen der Mächte gefolgt ist, verblaßt, Berlin hat seine eigene innenpolitische Kampfsituation. Es ist ein erster harter Waffengang, der alle Elemente der großen Probleme dieser neuen Zeit auf den arg zerschundenen Raum von Berlin projiziert. Der Kampf um die Sozialistische Einheitspartei, wie er in Berlin geführt worden ist, hat sich im Laufe ganz weniger Wochen aus der Reserve taktischer Gefechte in das offene Licht der tatsächlich damit ins Rollen . gekommenen tieferen und substantielleren Schwerpunkte der allgemeinen politischen Existenz gedrängt. Es ist erstaunlich, festzustellen, daß die täglich massiver gewordenen Debatten um den Nutzen oder die Abwegigkeit der Verschmelzung der beiden Arbeiterparteien die politische Beweglichkeit der um Essen und Heizen besorgten Millionenmasse Berlins zum ersten Male erreicht haben. Und das sowohl für wie gegen die beschlossene und zu Teilen wohl schon durchgeführte Verschmelzung. Verständlich ist das Temperament dieser Entwicklung freilich nur aus der besonderen politischen Konstellation Berlins, aus seiner historischen fast weniger als aus seiner gegenwärtigen. Zwei Monate lang, bevor die gemeinsame Besetzung der Stadt begann, haben sie die Russen, kämpfend, erobernd und die ersten Ordnungsmaßnahmen treffend besessen. Mit ihnen sind die Männer aus Moskau gekommen, die zwölf Jahre vorher nach Rußland gegangen waren: nun vorbereitet und mit aller Tatkraft gewillt, sich total in die Führung der vollkommen verwirrten und zerschlagenen ehemaligen Hauptstadt Deutschlands einzuschalten. Noch immer oder jetzt gerade ging von ihnen die Erwartung aus, daß mit Berlin Deutschland gemeint sein mußte. Und so setzte bereits Mitte Juni, noch ehe die verbündeten Alliierten in Berlin waren, mit der Neugründung der vier Parteien ein starker politischer Akkord ein. Ein demokratischer Akkord, wie man an der Zulassung der vier Parteien erkennen konnte, die von den Kommunisten über die Sozialdemokraten, die Christlich-Demokratische Union bis zu den Liberaldemokraten reichte. Die sowjetischen Behörden, die zu einem so frühen Zeitpunkt wie in keiner anderen deutschen Zone diese Parteien zu reger Tätigkeit ermunterten, sparten sichtlich nicht mit allen Formen der Unterstützung, gerade auch gegenüber den nichtkommunistischen Parteien. Es ist selbstverständlich, daß diese Haltung auf ein Volk, das der Zwangsjacke des Einparteienstaates eben entschlüpft war, wohltuend wirkte. Während die beiden Parteibildungen der Union und der Liberaldemokraten nicht automatisch an Formen der Weimarer Zeit anknüpfen konnten, wählten KPD und SPD die gleichen Organisationsschemen, die sie 1933 hatten aufgeben müssen. In den gegenwärtigen Diskussionen um die Vereinigungstendenz der beiden marxistischen Parteien ist jetzt nachträglich häufig darauf hingewiesen worden, daß in den Junitagen des Vorjahres zwischen verschiedenen führenden Funktionären der beiden Parteien der Gedanke erwogen worden sei, sogleich den Versuch einer sozialistischen Einheitspartei zu machen. Die Kommunisten aber sahen offensichtlich die Stunde seiner-, zeit noch nicht dafür gekommen. Das mag sich daraus erklären, daß viele ihrer Männer in der Emigration zu ganz anderen Überlegungen gekommen waren als jene, die die zwölf Nazijahre über in Lagern oder anderswo in Deutschland verbringen mußten. – Der Begriff einer notwendigen, ideologischen Klärung der mit einem langen Zeitaufschub dieser Frage verbunden wurde, spielte dabei eine erhebliche Rolle. In den Sommer- und Herbstmonaten entwickelten denn auch die beiden Parteien eine Politik, die neben der gemeinsamen antifaschistischen Arbeit, die sie auch mit den beiden anderen Parteien innig verband, doch häufig gezwungen war, die alten traditionellen Verschiedenheiten an den modernen Erfordernissen nach einem total zusammengebrochenen Wirtschafts- und Sozialkörper zu ermessen und zu erproben. Außerdem begann die auflebende politische Tätigkeit in den übrigen Teilen Deutschlands auch die Beziehungen der neu sich gründenden Gruppen mit den alten wieder erstandenen zu knüpfen. Es war kein Zweifel, daß diese Entwicklung, schon wegen der unterschiedlichen, Struktur der Zonen, aber nicht weniger wegen der Verschiedenartigkeit der Schicksale, die ihre Menschen hinter sich gebracht hatten, auch auf das Berliner Verhältnis zwischen den beiden sozialistischen Parteien Einfluß haben mußte. Daß die Berliner Kommunisten nach Herkunft, Vergangenheit und politischer Schulung und Bewährung gegenüber denen in anderen Teilen Deutschland ein starkes Übergewicht, ja das entscheidende Gewicht haben mußten, versteht sich ebenso wie der Umstand, daß in der Sozialdemokratie diese für die KPD selbstverständliche Größenordnung nicht vorhanden sein konnte und es immer weniger werden mußte, je undurchsichtiger für die westlichen und südlichen Zonen die politische Arbeit im Osten wurde. Zwar hatte die KPD in ihrem Neugründungsaufruf erklärt, daß das Sowjetsystem für Deutschland – mindestens auf lange Zeit – nicht anwendbar sei. Aber sie hatte selbstverständlich ihre grundsätzliche Ansicht nicht geändert, daß es das sei. So erklärt es sich, daß die grundsätzliche Bereitschaft der SPD zu einer Sozialistischen Einheitspartei gerade in den Wochen und Monaten einer heftigen psychologischen Belastung ausgesetzt war, als die Notwendigkeit der Einheitspartei, nunmehr von den bis dahin zögernden Kommunisten mit aller Leidenschaft, forciert, zum fast einzigen Thema kommunistischer Politik wurde. Das war im Frühwinter des vorigen Jahres, bald nachdem die ersten deutschen Wahlen in der amerikanischen Zone abgehalten worden waren. Der Zentralausschuß der SPD, der unter Führung Grotewohls als die Leitung der gesamten deutschen SPD nach einer vor 1933 üblichen Regelung fungierte, hatte vor der berühmten Dezembersitzung mit den Kommunisten in Hannover mit den Vertretern der gesamten westlichen SPD Fühlung genormten, und man war wohl dort übereingekommen, einen möglichen Vereinigungsbeschluß vor keinem anderen als einem ersten Gesamtparteitag der SPD nach gründlicher Erforschung der Mitgliedermeinung zu fassen. Doch die Ereignisse gingen seit jener Weihnachtskonferenz einen viel stürmerischen Gang. Deutlich war zu spüren, wie in der kommunistischen Presse, in der politischen Straßen- und Versammlungsagitation, in den Betrieben das Einheitsthema nun gar nicht mehr als ein Diskusionsthema angeschlagen wurde, wie es doch vereinbart war sondern als eine Sache, deren Vollzug eigentlich längst überfällig war. Überraschend schnell trat die Studienkommission der beiden Parteien, die dazu eingesetzt war, die vielen grundlegenden ideologischen Verschiedenheiten der beiden Parteien zu klären und Vorschläge für eine systematische und auf lange Zeit berechnete Aufklärungsarbeit zu unterbreiten, schon wenige Wochen danach mit einem neuen Parteistatut und Grundsätzen der Einheitspartei an die Öffentlichkeit. Während das sozialdemokratische Organ \"Das Volk\" zuerst nur sporadisch und keineswegs mit Eifer und Veröffentlichungen zu diesem Vorgang publizierte, beherrschte die kommunistische \"Deutsche Volkszeitung\" das Thema vollends. Ohne Zweifel lag das Interesse der KPD an der Sozialistischen Einheitspartei viel offener zutage als das der SPD. Daß dies nicht nur an den Mitgliederzahlen lag, die in die Vereinigung miteingebracht werden sollen – die SPD zählte etwa 64 000, während die KPD-Zahlen nicht bekannt sind –, sollte sich in der Folgezeit sehr bald erweisen. Jede halbpolitische oder gar unpolitische Gelegenheit wurde benutzt, um die große Masse für die bald bevorstehende Tatsache der Einheitspartei, reif zu machen. Die beiden Berliner Gewerkschaftskongresse, die hauptsächlich der Konstituierung der neuen Gewerkschaftsparlamente dienen sollten, begannen und gipfelten in Einheitskundgebungen, die jeweilig von kommunistischer Seite inauguriert waren. Als freilich dann bei dieser Gelegenheit Grotewohl, der SPD-Vorsitzende, den Beschluß des Zentralausschusses der SPD bekanntgab, auf einem Osterparteitag der SPD auch gegen die Obstruktion der westlichen SPD-Zonen die Vereinigung bzw. das Aufgehen in der Einheitspartei zu beschließen, fing die letzte Phase dieser Auseinandersetzungen an, die die großen grundsätzlichen Probleme erst voll ins Licht rückten. Der vollkommen ergebnislose Besuch Schumachers in Berlin war. dieser Erklärung Grotewohls vorangegangen und damit bereits ein Begleitkonzert der einheitswilligen Zeitungen, in dem schon die ersten Zeichen scharfer persönlicher Kämpfe aufflammten. Umstrittene Einheit – Seite 2 Von diesen Ereignissen her datiert der innere Kampf der Berliner Sozialdemokratie. Das Berliner Parteiorgan \"Das Volk\" hat ihn freilich kaum widergespiegelt, da es ausschließlich die Tendenz Grotewohls vertrat, nunmehr zusammen mit den Kommunisten die Vereinigung um jeden Preis zu den im voraus festgesetzten Terminen zu betreiben. Selbst die stürmische Funktionärssitzung der SPD vom 1. März, in der Grotewohl, der bis dahin fraglos verehrte Vorsitzende der SPD, streckenweist überhaupt nicht in der Lage war, seine Begründungen gegen den lauten Protest der überwiegenden Mehrheit vorzutragen, und in der die Versammlung auf einer Urabstimmung aller Mitglieder über die Frage der Verschmelzung beharrte, selbst diese dramatische Sitzung blieb den SPD-Abonnenten des \"Volk\" nur mit dem Abdruck des Grotewohl-Vortrags referiert. Daraus ergaben sich so groteske Zustände, daß andere Zeitungen, vor allem der im amerikanischen Sektor lizenzierte und überparteiliche \"Tagesspiegel\", von da an für die-Meinungsbildung informierender, wurden als die Organe der eigenen Partei. Als im März die inneren Konflikte in der SPD wegen der immer näher heranrückenden Termine immer offenbarer wurden, machte sich ab Mitte des Monats der \"Tagesspiegel\" zum Organ jener SPD-Gruppen, die sich dem Vereinigungsbeschluß konsequent widersetzten. Während kaum ein Tag verging, an dem nicht Pieck und Grotewohl gemeinsam in Betrieben oder in Stadtteilversammlungen für die Vereinigung warben und Resolutionen diesen Tenors verlesen wurden, ging der Zentralausschuß und der Bezirksvorstand der SPD dazu über, eine Reihe von Mitgliedern aus ihm selbst oder aus unteren Funktionen der Partei auszustoßen, weil sie Gruppen zum Widerstand gegen die Meinung des Zentralausschusses gebildet oder aber Informationen über die inneren Vorgänge, die dazu geführt hatten, der Öffentlichkeit übergeben hatten. Über alle diese äußeren Erscheinungen hinweg hat dieser Kampf freilich ein demokratisches Prinzip überhaupt von allen Begriffsverwirrungen freigelegt – und das ist es, was die außerordentliche politische Bewegtheit Berlins in diesen Wochen, gerade auch die der Nichtmitglieder der in Frage stehenden Parteien, charakterisiert: es geht um das Recht, entscheiden zu dürfen, ein erstes wirklich demokratisches Urteil fällen zu dürfen. Die Gegner der sofortigen Vereinigung argumentieren ständig, ihre Beförderer wendeten ein diktatorisches und totalitäres Prinzip an, um eine angeblich demokratische Sache zu erreichen. Sie wittern, nach Hergang und Methode, eine Vergewaltigung. Und gerade dagegen ist das Mißtrauen nach jenem grauenvollen \"Jahrtausend\" der Vergewaltigung besonders groß. Sie können nicht einsehen, warum plötzlich von der sofortigen Aufgliederung der Parteien die Chancen zu einem echten Aufstieg abhängen sollen, nachdem ein halbes Jahr zuvor das Nebeneinander und die notwendige Klärung als der fruchtbarste Weg erschien. Die Propagandisten der Einigung, die mit einem Machtapparat ohnegleichen äußerlich das Feld beherrschen, führen als wichtigste Ursache ihrer Eile das Wachsen einer bestimmten \"Reaktion\" an, die eine starke sozialistische Einheit zur Notwendigkeit mache. Am Untergründe dieses Kampfes aber wird in der Tat um das Wesen der Demokratie gekämpft. Der Berliner Boden mit der schillernden Atmosphäre der verschiedenen Demokratien der Welt erlebt daran die erste Auseinandersetzung, die keineswegs eine bloß innenpolitische oder gar parteiinterne ist. Die Zusammenkunft der Außenminister von Frankreich, Großbritannien, den Vereinigten. Staaten und der Sowjetunion am 25. April in Paris erfolgt- auf Wunsch des nordamerikanischen Präsidenten Truman. Er hat es nicht durchsetzen können, daß die angesetzte Friedenskonferenz am 1. Mai pünktlich beginnt, er will jedoch erreichen, daß der bestehende Schwebezustand durch freimütige Aussprache beseitigt wird. ist es nicht einmal gelungen, in der italienischen Frage eine Einigung zu erzielen, da die Sowjetunion an ihrer Forderung auf Mandat über Tripolitanien festhält, während die angelsächsischen Mächte das Mittelmeer gern als ihren Interessenbereich ansehen möchten. Auch in der Bulgarienfrage konnte die Bildung einer von allen Großmächten anerkannten Regierung nicht herbeigeführt werden, die als Voraussetzung für jede Verhandlung angesehen wird. Die deutsche Frage soll auf nordamerikanischen Wunsch erst besprochen werden, wenn die andern Probleme gelöst sind, die der Vorbereitung der Friedenskonferenz dienen. Hierbei spricht auf amerikanischer Seite der Wunsch mit, die verschiedenen Fragen nicht miteinander zu verkoppeln. Das gilt insbesondere für den Wunsch Frankreichs auf Loslösung – mindestens in wirtschaftlicher Hinsicht – des Ruhrgebietes aus dem deutschen Reichskörper. In den letzten Wochen mehren sich die Zeichen dafür, daß in der französischen Besatzungszone die Frage der Änderung der alten Reichsgrenzen von 1937 lebhaft besprochen wird. Es lassen sich Stimmen \"deutscher\" Parteien oder Parteiveranstaltungen vernehmen, die etwa den Anschluß des Kohlengebietes der Saar an Frankreich fordern. Bisher hat Amerika alle diese Wünsche abgelehnt, wobei die wirtschaftlichen Rücksichten noch stärker waren als die politischen. Eine Vermischung dieser Wünsche mit den an sich schon reichlich verwickelten Fragen des europäischen Nahen Ostens könnte leicht ein diplomatisches Spiel bedeuten, das der Konferenz noch größere Schwierigkeiten bereiten könnte, als sie sowieso zu bewältigen hat. Zu deutlich steht vor den Augen der beteiligten Staatsmänner das Auffliegen der Außenministerkonferenz im September vergangenen Jahres in London, das der Welt sechs Monate des Aufbaues gekostet hat und deren Folgen heute noch nicht überwunden sind. Zu große Interessen stehen heute auf dem Spiel, als daß die Welt sich noch einmal einen derartigen Zeitverlust in der Überführung des Wirtschaftslebens aus derKriegsindustrie in die Friedenswirtschaft leisten könnte. Wir wissen nicht, ob und bis zu welchem Grade die zurzeit die ganze Welt beherrschende Hungersnot abgeschwächt oder gar vermieden hätte werden können, wenn überall rechtzeitig friedensmäßige Zustände herbeigeführt worden wären. Sicher ist jedoch,,daß überall der dringende Wunsch besteht, einen dauerhaften Frieden herbeizuführen, der wieder die Grundlage für weitschauende Pläne und Arbeiten gestattet. K. W. Berlin, April 1946 Berlin hatte in diesen Wochen seine erste aktivpolitische Atmosphäre seit dem Zusammenbruch. Die Sorge um die warme Stube und um den leeren Magen ist verdrängt. Und selbst die peinlich genaue Aufmerksamkeit, mit der sein Dutzend je nach Zone und Partei anders reagierender Blätter den spannungsschweren Auseinandersetzungen der Mächte gefolgt ist, verblaßt, Berlin hat seine eigene innenpolitische Kampfsituation. Es ist ein erster harter Waffengang, der alle Elemente der großen Probleme dieser neuen Zeit auf den arg zerschundenen Raum von Berlin projiziert. Der Kampf um die Sozialistische Einheitspartei, wie er in Berlin geführt worden ist, hat sich im Laufe ganz weniger Wochen aus der Reserve taktischer Gefechte in das offene Licht der tatsächlich damit ins Rollen . gekommenen tieferen und substantielleren Schwerpunkte der allgemeinen politischen Existenz gedrängt.',\n",
       "  'lead_text': 'Berlin hatte in diesen Wochen seine erste aktivpolitische Atmosphäre seit dem Zusammenbruch. Die Sorge um die warme Stube und um den leeren Magen ist verdrängt.',\n",
       "  'last_online_verification_date': '2024-09-09T14:14:10.479049',\n",
       "  'medium': {'readable_id': 'zeit'},\n",
       "  'crawler_medium': 'zeit',\n",
       "  'crawler_version': '0.1',\n",
       "  'central_entities': [{'title': 'K. W.', 'type_id': 'per'},\n",
       "   {'title': 'Berlin', 'type_id': 'loc'},\n",
       "   {'title': 'Sozialistische Einheitspartei', 'type_id': 'org'},\n",
       "   {'title': 'Berlins', 'type_id': 'loc'},\n",
       "   {'title': 'Moskau', 'type_id': 'loc'},\n",
       "   {'title': 'Rußland', 'type_id': 'loc'},\n",
       "   {'title': 'Deutschlands', 'type_id': 'loc'},\n",
       "   {'title': 'Deutschland', 'type_id': 'loc'},\n",
       "   {'title': 'Christlich-Demokratische Union', 'type_id': 'org'},\n",
       "   {'title': 'Union', 'type_id': 'org'},\n",
       "   {'title': 'KPD', 'type_id': 'org'},\n",
       "   {'title': 'SPD', 'type_id': 'org'},\n",
       "   {'title': 'Grotewohls', 'type_id': 'per'},\n",
       "   {'title': 'Hannover', 'type_id': 'loc'},\n",
       "   {'title': 'Das Volk', 'type_id': 'org'},\n",
       "   {'title': 'Deutsche Volkszeitung', 'type_id': 'org'},\n",
       "   {'title': 'Sozialistischen Einheitspartei', 'type_id': 'org'},\n",
       "   {'title': 'Grotewohl', 'type_id': 'per'},\n",
       "   {'title': 'Schumachers', 'type_id': 'per'},\n",
       "   {'title': 'Tagesspiegel', 'type_id': 'org'},\n",
       "   {'title': 'Pieck', 'type_id': 'per'},\n",
       "   {'title': 'Frankreich', 'type_id': 'loc'},\n",
       "   {'title': 'Großbritannien', 'type_id': 'loc'},\n",
       "   {'title': 'Vereinigten. Staaten', 'type_id': 'loc'},\n",
       "   {'title': 'Sowjetunion', 'type_id': 'loc'},\n",
       "   {'title': 'Paris', 'type_id': 'loc'},\n",
       "   {'title': 'Truman', 'type_id': 'per'},\n",
       "   {'title': 'Tripolitanien', 'type_id': 'loc'},\n",
       "   {'title': 'Mittelmeer', 'type_id': 'loc'},\n",
       "   {'title': 'Bulgarienfrage', 'type_id': 'loc'},\n",
       "   {'title': 'Frankreichs', 'type_id': 'loc'},\n",
       "   {'title': 'Ruhrgebietes', 'type_id': 'loc'},\n",
       "   {'title': 'Saar', 'type_id': 'loc'},\n",
       "   {'title': 'Amerika', 'type_id': 'loc'},\n",
       "   {'title': 'Nahen Ostens', 'type_id': 'loc'},\n",
       "   {'title': 'London', 'type_id': 'loc'},\n",
       "   {'title': 'K. W. Berlin', 'type_id': 'per'},\n",
       "   {'title': 'Russia', 'type_id': 'loc'}]}]"
      ]
     },
     "execution_count": 6,
     "metadata": {},
     "output_type": "execute_result"
    }
   ],
   "source": [
    "archive_articles_inferred_gro_focus"
   ]
  },
  {
   "cell_type": "code",
   "execution_count": 2,
   "metadata": {},
   "outputs": [
    {
     "name": "stdout",
     "output_type": "stream",
     "text": [
      "c:\\Users\\ra76lax\\Documents\\GitHub\\m3-scraper\n"
     ]
    }
   ],
   "source": [
    "!cd"
   ]
  },
  {
   "cell_type": "code",
   "execution_count": 16,
   "metadata": {},
   "outputs": [],
   "source": [
    "#read archive_articles.json and write only the main_text to a txt file\n",
    "with open('archive_articles.json', 'r') as f:\n",
    "    data = json.load(f)\n",
    "    with open('main_texts_for_geo_focus_inference.txt', 'w') as f:\n",
    "        for item in data:\n",
    "            f.write(item['main_text'] + '\\n')\n"
   ]
  },
  {
   "cell_type": "code",
   "execution_count": 1,
   "metadata": {},
   "outputs": [
    {
     "ename": "CalledProcessError",
     "evalue": "Command '['Rscript', '-e', '\\n    source(\"text_analysis\\\\infer_geo_focus.R\")\\n    library(jsonlite)\\n    articles_json <- rawToChar(base64_dec(\"W3sibWFpbl90ZXh0IjogIlNvbWUgdGV4dCBhYm91dCBHZXJtYW55IiwgImNlbnRyYWxfZW50aXRpZXMiOiBbXX0sIHsibWFpbl90ZXh0IjogIlRleHQgYWJvdXQgRnJhbmNlIiwgImNlbnRyYWxfZW50aXRpZXMiOiBbXX1d\"))\\n    articles <- fromJSON(articles_json)\\n    result <- infer_geo_focus_py(articles)\\n    cat(toJSON(result, auto_unbox=TRUE))\\n    ']' returned non-zero exit status 1.",
     "output_type": "error",
     "traceback": [
      "\u001b[1;31m---------------------------------------------------------------------------\u001b[0m",
      "\u001b[1;31mCalledProcessError\u001b[0m                        Traceback (most recent call last)",
      "Cell \u001b[1;32mIn[1], line 32\u001b[0m\n\u001b[0;32m     18\u001b[0m r_command \u001b[38;5;241m=\u001b[39m [\n\u001b[0;32m     19\u001b[0m     \u001b[38;5;124m'\u001b[39m\u001b[38;5;124mRscript\u001b[39m\u001b[38;5;124m'\u001b[39m, \n\u001b[0;32m     20\u001b[0m     \u001b[38;5;124m'\u001b[39m\u001b[38;5;124m-e\u001b[39m\u001b[38;5;124m'\u001b[39m, \n\u001b[1;32m   (...)\u001b[0m\n\u001b[0;32m     28\u001b[0m \u001b[38;5;124m    \u001b[39m\u001b[38;5;124m'''\u001b[39m\n\u001b[0;32m     29\u001b[0m ]\n\u001b[0;32m     31\u001b[0m \u001b[38;5;66;03m# Run the R script and capture the output\u001b[39;00m\n\u001b[1;32m---> 32\u001b[0m result \u001b[38;5;241m=\u001b[39m \u001b[43msubprocess\u001b[49m\u001b[38;5;241;43m.\u001b[39;49m\u001b[43mrun\u001b[49m\u001b[43m(\u001b[49m\u001b[43mr_command\u001b[49m\u001b[43m,\u001b[49m\u001b[43m \u001b[49m\u001b[43mcapture_output\u001b[49m\u001b[38;5;241;43m=\u001b[39;49m\u001b[38;5;28;43;01mTrue\u001b[39;49;00m\u001b[43m,\u001b[49m\u001b[43m \u001b[49m\u001b[43mtext\u001b[49m\u001b[38;5;241;43m=\u001b[39;49m\u001b[38;5;28;43;01mTrue\u001b[39;49;00m\u001b[43m,\u001b[49m\u001b[43m \u001b[49m\u001b[43mcheck\u001b[49m\u001b[38;5;241;43m=\u001b[39;49m\u001b[38;5;28;43;01mTrue\u001b[39;49;00m\u001b[43m)\u001b[49m\n\u001b[0;32m     34\u001b[0m \u001b[38;5;66;03m# Parse the JSON output\u001b[39;00m\n\u001b[0;32m     35\u001b[0m country_names \u001b[38;5;241m=\u001b[39m json\u001b[38;5;241m.\u001b[39mloads(result\u001b[38;5;241m.\u001b[39mstdout)\n",
      "File \u001b[1;32mc:\\Users\\ra76lax\\AppData\\Local\\anaconda3\\envs\\python_m3_scrapers\\lib\\subprocess.py:528\u001b[0m, in \u001b[0;36mrun\u001b[1;34m(input, capture_output, timeout, check, *popenargs, **kwargs)\u001b[0m\n\u001b[0;32m    526\u001b[0m     retcode \u001b[38;5;241m=\u001b[39m process\u001b[38;5;241m.\u001b[39mpoll()\n\u001b[0;32m    527\u001b[0m     \u001b[38;5;28;01mif\u001b[39;00m check \u001b[38;5;129;01mand\u001b[39;00m retcode:\n\u001b[1;32m--> 528\u001b[0m         \u001b[38;5;28;01mraise\u001b[39;00m CalledProcessError(retcode, process\u001b[38;5;241m.\u001b[39margs,\n\u001b[0;32m    529\u001b[0m                                  output\u001b[38;5;241m=\u001b[39mstdout, stderr\u001b[38;5;241m=\u001b[39mstderr)\n\u001b[0;32m    530\u001b[0m \u001b[38;5;28;01mreturn\u001b[39;00m CompletedProcess(process\u001b[38;5;241m.\u001b[39margs, retcode, stdout, stderr)\n",
      "\u001b[1;31mCalledProcessError\u001b[0m: Command '['Rscript', '-e', '\\n    source(\"text_analysis\\\\infer_geo_focus.R\")\\n    library(jsonlite)\\n    articles_json <- rawToChar(base64_dec(\"W3sibWFpbl90ZXh0IjogIlNvbWUgdGV4dCBhYm91dCBHZXJtYW55IiwgImNlbnRyYWxfZW50aXRpZXMiOiBbXX0sIHsibWFpbl90ZXh0IjogIlRleHQgYWJvdXQgRnJhbmNlIiwgImNlbnRyYWxfZW50aXRpZXMiOiBbXX1d\"))\\n    articles <- fromJSON(articles_json)\\n    result <- infer_geo_focus_py(articles)\\n    cat(toJSON(result, auto_unbox=TRUE))\\n    ']' returned non-zero exit status 1."
     ]
    }
   ],
   "source": [
    "import subprocess\n",
    "import json\n",
    "import os\n",
    "import base64\n",
    "\n",
    "# Example data\n",
    "articles = [\n",
    "    {\"main_text\": \"Some text about Germany\", \"central_entities\": []},\n",
    "    {\"main_text\": \"Text about France\", \"central_entities\": []}\n",
    "]\n",
    "\n",
    "# Encode the articles as a base64 string to avoid issues with special characters\n",
    "articles_json = json.dumps(articles)\n",
    "articles_base64 = base64.b64encode(articles_json.encode()).decode()\n",
    "\n",
    "# Construct the R command\n",
    "r_script_path = os.path.join('text_analysis', 'infer_geo_focus.R')\n",
    "r_command = [\n",
    "    'Rscript', \n",
    "    '-e', \n",
    "    f'''\n",
    "    source(\"{r_script_path}\")\n",
    "    library(jsonlite)\n",
    "    articles_json <- rawToChar(base64_dec(\"{articles_base64}\"))\n",
    "    articles <- fromJSON(articles_json)\n",
    "    result <- infer_geo_focus_py(articles)\n",
    "    cat(toJSON(result, auto_unbox=TRUE))\n",
    "    '''\n",
    "]\n",
    "\n",
    "# Run the R script and capture the output\n",
    "result = subprocess.run(r_command, capture_output=True, text=True, check=True)\n",
    "\n",
    "# Parse the JSON output\n",
    "country_names = json.loads(result.stdout)\n",
    "\n",
    "print(\"Inferred country names:\", country_names)"
   ]
  },
  {
   "cell_type": "code",
   "execution_count": 9,
   "metadata": {},
   "outputs": [],
   "source": [
    "# Example data\n",
    "articles = [\n",
    "    {\"main_text\": \"Some text about Germany\", \"central_entities\": []},\n",
    "    {\"main_text\": \"Text about France\", \"central_entities\": []}\n",
    "]"
   ]
  },
  {
   "cell_type": "code",
   "execution_count": 10,
   "metadata": {},
   "outputs": [],
   "source": [
    "import json\n",
    "\n",
    "articles_json = json.dumps(articles).encode('utf-8')"
   ]
  },
  {
   "cell_type": "code",
   "execution_count": 11,
   "metadata": {},
   "outputs": [
    {
     "data": {
      "text/plain": [
       "b'[{\"main_text\": \"Some text about Germany\", \"central_entities\": []}, {\"main_text\": \"Text about France\", \"central_entities\": []}]'"
      ]
     },
     "execution_count": 11,
     "metadata": {},
     "output_type": "execute_result"
    }
   ],
   "source": [
    "articles_json"
   ]
  },
  {
   "cell_type": "code",
   "execution_count": 12,
   "metadata": {},
   "outputs": [],
   "source": [
    "# Construct the R command\n",
    "r_script_path = 'text_analysis/debug_json_input.R'\n",
    "r_command = ['Rscript', r_script_path]\n"
   ]
  },
  {
   "cell_type": "code",
   "execution_count": 13,
   "metadata": {},
   "outputs": [],
   "source": [
    "import subprocess"
   ]
  },
  {
   "cell_type": "code",
   "execution_count": 14,
   "metadata": {},
   "outputs": [
    {
     "ename": "TypeError",
     "evalue": "write() argument must be str, not bytes",
     "output_type": "error",
     "traceback": [
      "\u001b[1;31m---------------------------------------------------------------------------\u001b[0m",
      "\u001b[1;31mTypeError\u001b[0m                                 Traceback (most recent call last)",
      "Cell \u001b[1;32mIn[14], line 3\u001b[0m\n\u001b[0;32m      1\u001b[0m \u001b[38;5;66;03m# Run the R script and capture the output\u001b[39;00m\n\u001b[0;32m      2\u001b[0m \u001b[38;5;28;01mtry\u001b[39;00m:\n\u001b[1;32m----> 3\u001b[0m     result \u001b[38;5;241m=\u001b[39m \u001b[43msubprocess\u001b[49m\u001b[38;5;241;43m.\u001b[39;49m\u001b[43mrun\u001b[49m\u001b[43m(\u001b[49m\u001b[43mr_command\u001b[49m\u001b[43m,\u001b[49m\u001b[43m \u001b[49m\u001b[38;5;28;43minput\u001b[39;49m\u001b[38;5;241;43m=\u001b[39;49m\u001b[43marticles_json\u001b[49m\u001b[43m,\u001b[49m\u001b[43m \u001b[49m\u001b[43mcapture_output\u001b[49m\u001b[38;5;241;43m=\u001b[39;49m\u001b[38;5;28;43;01mTrue\u001b[39;49;00m\u001b[43m,\u001b[49m\u001b[43m \u001b[49m\u001b[43mtext\u001b[49m\u001b[38;5;241;43m=\u001b[39;49m\u001b[38;5;28;43;01mTrue\u001b[39;49;00m\u001b[43m,\u001b[49m\u001b[43m \u001b[49m\u001b[43mcheck\u001b[49m\u001b[38;5;241;43m=\u001b[39;49m\u001b[38;5;28;43;01mTrue\u001b[39;49;00m\u001b[43m)\u001b[49m\n\u001b[0;32m      5\u001b[0m     \u001b[38;5;28mprint\u001b[39m(\u001b[38;5;124m\"\u001b[39m\u001b[38;5;124mR script stderr (for debugging):\u001b[39m\u001b[38;5;124m\"\u001b[39m)\n\u001b[0;32m      6\u001b[0m     \u001b[38;5;28mprint\u001b[39m(result\u001b[38;5;241m.\u001b[39mstderr)\n",
      "File \u001b[1;32mc:\\Users\\ra76lax\\AppData\\Local\\anaconda3\\envs\\python_m3_scrapers\\lib\\subprocess.py:507\u001b[0m, in \u001b[0;36mrun\u001b[1;34m(input, capture_output, timeout, check, *popenargs, **kwargs)\u001b[0m\n\u001b[0;32m    505\u001b[0m \u001b[38;5;28;01mwith\u001b[39;00m Popen(\u001b[38;5;241m*\u001b[39mpopenargs, \u001b[38;5;241m*\u001b[39m\u001b[38;5;241m*\u001b[39mkwargs) \u001b[38;5;28;01mas\u001b[39;00m process:\n\u001b[0;32m    506\u001b[0m     \u001b[38;5;28;01mtry\u001b[39;00m:\n\u001b[1;32m--> 507\u001b[0m         stdout, stderr \u001b[38;5;241m=\u001b[39m \u001b[43mprocess\u001b[49m\u001b[38;5;241;43m.\u001b[39;49m\u001b[43mcommunicate\u001b[49m\u001b[43m(\u001b[49m\u001b[38;5;28;43minput\u001b[39;49m\u001b[43m,\u001b[49m\u001b[43m \u001b[49m\u001b[43mtimeout\u001b[49m\u001b[38;5;241;43m=\u001b[39;49m\u001b[43mtimeout\u001b[49m\u001b[43m)\u001b[49m\n\u001b[0;32m    508\u001b[0m     \u001b[38;5;28;01mexcept\u001b[39;00m TimeoutExpired \u001b[38;5;28;01mas\u001b[39;00m exc:\n\u001b[0;32m    509\u001b[0m         process\u001b[38;5;241m.\u001b[39mkill()\n",
      "File \u001b[1;32mc:\\Users\\ra76lax\\AppData\\Local\\anaconda3\\envs\\python_m3_scrapers\\lib\\subprocess.py:1134\u001b[0m, in \u001b[0;36mPopen.communicate\u001b[1;34m(self, input, timeout)\u001b[0m\n\u001b[0;32m   1131\u001b[0m     endtime \u001b[38;5;241m=\u001b[39m \u001b[38;5;28;01mNone\u001b[39;00m\n\u001b[0;32m   1133\u001b[0m \u001b[38;5;28;01mtry\u001b[39;00m:\n\u001b[1;32m-> 1134\u001b[0m     stdout, stderr \u001b[38;5;241m=\u001b[39m \u001b[38;5;28;43mself\u001b[39;49m\u001b[38;5;241;43m.\u001b[39;49m\u001b[43m_communicate\u001b[49m\u001b[43m(\u001b[49m\u001b[38;5;28;43minput\u001b[39;49m\u001b[43m,\u001b[49m\u001b[43m \u001b[49m\u001b[43mendtime\u001b[49m\u001b[43m,\u001b[49m\u001b[43m \u001b[49m\u001b[43mtimeout\u001b[49m\u001b[43m)\u001b[49m\n\u001b[0;32m   1135\u001b[0m \u001b[38;5;28;01mexcept\u001b[39;00m \u001b[38;5;167;01mKeyboardInterrupt\u001b[39;00m:\n\u001b[0;32m   1136\u001b[0m     \u001b[38;5;66;03m# https://bugs.python.org/issue25942\u001b[39;00m\n\u001b[0;32m   1137\u001b[0m     \u001b[38;5;66;03m# See the detailed comment in .wait().\u001b[39;00m\n\u001b[0;32m   1138\u001b[0m     \u001b[38;5;28;01mif\u001b[39;00m timeout \u001b[38;5;129;01mis\u001b[39;00m \u001b[38;5;129;01mnot\u001b[39;00m \u001b[38;5;28;01mNone\u001b[39;00m:\n",
      "File \u001b[1;32mc:\\Users\\ra76lax\\AppData\\Local\\anaconda3\\envs\\python_m3_scrapers\\lib\\subprocess.py:1518\u001b[0m, in \u001b[0;36mPopen._communicate\u001b[1;34m(self, input, endtime, orig_timeout)\u001b[0m\n\u001b[0;32m   1515\u001b[0m     \u001b[38;5;28mself\u001b[39m\u001b[38;5;241m.\u001b[39mstderr_thread\u001b[38;5;241m.\u001b[39mstart()\n\u001b[0;32m   1517\u001b[0m \u001b[38;5;28;01mif\u001b[39;00m \u001b[38;5;28mself\u001b[39m\u001b[38;5;241m.\u001b[39mstdin:\n\u001b[1;32m-> 1518\u001b[0m     \u001b[38;5;28;43mself\u001b[39;49m\u001b[38;5;241;43m.\u001b[39;49m\u001b[43m_stdin_write\u001b[49m\u001b[43m(\u001b[49m\u001b[38;5;28;43minput\u001b[39;49m\u001b[43m)\u001b[49m\n\u001b[0;32m   1520\u001b[0m \u001b[38;5;66;03m# Wait for the reader threads, or time out.  If we time out, the\u001b[39;00m\n\u001b[0;32m   1521\u001b[0m \u001b[38;5;66;03m# threads remain reading and the fds left open in case the user\u001b[39;00m\n\u001b[0;32m   1522\u001b[0m \u001b[38;5;66;03m# calls communicate again.\u001b[39;00m\n\u001b[0;32m   1523\u001b[0m \u001b[38;5;28;01mif\u001b[39;00m \u001b[38;5;28mself\u001b[39m\u001b[38;5;241m.\u001b[39mstdout \u001b[38;5;129;01mis\u001b[39;00m \u001b[38;5;129;01mnot\u001b[39;00m \u001b[38;5;28;01mNone\u001b[39;00m:\n",
      "File \u001b[1;32mc:\\Users\\ra76lax\\AppData\\Local\\anaconda3\\envs\\python_m3_scrapers\\lib\\subprocess.py:1068\u001b[0m, in \u001b[0;36mPopen._stdin_write\u001b[1;34m(self, input)\u001b[0m\n\u001b[0;32m   1066\u001b[0m \u001b[38;5;28;01mif\u001b[39;00m \u001b[38;5;28minput\u001b[39m:\n\u001b[0;32m   1067\u001b[0m     \u001b[38;5;28;01mtry\u001b[39;00m:\n\u001b[1;32m-> 1068\u001b[0m         \u001b[38;5;28;43mself\u001b[39;49m\u001b[38;5;241;43m.\u001b[39;49m\u001b[43mstdin\u001b[49m\u001b[38;5;241;43m.\u001b[39;49m\u001b[43mwrite\u001b[49m\u001b[43m(\u001b[49m\u001b[38;5;28;43minput\u001b[39;49m\u001b[43m)\u001b[49m\n\u001b[0;32m   1069\u001b[0m     \u001b[38;5;28;01mexcept\u001b[39;00m \u001b[38;5;167;01mBrokenPipeError\u001b[39;00m:\n\u001b[0;32m   1070\u001b[0m         \u001b[38;5;28;01mpass\u001b[39;00m  \u001b[38;5;66;03m# communicate() must ignore broken pipe errors.\u001b[39;00m\n",
      "\u001b[1;31mTypeError\u001b[0m: write() argument must be str, not bytes"
     ]
    }
   ],
   "source": [
    "# Run the R script and capture the output\n",
    "try:\n",
    "    result = subprocess.run(r_command, input=articles_json, capture_output=True, text=True, check=True)\n",
    "    \n",
    "    print(\"R script stderr (for debugging):\")\n",
    "    print(result.stderr)\n",
    "\n",
    "    print(\"\\nR script stdout:\")\n",
    "    print(result.stdout)\n",
    "\n",
    "except subprocess.CalledProcessError as e:\n",
    "    print(f\"R script failed with return code {e.returncode}\")\n",
    "    print(\"stderr:\")\n",
    "    print(e.stderr)\n",
    "    print(\"stdout:\")\n",
    "    print(e.stdout)"
   ]
  },
  {
   "cell_type": "code",
   "execution_count": 13,
   "metadata": {},
   "outputs": [
    {
     "ename": "NameError",
     "evalue": "name 'result' is not defined",
     "output_type": "error",
     "traceback": [
      "\u001b[1;31m---------------------------------------------------------------------------\u001b[0m",
      "\u001b[1;31mNameError\u001b[0m                                 Traceback (most recent call last)",
      "Cell \u001b[1;32mIn[13], line 3\u001b[0m\n\u001b[0;32m      1\u001b[0m \u001b[38;5;66;03m# Parse the JSON output\u001b[39;00m\n\u001b[0;32m      2\u001b[0m \u001b[38;5;28;01mtry\u001b[39;00m:\n\u001b[1;32m----> 3\u001b[0m     parsed_output \u001b[38;5;241m=\u001b[39m json\u001b[38;5;241m.\u001b[39mloads(\u001b[43mresult\u001b[49m\u001b[38;5;241m.\u001b[39mstdout)\n\u001b[0;32m      4\u001b[0m     \u001b[38;5;28mprint\u001b[39m(\u001b[38;5;124m\"\u001b[39m\u001b[38;5;130;01m\\n\u001b[39;00m\u001b[38;5;124mParsed output:\u001b[39m\u001b[38;5;124m\"\u001b[39m)\n\u001b[0;32m      5\u001b[0m     \u001b[38;5;28mprint\u001b[39m(json\u001b[38;5;241m.\u001b[39mdumps(parsed_output, indent\u001b[38;5;241m=\u001b[39m\u001b[38;5;241m2\u001b[39m))\n",
      "\u001b[1;31mNameError\u001b[0m: name 'result' is not defined"
     ]
    }
   ],
   "source": [
    "# Parse the JSON output\n",
    "try:\n",
    "    parsed_output = json.loads(result.stdout)\n",
    "    print(\"\\nParsed output:\")\n",
    "    print(json.dumps(parsed_output, indent=2))\n",
    "except json.JSONDecodeError as e:\n",
    "    print(f\"\\nError parsing JSON output: {e}\")\n",
    "    print(\"Raw output:\", result.stdout)"
   ]
  },
  {
   "cell_type": "code",
   "execution_count": 1,
   "metadata": {},
   "outputs": [
    {
     "name": "stdout",
     "output_type": "stream",
     "text": [
      "R script return code: 0\n",
      "R script stderr:\n",
      "Package version: 4.1.0\n",
      "Unicode version: 15.1\n",
      "ICU version: 74.1\n",
      "Parallel computing: 8 of 8 threads used.\n",
      "See https://quanteda.io for tutorials and examples.\n",
      "\n",
      "Attaching package: 'dplyr'\n",
      "\n",
      "The following objects are masked from 'package:stats':\n",
      "\n",
      "    filter, lag\n",
      "\n",
      "The following objects are masked from 'package:base':\n",
      "\n",
      "    intersect, setdiff, setequal, union\n",
      "\n",
      "Error reading JSON input: lexical error: invalid char in json text.\n",
      "                                       if (is.null(articles)) {  cat(\"\n",
      "                     (right here) ------^\n",
      "\n",
      "R script stdout:\n",
      "\n",
      "R script produced no output\n",
      "Final result:\n",
      "[{'main_text': 'Some text about Germany', 'central_entities': []}, {'main_text': 'Text about France', 'central_entities': []}]\n"
     ]
    }
   ],
   "source": [
    "import subprocess\n",
    "import json\n",
    "\n",
    "def infer_geo_focus(articles_list):\n",
    "    # Convert the list of dictionaries to JSON\n",
    "    articles_json = json.dumps(articles_list)\n",
    "    \n",
    "    # Call the R script and pass the JSON as input\n",
    "    result = subprocess.run(['Rscript', 'text_analysis/infer_geo_focus.R'], \n",
    "                            input=articles_json,\n",
    "                            capture_output=True, \n",
    "                            text=True)\n",
    "    \n",
    "    print(\"R script return code:\", result.returncode)\n",
    "    print(\"R script stderr:\")\n",
    "    print(result.stderr)\n",
    "    print(\"R script stdout:\")\n",
    "    print(result.stdout)\n",
    "    \n",
    "    if result.returncode != 0:\n",
    "        raise Exception(f\"R script failed: {result.stderr}\")\n",
    "    \n",
    "    # Parse the output from the R script\n",
    "    if not result.stdout.strip():\n",
    "        print(\"R script produced no output\")\n",
    "        return articles_list\n",
    "    \n",
    "    try:\n",
    "        geo_focus_results = json.loads(result.stdout)\n",
    "    except json.JSONDecodeError as e:\n",
    "        print(f\"Failed to parse JSON output from R script: {e}\")\n",
    "        return articles_list\n",
    "    \n",
    "    # Add the geo focus results to the original articles\n",
    "    for article, geo_focus in zip(articles_list, geo_focus_results):\n",
    "        if geo_focus and geo_focus != 'NA':\n",
    "            article['central_entities'].append({\"type_id\": \"loc\", \"title\": geo_focus})\n",
    "    \n",
    "    return articles_list\n",
    "\n",
    "# Usage\n",
    "articles = [\n",
    "    {\"main_text\": \"Some text about Germany\", \"central_entities\": []},\n",
    "    {\"main_text\": \"Text about France\", \"central_entities\": []}\n",
    "]\n",
    "\n",
    "try:\n",
    "    result = infer_geo_focus(articles)\n",
    "    print(\"Final result:\")\n",
    "    print(result)\n",
    "except Exception as e:\n",
    "    print(f\"An error occurred: {e}\")"
   ]
  },
  {
   "cell_type": "code",
   "execution_count": null,
   "metadata": {},
   "outputs": [],
   "source": []
  }
 ],
 "metadata": {
  "kernelspec": {
   "display_name": "Python 3",
   "language": "python",
   "name": "python3"
  },
  "language_info": {
   "codemirror_mode": {
    "name": "ipython",
    "version": 3
   },
   "file_extension": ".py",
   "mimetype": "text/x-python",
   "name": "python",
   "nbconvert_exporter": "python",
   "pygments_lexer": "ipython3",
   "version": "3.9.19"
  }
 },
 "nbformat": 4,
 "nbformat_minor": 2
}
