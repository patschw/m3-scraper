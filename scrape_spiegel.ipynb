{
 "cells": [
  {
   "cell_type": "code",
   "execution_count": 1,
   "id": "3ba7eecf-dfea-4544-8596-179dfd687634",
   "metadata": {
    "tags": []
   },
   "outputs": [
    {
     "name": "stderr",
     "output_type": "stream",
     "text": [
      "c:\\Users\\ra76lax\\AppData\\Local\\anaconda3\\envs\\python_m3_scrapers\\lib\\site-packages\\transformers\\utils\\generic.py:441: UserWarning: torch.utils._pytree._register_pytree_node is deprecated. Please use torch.utils._pytree.register_pytree_node instead.\n",
      "  _torch_pytree._register_pytree_node(\n",
      "c:\\Users\\ra76lax\\AppData\\Local\\anaconda3\\envs\\python_m3_scrapers\\lib\\site-packages\\transformers\\utils\\generic.py:309: UserWarning: torch.utils._pytree._register_pytree_node is deprecated. Please use torch.utils._pytree.register_pytree_node instead.\n",
      "  _torch_pytree._register_pytree_node(\n",
      "c:\\Users\\ra76lax\\AppData\\Local\\anaconda3\\envs\\python_m3_scrapers\\lib\\site-packages\\transformers\\utils\\generic.py:309: UserWarning: torch.utils._pytree._register_pytree_node is deprecated. Please use torch.utils._pytree.register_pytree_node instead.\n",
      "  _torch_pytree._register_pytree_node(\n",
      "INFO:datasets:PyTorch version 2.2.2 available.\n"
     ]
    }
   ],
   "source": [
    "from database_handling.DataDownload import DataDownloader\n",
    "from database_handling.DataHandleAndOtherHelpers import DataHandler\n",
    "from database_handling.DataUpload import DataUploader\n",
    "from database_handling.DataDelete import DataDeleter\n",
    "from database_handling.KeycloakLogin import KeycloakLogin\n",
    "from scrapers.SpiegelScraper import SpiegelScraper\n",
    "from text_analysis.NEExtractor import NEExtractor\n",
    "from text_analysis.Summarizer import Summarizer\n",
    "from text_analysis.TopicExtractor import TopicExtractor\n",
    "from text_analysis.Vectorizers import Vectorizer\n",
    "\n",
    "import transformers\n",
    "import json\n",
    "import gc\n",
    "import torch"
   ]
  },
  {
   "cell_type": "code",
   "execution_count": 2,
   "id": "fbf8bcb2-8784-4df6-91cb-d42ded91c329",
   "metadata": {},
   "outputs": [
    {
     "name": "stderr",
     "output_type": "stream",
     "text": [
      "INFO:scrapers.BaseScraper:Navigated to https://gruppenkonto.spiegel.de/anmelden.html\n",
      "INFO:scrapers.BaseScraper:Input text 'patrick.schwabl@ifkw.lmu.de' successfully entered into the field.\n",
      "INFO:scrapers.BaseScraper:Input text 'ScrapenUndMatchenMitValerieUndMario123!' successfully entered into the field.\n",
      "INFO:scrapers.BaseScraper:Navigated to https://www.spiegel.de/\n"
     ]
    }
   ],
   "source": [
    "scraper = SpiegelScraper()\n",
    "scraper.start_browser(headless=False)\n",
    "scraper.login()"
   ]
  },
  {
   "cell_type": "code",
   "execution_count": 4,
   "id": "e873660c",
   "metadata": {},
   "outputs": [],
   "source": [
    "# get the token for the database\n",
    "keycloak_login = KeycloakLogin()\n",
    "token = keycloak_login.return_token()"
   ]
  },
  {
   "cell_type": "code",
   "execution_count": 5,
   "id": "4cade106-b392-4364-8b48-24328a839f73",
   "metadata": {},
   "outputs": [
    {
     "name": "stderr",
     "output_type": "stream",
     "text": [
      "INFO:scrapers.BaseScraper:Navigated to https://www.spiegel.de/\n",
      "INFO:scrapers.BaseScraper:Navigated to https://www.spiegel.de/fuermich/\n",
      "INFO:scrapers.BaseScraper:Navigated to https://www.spiegel.de/schlagzeilen/\n",
      "INFO:scrapers.BaseScraper:Navigated to https://www.spiegel.de/spiegel/\n",
      "INFO:scrapers.BaseScraper:Navigated to https://www.spiegel.de/audio/\n",
      "INFO:scrapers.BaseScraper:Navigated to https://www.spiegel.de/fuermich/\n",
      "INFO:scrapers.BaseScraper:Navigated to https://www.spiegel.de/schlagzeilen/\n",
      "INFO:scrapers.BaseScraper:Navigated to https://www.spiegel.de/plus/\n",
      "INFO:scrapers.BaseScraper:Navigated to https://www.spiegel.de/ausland/\n",
      "INFO:scrapers.BaseScraper:Navigated to https://www.spiegel.de/panorama/\n",
      "INFO:scrapers.BaseScraper:Navigated to https://www.spiegel.de/sport/\n",
      "INFO:scrapers.BaseScraper:Navigated to https://www.spiegel.de/wirtschaft/\n",
      "INFO:scrapers.BaseScraper:Navigated to https://www.spiegel.de/wissenschaft/\n",
      "INFO:scrapers.BaseScraper:Navigated to https://www.spiegel.de/netzwelt/\n",
      "INFO:scrapers.BaseScraper:Navigated to https://www.spiegel.de/kultur/\n",
      "INFO:scrapers.BaseScraper:Navigated to https://www.spiegel.de/karriere/\n",
      "INFO:scrapers.BaseScraper:Navigated to https://www.spiegel.de/start/\n",
      "INFO:scrapers.BaseScraper:Navigated to https://www.spiegel.de/tests/\n",
      "INFO:scrapers.BaseScraper:Navigated to https://www.spiegel.de/geschichte/\n",
      "INFO:scrapers.BaseScraper:Navigated to https://www.spiegel.de/auto/\n",
      "INFO:scrapers.BaseScraper:Navigated to https://www.spiegel.de/audio/\n",
      "INFO:scrapers.BaseScraper:Navigated to https://www.spiegel.de/video/\n",
      "INFO:scrapers.BaseScraper:Navigated to https://www.spiegel.de/debatten/\n",
      "INFO:scrapers.BaseScraper:Navigated to https://www.spiegel.de/deinspiegel/\n",
      "INFO:scrapers.BaseScraper:Navigated to https://www.spiegel.de/international/\n",
      "INFO:scrapers.BaseScraper:Navigated to https://www.spiegel.de/audio/\n",
      "INFO:scrapers.BaseScraper:Navigated to https://www.spiegel.de/audio/\n",
      "INFO:scrapers.BaseScraper:Navigated to https://www.spiegel.de/audio/\n",
      "INFO:scrapers.BaseScraper:Navigated to https://www.spiegel.de/plus/\n",
      "INFO:scrapers.BaseScraper:Navigated to https://www.spiegel.de/plus/\n",
      "INFO:scrapers.BaseScraper:Navigated to https://www.spiegel.de/plus/\n",
      "INFO:scrapers.BaseScraper:Navigated to https://www.spiegel.de/plus/\n",
      "INFO:scrapers.BaseScraper:Navigated to https://www.spiegel.de/plus/\n",
      "INFO:scrapers.BaseScraper:Navigated to https://www.spiegel.de/plus/\n",
      "INFO:scrapers.BaseScraper:Navigated to https://www.spiegel.de/video/\n",
      "INFO:scrapers.BaseScraper:Navigated to https://www.spiegel.de/video/\n",
      "INFO:scrapers.BaseScraper:Navigated to https://www.spiegel.de/video/\n",
      "INFO:scrapers.BaseScraper:Navigated to https://www.spiegel.de/politik/\n",
      "INFO:scrapers.BaseScraper:Navigated to https://www.spiegel.de/ausland/\n",
      "INFO:scrapers.BaseScraper:Navigated to https://www.spiegel.de/panorama/\n",
      "INFO:scrapers.BaseScraper:Navigated to https://www.spiegel.de/wissenschaft/\n",
      "INFO:scrapers.BaseScraper:Navigated to https://www.spiegel.de/wirtschaft/\n",
      "INFO:scrapers.BaseScraper:Navigated to https://www.spiegel.de/sport/\n",
      "INFO:scrapers.BaseScraper:Navigated to https://www.spiegel.de/netzwelt/\n",
      "INFO:scrapers.BaseScraper:Navigated to https://www.spiegel.de/kultur/\n",
      "INFO:scrapers.BaseScraper:Navigated to https://www.spiegel.de/karriere/\n",
      "INFO:scrapers.BaseScraper:Navigated to https://www.spiegel.de/start/\n",
      "INFO:scrapers.BaseScraper:Navigated to https://www.spiegel.de/geschichte/\n",
      "INFO:scrapers.BaseScraper:Navigated to https://www.spiegel.de/tests/\n",
      "INFO:scrapers.BaseScraper:Navigated to https://www.spiegel.de/auto/\n",
      "INFO:scrapers.BaseScraper:Navigated to https://www.spiegel.de/gesundheit/\n",
      "INFO:scrapers.BaseScraper:Navigated to https://www.spiegel.de/psychologie/\n",
      "INFO:scrapers.BaseScraper:Navigated to https://www.spiegel.de/familie/\n",
      "INFO:scrapers.BaseScraper:Navigated to https://www.spiegel.de/partnerschaft/\n",
      "INFO:scrapers.BaseScraper:Navigated to https://www.spiegel.de/reise/\n",
      "INFO:scrapers.BaseScraper:Navigated to https://www.spiegel.de/stil/\n",
      "INFO:scrapers.BaseScraper:Navigated to https://www.spiegel.de/deinspiegel/\n",
      "INFO:scrapers.BaseScraper:Navigated to https://www.spiegel.de/tests/\n",
      "INFO:scrapers.BaseScraper:Navigated to https://www.spiegel.de/tests/\n",
      "INFO:scrapers.BaseScraper:Navigated to https://www.spiegel.de/tests/\n",
      "INFO:scrapers.BaseScraper:Navigated to https://www.spiegel.de/deinspiegel/\n",
      "INFO:scrapers.BaseScraper:Navigated to https://www.spiegel.de/services/\n",
      "INFO:scrapers.BaseScraper:Navigated to https://www.spiegel.de/schlagzeilen/\n",
      "INFO:scrapers.BaseScraper:Navigated to https://www.spiegel.de/debatten/\n",
      "INFO:scrapers.BaseScraper:Navigated to https://www.spiegel.de/plus/\n",
      "INFO:scrapers.BaseScraper:Navigated to https://www.spiegel.de/ausland/\n",
      "INFO:scrapers.BaseScraper:Navigated to https://www.spiegel.de/panorama/\n",
      "INFO:scrapers.BaseScraper:Navigated to https://www.spiegel.de/sport/\n",
      "INFO:scrapers.BaseScraper:Navigated to https://www.spiegel.de/wirtschaft/\n",
      "INFO:scrapers.BaseScraper:Navigated to https://www.spiegel.de/wissenschaft/\n",
      "INFO:scrapers.BaseScraper:Navigated to https://www.spiegel.de/netzwelt/\n",
      "INFO:scrapers.BaseScraper:Navigated to https://www.spiegel.de/kultur/\n",
      "INFO:scrapers.BaseScraper:Navigated to https://www.spiegel.de/reise/\n",
      "INFO:scrapers.BaseScraper:Navigated to https://www.spiegel.de/stil/\n",
      "INFO:scrapers.BaseScraper:Navigated to https://www.spiegel.de/gesundheit/\n",
      "INFO:scrapers.BaseScraper:Navigated to https://www.spiegel.de/familie/\n",
      "INFO:scrapers.BaseScraper:Navigated to https://www.spiegel.de/psychologie/\n",
      "INFO:scrapers.BaseScraper:Navigated to https://www.spiegel.de/karriere/\n",
      "INFO:scrapers.BaseScraper:Navigated to https://www.spiegel.de/start/\n",
      "INFO:scrapers.BaseScraper:Navigated to https://www.spiegel.de/geschichte/\n",
      "INFO:scrapers.BaseScraper:Navigated to https://www.spiegel.de/auto/\n",
      "INFO:scrapers.BaseScraper:Navigated to https://www.spiegel.de/international/\n",
      "INFO:scrapers.BaseScraper:Navigated to https://www.spiegel.de/deinspiegel/\n",
      "INFO:scrapers.BaseScraper:Navigated to https://www.spiegel.de/audio/\n",
      "INFO:scrapers.BaseScraper:Navigated to https://www.spiegel.de/video/\n",
      "INFO:scrapers.BaseScraper:Navigated to https://www.spiegel.de/tests/\n",
      "INFO:scrapers.BaseScraper:Navigated to https://www.spiegel.de/backstage/\n",
      "INFO:scrapers.BaseScraper:Navigated to https://www.spiegel.de/services/\n",
      "INFO:scrapers.BaseScraper:Navigated to https://www.spiegel.de/nachrichtenarchiv/\n"
     ]
    }
   ],
   "source": [
    "this_runs_articles = scraper.scrape(token)"
   ]
  },
  {
   "cell_type": "code",
   "execution_count": null,
   "id": "668fe0c9-045a-4457-bb53-3d5dc9db662d",
   "metadata": {},
   "outputs": [],
   "source": [
    "this_runs_articles"
   ]
  },
  {
   "cell_type": "code",
   "execution_count": 2,
   "id": "64c9eeab-d60b-4da4-9f62-86ff614ce251",
   "metadata": {},
   "outputs": [],
   "source": [
    "# Open the file and load its content\n",
    "with open(\"spiegel_articles.json\", 'r') as file:\n",
    "    this_runs_articles = json.load(file)"
   ]
  },
  {
   "cell_type": "code",
   "execution_count": null,
   "id": "63e9d23a-319d-446f-ae23-486238e8e398",
   "metadata": {},
   "outputs": [],
   "source": [
    "# Save the responses to a json file\n",
    "with open('spiegel_articles.json', 'w') as f:\n",
    "    json.dump(this_runs_articles, f)\n"
   ]
  },
  {
   "cell_type": "code",
   "execution_count": 3,
   "id": "e9b2926d-b10c-441a-a60c-009897376483",
   "metadata": {},
   "outputs": [],
   "source": [
    "# get the token for the database\n",
    "keycloak_login = KeycloakLogin()\n",
    "token = keycloak_login.return_token()"
   ]
  },
  {
   "cell_type": "code",
   "execution_count": null,
   "id": "d6bf3eef-45fb-4a6b-810b-096fed7a7341",
   "metadata": {
    "tags": []
   },
   "outputs": [],
   "source": [
    "from database_handling.DataDownload import DataDownloader\n",
    "\n",
    "test_url_checker = DataDownloader(token)\n",
    "status_code = test_url_checker.get_content_rehydrate_status_code_only(url=\"https://www.spiegel.de/deinspiegel/wie-der-wolf-zum-hund-wurde-der-beginn-einer-wunderbaren-freundschaft-a-4388fdf5-aeef-40f0-9d9c-753f3de38f9c\")"
   ]
  },
  {
   "cell_type": "code",
   "execution_count": null,
   "id": "810e4154-8e3b-40e7-b26e-16208c883886",
   "metadata": {},
   "outputs": [],
   "source": [
    "status_code"
   ]
  },
  {
   "cell_type": "code",
   "execution_count": null,
   "id": "035f5613-56fd-4f63-baa3-273b7ed8b629",
   "metadata": {},
   "outputs": [],
   "source": [
    "import requests"
   ]
  },
  {
   "cell_type": "code",
   "execution_count": null,
   "id": "8e28d2d8-fddb-4540-83e6-bca1a79c2c09",
   "metadata": {},
   "outputs": [],
   "source": [
    "# Construct the full URL for the API request\n",
    "api_url = f\"https://api.m3.ifkw.lmu.de/api/v1/content/rehydrate/\"\n",
    "\n",
    "# Send the HEAD request with the optional query parameters\n",
    "response = requests.head(api_url, url=\"https://www.spiegel.de/deinspiegel/wie-der-wolf-zum-hund-wurde-der-beginn-einer-wunderbaren-freundschaft-a-4388fdf5-aeef-40f0-9d9c-753f3de38f9c\")"
   ]
  },
  {
   "cell_type": "code",
   "execution_count": 4,
   "id": "add8ddc0-aa2f-4978-9229-118f2ae0c284",
   "metadata": {},
   "outputs": [
    {
     "name": "stdout",
     "output_type": "stream",
     "text": [
      "Total articles fetched: 747\n"
     ]
    }
   ],
   "source": [
    "# Initialize the data downloader with the provided token\n",
    "data_downloader = DataDownloader(token)\n",
    "\n",
    "# Initialize variables for pagination\n",
    "all_articles_in_db = []\n",
    "page_size = 100  # Assuming the server returns 100 items per page by default\n",
    "offset = 0\n",
    "url = \"https://www.spiegel.de/\"\n",
    "\n",
    "# Loop until all pages are retrieved\n",
    "while True:\n",
    "    # Fetch articles from the current page\n",
    "    articles_in_db = data_downloader.get_content(url=url, limit=page_size, offset=offset)\n",
    "    \n",
    "    # Check if articles were returned\n",
    "    if not articles_in_db or 'items' not in articles_in_db:\n",
    "        break\n",
    "    \n",
    "    # Add the current batch of articles to the complete list\n",
    "    all_articles_in_db.extend(articles_in_db['items'])\n",
    "    \n",
    "    # Update the offset for the next page\n",
    "    offset += page_size\n",
    "    \n",
    "    # Check if we have fetched all articles\n",
    "    if len(all_articles_in_db) >= articles_in_db['count']:\n",
    "        break\n",
    "\n",
    "# The total number of articles retrieved\n",
    "article_count = len(all_articles_in_db)\n",
    "\n",
    "print(f\"Total articles fetched: {article_count}\")\n"
   ]
  },
  {
   "cell_type": "code",
   "execution_count": 5,
   "id": "9a50eccb-a834-49f8-9d1a-6014abaa1880",
   "metadata": {},
   "outputs": [],
   "source": [
    "# instantiate the data handler\n",
    "data_handler = DataHandler()"
   ]
  },
  {
   "cell_type": "code",
   "execution_count": 6,
   "id": "75744cf4-af27-4b1c-bbd6-8f00a71b1915",
   "metadata": {},
   "outputs": [],
   "source": [
    "# for the articles that are already in the database, only update the last_verification_date\n",
    "articles_for_last_verifcation_date_update = data_handler.find_scraped_articles_already_in_db(this_runs_articles, all_articles_in_db)\n",
    "# safe the responses to the last verification date update\n",
    "responses_to_last_verifcation_date_update = data_handler.patch_last_online_verification_date(token, articles_for_last_verifcation_date_update)\n",
    "# get the articles that are not yet in the database\n",
    "articles_not_yet_in_db = data_handler.find_scraped_articles_not_already_in_db(this_runs_articles, all_articles_in_db)\n",
    "articles_not_yet_in_db_list_of_dicts = [article for article in this_runs_articles if article['url'] in articles_not_yet_in_db]\n",
    "\n",
    "# Define the number of articles to process and upload per iteration\n",
    "articles_per_iteration = 10\n",
    "\n",
    "# Calculate the number of iterations\n",
    "iterations = len(articles_not_yet_in_db_list_of_dicts) // articles_per_iteration + (len(articles_not_yet_in_db_list_of_dicts) % articles_per_iteration > 0)\n",
    "\n",
    "responses = []"
   ]
  },
  {
   "cell_type": "code",
   "execution_count": 7,
   "id": "feb05c50-3543-4902-abe0-c91faa389420",
   "metadata": {},
   "outputs": [
    {
     "name": "stdout",
     "output_type": "stream",
     "text": [
      "Starting entity extraction...\n",
      "2024-08-29 09:16:17,488 SequenceTagger predicts: Dictionary with 20 tags: <unk>, O, B-PER, E-PER, S-LOC, B-MISC, I-MISC, E-MISC, S-PER, B-ORG, E-ORG, S-ORG, I-ORG, B-LOC, E-LOC, S-MISC, I-PER, I-LOC, <START>, <STOP>\n",
      "Tagger instantiated successfully\n"
     ]
    },
    {
     "data": {
      "application/vnd.jupyter.widget-view+json": {
       "model_id": "511484a711514c25af45896dca62b73e",
       "version_major": 2,
       "version_minor": 0
      },
      "text/plain": [
       "Map:   0%|          | 0/160 [00:00<?, ? examples/s]"
      ]
     },
     "metadata": {},
     "output_type": "display_data"
    },
    {
     "name": "stdout",
     "output_type": "stream",
     "text": [
      "Entity extraction completed.\n",
      "Starting topic extraction...\n"
     ]
    },
    {
     "name": "stderr",
     "output_type": "stream",
     "text": [
      "/opt/conda/lib/python3.10/site-packages/huggingface_hub/file_download.py:1150: FutureWarning: `resume_download` is deprecated and will be removed in version 1.0.0. Downloads always resume when possible. If you want to force a new download, use `force_download=True`.\n",
      "  warnings.warn(\n"
     ]
    },
    {
     "data": {
      "application/vnd.jupyter.widget-view+json": {
       "model_id": "ef17ca485d1442e4804c576a2ee38d4e",
       "version_major": 2,
       "version_minor": 0
      },
      "text/plain": [
       "Map:   0%|          | 0/160 [00:00<?, ? examples/s]"
      ]
     },
     "metadata": {},
     "output_type": "display_data"
    },
    {
     "name": "stderr",
     "output_type": "stream",
     "text": [
      "No sentence-transformers model found with name deepset/gbert-base. Creating a new one with MEAN pooling.\n"
     ]
    },
    {
     "name": "stdout",
     "output_type": "stream",
     "text": [
      "Topic extraction completed.\n",
      "Starting vectorization...\n"
     ]
    },
    {
     "data": {
      "application/vnd.jupyter.widget-view+json": {
       "model_id": "f073a4e1750c412ab3972a37a78ce0f7",
       "version_major": 2,
       "version_minor": 0
      },
      "text/plain": [
       "config.json:   0%|          | 0.00/362 [00:00<?, ?B/s]"
      ]
     },
     "metadata": {},
     "output_type": "display_data"
    },
    {
     "data": {
      "application/vnd.jupyter.widget-view+json": {
       "model_id": "8dc3f220aff04312a5bf02fa805a97db",
       "version_major": 2,
       "version_minor": 0
      },
      "text/plain": [
       "model.safetensors:   0%|          | 0.00/442M [00:00<?, ?B/s]"
      ]
     },
     "metadata": {},
     "output_type": "display_data"
    },
    {
     "data": {
      "application/vnd.jupyter.widget-view+json": {
       "model_id": "4eada540d1444921b242b2b4678dd783",
       "version_major": 2,
       "version_minor": 0
      },
      "text/plain": [
       "tokenizer_config.json:   0%|          | 0.00/83.0 [00:00<?, ?B/s]"
      ]
     },
     "metadata": {},
     "output_type": "display_data"
    },
    {
     "data": {
      "application/vnd.jupyter.widget-view+json": {
       "model_id": "bcb8d5554f3a4ae6b5ea12ceb50a6f1a",
       "version_major": 2,
       "version_minor": 0
      },
      "text/plain": [
       "vocab.txt:   0%|          | 0.00/240k [00:00<?, ?B/s]"
      ]
     },
     "metadata": {},
     "output_type": "display_data"
    },
    {
     "name": "stderr",
     "output_type": "stream",
     "text": [
      "No sentence-transformers model found with name T-Systems-onsite/german-roberta-sentence-transformer-v2. Creating a new one with MEAN pooling.\n"
     ]
    },
    {
     "data": {
      "application/vnd.jupyter.widget-view+json": {
       "model_id": "bcac6123e82148128fdc0f967885b8e8",
       "version_major": 2,
       "version_minor": 0
      },
      "text/plain": [
       "config.json:   0%|          | 0.00/541 [00:00<?, ?B/s]"
      ]
     },
     "metadata": {},
     "output_type": "display_data"
    },
    {
     "data": {
      "application/vnd.jupyter.widget-view+json": {
       "model_id": "a721a200c66a4c11a2274f10e5ffd8da",
       "version_major": 2,
       "version_minor": 0
      },
      "text/plain": [
       "model.safetensors:   0%|          | 0.00/1.11G [00:00<?, ?B/s]"
      ]
     },
     "metadata": {},
     "output_type": "display_data"
    },
    {
     "data": {
      "application/vnd.jupyter.widget-view+json": {
       "model_id": "c8817b53da3349b6ad74b7cb08576093",
       "version_major": 2,
       "version_minor": 0
      },
      "text/plain": [
       "tokenizer_config.json:   0%|          | 0.00/188 [00:00<?, ?B/s]"
      ]
     },
     "metadata": {},
     "output_type": "display_data"
    },
    {
     "data": {
      "application/vnd.jupyter.widget-view+json": {
       "model_id": "c52e5d8f5b294a1f984b7fa83e43039e",
       "version_major": 2,
       "version_minor": 0
      },
      "text/plain": [
       "sentencepiece.bpe.model:   0%|          | 0.00/5.07M [00:00<?, ?B/s]"
      ]
     },
     "metadata": {},
     "output_type": "display_data"
    },
    {
     "data": {
      "application/vnd.jupyter.widget-view+json": {
       "model_id": "afa102389fb14fcb8ddbfaed71b2348d",
       "version_major": 2,
       "version_minor": 0
      },
      "text/plain": [
       "special_tokens_map.json:   0%|          | 0.00/150 [00:00<?, ?B/s]"
      ]
     },
     "metadata": {},
     "output_type": "display_data"
    },
    {
     "data": {
      "application/vnd.jupyter.widget-view+json": {
       "model_id": "ac523ec78514446cb0f559d45eac2c2c",
       "version_major": 2,
       "version_minor": 0
      },
      "text/plain": [
       "modules.json:   0%|          | 0.00/229 [00:00<?, ?B/s]"
      ]
     },
     "metadata": {},
     "output_type": "display_data"
    },
    {
     "data": {
      "application/vnd.jupyter.widget-view+json": {
       "model_id": "efdd1822ae944059adc8b795260e95fd",
       "version_major": 2,
       "version_minor": 0
      },
      "text/plain": [
       "config_sentence_transformers.json:   0%|          | 0.00/124 [00:00<?, ?B/s]"
      ]
     },
     "metadata": {},
     "output_type": "display_data"
    },
    {
     "data": {
      "application/vnd.jupyter.widget-view+json": {
       "model_id": "84aea25c6844444ebc97f2ac051fcd38",
       "version_major": 2,
       "version_minor": 0
      },
      "text/plain": [
       "README.md:   0%|          | 0.00/3.02k [00:00<?, ?B/s]"
      ]
     },
     "metadata": {},
     "output_type": "display_data"
    },
    {
     "data": {
      "application/vnd.jupyter.widget-view+json": {
       "model_id": "cfaab25eed294c67b52050995dd920e1",
       "version_major": 2,
       "version_minor": 0
      },
      "text/plain": [
       "sentence_bert_config.json:   0%|          | 0.00/53.0 [00:00<?, ?B/s]"
      ]
     },
     "metadata": {},
     "output_type": "display_data"
    },
    {
     "data": {
      "application/vnd.jupyter.widget-view+json": {
       "model_id": "5b6f29ad084c4b92b13f7ccd5178143f",
       "version_major": 2,
       "version_minor": 0
      },
      "text/plain": [
       "config.json:   0%|          | 0.00/626 [00:00<?, ?B/s]"
      ]
     },
     "metadata": {},
     "output_type": "display_data"
    },
    {
     "data": {
      "application/vnd.jupyter.widget-view+json": {
       "model_id": "4f6987afa60c44ccb9e5ef0266b356bb",
       "version_major": 2,
       "version_minor": 0
      },
      "text/plain": [
       "pytorch_model.bin:   0%|          | 0.00/1.34G [00:00<?, ?B/s]"
      ]
     },
     "metadata": {},
     "output_type": "display_data"
    },
    {
     "data": {
      "application/vnd.jupyter.widget-view+json": {
       "model_id": "c413fc45c21c43d1b53934f8e2a88f3b",
       "version_major": 2,
       "version_minor": 0
      },
      "text/plain": [
       "tokenizer_config.json:   0%|          | 0.00/395 [00:00<?, ?B/s]"
      ]
     },
     "metadata": {},
     "output_type": "display_data"
    },
    {
     "data": {
      "application/vnd.jupyter.widget-view+json": {
       "model_id": "0edecd2bc6df4af2b083172431c7195d",
       "version_major": 2,
       "version_minor": 0
      },
      "text/plain": [
       "vocab.txt:   0%|          | 0.00/240k [00:00<?, ?B/s]"
      ]
     },
     "metadata": {},
     "output_type": "display_data"
    },
    {
     "data": {
      "application/vnd.jupyter.widget-view+json": {
       "model_id": "bddb4610ec2a4ebc9c3c5c21f8a562f7",
       "version_major": 2,
       "version_minor": 0
      },
      "text/plain": [
       "tokenizer.json:   0%|          | 0.00/729k [00:00<?, ?B/s]"
      ]
     },
     "metadata": {},
     "output_type": "display_data"
    },
    {
     "data": {
      "application/vnd.jupyter.widget-view+json": {
       "model_id": "b855e3b0cb844d39b52ddaa0b0df8a16",
       "version_major": 2,
       "version_minor": 0
      },
      "text/plain": [
       "special_tokens_map.json:   0%|          | 0.00/125 [00:00<?, ?B/s]"
      ]
     },
     "metadata": {},
     "output_type": "display_data"
    },
    {
     "data": {
      "application/vnd.jupyter.widget-view+json": {
       "model_id": "5e51367aa9c54de9b1d52a90ca60b54b",
       "version_major": 2,
       "version_minor": 0
      },
      "text/plain": [
       "1_Pooling/config.json:   0%|          | 0.00/191 [00:00<?, ?B/s]"
      ]
     },
     "metadata": {},
     "output_type": "display_data"
    },
    {
     "name": "stderr",
     "output_type": "stream",
     "text": [
      "No sentence-transformers model found with name xlm-roberta-large. Creating a new one with MEAN pooling.\n"
     ]
    },
    {
     "data": {
      "application/vnd.jupyter.widget-view+json": {
       "model_id": "8106b222d6c64f848e65941bc6645771",
       "version_major": 2,
       "version_minor": 0
      },
      "text/plain": [
       "config.json:   0%|          | 0.00/616 [00:00<?, ?B/s]"
      ]
     },
     "metadata": {},
     "output_type": "display_data"
    },
    {
     "data": {
      "application/vnd.jupyter.widget-view+json": {
       "model_id": "c591077291bd41a1a04d13628f93eff3",
       "version_major": 2,
       "version_minor": 0
      },
      "text/plain": [
       "model.safetensors:   0%|          | 0.00/2.24G [00:00<?, ?B/s]"
      ]
     },
     "metadata": {},
     "output_type": "display_data"
    },
    {
     "data": {
      "application/vnd.jupyter.widget-view+json": {
       "model_id": "d1d88f5e62224f6196b551769ca33d83",
       "version_major": 2,
       "version_minor": 0
      },
      "text/plain": [
       "tokenizer_config.json:   0%|          | 0.00/25.0 [00:00<?, ?B/s]"
      ]
     },
     "metadata": {},
     "output_type": "display_data"
    },
    {
     "data": {
      "application/vnd.jupyter.widget-view+json": {
       "model_id": "33fa8e8aed0840538493fcf1cf3fb83c",
       "version_major": 2,
       "version_minor": 0
      },
      "text/plain": [
       "sentencepiece.bpe.model:   0%|          | 0.00/5.07M [00:00<?, ?B/s]"
      ]
     },
     "metadata": {},
     "output_type": "display_data"
    },
    {
     "data": {
      "application/vnd.jupyter.widget-view+json": {
       "model_id": "fc8fbfef7afd40fd8a69ec3d1b715afc",
       "version_major": 2,
       "version_minor": 0
      },
      "text/plain": [
       "tokenizer.json:   0%|          | 0.00/9.10M [00:00<?, ?B/s]"
      ]
     },
     "metadata": {},
     "output_type": "display_data"
    },
    {
     "name": "stderr",
     "output_type": "stream",
     "text": [
      "No sentence-transformers model found with name google/bigbird-roberta-large. Creating a new one with MEAN pooling.\n"
     ]
    },
    {
     "data": {
      "application/vnd.jupyter.widget-view+json": {
       "model_id": "90963c7340364067ab119432cd11da5f",
       "version_major": 2,
       "version_minor": 0
      },
      "text/plain": [
       "config.json:   0%|          | 0.00/758 [00:00<?, ?B/s]"
      ]
     },
     "metadata": {},
     "output_type": "display_data"
    },
    {
     "data": {
      "application/vnd.jupyter.widget-view+json": {
       "model_id": "01b12d121f8c48a4a2a2c96583a85a4a",
       "version_major": 2,
       "version_minor": 0
      },
      "text/plain": [
       "pytorch_model.bin:   0%|          | 0.00/1.44G [00:00<?, ?B/s]"
      ]
     },
     "metadata": {},
     "output_type": "display_data"
    },
    {
     "data": {
      "application/vnd.jupyter.widget-view+json": {
       "model_id": "fd49a9aa24bd4d5cb58bade61d682d73",
       "version_major": 2,
       "version_minor": 0
      },
      "text/plain": [
       "tokenizer_config.json:   0%|          | 0.00/969 [00:00<?, ?B/s]"
      ]
     },
     "metadata": {},
     "output_type": "display_data"
    },
    {
     "data": {
      "application/vnd.jupyter.widget-view+json": {
       "model_id": "b3dfc9da1f644a328e66a8346ead5142",
       "version_major": 2,
       "version_minor": 0
      },
      "text/plain": [
       "spiece.model:   0%|          | 0.00/846k [00:00<?, ?B/s]"
      ]
     },
     "metadata": {},
     "output_type": "display_data"
    },
    {
     "data": {
      "application/vnd.jupyter.widget-view+json": {
       "model_id": "2ac81fa77f2940a1bc08f3bd8e072285",
       "version_major": 2,
       "version_minor": 0
      },
      "text/plain": [
       "special_tokens_map.json:   0%|          | 0.00/775 [00:00<?, ?B/s]"
      ]
     },
     "metadata": {},
     "output_type": "display_data"
    },
    {
     "name": "stderr",
     "output_type": "stream",
     "text": [
      "No sentence-transformers model found with name severinsimmler/xlm-roberta-longformer-large-16384. Creating a new one with MEAN pooling.\n"
     ]
    },
    {
     "data": {
      "application/vnd.jupyter.widget-view+json": {
       "model_id": "54978360f829487f975446af028885e7",
       "version_major": 2,
       "version_minor": 0
      },
      "text/plain": [
       "config.json:   0%|          | 0.00/976 [00:00<?, ?B/s]"
      ]
     },
     "metadata": {},
     "output_type": "display_data"
    },
    {
     "data": {
      "application/vnd.jupyter.widget-view+json": {
       "model_id": "7e0a0bb81dbf4633825f6fcfc8b07f9d",
       "version_major": 2,
       "version_minor": 0
      },
      "text/plain": [
       "model.safetensors:   0%|          | 0.00/2.61G [00:00<?, ?B/s]"
      ]
     },
     "metadata": {},
     "output_type": "display_data"
    },
    {
     "data": {
      "application/vnd.jupyter.widget-view+json": {
       "model_id": "29d95c839c124e2ebeed8bd45ee6d68d",
       "version_major": 2,
       "version_minor": 0
      },
      "text/plain": [
       "tokenizer_config.json:   0%|          | 0.00/420 [00:00<?, ?B/s]"
      ]
     },
     "metadata": {},
     "output_type": "display_data"
    },
    {
     "data": {
      "application/vnd.jupyter.widget-view+json": {
       "model_id": "6bd73e6de1a7423f9a6e2649c2c4a9dd",
       "version_major": 2,
       "version_minor": 0
      },
      "text/plain": [
       "tokenizer.json:   0%|          | 0.00/17.1M [00:00<?, ?B/s]"
      ]
     },
     "metadata": {},
     "output_type": "display_data"
    },
    {
     "data": {
      "application/vnd.jupyter.widget-view+json": {
       "model_id": "862cd2230e25486089ec37c8dd872fd0",
       "version_major": 2,
       "version_minor": 0
      },
      "text/plain": [
       "special_tokens_map.json:   0%|          | 0.00/280 [00:00<?, ?B/s]"
      ]
     },
     "metadata": {},
     "output_type": "display_data"
    },
    {
     "data": {
      "application/vnd.jupyter.widget-view+json": {
       "model_id": "38ea4158585942ebb97e0032b39d5de6",
       "version_major": 2,
       "version_minor": 0
      },
      "text/plain": [
       "Map:   0%|          | 0/160 [00:00<?, ? examples/s]"
      ]
     },
     "metadata": {},
     "output_type": "display_data"
    },
    {
     "name": "stdout",
     "output_type": "stream",
     "text": [
      "Vectorization completed.\n",
      "Beginning article upload...\n",
      "Article upload completed.\n"
     ]
    }
   ],
   "source": [
    "import torch\n",
    "import gc\n",
    "import json\n",
    "\n",
    "def clear_gpu_memory():\n",
    "    \"\"\"Clears GPU memory and forces garbage collection.\"\"\"\n",
    "    torch.cuda.empty_cache()\n",
    "    gc.collect()\n",
    "\n",
    "def process_articles_in_batches(text_analysis_class, method_name, articles, batch_size):\n",
    "    \"\"\"Process articles in batches using the specified text analysis class and method.\"\"\"\n",
    "    processor = text_analysis_class()\n",
    "    method = getattr(processor, method_name)\n",
    "    \n",
    "    for i in range(0, len(articles), batch_size):\n",
    "        batch = articles[i:i + batch_size]\n",
    "        batch = method(batch)\n",
    "        \n",
    "        # Reassign the processed batch back to the main list\n",
    "        articles[i:i + batch_size] = batch\n",
    "        \n",
    "        clear_gpu_memory()  # Clear memory after each batch\n",
    "    \n",
    "    del processor  # Delete the processor instance to free up GPU memory\n",
    "    clear_gpu_memory()\n",
    "\n",
    "# Define your batch size\n",
    "batch_size = len(articles_not_yet_in_db_list_of_dicts)  # Adjust this based on your GPU capacity\n",
    "\n",
    "# Process with Entity Extractor\n",
    "print(\"Starting entity extraction...\")\n",
    "process_articles_in_batches(NEExtractor, 'extract_entities', articles_not_yet_in_db_list_of_dicts, batch_size)\n",
    "print(\"Entity extraction completed.\")\n",
    "\n",
    "# Process with Topic Extractor\n",
    "print(\"Starting topic extraction...\")\n",
    "process_articles_in_batches(TopicExtractor, 'extract_topics', articles_not_yet_in_db_list_of_dicts, batch_size)\n",
    "print(\"Topic extraction completed.\")\n",
    "\n",
    "# Process with Vectorizer\n",
    "print(\"Starting vectorization...\")\n",
    "process_articles_in_batches(Vectorizer, 'vectorize', articles_not_yet_in_db_list_of_dicts, batch_size)\n",
    "print(\"Vectorization completed.\")\n",
    "\n",
    "# Remove main_text and lead_text from articles to save space before uploading\n",
    "for article in articles_not_yet_in_db_list_of_dicts:\n",
    "    article.pop('main_text', None)\n",
    "    article.pop('lead_text', None)\n",
    "\n",
    "# Upload each article to the database\n",
    "print(\"Beginning article upload...\")\n",
    "responses = []\n",
    "keycloak_login = KeycloakLogin()\n",
    "token = keycloak_login.return_token()\n",
    "data_uploader = DataUploader(token)\n",
    "\n",
    "for article in articles_not_yet_in_db_list_of_dicts:\n",
    "    response = data_uploader.post_content(article)\n",
    "    responses.append(response)\n",
    "\n",
    "# Save the responses to a JSON file\n",
    "with open('responses.json', 'w') as f:\n",
    "    json.dump(responses, f)\n",
    "\n",
    "print(\"Article upload completed.\")\n"
   ]
  },
  {
   "cell_type": "code",
   "execution_count": null,
   "id": "86cd1498-12b3-4ca6-8352-67a119bfc8af",
   "metadata": {},
   "outputs": [],
   "source": []
  },
  {
   "cell_type": "code",
   "execution_count": null,
   "id": "1b3c47e2-ca46-44dd-8457-90bc4de266b1",
   "metadata": {},
   "outputs": [],
   "source": []
  },
  {
   "cell_type": "code",
   "execution_count": null,
   "id": "9e0f3e1e-6c4f-4bd6-868d-875b22965348",
   "metadata": {},
   "outputs": [],
   "source": [
    "#for i in range(iterations):\n",
    "#    print(\"Processing articles\", i*articles_per_iteration, \"to\", (i+1)*articles_per_iteration, \"from\", len(articles_not_yet_in_db_list_of_dicts))\n",
    "#    # Get the articles for this iteration\n",
    "#    articles = spiegel_articles_not_yet_in_db_list_of_dicts[i*articles_per_iteration:(i+1)*articles_per_iteration]#\n",
    "#\n",
    "#    print(\"Running text processing on articles\", i*articles_per_iteration, \"to\", (i+1)*articles_per_iteration, \"from\", len(articles_not_yet_in_db_list_of_dicts))\n",
    "    # Add the summaries, named entities, topics, and vectors to the articles dict\n",
    "    #articles = summarizer.summarize(articles)\n",
    "#    articles = entity_extractor.extract_entities(articles)\n",
    "#    articles = topic_extractor.extract_topics(articles)\n",
    "#    articles = vectorizer.vectorize(articles)\n",
    "\n",
    "    # Remove main_text and lead_text from articles\n",
    "#    for article in articles:\n",
    "#        article.pop('main_text', None)\n",
    "#        article.pop('lead_text', None)\n",
    "        \n",
    "#    print(\"Uploading articles\", i*articles_per_iteration, \"to\", (i+1)*articles_per_iteration, \"from\", len(articles_not_yet_in_db_list_of_dicts))\n",
    "    # Ensure that the token is still valid every n iterations\n",
    "    # TODO: Tell Mario chuncking was done because I get a new token every 30 uploads to make sure the token is always valid\n",
    "    # if we do that every 1 upload that takes much longer since it takes ~20 seconds to get a net token/ensure the token is valid#\n",
    "#    keycloak_login = KeycloakLogin()\n",
    "#    token = keycloak_login.return_token()\n",
    "    \n",
    "    # Loop over articles and put every article into the database\n",
    "#    data_uploader = DataUploader(token)\n",
    "    \n",
    "#    for article in articles:\n",
    "#        response = data_uploader.post_content(article)\n",
    "#        responses.append(response)\n",
    "    \n",
    "#    print(\"Processed and uploaded articles\", i*articles_per_iteration, \"to\", (i+1)*articles_per_iteration, \"from\", len(articles_not_yet_in_db_list_of_dicts))\n",
    "    \n",
    "        \n",
    "    # save the responses to a json file\n",
    "#    with open('responses.json', 'w') as f:\n",
    "#        json.dump(responses, f)"
   ]
  }
 ],
 "metadata": {
  "kernelspec": {
   "display_name": "Python 3",
   "language": "python",
   "name": "python3"
  },
  "language_info": {
   "codemirror_mode": {
    "name": "ipython",
    "version": 3
   },
   "file_extension": ".py",
   "mimetype": "text/x-python",
   "name": "python",
   "nbconvert_exporter": "python",
   "pygments_lexer": "ipython3",
   "version": "3.9.19"
  }
 },
 "nbformat": 4,
 "nbformat_minor": 5
}
