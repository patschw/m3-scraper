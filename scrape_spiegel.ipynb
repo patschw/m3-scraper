{
 "cells": [
  {
   "cell_type": "code",
   "execution_count": 1,
   "id": "3ba7eecf-dfea-4544-8596-179dfd687634",
   "metadata": {
    "tags": []
   },
   "outputs": [
    {
     "name": "stderr",
     "output_type": "stream",
     "text": [
      "c:\\Users\\ra76lax\\AppData\\Local\\anaconda3\\envs\\python_m3_scrapers\\lib\\site-packages\\transformers\\utils\\generic.py:441: UserWarning: torch.utils._pytree._register_pytree_node is deprecated. Please use torch.utils._pytree.register_pytree_node instead.\n",
      "  _torch_pytree._register_pytree_node(\n",
      "c:\\Users\\ra76lax\\AppData\\Local\\anaconda3\\envs\\python_m3_scrapers\\lib\\site-packages\\transformers\\utils\\generic.py:309: UserWarning: torch.utils._pytree._register_pytree_node is deprecated. Please use torch.utils._pytree.register_pytree_node instead.\n",
      "  _torch_pytree._register_pytree_node(\n"
     ]
    }
   ],
   "source": [
    "from database_handling.DataDownload import DataDownloader\n",
    "from database_handling.DataHandleAndOtherHelpers import DataHandler\n",
    "from database_handling.DataUpload import DataUploader\n",
    "from database_handling.DataDelete import DataDeleter\n",
    "from database_handling.KeycloakLogin import KeycloakLogin\n",
    "from scrapers.SpiegelScraper import SpiegelScraper\n",
    "from text_analysis.NEExtractor import NEExtractor\n",
    "from text_analysis.Summarizer import Summarizer\n",
    "from text_analysis.TopicExtractor import TopicExtractor\n",
    "from text_analysis.Vectorizers import Vectorizer\n",
    "\n",
    "import transformers\n",
    "import json\n",
    "import gc\n",
    "import torch\n",
    "import logging"
   ]
  },
  {
   "cell_type": "code",
   "execution_count": 6,
   "id": "9fac4c17",
   "metadata": {},
   "outputs": [],
   "source": [
    "# Suppress all logging below CRITICAL level\n",
    "logging.basicConfig(level=logging.DEBUG)"
   ]
  },
  {
   "cell_type": "code",
   "execution_count": 7,
   "id": "42678f9a",
   "metadata": {},
   "outputs": [],
   "source": [
    "scraper = SpiegelScraper(headless=False)"
   ]
  },
  {
   "cell_type": "code",
   "execution_count": 8,
   "id": "fbf8bcb2-8784-4df6-91cb-d42ded91c329",
   "metadata": {},
   "outputs": [
    {
     "name": "stderr",
     "output_type": "stream",
     "text": [
      "INFO:scrapers.BaseScraper:Navigated to https://gruppenkonto.spiegel.de/anmelden.html\n",
      "INFO:scrapers.BaseScraper:Input text successfully entered into the field.\n",
      "INFO:scrapers.BaseScraper:Input text successfully entered into the field.\n",
      "INFO:scrapers.BaseScraper:Navigated to https://www.spiegel.de/\n",
      "INFO:scrapers.SpiegelScraper:Login successful.\n"
     ]
    }
   ],
   "source": [
    "scraper.start_browser()\n",
    "scraper.login()"
   ]
  },
  {
   "cell_type": "code",
   "execution_count": 9,
   "id": "2bb69d61",
   "metadata": {},
   "outputs": [
    {
     "name": "stderr",
     "output_type": "stream",
     "text": [
      "INFO:scrapers.BaseScraper:Navigated to https://www.spiegel.de/\n",
      "INFO:scrapers.BaseScraper:Found 264 article URLs on the current page: https://www.spiegel.de/\n",
      "INFO:scrapers.BaseScraper:Navigated to https://www.spiegel.de/fuermich/\n",
      "INFO:scrapers.BaseScraper:Found 6 article URLs on the current page: https://www.spiegel.de/fuermich/\n",
      "INFO:scrapers.BaseScraper:Navigated to https://www.spiegel.de/schlagzeilen/\n",
      "INFO:scrapers.BaseScraper:Found 304 article URLs on the current page: https://www.spiegel.de/schlagzeilen/\n",
      "INFO:scrapers.BaseScraper:Navigated to https://www.spiegel.de/spiegel/\n",
      "INFO:scrapers.BaseScraper:Found 6 article URLs on the current page: https://www.spiegel.de/spiegel/print/index-2024-36.html\n",
      "INFO:scrapers.BaseScraper:Navigated to https://www.spiegel.de/audio/\n",
      "INFO:scrapers.BaseScraper:Found 36 article URLs on the current page: https://www.spiegel.de/audio/\n",
      "INFO:scrapers.BaseScraper:Navigated to https://www.spiegel.de/fuermich/\n",
      "INFO:scrapers.BaseScraper:Found 6 article URLs on the current page: https://www.spiegel.de/fuermich/\n",
      "INFO:scrapers.BaseScraper:Navigated to https://www.spiegel.de/schlagzeilen/\n",
      "INFO:scrapers.BaseScraper:Found 303 article URLs on the current page: https://www.spiegel.de/schlagzeilen/\n",
      "INFO:scrapers.BaseScraper:Navigated to https://www.spiegel.de/plus/\n",
      "INFO:scrapers.BaseScraper:Found 80 article URLs on the current page: https://www.spiegel.de/plus/\n",
      "INFO:scrapers.BaseScraper:Navigated to https://www.spiegel.de/ausland/\n",
      "INFO:scrapers.BaseScraper:Found 68 article URLs on the current page: https://www.spiegel.de/ausland/\n",
      "INFO:scrapers.BaseScraper:Navigated to https://www.spiegel.de/panorama/\n",
      "INFO:scrapers.BaseScraper:Found 72 article URLs on the current page: https://www.spiegel.de/panorama/\n",
      "INFO:scrapers.BaseScraper:Navigated to https://www.spiegel.de/sport/\n",
      "INFO:scrapers.BaseScraper:Found 80 article URLs on the current page: https://www.spiegel.de/sport/\n",
      "INFO:scrapers.BaseScraper:Navigated to https://www.spiegel.de/wirtschaft/\n",
      "INFO:scrapers.BaseScraper:Found 58 article URLs on the current page: https://www.spiegel.de/wirtschaft/\n",
      "INFO:scrapers.BaseScraper:Navigated to https://www.spiegel.de/wissenschaft/\n",
      "INFO:scrapers.BaseScraper:Found 57 article URLs on the current page: https://www.spiegel.de/wissenschaft/\n",
      "INFO:scrapers.BaseScraper:Navigated to https://www.spiegel.de/netzwelt/\n",
      "INFO:scrapers.BaseScraper:Found 51 article URLs on the current page: https://www.spiegel.de/netzwelt/\n",
      "INFO:scrapers.BaseScraper:Navigated to https://www.spiegel.de/kultur/\n",
      "INFO:scrapers.BaseScraper:Found 60 article URLs on the current page: https://www.spiegel.de/kultur/\n",
      "INFO:scrapers.BaseScraper:Navigated to https://www.spiegel.de/karriere/\n",
      "INFO:scrapers.BaseScraper:Found 69 article URLs on the current page: https://www.spiegel.de/karriere/\n",
      "INFO:scrapers.BaseScraper:Navigated to https://www.spiegel.de/start/\n",
      "INFO:scrapers.BaseScraper:Found 81 article URLs on the current page: https://www.spiegel.de/start/\n",
      "INFO:scrapers.BaseScraper:Navigated to https://www.spiegel.de/tests/\n",
      "INFO:scrapers.BaseScraper:Found 234 article URLs on the current page: https://www.spiegel.de/tests/\n",
      "INFO:scrapers.BaseScraper:Navigated to https://www.spiegel.de/geschichte/\n",
      "INFO:scrapers.BaseScraper:Found 188 article URLs on the current page: https://www.spiegel.de/geschichte/\n",
      "INFO:scrapers.BaseScraper:Navigated to https://www.spiegel.de/auto/\n",
      "INFO:scrapers.BaseScraper:Found 58 article URLs on the current page: https://www.spiegel.de/auto/\n",
      "INFO:scrapers.BaseScraper:Navigated to https://www.spiegel.de/audio/\n",
      "INFO:scrapers.BaseScraper:Found 36 article URLs on the current page: https://www.spiegel.de/audio/\n",
      "INFO:scrapers.BaseScraper:Navigated to https://www.spiegel.de/video/\n",
      "INFO:scrapers.BaseScraper:Found 235 article URLs on the current page: https://www.spiegel.de/video/\n",
      "INFO:scrapers.BaseScraper:Navigated to https://www.spiegel.de/debatten/\n",
      "INFO:scrapers.BaseScraper:Found 7 article URLs on the current page: https://www.spiegel.de/debatten/\n",
      "INFO:scrapers.BaseScraper:Navigated to https://www.spiegel.de/deinspiegel/\n",
      "INFO:scrapers.BaseScraper:Found 81 article URLs on the current page: https://www.spiegel.de/deinspiegel/\n",
      "INFO:scrapers.BaseScraper:Navigated to https://www.spiegel.de/international/\n",
      "INFO:scrapers.BaseScraper:Found 73 article URLs on the current page: https://www.spiegel.de/international/\n",
      "INFO:scrapers.BaseScraper:Navigated to https://www.spiegel.de/schlagzeilen/\n",
      "INFO:scrapers.BaseScraper:Found 304 article URLs on the current page: https://www.spiegel.de/schlagzeilen/\n",
      "INFO:scrapers.BaseScraper:Navigated to https://www.spiegel.de/audio/\n",
      "INFO:scrapers.BaseScraper:Found 36 article URLs on the current page: https://www.spiegel.de/audio/\n",
      "INFO:scrapers.BaseScraper:Navigated to https://www.spiegel.de/audio/\n",
      "INFO:scrapers.BaseScraper:Found 36 article URLs on the current page: https://www.spiegel.de/audio/\n",
      "INFO:scrapers.BaseScraper:Navigated to https://www.spiegel.de/audio/\n",
      "INFO:scrapers.BaseScraper:Found 36 article URLs on the current page: https://www.spiegel.de/audio/\n",
      "INFO:scrapers.BaseScraper:Navigated to https://www.spiegel.de/plus/\n",
      "INFO:scrapers.BaseScraper:Found 80 article URLs on the current page: https://www.spiegel.de/plus/\n",
      "INFO:scrapers.BaseScraper:Navigated to https://www.spiegel.de/plus/\n",
      "INFO:scrapers.BaseScraper:Found 80 article URLs on the current page: https://www.spiegel.de/plus/\n",
      "INFO:scrapers.BaseScraper:Navigated to https://www.spiegel.de/plus/\n",
      "INFO:scrapers.BaseScraper:Found 80 article URLs on the current page: https://www.spiegel.de/plus/\n",
      "INFO:scrapers.BaseScraper:Navigated to https://www.spiegel.de/plus/\n",
      "INFO:scrapers.BaseScraper:Found 80 article URLs on the current page: https://www.spiegel.de/plus/\n",
      "INFO:scrapers.BaseScraper:Navigated to https://www.spiegel.de/plus/\n",
      "INFO:scrapers.BaseScraper:Found 80 article URLs on the current page: https://www.spiegel.de/plus/\n",
      "INFO:scrapers.BaseScraper:Navigated to https://www.spiegel.de/plus/\n",
      "INFO:scrapers.BaseScraper:Found 80 article URLs on the current page: https://www.spiegel.de/plus/\n",
      "INFO:scrapers.BaseScraper:Navigated to https://www.spiegel.de/video/\n",
      "INFO:scrapers.BaseScraper:Found 235 article URLs on the current page: https://www.spiegel.de/video/\n",
      "INFO:scrapers.BaseScraper:Navigated to https://www.spiegel.de/video/\n",
      "INFO:scrapers.BaseScraper:Found 235 article URLs on the current page: https://www.spiegel.de/video/\n",
      "INFO:scrapers.BaseScraper:Navigated to https://www.spiegel.de/video/\n",
      "INFO:scrapers.BaseScraper:Found 235 article URLs on the current page: https://www.spiegel.de/video/\n",
      "INFO:scrapers.BaseScraper:Navigated to https://www.spiegel.de/politik/\n",
      "INFO:scrapers.BaseScraper:Found 60 article URLs on the current page: https://www.spiegel.de/politik/\n",
      "INFO:scrapers.BaseScraper:Navigated to https://www.spiegel.de/ausland/\n",
      "INFO:scrapers.BaseScraper:Found 68 article URLs on the current page: https://www.spiegel.de/ausland/\n",
      "INFO:scrapers.BaseScraper:Navigated to https://www.spiegel.de/panorama/\n",
      "INFO:scrapers.BaseScraper:Found 72 article URLs on the current page: https://www.spiegel.de/panorama/\n",
      "INFO:scrapers.BaseScraper:Navigated to https://www.spiegel.de/wissenschaft/\n",
      "INFO:scrapers.BaseScraper:Found 57 article URLs on the current page: https://www.spiegel.de/wissenschaft/\n",
      "INFO:scrapers.BaseScraper:Navigated to https://www.spiegel.de/wirtschaft/\n",
      "INFO:scrapers.BaseScraper:Found 58 article URLs on the current page: https://www.spiegel.de/wirtschaft/\n",
      "INFO:scrapers.BaseScraper:Navigated to https://www.spiegel.de/sport/\n",
      "INFO:scrapers.BaseScraper:Found 80 article URLs on the current page: https://www.spiegel.de/sport/\n",
      "INFO:scrapers.BaseScraper:Navigated to https://www.spiegel.de/netzwelt/\n",
      "INFO:scrapers.BaseScraper:Found 51 article URLs on the current page: https://www.spiegel.de/netzwelt/\n",
      "INFO:scrapers.BaseScraper:Navigated to https://www.spiegel.de/kultur/\n",
      "INFO:scrapers.BaseScraper:Found 60 article URLs on the current page: https://www.spiegel.de/kultur/\n",
      "INFO:scrapers.BaseScraper:Navigated to https://www.spiegel.de/karriere/\n",
      "INFO:scrapers.BaseScraper:Found 69 article URLs on the current page: https://www.spiegel.de/karriere/\n",
      "INFO:scrapers.BaseScraper:Navigated to https://www.spiegel.de/start/\n",
      "INFO:scrapers.BaseScraper:Found 81 article URLs on the current page: https://www.spiegel.de/start/\n",
      "INFO:scrapers.BaseScraper:Navigated to https://www.spiegel.de/geschichte/\n",
      "INFO:scrapers.BaseScraper:Found 188 article URLs on the current page: https://www.spiegel.de/geschichte/\n",
      "INFO:scrapers.BaseScraper:Navigated to https://www.spiegel.de/tests/\n",
      "INFO:scrapers.BaseScraper:Found 234 article URLs on the current page: https://www.spiegel.de/tests/\n",
      "INFO:scrapers.BaseScraper:Navigated to https://www.spiegel.de/auto/\n",
      "INFO:scrapers.BaseScraper:Found 58 article URLs on the current page: https://www.spiegel.de/auto/\n",
      "INFO:scrapers.BaseScraper:Navigated to https://www.spiegel.de/gesundheit/\n",
      "INFO:scrapers.BaseScraper:Found 60 article URLs on the current page: https://www.spiegel.de/gesundheit/\n",
      "INFO:scrapers.BaseScraper:Navigated to https://www.spiegel.de/psychologie/\n",
      "INFO:scrapers.BaseScraper:Found 64 article URLs on the current page: https://www.spiegel.de/psychologie/\n",
      "INFO:scrapers.BaseScraper:Navigated to https://www.spiegel.de/familie/\n",
      "INFO:scrapers.BaseScraper:Found 60 article URLs on the current page: https://www.spiegel.de/familie/\n",
      "INFO:scrapers.BaseScraper:Navigated to https://www.spiegel.de/partnerschaft/\n",
      "INFO:scrapers.BaseScraper:Found 62 article URLs on the current page: https://www.spiegel.de/partnerschaft/\n",
      "INFO:scrapers.BaseScraper:Navigated to https://www.spiegel.de/reise/\n",
      "INFO:scrapers.BaseScraper:Found 51 article URLs on the current page: https://www.spiegel.de/reise/\n",
      "INFO:scrapers.BaseScraper:Navigated to https://www.spiegel.de/stil/\n",
      "INFO:scrapers.BaseScraper:Found 57 article URLs on the current page: https://www.spiegel.de/stil/\n",
      "INFO:scrapers.BaseScraper:Navigated to https://www.spiegel.de/deinspiegel/\n",
      "INFO:scrapers.BaseScraper:Found 81 article URLs on the current page: https://www.spiegel.de/deinspiegel/\n",
      "INFO:scrapers.BaseScraper:Navigated to https://www.spiegel.de/tests/\n",
      "INFO:scrapers.BaseScraper:Found 234 article URLs on the current page: https://www.spiegel.de/tests/\n",
      "INFO:scrapers.BaseScraper:Navigated to https://www.spiegel.de/tests/\n",
      "INFO:scrapers.BaseScraper:Found 234 article URLs on the current page: https://www.spiegel.de/tests/\n",
      "INFO:scrapers.BaseScraper:Navigated to https://www.spiegel.de/tests/\n",
      "INFO:scrapers.BaseScraper:Found 234 article URLs on the current page: https://www.spiegel.de/tests/\n",
      "INFO:scrapers.BaseScraper:Navigated to https://www.spiegel.de/deinspiegel/\n",
      "INFO:scrapers.BaseScraper:Found 81 article URLs on the current page: https://www.spiegel.de/deinspiegel/\n",
      "INFO:scrapers.BaseScraper:Navigated to https://www.spiegel.de/services/\n",
      "INFO:scrapers.BaseScraper:Found 18 article URLs on the current page: https://www.spiegel.de/services/\n",
      "INFO:scrapers.BaseScraper:Navigated to https://www.spiegel.de/schlagzeilen/\n",
      "INFO:scrapers.BaseScraper:Found 304 article URLs on the current page: https://www.spiegel.de/schlagzeilen/\n",
      "INFO:scrapers.BaseScraper:Navigated to https://www.spiegel.de/debatten/\n",
      "INFO:scrapers.BaseScraper:Found 7 article URLs on the current page: https://www.spiegel.de/debatten/\n",
      "INFO:scrapers.BaseScraper:Navigated to https://www.spiegel.de/plus/\n",
      "INFO:scrapers.BaseScraper:Found 80 article URLs on the current page: https://www.spiegel.de/plus/\n",
      "INFO:scrapers.BaseScraper:Navigated to https://www.spiegel.de/ausland/\n",
      "INFO:scrapers.BaseScraper:Found 68 article URLs on the current page: https://www.spiegel.de/ausland/\n",
      "INFO:scrapers.BaseScraper:Navigated to https://www.spiegel.de/panorama/\n",
      "INFO:scrapers.BaseScraper:Found 72 article URLs on the current page: https://www.spiegel.de/panorama/\n",
      "INFO:scrapers.BaseScraper:Navigated to https://www.spiegel.de/sport/\n",
      "INFO:scrapers.BaseScraper:Found 80 article URLs on the current page: https://www.spiegel.de/sport/\n",
      "INFO:scrapers.BaseScraper:Navigated to https://www.spiegel.de/wirtschaft/\n",
      "INFO:scrapers.BaseScraper:Found 58 article URLs on the current page: https://www.spiegel.de/wirtschaft/\n",
      "INFO:scrapers.BaseScraper:Navigated to https://www.spiegel.de/wissenschaft/\n",
      "INFO:scrapers.BaseScraper:Found 57 article URLs on the current page: https://www.spiegel.de/wissenschaft/\n",
      "INFO:scrapers.BaseScraper:Navigated to https://www.spiegel.de/netzwelt/\n",
      "INFO:scrapers.BaseScraper:Found 51 article URLs on the current page: https://www.spiegel.de/netzwelt/\n",
      "INFO:scrapers.BaseScraper:Navigated to https://www.spiegel.de/kultur/\n",
      "INFO:scrapers.BaseScraper:Found 60 article URLs on the current page: https://www.spiegel.de/kultur/\n",
      "INFO:scrapers.BaseScraper:Navigated to https://www.spiegel.de/reise/\n",
      "INFO:scrapers.BaseScraper:Found 51 article URLs on the current page: https://www.spiegel.de/reise/\n",
      "INFO:scrapers.BaseScraper:Navigated to https://www.spiegel.de/stil/\n",
      "INFO:scrapers.BaseScraper:Found 57 article URLs on the current page: https://www.spiegel.de/stil/\n",
      "INFO:scrapers.BaseScraper:Navigated to https://www.spiegel.de/gesundheit/\n",
      "INFO:scrapers.BaseScraper:Found 60 article URLs on the current page: https://www.spiegel.de/gesundheit/\n",
      "INFO:scrapers.BaseScraper:Navigated to https://www.spiegel.de/familie/\n",
      "INFO:scrapers.BaseScraper:Found 60 article URLs on the current page: https://www.spiegel.de/familie/\n",
      "INFO:scrapers.BaseScraper:Navigated to https://www.spiegel.de/psychologie/\n",
      "INFO:scrapers.BaseScraper:Found 64 article URLs on the current page: https://www.spiegel.de/psychologie/\n",
      "INFO:scrapers.BaseScraper:Navigated to https://www.spiegel.de/karriere/\n",
      "INFO:scrapers.BaseScraper:Found 69 article URLs on the current page: https://www.spiegel.de/karriere/\n",
      "INFO:scrapers.BaseScraper:Navigated to https://www.spiegel.de/start/\n",
      "INFO:scrapers.BaseScraper:Found 81 article URLs on the current page: https://www.spiegel.de/start/\n",
      "INFO:scrapers.BaseScraper:Navigated to https://www.spiegel.de/geschichte/\n",
      "INFO:scrapers.BaseScraper:Found 188 article URLs on the current page: https://www.spiegel.de/geschichte/\n",
      "INFO:scrapers.BaseScraper:Navigated to https://www.spiegel.de/auto/\n",
      "INFO:scrapers.BaseScraper:Found 58 article URLs on the current page: https://www.spiegel.de/auto/\n",
      "INFO:scrapers.BaseScraper:Navigated to https://www.spiegel.de/international/\n",
      "INFO:scrapers.BaseScraper:Found 73 article URLs on the current page: https://www.spiegel.de/international/\n",
      "INFO:scrapers.BaseScraper:Navigated to https://www.spiegel.de/deinspiegel/\n",
      "INFO:scrapers.BaseScraper:Found 81 article URLs on the current page: https://www.spiegel.de/deinspiegel/\n",
      "INFO:scrapers.BaseScraper:Navigated to https://www.spiegel.de/audio/\n",
      "INFO:scrapers.BaseScraper:Found 36 article URLs on the current page: https://www.spiegel.de/audio/\n",
      "INFO:scrapers.BaseScraper:Navigated to https://www.spiegel.de/video/\n",
      "INFO:scrapers.BaseScraper:Found 235 article URLs on the current page: https://www.spiegel.de/video/\n",
      "INFO:scrapers.BaseScraper:Navigated to https://www.spiegel.de/tests/\n",
      "INFO:scrapers.BaseScraper:Found 234 article URLs on the current page: https://www.spiegel.de/tests/\n",
      "INFO:scrapers.BaseScraper:Navigated to https://www.spiegel.de/backstage/\n",
      "INFO:scrapers.BaseScraper:Found 66 article URLs on the current page: https://www.spiegel.de/backstage/\n",
      "INFO:scrapers.BaseScraper:Navigated to https://www.spiegel.de/services/\n",
      "INFO:scrapers.BaseScraper:Found 18 article URLs on the current page: https://www.spiegel.de/services/\n",
      "INFO:scrapers.BaseScraper:Navigated to https://www.spiegel.de/nachrichtenarchiv/\n",
      "INFO:scrapers.BaseScraper:Found 43 article URLs on the current page: https://www.spiegel.de/nachrichtenarchiv/\n"
     ]
    }
   ],
   "source": [
    "all_found_urls = scraper.get_article_urls()\n"
   ]
  },
  {
   "cell_type": "code",
   "execution_count": 10,
   "id": "6185622d",
   "metadata": {},
   "outputs": [
    {
     "data": {
      "text/plain": [
       "['https://www.spiegel.de/partnerschaft/prostitution-im-alter-mit-escort-die-rente-aufbessern-a-a2bbcabe-75ef-495a-a4c3-893d525e9d20',\n",
       " 'https://www.spiegel.de/panorama/gesellschaft/sylt-punk-protestcamp-geht-zu-ende-a-53872687-5324-4489-af54-ac73bd9ac96b',\n",
       " 'https://www.spiegel.de/geschichte/mumie-aus-dem-eis-die-akte-oetzi-ein-mord-auf-dem-gletscher-a-bfecd185-b6c3-4045-946b-830742902fd0',\n",
       " 'https://www.spiegel.de/international/world/the-campaign-in-the-u-s-dont-write-off-america-a-6a56ceec-b890-427b-ba95-6a4ead075d67',\n",
       " 'https://www.spiegel.de/tests/elektronik/senioren-smartphones-im-test-modelle-von-gigaset-doro-emporia-amplicomms-und-das-einfachfon-a-89db4248-a2bc-46d0-85c5-a282318eff72',\n",
       " 'https://www.spiegel.de/sport/paralympics-2024-laeufer-jaryd-clifford-verliert-bronze-weil-er-zu-frueh-gejubelt-hat-a-0c121591-537c-4e6d-bce5-1714f07fa8ab',\n",
       " 'https://www.spiegel.de/tests/kueche/messerschaerfer-von-tormek-f-dick-horl-und-graef-im-test-a-8fced4c9-5826-4e8f-9d9d-e8ed6cf4ea76',\n",
       " 'https://www.spiegel.de/ausland/ukraine-krieg-die-russen-haben-das-momentum-podcast-a-d2ad130a-cae7-4b8d-a8f0-5bf80e3c593a',\n",
       " 'https://www.spiegel.de/auto/nahverkehr-mit-fahrermangel-wenn-studenten-die-strassenbahn-steuern-a-8d538133-0383-4a5a-8335-1b62291a2f70',\n",
       " 'https://www.spiegel.de/karriere/new-york-city-mann-verklagt-arbeitgeber-nach-pinkel-vorfall-in-hotel-a-fa07982c-2a1b-4b4a-8ce7-65f8e6b2d79c',\n",
       " 'https://www.spiegel.de/tests/camping/powerstations-von-anker-ecoflow-und-jackery-im-test-a-f407e640-393c-4718-9a99-29dde99f54e5',\n",
       " 'https://www.spiegel.de/netzwelt/web/deutsche-flugsicherung-wurde-ziel-von-hackerangriff-buerokommunikation-betroffen-a-34b98e09-f17a-4fe1-baaa-5c461df93ac6',\n",
       " 'https://www.spiegel.de/netzwelt/netzpolitik/glasfaser-ausbau-deutschland-bleibt-dsl-land-a-9cb0f51f-e80e-4401-bb1c-0f38332b1eaf',\n",
       " 'https://www.spiegel.de/politik/bundeswehr-milliarden-fuers-militaer-wie-steht-es-um-die-kriegsfaehigkeit-spiegel-tv-a-fcf7a115-1fab-4dbd-944b-9e3327f54cff',\n",
       " 'https://www.spiegel.de/ausland/wladimir-putin-russischer-praesident-reist-trotz-haftbefehls-in-die-mongolei-a-401d3964-7fde-4fea-a4f8-1b6288954da8',\n",
       " 'https://www.spiegel.de/deinspiegel/gdl-chef-im-kinder-interview-hatten-sie-beim-bahnstreik-ein-schlechtes-gewissen-herr-weselsky-a-2ed71d9d-9f48-49ea-b2aa-550a047b7e2f',\n",
       " 'https://www.spiegel.de/kultur/wer-wird-millionaer-wird-25-guenther-jauch-nur-zwei-oder-drei-fragen-bitte-a-c586a10a-2782-4882-ada9-f01b02a89b29',\n",
       " 'https://www.spiegel.de/panorama/gesellschaft/prozess-gegen-maddie-verdaechtigen-bezahlkarte-fuer-gefluechtete-horror-haeuser-spiegel-tv-vom-11-03-2024-a-b716f7f9-d44c-4dd8-9f8d-866fe280f5ab',\n",
       " 'https://www.spiegel.de/politik/deutschland/landtagswahl-news-sachsen-thueringen-jetzt-muss-die-cdu-in-thueringen-womoeglich-sogar-mit-den-linken-reden-a-5c47e145-cbc2-4b33-89ec-5de8a10fd134',\n",
       " 'https://www.spiegel.de/geschichte/carsten-brosda-ueber-sein-austauschjahr-in-den-usa-meine-gastmutter-war-froh-ueber-die-todesstrafe-a-cf81a069-9725-4986-b94c-7f7efc36841a',\n",
       " 'https://www.spiegel.de/geschichte/zeitreise-der-spiegel-vor-50-jahren-was-will-theo-in-lodz-a-e15e2a4f-31d1-4e93-99d9-4a42772009f7',\n",
       " 'https://www.spiegel.de/netzwelt/web/telefonbetrug-80-jaehriger-faehrt-mutmasslichen-betrueger-zur-polizei-a-bd165826-1c2f-4132-9805-8479a1ebe085',\n",
       " 'https://www.spiegel.de/reise/europa/zimmer-und-camping-in-albanien-die-schoensten-bauernhof-unterkuenfte-a-60d00837-e4d6-49a4-b20e-25613462a499',\n",
       " 'https://www.spiegel.de/tests/haushalt/stiftung-warentest-das-sind-die-besten-staubsauger-mit-kabel-2024-a-1f1217e5-d9f0-4a47-841e-8518fcb58a5f',\n",
       " 'https://www.spiegel.de/geschichte/die-welle-entzauberung-eines-bestsellers-das-nazi-experiment-das-nie-stattgefunden-hat-a-7a42cbb6-5802-4e3c-a823-caf528982b19',\n",
       " 'https://www.spiegel.de/gesundheit/stiftung-warentest-ueber-mineralwasser-jedes-mineralwasser-hat-seinen-eigenen-charakter-a-e6a30f23-c4fa-4457-8058-e2587f2f2db1',\n",
       " 'https://www.spiegel.de/ausland/israel-wut-und-enttaeuschung-angehoerige-der-hamas-geiseln-fuehlen-sich-im-stich-gelassen-a-a9524a76-58e0-43c3-9e81-acdfc68338a5',\n",
       " 'https://www.spiegel.de/panorama/vorort-von-chicago-vier-tote-durch-schuesse-in-u-bahn-a-8e7965ab-9464-470b-a5d3-b0f30b5ca2d0',\n",
       " 'https://www.spiegel.de/partnerschaft/oben-ohne-wir-koennen-uns-an-den-anblick-von-nackten-frauenbruesten-gewoehnen-a-a27d0e1d-e542-43e3-9b66-88a2fb839c10',\n",
       " 'https://www.spiegel.de/wirtschaft/unternehmen/brics-tuerkei-will-als-erstes-nato-land-mitglied-werden-a-4b333887-db07-4045-a1b0-bcc18a30eba6',\n",
       " 'https://www.spiegel.de/auto/depressionen-nach-einfuehrung-von-umweltzonen-sank-das-risiko-fuer-depressionen-und-angststoerungen-a-217d2a0e-3dfb-4aa7-bd2b-5f4b223da36d',\n",
       " 'https://www.spiegel.de/familie/familiennewsletter-wie-geht-der-urlaub-der-familien-gluecklich-macht-a-9c0ba870-4ca0-4357-aba4-be09323150a2',\n",
       " 'https://www.spiegel.de/deinspiegel/der-zwoelfjaehrige-hannes-stellt-kaese-her-ich-bin-kleinhirte-a-62f279fe-5ced-4371-bbc3-19bbf5871ee8',\n",
       " 'https://www.spiegel.de/psychologie/selbstzweifel-ich-zweifle-an-meiner-wohnung-meinen-freundschaften-an-mir-und-mag-das-a-52abe228-b1d3-475c-8216-bbdcecb420b7',\n",
       " 'https://www.spiegel.de/ausland/hunger-krise-in-namibia-elefantenfleisch-fuer-das-volk-a-c6a27796-60f9-4de9-9d95-69b52ca90b64',\n",
       " 'https://www.spiegel.de/panorama/bildung/kultusminister-laender-sind-nach-digitalpakt-vorschlag-des-bundes-enttaeuscht-a-10b8e057-4e08-4538-99a8-71f8784b4ae5',\n",
       " 'https://www.spiegel.de/sport/olympia/paralympics-2024-radsportlerin-maike-hausberger-gewinnt-gold-im-einzelzeitfahren-a-e8a126e3-9cde-4355-96bb-9ee1dcc869f7',\n",
       " 'https://www.spiegel.de/start/finanzielle-lage-junger-menschen-mehr-als-jeder-dritte-lebt-vom-geld-angehoeriger-a-9bd17dd0-7890-447d-ac2f-4174c5825eff',\n",
       " 'https://www.spiegel.de/wirtschaft/prozessauftakt-gegen-ex-vw-chef-martin-winterkorn-weiss-ist-die-unschuld-a-963c0543-eb0f-409a-99a5-42120cce487c',\n",
       " 'https://www.spiegel.de/ausland/ukraine-russland-krieg-video-zeigt-einsatz-von-brandbomben-gegen-russische-stellung-a-f6c9ae27-1e3f-48d9-9a79-7b04e2f05afe',\n",
       " 'https://www.spiegel.de/community/faq-der-kommentarbereich-auf-spiegel-de-a-1f67663b-fd23-4062-aacb-577a09f67fd3',\n",
       " 'https://www.spiegel.de/geschichte/medienkarriere-des-neandertalers-wie-der-hoehlenmensch-zum-popstar-wurde-a-b90c9fa5-2920-4647-bafb-88831bf27c50',\n",
       " 'https://www.spiegel.de/wirtschaft/unternehmen/nvidia-boersenwert-bricht-um-279-milliarden-dollar-ein-an-nur-einem-tag-a-8a18ca09-7328-41bb-862b-8cecd6279d8c',\n",
       " 'https://www.spiegel.de/panorama/haifa-vierjaehriger-zerbricht-3500-jahre-alte-amphore-museum-laedt-familie-zu-fuehrung-ein-a-e491dc95-d227-4d1a-a3af-b2ef85f6bb30',\n",
       " 'https://www.spiegel.de/panorama/gesellschaft/spiegel-tv-vom-29-04-2024-jugendkriminalitaet-ladenhueter-e-auto-a-7306184f-d5d6-4be5-b7eb-f5804da24e33',\n",
       " 'https://www.spiegel.de/geschichte/axis-sally-die-betoerende-stimme-der-nazi-propaganda-im-auslandshoerfunk-a-cc0401eb-ab1d-4408-a23c-f5b8b6351e1d',\n",
       " 'https://www.spiegel.de/panorama/buecher-102-jaehriger-ueber-seine-lektuere-im-alter-liest-man-gern-historisches-a-be9ed564-7a5e-44bd-bb4d-33c365536d4d',\n",
       " 'https://www.spiegel.de/karriere/einstellungsuntersuchung-muss-ich-einen-drogentest-machen-um-den-job-zu-bekommen-a-5615a02d-751a-41f6-84a4-2c8fe119ec4b',\n",
       " 'https://www.spiegel.de/kultur/tv/afd-und-mdr-wie-spricht-man-mit-politikern-die-einen-abschaffen-wollen-a-e1cad36f-d810-4cb4-80ba-5b42baa4a248',\n",
       " 'https://www.spiegel.de/wirtschaft/vw-in-der-krise-alarmsignal-fuer-die-autonation-kommentar-a-0c5e49ff-ce56-4d07-8ed2-50f27608d7e4',\n",
       " 'https://www.spiegel.de/politik/menschenschmuggel-unterwegs-mit-der-bundespolizei-spiegel-tv-a-2eb09f48-69f2-4eb3-a6ad-f9b56faaf90c',\n",
       " 'https://www.spiegel.de/netzwelt/gadgets/sonos-ace-so-klingt-der-erste-kopfhoerer-des-lautsprecherspezialisten-a-a20290e7-efa3-4f0a-8478-a6bf35e6ed35',\n",
       " 'https://www.spiegel.de/geschichte/wie-der-mensch-auf-den-hund-kam-vom-wolf-zum-jagdgefaehrten-a-9a983d98-714a-49f4-9ecd-cf993e258c2a',\n",
       " 'https://www.spiegel.de/wissenschaft/oetzi-werkzeuge-weltkriegssoldaten-gletscher-schmelze-gibt-archaeologische-funde-frei-a-ae6ea0db-2738-4c74-a4c9-f81c6ffbaaf3',\n",
       " 'https://www.spiegel.de/ausland/polen-aussenminister-nennt-abschuss-russischer-raketen-pflicht-a-3b40b23e-f42b-415b-8fa3-c8becbd193f3',\n",
       " 'https://www.spiegel.de/politik/reaktion-auf-solingen-attentat-so-will-die-ampel-in-der-migrationspolitik-nachbessern-a-a1838afe-6eb2-4361-8113-6cba79063e10',\n",
       " 'https://www.spiegel.de/politik/deutschland/rechtsextremismus-ja-die-demokratie-siecht-dahin-was-trotzdem-mut-macht-a-c5ececed-f9a9-41eb-960d-40a117a8976c',\n",
       " 'https://www.spiegel.de/panorama/gesellschaft/wohnungsmarkt-das-leid-der-mieter-in-deutschland-spiegel-tv-a-07dd06b2-adf7-46fb-93a9-f8bc5e46adc5',\n",
       " 'https://www.spiegel.de/geschichte/vizepraesidenten-der-usa-bizarre-stellvertreter-im-weissen-haus-a-b16579c4-ddc1-4772-b7df-d0201982cf6e',\n",
       " 'https://www.spiegel.de/international/world/keeping-the-peace-on-camelback-mauritanias-secret-to-stability-a-223fc1f0-c4fe-4483-9815-d6040d659c91',\n",
       " 'https://www.spiegel.de/panorama/harz-in-sachsen-anhalt-17-jaehriger-stuerzt-von-hexentanzplatz-in-den-tod-a-8bc95638-3092-47a1-87e9-002fa5b1d0e3',\n",
       " 'https://www.spiegel.de/politik/deutschland/cdu-in-sachsen-und-thueringen-kai-wegner-attestiert-eigener-partei-glaubwuerdigkeitsproblem-a-d5675490-eb1a-4929-bb4e-02dda42013c1',\n",
       " 'https://www.spiegel.de/geschichte/wer-war-joseph-goebbels-inszenierung-des-fuehrers-und-perfektion-der-ns-propaganda-spiegel-tv-a-91ad8bd0-a33c-41b8-85be-039d32a93dc5',\n",
       " 'https://www.spiegel.de/tests/kueche/geschenk-tipps-die-neuen-kochbuecher-von-christian-rach-steffen-henssler-tim-maelzer-a-1fa7150d-c5ad-42e1-b7e9-7098d13e7ed9',\n",
       " 'https://www.spiegel.de/kultur/samantha-fox-nach-ausraster-in-flugzeug-zu-geldstrafe-verurteilt-a-b1d3e8d1-e0eb-4d48-8574-ae0057db0e8c',\n",
       " 'https://www.spiegel.de/geschichte/jugoliga-in-baden-wuerttemberg-zwei-aeste-als-tor-a-dfc09ec4-0cd4-4c08-a552-1affe80e9f1a',\n",
       " 'https://www.spiegel.de/deinspiegel/podcast-wer-wie-buzz-warum-langeweile-sinnvoll-ist-und-wie-aus-kuh-urin-farbstoff-wird-a-4cbfc620-7305-438b-b063-345b3b46f996',\n",
       " 'https://www.spiegel.de/panorama/die-titanic-zerfaellt-langsam-a-c8fc538f-c1f1-4854-a06b-196750dc1bb1',\n",
       " 'https://www.spiegel.de/sport/fussball/em-2024-christoph-daum-lena-cassel-und-micky-beisenherz-im-spitzengespraech-a-0093005d-420a-408a-8a80-81a226181fb0',\n",
       " 'https://www.spiegel.de/panorama/gesellschaft/spiegel-tv-vom-16-01-2024-bauern-gegen-habeck-inside-gaza-putins-kriegsopfer-a-b5c49ab1-3f8a-4067-a31f-68b6f97d0a40',\n",
       " 'https://www.spiegel.de/familie/erziehung-wie-gehe-ich-mit-uns-hat-es-frueher-auch-nicht-geschadet-grosseltern-um-a-b9002d3d-b64d-4dd4-aff1-003ea559b4f6',\n",
       " 'https://www.spiegel.de/politik/deutschland/spd-wahlniederlagen-juso-chef-tuermer-analysiert-enttaeuschung-der-waehler-a-89940cf3-ac81-4069-b17f-6a3a92db42d6',\n",
       " 'https://www.spiegel.de/auto/olympia-2028-in-los-angeles-die-spiele-sollen-ausgerechnet-in-la-autofrei-werden-a-85611ad5-ca21-4ede-b328-cdee121ca03c',\n",
       " 'https://www.spiegel.de/geschichte/cathy-hummels-ueber-ihr-austauschjahr-in-den-usa-herrscht-mehr-freiheit-im-schulsystem-a-282e6f4e-aa23-43fc-952c-8cb5f83ddb76',\n",
       " 'https://www.spiegel.de/wirtschaft/viertagewoche-was-das-fuer-arbeitnehmer-und-arbeitgeber-bedeutet-a-d879e9cc-7d31-4ee6-93f6-62d961f189b7',\n",
       " 'https://www.spiegel.de/kultur/brad-pitt-hollywood-star-haelt-beim-filmfest-venedig-haendchen-mit-freundin-ines-de-ramon-a-c9ab107b-e4d4-413d-ac1f-dbbc404d10f9',\n",
       " 'https://www.spiegel.de/karriere/arbeitsrecht-wie-viel-zaehlen-krankschreibungen-noch-a-2c9e8276-c462-4763-a080-5cd2df9b634d',\n",
       " 'https://www.spiegel.de/impressum/autor-ec00a102-0d5c-4edf-b0c1-429ef0915a23',\n",
       " 'https://www.spiegel.de/sport/paralympics-2024-tanja-scholz-und-josia-topf-schwimmen-zu-gold-fuer-deutschland-a-6ce1577a-6f0d-45fd-9f07-24ba9ab687e4',\n",
       " 'https://www.spiegel.de/auto/ford-bronco-im-test-die-neuauflage-des-allrad-klassikers-a-bddbd2f3-c375-4bcd-b12d-732c186e8f5b',\n",
       " 'https://www.spiegel.de/politik/deutschland/fdp-warum-christian-lindner-als-parteichef-und-ampelpartner-weitermachen-will-a-01ee1168-9e90-4227-9e23-3d10c7886f2f',\n",
       " 'https://www.spiegel.de/wirtschaft/reisen-als-globaler-wirtschaftsfaktor-touristen-geben-so-viel-geld-aus-wie-noch-nie-a-b68139bc-99f8-46e2-be0f-35426d2a00db',\n",
       " 'https://www.spiegel.de/start/illustratorin-werden-dian-gohring-erzaehlt-wie-man-den-einstieg-findet-und-honorare-verhandelt-a-dac6de42-a88b-4eb1-9ae4-50d200375cd9',\n",
       " 'https://www.spiegel.de/tests/camping/isolierflaschen-modelle-von-yeti-stelton-sigg-stanley-und-kinto-im-test-a-c8ef59d0-ef75-499e-8d77-f2ee043045fb',\n",
       " 'https://www.spiegel.de/international/world/fortress-europe-migrants-abandoned-on-the-edge-of-the-sahara-a-cbec5337-6a3e-49e0-888a-557f81de308f',\n",
       " 'https://www.spiegel.de/ausland/tuerkei-jugendliche-nationalisten-attackieren-zwei-us-soldaten-in-izmir-a-3d0bbc2f-09f9-4138-9d02-59128266af7f',\n",
       " 'https://www.spiegel.de/familie/patientenverfuegung-mein-vater-war-bereit-zu-sterben-ich-war-nicht-bereit-ihn-sterben-zu-lassen-a-d5bc5f52-8485-455b-9a41-9053a999b8f5',\n",
       " 'https://www.spiegel.de/politik/deutschland/thueringen-wahl-wie-das-ergebnis-afd-chef-bjoern-hoecke-hilft-a-10204033-f5e7-4ae4-b152-44a3c3caa3c0',\n",
       " 'https://www.spiegel.de/psychologie/souveraen-entscheidungen-treffen-vanille-oder-schokolade-was-will-ich-eigentlich-a-96e75faf-9a37-4dad-9923-6f70f9f56c13',\n",
       " 'https://www.spiegel.de/politik/wagenknecht-partei-cdu-aussenpolitiker-kiesewetter-fordert-klare-haltung-in-gespraechen-mit-wagenknecht-a-6da7c6e3-f19f-4709-b7f6-4d8765f28fa2',\n",
       " 'https://www.spiegel.de/tests/fahrrad-zubehoer/airtag-halterungen-test-so-wissen-sie-immer-wo-ihr-fahrrad-ist-a-8ac46d18-fb99-4abc-81aa-17fa684ff3ea',\n",
       " 'https://www.spiegel.de/tests/kueche/milchaufschaeumer-im-test-bialetti-cappuccinatore-simpletaste-und-bodum-1446-01-latteo-a-e0546b5d-5aaf-414c-86eb-af6e8a25c60a',\n",
       " 'https://www.spiegel.de/tests/camping/campingstuehle-im-test-dometic-quechua-helinox-nemo-skandika-gci-a-b7a3d01b-fe79-46da-98a7-a2c32313a17f',\n",
       " 'https://www.spiegel.de/international/zeitgeist/der-spiegels-coverage-of-donald-trump-we-have-failed-to-tame-the-media-monster-a-f46ce63b-f71e-4469-ac7a-8a7ed3010e01',\n",
       " 'https://www.spiegel.de/politik/deutschland/landtagswahl-in-sachsen-die-linke-verliert-massiv-an-bsw-afd-punktet-bei-cdu-waehlern-a-70e951e0-096a-41c7-8942-c6c6e312d7e3',\n",
       " 'https://www.spiegel.de/geschichte/minimalistisch-leben-und-minimalismus-eine-kurze-geschichte-der-genuegsamkeit-a-1d5788c2-0038-4dcb-9b13-9f15002b3e89',\n",
       " 'https://www.spiegel.de/ausland/israel-gaza-konflikt-israelisches-militaer-befreit-geisel-nach-326-tagen-in-gefangenschaft-a-456455ba-e0df-49f2-8e72-bc301bc901e0',\n",
       " 'https://www.spiegel.de/politik/deutschland/die-elblandrevolte-der-neonazi-nachwuchs-von-dresden-spiegel-tv-a-9b537213-d1cb-4569-9482-3d286f1a98e8',\n",
       " 'https://www.spiegel.de/deinspiegel/so-wirst-du-kinderreporter-a-b96f8d02-993d-4335-9ad2-ab7d19e971be',\n",
       " 'https://www.spiegel.de/panorama/bildung/niederlande-flaechendeckendes-handyverbot-an-schulen-zur-staerkung-der-konzentrationsfaehigkeit-a-738a3c52-a784-4089-a0ff-60362d33df78',\n",
       " 'https://www.spiegel.de/sport/paralympics-deutsche-sprinterin-irmgard-bensusan-holt-bronze-ueber-200-meter-a-23d4e1e1-4a80-413c-88fe-82fcbb9c1b80',\n",
       " 'https://www.spiegel.de/start/studienstarthilfe-wer-bekommt-sie-wie-beantragt-man-sie-a-50595c58-341a-4f30-9a29-295afd6bf26c',\n",
       " 'https://www.spiegel.de/karriere/gehalt-als-abgeordneter-wofuer-fdp-politiker-muhanad-al-halak-sein-geld-ausgibt-a-2b4ead83-1510-44e7-a551-efb5ae7d1abf',\n",
       " 'https://www.spiegel.de/backstage/fuenf-jahre-spiegel-in-der-analyse-ueber-wen-schreiben-wir-am-meisten-was-wird-am-besten-gelesen-a-11e8f9e6-0ab0-4b74-8996-1b6677cc9b15',\n",
       " 'https://www.spiegel.de/start/mayak-gyeran-drogeneier-fuer-2-20-euro-so-gut-dass-sie-abhaengig-machen-a-817803de-2b90-48ae-bb34-a1c6508afb47',\n",
       " 'https://www.spiegel.de/geschichte/ulrich-wickert-ueber-seine-zeit-in-den-usa-ich-habe-gemerkt-wie-frei-man-sein-kann-a-11e947c2-9f87-4ff2-9717-ded31f07c182',\n",
       " 'https://www.spiegel.de/politik/deutschland/news-thueringen-wahl-sachsen-wahl-bjoern-hoecke-afd-markus-soeder-friedrich-merz-a-38672b41-8226-4a82-933b-8434172cd7f2',\n",
       " 'https://www.spiegel.de/karriere/hobbys-diese-freizeitaktivitaeten-machen-am-gluecklichsten-sagen-forscher-a-1d03c1bf-b3f7-441a-831b-c4d70b2470c5',\n",
       " 'https://www.spiegel.de/international/world/star-economist-acemoglu-discusses-trump-its-likely-to-be-much-worse-now-than-eight-years-ago-a-6b687267-e315-4e0b-aad6-a0cc7a38cbf9',\n",
       " 'https://www.spiegel.de/international/germany/interview-with-german-chancellor-olaf-scholz-pithy-sayings-are-not-part-of-my-approach-to-politics-a-c15390d8-96c2-4714-a371-e960af19ff3e',\n",
       " 'https://www.spiegel.de/sport/fussball/handelfmeter-bei-fc-bayern-muenchen-gegen-sc-freiburg-deutliche-kritik-a-890c594a-41ee-4909-9caa-2d146645c985',\n",
       " 'https://www.spiegel.de/partnerschaft/wohnen-welche-rechte-haben-mieterinnen-und-mieter-podcast-a-a24c9c60-bab9-47f6-ade8-683d3fc7f2cf',\n",
       " 'https://www.spiegel.de/politik/deutschland/migrationstreffen-nach-anschlag-in-solingen-bundesregierung-daempft-erwartungen-a-cc55d4c2-eacc-4c62-ba10-1afb81a3514d',\n",
       " 'https://www.spiegel.de/wirtschaft/service/gehaltsrechner-gehoeren-sie-zu-den-oberen-zehn-prozent-a-f5a19d00-84b3-407f-aff2-bce27e8088cf',\n",
       " 'https://www.spiegel.de/psychologie/spiegel-coaching-souveraen-entscheidungen-treffen-a-3475025f-8d8f-4a53-8416-3184d3c6ccee',\n",
       " 'https://www.spiegel.de/reise/fernweh/suedafrika-drei-auswanderer-erzaehlen-warum-sie-nach-kapstadt-gezogen-sind-a-ba18405c-156e-458e-b0c5-2a3e09951a06',\n",
       " 'https://www.spiegel.de/stil/wein-aus-china-drachenaugen-im-glas-a-c76d76ae-8580-428e-af8a-46481ee0af48',\n",
       " 'https://www.spiegel.de/ausland/israel-gewaltsame-proteste-nach-festnahme-von-soldaten-a-88118dda-464f-4c73-b9dd-b0dc0eee71ef',\n",
       " 'https://www.spiegel.de/auto/dienstwagen-und-dieselsteuer-staat-subventioniert-co-ausstoss-mit-35-8-milliarden-euro-pro-jahr-a-c68334bf-d132-4dee-bf21-a0b47028121e',\n",
       " 'https://www.spiegel.de/politik/deutschland/wahl-in-thueringen-so-finden-cdu-und-linke-vielleicht-doch-noch-zusammen-a-033018bd-d6eb-404f-8b3d-693075a4d65f',\n",
       " 'https://www.spiegel.de/sport/tennis/us-open-serena-williams-wird-zur-motivationskuenstlerin-a-2bddffe7-7099-4d8c-8cc6-8079ccb7e21c',\n",
       " 'https://www.spiegel.de/sport/basketball/eishockey-leon-draisaitl-wird-zum-bestbezahlten-nhl-spieler-a-f01325cf-bc35-41db-bbd9-4b16dbc2fef1',\n",
       " 'https://www.spiegel.de/geschichte/strandurlaub-inspirierte-prominente-zu-meisterwerken-ich-liebe-das-meer-wie-meine-seele-a-27a823cd-5856-4340-b062-adccdf0e4fb5',\n",
       " 'https://www.spiegel.de/politik/deutschland/landtagswahl-in-sachsen-2024-alle-ergebnisse-a-3db0aa0b-04a4-40cf-8617-bfcf60a5f1a3',\n",
       " 'https://www.spiegel.de/politik/israel-gaza-konflikt-baerbock-appelliert-nach-angriffen-auf-hamas-und-hisbollah-zur-maessigung-a-09e143bd-3020-4313-b12e-67ddb6dd7bad',\n",
       " 'https://www.spiegel.de/politik/deutschland/afd-wahlerfolg-in-ostthueringen-hier-haben-rechtsextremisten-die-mehrheit-die-absolute-mehrheit-a-40416fd3-11d6-4e36-8afe-bed747b9a584',\n",
       " 'https://www.spiegel.de/ausland/israels-schlag-gegen-hisbollah-wir-haben-auf-die-angriffe-mit-angriffen-reagiert-a-a8c85715-bbde-4c7b-a80f-aba9e86eaec6',\n",
       " 'https://www.spiegel.de/stil/frauen-in-der-spitzenkueche-ich-wuerde-einer-kueche-immer-anmerken-wenn-eine-frau-am-herd-steht-a-7d976cc7-4bc5-4eff-8593-f9f21b91502c',\n",
       " 'https://www.spiegel.de/ausland/ukraine-krieg-russische-raketen-auf-charkiw-mehr-als-40-verletzte-a-07bf989a-6556-4c7a-bd85-e0fa56f455c0',\n",
       " 'https://www.spiegel.de/tests/kueche/spargel-und-sparschaeler-im-test-haut-ab-a-44dedbf6-d3b9-482f-8017-b41c072ca8e9',\n",
       " 'https://www.spiegel.de/politik/deutschland/news-olaf-scholz-joe-biden-ukraine-wladimir-putin-bjoern-hoecke-a-32b1a1ca-ece8-46cc-a4ed-e8dade6164aa',\n",
       " 'https://www.spiegel.de/wissenschaft/technik/burewestnik-sind-das-startanlagen-fuer-putins-vermeintliche-wunderwaffe-a-a4dfb022-a55e-4fd9-bb5a-9bd42401dc42',\n",
       " 'https://www.spiegel.de/politik/migrationsgipfel-weiteres-treffen-von-ampel-und-laendern-kommende-woche-geplant-a-1d8a871f-9856-4083-adce-3d605160eea7',\n",
       " 'https://www.spiegel.de/politik/deutschland/cannabis-legalisierung-gegenwind-von-medizinern-polizei-justiz-spiegel-tv-a-dc016937-21df-44de-b519-98859351ce00',\n",
       " 'https://www.spiegel.de/deinspiegel/podcast-wer-wie-buzz-was-gegen-muecken-hilft-warum-energy-drinks-nichts-fuer-kinder-sind-a-82786f60-a25e-4948-8a5d-0ad5490fc76b',\n",
       " 'https://www.spiegel.de/politik/deutschland/thueringen-wahl-bsw-schliesst-zusammenarbeit-mit-afd-aus-a-ab248736-ac2d-47c7-8525-71b302d108c2',\n",
       " 'https://www.spiegel.de/tests/kueche/kochbuch-tipps-bretagne-die-spanische-landkueche-und-zu-gast-am-gardasee-a-5c9ed9f1-3452-4da5-9881-b503c2960e62',\n",
       " 'https://www.spiegel.de/gesundheit/alkohol-gesellschaft-fuer-ernaehrung-aendert-empfehlung-am-besten-gar-nicht-trinken-a-bc4dddec-a625-4741-9707-12609cc84f78',\n",
       " 'https://www.spiegel.de/deinspiegel/wissenstest-fuer-kinder-was-waescht-der-waschbaer-a-b71e8cd1-f851-4eeb-ae85-e52584a8b7f7',\n",
       " 'https://www.spiegel.de/stil/kirschlorbeer-wie-boese-ist-er-der-wurm-drin-die-gartenkolumne-a-43b11b1b-f380-435b-96ce-5ea23039473d',\n",
       " 'https://www.spiegel.de/gesundheit/diagnose/laeuse-wie-sie-die-plagegeister-entdecken-und-wieder-loswerden-a-c9be8edf-8f96-471f-b59c-ea9fcd03c040',\n",
       " 'https://www.spiegel.de/stil/feminismus-in-der-stadtplanung-frauen-legen-kuerzere-wege-zurueck-und-schleppen-unglaublich-viel-herum-a-d2212314-8eff-4ffb-ad2d-d78e45cbb461',\n",
       " 'https://www.spiegel.de/reise/europa/nachtzug-reise-von-dresden-nach-istanbul-wie-ich-als-allein-reisende-frau-das-abenteuer-fand-a-dbe75719-0553-4b73-93ff-f45f9f01d090',\n",
       " 'https://www.spiegel.de/tests/elektronik/kinderkopfhoerer-im-test-nur-ein-modell-ueberzeugt-die-stiftung-warentest-a-de831f41-cf34-46c6-a51a-af392140f6e3',\n",
       " 'https://www.spiegel.de/politik/deutschland/islamisten-in-deutschland-religioese-fanatiker-und-ihr-propagandakrieg-a-4e3fab5e-6037-43d3-a608-91dabd682bd9',\n",
       " 'https://www.spiegel.de/gesundheit/blutspenden-drk-warnt-reserven-fast-aufgebraucht-a-26e8e9f8-1efc-4acf-97da-51a8337574fa',\n",
       " 'https://www.spiegel.de/panorama/gesellschaft/anti-afd-protest-in-dippoldiswalde-alle-sagen-man-muesse-den-laendlichen-raum-unterstuetzen-aber-niemand-ist-gekommen-a-780d31f9-7a2f-43e4-8627-1371f53fadd3',\n",
       " 'https://www.spiegel.de/sport/olympia/paralympics-2024-handy-im-boot-ruderer-giacomo-perini-verliert-bronzemedaille-a-b073553d-1c20-4bc7-9a6e-0f401c09c404',\n",
       " 'https://www.spiegel.de/backstage/neue-spiegel-app-was-sie-ab-jetzt-wo-finden-a-5e0eb1d3-99fb-494d-99f5-f261fccdefa6',\n",
       " 'https://www.spiegel.de/tests/katzenfutter-bei-der-stiftung-warentest-feinkost-fuer-vierbeiner-muss-nicht-teuer-sein-a-1f61dde0-5e51-4a46-be68-8d4c387fb434',\n",
       " 'https://www.spiegel.de/wirtschaft/service/billigkredit-jung-kauft-alt-fuer-wen-sich-das-neue-foerderprogramm-lohnt-a-1b75f15e-b3a2-49ab-9ce2-ace590dde46c',\n",
       " 'https://www.spiegel.de/auto/volkswagen-sind-elektroautos-der-grund-fuer-die-krise-des-konzerns-a-2f27cd17-616b-4f4e-907c-d6c3f21e1b89',\n",
       " 'https://www.spiegel.de/panorama/justiz/hamburg-zweijaehriger-stirbt-bei-illegalem-autorennen-fahrer-festgenommen-a-00270362-6b2b-4d7f-a611-12a3b1d5b329',\n",
       " 'https://www.spiegel.de/panorama/gesellschaft/spiegel-tv-vom-29-07-2024-die-helden-der-hamburger-feuerwehr-a-e08edfce-8949-4c09-b6cf-8ed19983d262',\n",
       " 'https://www.spiegel.de/tests/kueche/digitale-kuechenwaagen-im-test-was-modelle-von-wmf-soehnle-zwilling-und-anderen-marken-koennen-a-5d27b855-ab05-4f75-bc48-3d97e9073c12',\n",
       " 'https://www.spiegel.de/auto/cannabis-grenzwerte-im-verkehr-gelten-ab-heute-a-cb848c7d-5c32-4f11-91d7-a8867160b844',\n",
       " 'https://www.spiegel.de/tests/laufschuhe-von-on-adidas-mizuno-und-brooks-im-test-was-bringt-hightech-fuer-die-fuesse-a-be8ed735-4bb5-46d7-81b7-a546543ed6da',\n",
       " 'https://www.spiegel.de/politik/deutschland/afd-erfolg-auf-social-media-warum-die-partei-ohne-rechte-influencer-nicht-vorstellbar-ist-a-dfe5d6b5-bd4b-46c4-9413-67de6ed9b706',\n",
       " 'https://www.spiegel.de/geschichte/der-spiegel-vor-50-jahren-heinrich-boell-und-das-pamphlet-gegen-die-bild-zeitung-a-e5dde7ad-6a8a-41e2-b077-820c70a58d1b',\n",
       " 'https://www.spiegel.de/ausland/israel-gericht-ordnet-ende-des-generalstreiks-nach-tod-von-sechs-geiseln-an-a-cc615fe7-9956-4ba9-9bab-b48fbb0f8f44',\n",
       " 'https://www.spiegel.de/sport/tennis/tennis-iga-swiatek-fuehlt-sich-bei-us-open-von-ted-lasso-unterstuetzt-a-42b45c5f-12e4-4689-8bb6-a7eeebd716b5',\n",
       " 'https://www.spiegel.de/partnerschaft/tag-des-kusses-schmatz-a-590ee6c1-e986-4c69-8e1a-e196a3e522d2',\n",
       " 'https://www.spiegel.de/karriere/raetsel-der-woche-welche-flaeche-hat-der-halbkreis-a-2be0b903-3408-4a66-953e-a1c607299af7',\n",
       " 'https://www.spiegel.de/auto/vw-passat-die-neunte-generation-im-test-ein-riese-im-rueckraum-a-f2e15cfb-363f-4028-8f4c-15db6d97dc2e',\n",
       " 'https://www.spiegel.de/tests/fahrrad-zubehoer/fahrradschuhe-im-test-modelle-von-fizik-crankbrothers-adidas-vaude-chrome-fuer-klick-pedale-und-alltag-a-897672ef-f2da-45f2-a5d5-ce406fba92bd',\n",
       " 'https://www.spiegel.de/gesundheit/aromatherapie-heilung-durch-duefte-zu-schoen-um-wahr-zu-sein-a-4e509090-27ac-4dc9-9a25-d43facb404fe',\n",
       " 'https://www.spiegel.de/start/urlaub-mit-freunden-wie-man-stress-vermeidet-a-8437f6d8-7eb3-4d87-81f8-69f4dc9fb46d',\n",
       " 'https://www.spiegel.de/reise/europa/liechtenstein-niemand-muss-das-fuerstentum-gesehen-haben-oder-a-b4c3f383-0013-4692-ba8d-f109fe9cc0fa',\n",
       " 'https://www.spiegel.de/geschichte/laermbelaestigung-in-ballungszentren-die-nervige-sinfonie-der-grossstadt-a-9f8949fc-15c5-47e9-99a0-289ca136e543',\n",
       " 'https://www.spiegel.de/partnerschaft/kosenamen-in-beziehungen-paartherapeutin-ueber-die-bedeutung-von-mausi-hase-und-baer-a-c924751d-785d-4861-8dca-c0338e62769b',\n",
       " 'https://www.spiegel.de/ausland/iran-schliesst-sabotage-bei-hubschrauberabsturz-von-praesident-ebrahim-raisi-aus-abschlussbericht-a-2f6cb096-29fa-4df3-bf90-fd9aed6f7d94',\n",
       " 'https://www.spiegel.de/psychologie/coaching-souveraen-entscheidungen-treffen-so-ueberwinden-sie-das-ewige-zaudern-a-21ac5433-342e-43bd-8da8-afb21ef2c26e',\n",
       " 'https://www.spiegel.de/politik/deutschland/sachsen-und-thueringen-was-menschen-vor-den-landtagswahlen-wirklich-bewegt-spiegel-tv-a-751984e2-15cd-4904-ae7f-7a12e0e92f24',\n",
       " 'https://www.spiegel.de/panorama/gesellschaft/spiegel-tv-vom-19-02-2024-zwei-jahre-krieg-in-der-ukraine-clan-mitglied-jihad-remmo-vor-gericht-a-070d13bd-b5e8-4abd-89ec-7523cfe6df49',\n",
       " 'https://www.spiegel.de/ausland/kursk-offensive-im-ukraine-krieg-das-haben-die-russen-verdient-a-f842147f-2b8e-4b93-9d16-42b39b2fb626',\n",
       " 'https://www.spiegel.de/politik/olaf-scholz-empfaengt-grossbritanniens-premier-keir-starmer-zu-antrittsbesuch-a-2c373f87-1ab2-4569-82e7-76d63537a739',\n",
       " 'https://www.spiegel.de/tests/fahrrad-zubehoer/rucksaecke-fuer-radfahrer-von-chrome-evoc-deuter-ortlieb-vaude-und-aevor-im-test-a-04cecd3d-7f3e-4ef3-aca8-be39f6102ea3',\n",
       " 'https://www.spiegel.de/wissenschaft/spacex-traegerrakete-falcon-9-darf-wieder-starten-a-027512d6-d877-482b-acf2-bd8d85151c26',\n",
       " 'https://www.spiegel.de/politik/deutschland/schwierige-integration-warum-deutschland-mit-der-zuwanderung-ueberfordert-ist-spiegel-tv-a-3011f413-598e-46e6-8428-f1f5053ee309',\n",
       " 'https://www.spiegel.de/auto/dacia-jogger-mit-sleep-pack-aus-kompaktvan-wird-mini-wohnmobil-a-bc34acf3-d9b4-42b1-a1f6-1f7a55bb0e11',\n",
       " 'https://www.spiegel.de/politik/deutschland/landtagswahl-in-thueringen-2024-alle-ergebnisse-a-bd1d0a7c-e22d-45ce-8961-689a65a0b02a',\n",
       " 'https://www.spiegel.de/sport/paralympics-2024-grosses-fest-in-paris-zur-eroeffnung-der-spiele-lasst-die-naechste-party-beginnen-a-77b1ed9c-1a8b-433a-bf77-fcab71839f27',\n",
       " 'https://www.spiegel.de/panorama/gesellschaft/jagen-fuers-tierwohl-warum-junge-menschen-in-deutschland-einen-jagdschein-machen-a-93f51e1d-7dd1-491c-80d0-fcede6fff186',\n",
       " 'https://www.spiegel.de/services/joe-biden-oder-donald-trump-warum-es-in-dieser-woche-zwei-spiegel-titel-gibt-a-7f5d6e7b-1f83-4cec-92fd-60c635b7b6a8',\n",
       " 'https://www.spiegel.de/start/kuenstliche-intelligenz-in-der-arbeitswelt-warum-mitarbeiterbeteiligung-unerlaesslich-ist-a-96e0b6c7-0f1e-46c0-bb92-9281af636d01',\n",
       " 'https://www.spiegel.de/international/germany/a-holocaust-survivor-speaks-of-her-anger-its-difficult-to-put-up-with-these-old-germans-a-9cc14234-653e-491c-b737-a64452bb6ceb',\n",
       " 'https://www.spiegel.de/reise/fernweh/mexiko-stadt-pyramiden-vulkane-wasserrutschen-attraktionen-rund-um-die-metropole-a-1f797f4e-4bba-4b4d-a483-a1048b66b374',\n",
       " 'https://www.spiegel.de/geschichte/hisbollah-im-libanon-wie-die-terrororganisation-zur-gefahr-im-nahen-osten-wurde-a-9dd97762-679f-470b-aa6a-afc2f314bd29',\n",
       " 'https://www.spiegel.de/panorama/leute/gregor-gysi-ueber-geld-wir-deutschen-neigen-dazu-zu-sehen-was-uns-fehlt-spiegel-tv-a-fb1572af-0acb-4286-bf57-274fce17a5d6',\n",
       " 'https://www.spiegel.de/panorama/gesellschaft/chaos-auf-deutschen-raststaetten-kein-platz-fuer-die-rast-spiegel-tv-a-b1eb53bb-16de-4a0f-a93e-91defeeaedf2',\n",
       " 'https://www.spiegel.de/tests/elektronik/gaming-maeuse-modelle-von-logitech-razer-und-nyfter-im-test-a-86a4cb92-81ae-47ba-9df0-54a823146b76',\n",
       " 'https://www.spiegel.de/panorama/gesellschaft/spiegel-tv-vom-04-12-2023-problemfeld-integration-private-gangsterjagd-a-5cdd69e6-9489-4ed6-a072-5be1cfe3fe8d',\n",
       " 'https://www.spiegel.de/backstage/unveroeffentlichte-spiegel-cover-welches-titelbild-haetten-sie-gewaehlt-a-f162e188-222b-4575-8810-7f3f4a3791b5',\n",
       " 'https://www.spiegel.de/politik/deutschland/die-afd-und-ihre-skandale-eine-partei-im-sinkflug-spiegel-tv-a-30299708-fb9f-44ed-bedb-9be63f9ed5c1',\n",
       " 'https://www.spiegel.de/reise/europa/montenegro-das-perfekte-land-fuer-einen-roadtrip-a-7db265d3-6cf2-42b0-9e47-0b178845a1cd',\n",
       " 'https://www.spiegel.de/international/world/my-jewish-family-history-the-optimists-ended-up-in-auschwitz-a-343ffaea-5323-4a32-aaad-a7adc204fd5a',\n",
       " 'https://www.spiegel.de/backstage/spiegel-event-wie-ich-herausfinde-ob-es-ns-taeter-in-meiner-familie-gab-a-daed3eb0-ae01-4b2d-ae22-e6df86f3f53a',\n",
       " 'https://www.spiegel.de/start/sachsen-thueringen-brandenburg-wie-junge-menschen-ihre-zukunft-dort-sehen-newsletter-a-65dc6d96-e295-42db-a9a5-6c252defa03b',\n",
       " 'https://www.spiegel.de/ausland/oesterreich-joerg-haider-sein-werkzeug-war-fremdenfeindlichkeit-podcast-a-2f40ded8-e0e4-4fcc-a793-7a5e2b4d3aaa',\n",
       " 'https://www.spiegel.de/politik/ukraine-offensive-in-kursk-das-steckt-hinter-dem-gegenangriff-auf-russland-a-a255764d-b28e-4ea6-91d2-6e39b46a99d7',\n",
       " 'https://www.spiegel.de/panorama/justiz/krieg-in-hamburgs-drogen-milieu-dreifachmord-aus-eifersucht-spiegel-tv-vom-15-04-2024-a-4fb48dc8-1c2d-4c31-8709-cdcf9f7a90ef',\n",
       " 'https://www.spiegel.de/partnerschaft/erektionsstoerungen-penisgroesse-testosteron-was-maenner-fuer-ihre-gesundheit-tun-koennen-a-e1338618-ce50-4ecd-9ddd-0a502487fa51',\n",
       " 'https://www.spiegel.de/geschichte/olympische-frauen-weltspiele-1922-in-paris-wie-alice-milliat-die-maenner-vom-ioc-herausforderte-a-697109c2-c9ea-4b14-8c9e-6ff1d91ab186',\n",
       " 'https://www.spiegel.de/tests/kueche/cold-brew-kaffeemaschinen-modelle-von-bodum-hario-tradena-und-tchibo-im-test-a-653d990c-b342-4773-b6cd-41ec4f97c46a',\n",
       " 'https://www.spiegel.de/ausland/kamala-harris-und-tim-walz-mit-guter-laune-gegen-donald-trump-a-84433152-b1bb-411c-9585-1951585e9e32',\n",
       " 'https://www.spiegel.de/auto/schulweg-wann-koennen-kinder-mit-dem-rad-zum-unterricht-fahren-a-b1ebc8d2-6647-4b02-83c2-e2238a470e2b',\n",
       " 'https://www.spiegel.de/sport/fussball/joshua-kimmich-wird-neuer-kapitaen-der-fussballnationalmannschaft-der-maenner-a-b8c910bd-6bd1-4092-bd5b-79e8cb0a45fa',\n",
       " 'https://www.spiegel.de/politik/saskia-esken-spd-genossen-schieben-frust-und-sehen-die-schuld-bei-einer-frau-a-9816f069-363d-4ed2-a7d4-9f3ceef8a182',\n",
       " 'https://www.spiegel.de/panorama/gesellschaft/spiegel-tv-vom-10-06-2024-hamburger-drogenszene-europas-aussengrenze-a-56de953c-9f0a-4e46-973d-272879e71cc9',\n",
       " 'https://www.spiegel.de/stil/wildblumen-pfluecken-die-unterschaetzte-schoenheit-der-wilden-moehre-a-93a01e33-9516-43b1-988c-16812478a1cb',\n",
       " 'https://www.spiegel.de/politik/deutschland/sachsen-afd-verliert-sperrminoritaet-im-landtag-wahlleiter-korrigiert-ergebnis-a-00fd2d08-9d05-44da-b870-071fd82ebcad',\n",
       " 'https://www.spiegel.de/wirtschaft/oelraffinerie-in-schwedt-anteil-von-russlands-staatskonzern-rosneft-bleibt-unter-treuhand-a-e7e6065d-0bf6-4cbd-a651-a119210109d7',\n",
       " 'https://www.spiegel.de/netzwelt/gadgets/akkubrand-wie-sicher-sind-ladetaschen-fuer-e-bikes-a-29fd7126-24b8-4934-bcc1-c66d6e163ac9',\n",
       " 'https://www.spiegel.de/wirtschaft/volkswagen-prozess-ex-vw-chef-martin-winterkorn-muss-sich-in-dieselaffaere-verantworten-a-bc72f376-2a94-457d-953f-9c8026566e73',\n",
       " 'https://www.spiegel.de/politik/deutschland/christian-lindner-im-europa-wahlkampf-wie-der-fdp-chef-mit-protesten-und-hass-umgeht-a-868dbfcc-d47a-44dc-a1f4-cf3c42dea114',\n",
       " 'https://www.spiegel.de/tests/kueche/ukrainische-kochbuecher-es-muss-nicht-immer-borschtsch-sein-aber-es-kann-a-bc764338-3399-4898-9fa4-b0cdc4a74f3b',\n",
       " 'https://www.spiegel.de/partnerschaft/icq-wird-abgeschaltet-ah-oh-eine-liebeserklaerung-an-den-messenger-a-f857e640-ff18-43b5-9ed9-a7eff1762a8a',\n",
       " 'https://www.spiegel.de/wirtschaft/service/kurzarbeitergeld-rechner-so-viel-geld-gibt-es-in-der-kurzarbeit-a-8d856701-4951-4e34-a500-c3ac8ffcc717',\n",
       " 'https://www.spiegel.de/panorama/unwetter-in-nordrhein-westfalen-loesen-hunderte-feuerwehreinsaetze-aus-a-ce928d7d-35fd-47a9-956c-ae26b230cfc4',\n",
       " 'https://www.spiegel.de/gesundheit/diagnose/umgang-mit-trans-jugendlichen-mit-den-pubertaetsblockern-wollen-wir-dieses-leid-verringern-a-a1739e85-a354-48fd-9af0-0770daa1d850',\n",
       " 'https://www.spiegel.de/panorama/bildung/einschulung-was-sie-wissen-muessen-tipps-fuer-eltern-a-a03e2390-ee3c-4464-b68d-c42cd918f198',\n",
       " 'https://www.spiegel.de/tests/elektronik/systemkameras-im-test-modelle-von-om-system-panasonic-nikon-canon-sony-fujifilm-a-ca9d3804-48e3-4b70-8985-006eee12c4a6',\n",
       " 'https://www.spiegel.de/ausland/oesterreich-inside-austria-wettstreit-der-heilsversprecher-a-eadae145-9825-43f0-9f5c-c56cbfdfe70b',\n",
       " 'https://www.spiegel.de/tests/fahrrad-zubehoer/fahrradhandschuhe-fuer-den-winter-modelle-von-endura-gripgrab-chiba-vaude-ziener-und-roeckl-im-test-a-288e8a82-77ff-41bc-b64b-8c1488808aa3',\n",
       " 'https://www.spiegel.de/partnerschaft/scheidung-oder-trennung-woran-lange-beziehungen-scheitern-koennen-a-33494bd4-bc24-4992-9e6a-353668958c5d',\n",
       " 'https://www.spiegel.de/ausland/russlands-krieg-gegen-die-ukraine-offensive-in-kursk-alles-nach-selenskyjs-plan-a-d3d97e2a-db6c-432c-be9c-2e1b8c546cc7',\n",
       " 'https://www.spiegel.de/politik/deutschland/landtagswahl-in-sachsen-michael-kretschmer-und-das-bsw-kann-das-klappen-a-319aefbe-b0a7-414e-ba9b-b76015dfa1c4',\n",
       " 'https://www.spiegel.de/netzwelt/gadgets/ipad-air-und-ipad-pro-2024-im-test-apples-neue-arbeitstiere-und-ihre-schoenheitsfehler-a-ecbe4f7f-c7ad-433b-9d4e-6239e28ec8ca',\n",
       " 'https://www.spiegel.de/politik/wahlkampf-in-den-usa-kamala-harris-ist-eine-marxistin-spiegel-spitzengespraech-a-826bce66-08a9-4752-9718-1b65ee19707c',\n",
       " 'https://www.spiegel.de/politik/sachsen-und-thueringen-das-sagen-die-menschen-in-leipzig-ueber-den-afd-erfolg-a-b32c692c-180e-45f3-934f-efe2836468ad',\n",
       " 'https://www.spiegel.de/panorama/justiz/life-coach-hielt-frauen-gefangen-und-vergewaltigte-sie-a-333bf5ae-766f-4bd8-9c1f-80df81ccaa7e',\n",
       " 'https://www.spiegel.de/panorama/justiz/leben-nach-der-gefangenschaft-trauma-experte-spricht-ueber-die-folgen-a-43160578-182b-453c-9031-ef5d5327a7d2',\n",
       " 'https://www.spiegel.de/politik/gewaltbereite-rechtsradikale-westdeutsche-neonazis-ziehen-nach-halberstadt-in-den-harz-spiegel-tv-a-59d7b057-bd4a-493d-892b-1350a8757d36',\n",
       " 'https://www.spiegel.de/politik/deutschland/spd-und-die-privatisierung-des-hamburger-hafens-das-ist-ein-historischer-fehler-a-51f82510-245d-477e-b7b2-3787b05efb01',\n",
       " 'https://www.spiegel.de/sport/fussball/fussball-bundesliga-rekordmann-thomas-mueller-trifft-bayern-muenchen-schlaegt-sc-freiburg-a-f3e405ac-37ba-4484-852f-0ce82dab0c77',\n",
       " 'https://www.spiegel.de/geschichte/zypern-krise-und-der-mordanschlag-auf-makarios-iii-der-spiegel-vor-50-jahren-a-1d8afdba-c804-45bf-a8c4-3e5bac5fe8d5',\n",
       " 'https://www.spiegel.de/ausland/donald-trump-neue-anklage-wegen-versuchten-wahlbetruges-und-sorgen-in-georgia-a-343cf74d-a03c-45df-b7f5-efe5469d1c1d',\n",
       " 'https://www.spiegel.de/tests/bilderbuecher-fuer-kinder-schoene-geschichten-und-richtige-kunstwerke-beim-vorlesen-a-35a3dd11-abba-4e13-ac6b-f508c26fee3d',\n",
       " 'https://www.spiegel.de/gesundheit/kassenaerzte-beklagen-mehr-gewalt-in-praxen-a-d746dffc-77e5-45b1-bd9d-0fd1b741ab77',\n",
       " 'https://www.spiegel.de/ausland/mikrowellen-waffen-gegen-us-diplomaten-raetselhaftes-havanna-syndrom-spiegel-tv-a-587e5886-f4fb-4f79-a708-600df3f636f1',\n",
       " 'https://www.spiegel.de/netzwelt/internetbetrug-singapur-will-konten-von-moeglichen-scam-opfern-sperren-a-507723e6-1987-4540-b528-6394676bd64b',\n",
       " 'https://www.spiegel.de/kultur/tv/netflix-amazon-prime-disney-diese-serien-und-filme-sind-neu-im-september-2024-a-8fa42704-a03c-4247-adf7-ee097467f78b',\n",
       " 'https://www.spiegel.de/geschichte/august-freiherr-schluga-von-rastenfeld-bismarcks-james-bond-a-2ef70de0-76c5-40e0-96ea-7e1ae832f093',\n",
       " 'https://www.spiegel.de/reise/europa/auswandern-nach-schweden-das-einfache-leben-ist-das-anstrengendste-a-c7942e26-4a53-4e54-aed5-491041a8557d',\n",
       " 'https://www.spiegel.de/start/nudeln-selbst-machen-ohne-maschine-fuer-1-euro-mit-der-schere-oder-roher-gewalt-a-0bd59919-7a6e-4015-9494-57914c0b0bf7',\n",
       " 'https://www.spiegel.de/netzwelt/netzpolitik/twitter-oberster-gerichtshof-in-brasilien-laesst-x-abschalten-a-8cd7993a-20ee-4808-ac9f-178c5ea0c704',\n",
       " 'https://www.spiegel.de/politik/migration-nach-europa-spiegel-tv-unterwegs-mit-den-grenzschuetzern-a-f6cce5e9-727c-4b5c-9664-59f1075df8f9',\n",
       " 'https://www.spiegel.de/panorama/australien-tiger-greift-tierpflegerin-in-queensland-an-und-verletzt-sie-a-26276c0b-db25-48bd-8b9e-e5c8d4115b77',\n",
       " 'https://www.spiegel.de/partnerschaft/eine-stalking-betroffene-erzaehlt-mein-ex-haette-beim-geheimdienst-arbeiten-koennen-a-0ba2ff28-536d-43fd-bbfe-ed16d6b45fac',\n",
       " 'https://www.spiegel.de/geschichte/bogdan-staschinski-erinnerungen-des-kgb-killers-diesmal-geht-es-wirklich-um-meinen-kopf-a-2c60c191-6e03-44f7-a0b7-d305297a2cdd',\n",
       " 'https://www.spiegel.de/panorama/justiz/der-hacker-des-boesen-ein-leben-fuer-allah-und-koks-spiegel-tv-vom-04-03-2024-a-feda8adf-927d-41cc-9bce-d26ecea41c70',\n",
       " 'https://www.spiegel.de/stil/tomaten-anpflanzen-und-zuechten-adieu-mein-tomatenkoenig-a-0bdd6c7c-8f40-42d5-89ce-eb5724ddea90',\n",
       " 'https://www.spiegel.de/tests/garten/rasensprenger-im-test-regenmacher-a-4b6c967d-e341-4bf9-9ad1-7445acfc1a95',\n",
       " 'https://www.spiegel.de/wirtschaft/service/uebertourismus-in-spanien-immer-mehr-touristen-trotz-protesten-a-23e5ff62-1d98-4218-8632-34beb3ba232e',\n",
       " 'https://www.spiegel.de/politik/deutschland/wahlen-in-ostdeutschland-sahra-wagenknecht-katrin-goering-eckardt-und-steffen-mau-im-spiegel-talk-a-f9685c08-3faf-46b4-948c-516ab266fc68',\n",
       " 'https://www.spiegel.de/panorama/justiz/solingen-rechtsextreme-haengen-hetz-plakate-auf-a-de0171cb-42dc-4da3-898c-a785af79d21c',\n",
       " 'https://www.spiegel.de/partnerschaft/rueckkehr-der-romantiker-bist-du-auch-ein-bisschen-delulu-a-f29ce6ba-bb8e-4b8d-b41e-510c898c7d4d',\n",
       " 'https://www.spiegel.de/sport/olympia/paralympics-martin-schulz-und-anja-renner-holen-bronze-in-ihren-triathlon-klassen-a-86e0b40e-d737-4263-9614-1e3b73396d9e',\n",
       " 'https://www.spiegel.de/wirtschaft/iab-zahl-der-arbeitsstunden-in-deutschland-so-hoch-wie-nie-a-d7e2e495-1f3d-44bf-9f83-cf61c8b9ed76',\n",
       " 'https://www.spiegel.de/gesundheit/diagnose/endometriose-der-lange-weg-zur-diagnose-a-3cb19afa-6bdd-4623-929a-66feff68ecca',\n",
       " 'https://www.spiegel.de/ausland/paljanyzja-raketendrohne-die-ukraine-baut-jetzt-auch-langstreckenwaffen-a-e13bbb26-9eb7-4df5-8a79-b534a5a7dd1e',\n",
       " 'https://www.spiegel.de/backstage/spiegel-reporterin-nadia-pantel-erhaelt-herbert-riehl-heyse-preis-2023-a-bcfb0e67-579e-49f7-9044-f9eaefe9823f',\n",
       " 'https://www.spiegel.de/partnerschaft/kommunikation-in-beziehungen-tipps-fuer-ein-besseres-verstaendnis-a-a419ebf6-baed-41d9-9df3-48cd43e8061d',\n",
       " 'https://www.spiegel.de/panorama/irland-regierung-deckt-2400-sexuelle-missbrauchsfaelle-an-katholischen-schulen-auf-a-bca5fb8d-abcd-4710-8f0a-8df3dc468b74',\n",
       " 'https://www.spiegel.de/auto/lucid-air-pure-elektrolimousine-im-test-glatt-geschmeidig-gewaltig-a-07890faf-727d-47b4-9bb4-81d0526284fd',\n",
       " 'https://www.spiegel.de/ausland/israel-gaza-krieg-uno-beginnt-mit-impfungen-gegen-polio-im-gazastreifen-a-88204ed5-c852-407c-9296-2a8eeb7b60b1',\n",
       " 'https://www.spiegel.de/panorama/taegliches-quiz-beim-spiegel-7-fragen-zum-allgemeinwissen-pro-tag-a-8a9692b2-4462-4192-942c-fd7809c7519c',\n",
       " 'https://www.spiegel.de/tests/kueche/elektrische-milchaufschaeumer-im-test-geruehrt-nicht-geschuettelt-a-c27690cc-aa76-4aef-9f49-98d09af9de9f',\n",
       " 'https://www.spiegel.de/panorama/leute/elton-john-sieht-nach-augeninfektion-nicht-mehr-gut-a-3d3bc344-22fd-4738-83ff-76cb6676cb03',\n",
       " 'https://www.spiegel.de/karriere/konflikte-im-job-richtig-fuehren-wie-man-mit-drueckebergern-umgeht-a-5d681934-748b-4542-baad-af8c195fdb0c',\n",
       " 'https://www.spiegel.de/sport/paralympics-2024-badmintonspieler-thomas-wandschneider-holt-mit-60-jahren-bronze-a-3854337f-f094-4599-b101-78493655884b',\n",
       " 'https://www.spiegel.de/panorama/justiz/eifersucht-und-rache-wie-ein-familienvater-zum-dreifachmoerder-wurde-spiegel-tv-a-7a7bf370-0481-4a00-91c1-008f034ea8e7',\n",
       " 'https://www.spiegel.de/wirtschaft/fti-zahlungsunfaehiger-reisekonzern-wird-abgewickelt-350-000-glaeubiger-a-89af8d20-771b-45a6-9592-387dbad06d70',\n",
       " 'https://www.spiegel.de/deinspiegel/sneaker-hype-wie-turnschuhe-zu-begehrten-sammlerobjekten-wurden-a-3a84fd5c-c26b-4bb1-804b-0bc370f59ee0',\n",
       " 'https://www.spiegel.de/stil/nonna-silvi-83-wie-eine-italienische-grossmutter-zur-influencerin-wurde-a-66a22380-839c-4c46-9fc6-06c2352f9f67',\n",
       " 'https://www.spiegel.de/impressum/autor-0eb84cf4-6f82-487f-b4ba-5f83bcad097e',\n",
       " 'https://www.spiegel.de/wirtschaft/unternehmen/gdl-mario-reiss-neuer-chef-lokfuehrer-gewerkschaft-claus-weselsky-ehrenvorsitzender-a-5cb5d9d4-4d14-4d40-9313-f3d7cd19d270',\n",
       " 'https://www.spiegel.de/familie/schulanfang-wie-eltern-ihren-kindern-den-start-erleichtern-podcast-mit-saskia-niechzial-a-ec7dbbfb-ece5-4512-9ced-f6c1241f6aa2',\n",
       " 'https://www.spiegel.de/panorama/berlin-toedlicher-sek-einsatz-erschossener-hatte-psychische-probleme-a-93f74e5e-bbb5-4647-bb86-7368fd85ef90',\n",
       " 'https://www.spiegel.de/auto/elektroauto-kaufen-suboptimale-aerodynamik-warum-hersteller-bei-vielen-modelle-reichweite-verschenken-a-75f584ed-3816-4393-bad6-af53a53080c5',\n",
       " 'https://www.spiegel.de/kultur/literatur/natalie-buchholz-in-grand-papa-tragische-liebe-im-grenzgebiet-a-82a3e0f4-fc1f-4ae2-a776-7b5e8a4be227',\n",
       " 'https://www.spiegel.de/panorama/leute/downing-street-sibirisches-kaetzchen-wohnt-jetzt-am-britischen-regierungssitz-a-2194786d-f98f-4ef6-875d-e5bc6662e8a8',\n",
       " 'https://www.spiegel.de/services/spiegel-akademie-mir-war-wichtig-nicht-mehrere-jahre-aus-dem-berufsleben-aussteigen-zu-muessen-a-ccd247e7-f7ed-4d07-8e65-47f34af22d82',\n",
       " 'https://www.spiegel.de/politik/deutschland/saskia-esken-spd-genossen-schieben-frust-und-sehen-die-schuld-bei-einer-frau-a-9816f069-363d-4ed2-a7d4-9f3ceef8a182',\n",
       " 'https://www.spiegel.de/politik/ergebnisse-landtagswahlen-sachsen-und-thueringen-die-spaltung-geht-weiter-a-4c189484-99df-4366-9b41-f420b17025bf',\n",
       " 'https://www.spiegel.de/backstage/coronavirus-in-eigener-sache-keine-neuen-corona-daten-mehr-beim-spiegel-a-ffa2be53-08a6-4416-81dd-eb31944abdd5',\n",
       " 'https://www.spiegel.de/politik/deutschland/thueringen-warum-38-prozent-der-jungen-menschen-die-afd-gewaehlt-haben-a-25c67af9-f41c-4629-ba9a-84745aad71c8',\n",
       " 'https://www.spiegel.de/sport/fussball/joshua-kimmich-als-dfb-kapitaen-er-ist-jetzt-das-was-er-immer-sein-wollte-a-662ecf52-9cec-48bd-b35a-19b7acc97b35',\n",
       " 'https://www.spiegel.de/tests/hoerbuecher-und-hoerspiele-empfehlungen-fuer-kinder-und-eltern-a-14022121-6e4d-4df9-af3b-e83dfcc96ddc',\n",
       " 'https://www.spiegel.de/wissenschaft/oetzi-werkzeuge-weltkriegssoldaten-gletscher-schmelze-gibt-archaeologische-funde-frei-a-aa0e430a-f3ae-4903-bb2e-bdeb083d63cd',\n",
       " 'https://www.spiegel.de/netzwelt/games/brettspiele-ueber-politik-komm-wir-retten-die-demokratie-a-51339cbd-b25f-47b4-b4b5-197669b1fa69',\n",
       " 'https://www.spiegel.de/politik/bodo-ramelow-in-thueringen-was-hat-der-ministerpraesident-nach-der-verlorenen-wahl-vor-a-814182c9-908e-411c-a2f9-8b71167b96c5',\n",
       " 'https://www.spiegel.de/ausland/spanien-ermordeter-russischer-deserteur-die-hintergruende-zum-fall-maxim-kusminow-spiegel-tv-a-8a6f02c7-f1bd-4002-874a-088ffcd712e5',\n",
       " 'https://www.spiegel.de/backstage/bei-diesen-diensten-koennen-sie-dem-spiegel-folgen-a-a68cce85-8be8-4707-bd6e-0706090cbbbe',\n",
       " 'https://www.spiegel.de/politik/sachsen-etwa-130-manipulierte-wahlzettel-bei-landtagswahlen-entdeckt-a-2001970d-484c-464c-a3f9-fbd079350f2a',\n",
       " 'https://www.spiegel.de/panorama/justiz/hockenheim-getoetete-ukrainerinnen-entfuehrtes-baby-mordanklage-gegen-ehepaar-aus-baden-wuerttemberg-a-413f0e1e-6c61-4966-a50f-f944722500f5',\n",
       " 'https://www.spiegel.de/politik/deutschland/landtagswahlen-in-sachsen-und-thueringen-dieser-wahlabend-ist-eine-zaesur-a-a9fec426-25d1-4f2a-a3a6-9f2d5b34f025',\n",
       " 'https://www.spiegel.de/panorama/cannabis-wie-ich-in-new-york-drogen-kaufte-um-den-deutschen-herbst-zu-ueberstehen-kolumne-a-2b04e3d0-73c2-4f7c-bd3b-6ffa52eb465c',\n",
       " 'https://www.spiegel.de/ausland/israel-gaza-krieg-netanyahu-entschuldigt-sich-fuer-tote-geiseln-plant-jedoch-keine-aenderungen-a-5f216507-04c2-485f-a862-4e20c3ae4e71',\n",
       " 'https://www.spiegel.de/panorama/justiz/jena-razzien-gegen-mutmassliche-schleuserbande-haftbefehle-vollstreckt-a-76f6472c-d6c5-419a-9e49-efd069be868e',\n",
       " 'https://www.spiegel.de/tests/opulente-kartenspiele-tiere-waelder-sensationen-a-ce1889fc-f516-42c4-bd00-c6f4358c58f7',\n",
       " 'https://www.spiegel.de/ausland/massaker-vom-7-oktober-in-israel-us-justiz-veroeffentlicht-anklage-gegen-hamas-mitglieder-a-ec3deed6-a286-455b-9afd-b44ab7d3e46e',\n",
       " 'https://www.spiegel.de/backstage/community-wir-starten-spiegel-debatte-a-8df0d3e4-722a-4cd9-87cf-6f809bb767ce',\n",
       " 'https://www.spiegel.de/ausland/iran-bereits-400-hinrichtungen-seit-jahresbeginn-a-0116956a-d39d-478e-b810-2981d78fd909',\n",
       " 'https://www.spiegel.de/start/zucchini-rezept-zucchini-kaese-nuggets-um-die-schwemme-zu-ueberstehen-a-5a8e26c4-ecd7-4854-b81c-86977f5e1a6f',\n",
       " 'https://www.spiegel.de/reise/staedte/eintrittsgeld-in-venedig-venedig-ist-ein-sternerestaurant-das-sich-zum-preis-eines-big-mac-verkauft-a-1416caa2-e320-4fc3-96ec-4f61269a395c',\n",
       " 'https://www.spiegel.de/sport/fussball/niklas-wilson-sommer-nuernberg-profi-zeigt-sich-im-bayern-trikot-und-wird-koerperlich-attackiert-a-aea8c743-0f93-46b4-a722-c490c4beba57',\n",
       " 'https://www.spiegel.de/politik/deutschland/migration-kommunen-fordern-schaerferes-sicherheitspaket-a-64f631e5-466e-437a-898f-233d03b6bffd',\n",
       " 'https://www.spiegel.de/panorama/gesellschaft/solingen-frank-walter-steinmeier-fordert-ueberparteiliche-zusammenarbeit-bei-zuwanderung-a-b88e5ea6-0f83-4f57-ae9d-21b52d7e8d92',\n",
       " 'https://www.spiegel.de/familie/einschulung-welcher-ranzen-ist-der-richtige-und-was-kommt-in-die-schultuete-a-70f6dc34-d86d-4ead-8aa2-8bb5188497f8',\n",
       " 'https://www.spiegel.de/psychologie/als-erwachsene-mit-eltern-reisen-was-von-der-kindheit-bleibt-a-c81034a8-ca4c-4d8e-9b24-cc06d44437f1',\n",
       " 'https://www.spiegel.de/geschichte/erforschung-der-germanen-missverstanden-und-verklaert-a-4a946571-ab24-4e34-97ef-8ea3291bf991',\n",
       " 'https://www.spiegel.de/politik/deutschland/fluechtlinge-dezentralisierung-fuehrt-zu-konflikten-bei-bezahlkarten-regelungen-spiegel-tv-a-7c1c367e-6b92-4e07-99fb-ad7ae0f05d65',\n",
       " 'https://www.spiegel.de/panorama/gesellschaft/em-2024-zwischen-wolfsgruss-und-bierdusche-das-turnier-als-stresstest-fuer-die-deutsche-polizei-a-7276217a-6cb9-4baf-8c4e-4e64feafae4c',\n",
       " 'https://www.spiegel.de/gesundheit/me-cfs-patientin-erstreitet-kostenuebernahme-praezedenzfall-fuer-andere-chronisch-kranke-a-f0514567-13b9-49a5-ba71-5717c98d06a1',\n",
       " 'https://www.spiegel.de/karriere/bundesarbeitsgericht-duschen-kann-teil-der-arbeitszeit-sein-a-b95ce10a-d6dc-4fda-948f-3be20cc471c0',\n",
       " 'https://www.spiegel.de/sport/fussball/fc-bayern-muenchens-thomas-mueller-der-rekordjubler-a-371fb54e-0c0e-4499-899d-9bba77510d29',\n",
       " 'https://www.spiegel.de/panorama/justiz/solingen-nach-dem-angriff-chronik-einer-tragoedie-a-04852819-cb7f-4e2f-b2f8-c374c51c9dbd',\n",
       " 'https://www.spiegel.de/panorama/justiz/hamburg-krieg-im-drogen-milieu-die-weltweite-jagd-nach-dem-koks-paten-spiegel-tv-a-13a19030-a375-485c-abb5-1cb64ece42bc',\n",
       " 'https://www.spiegel.de/tests/garten/automatische-schlauchrollen-im-test-schlaeuche-die-sich-selbst-aufrollen-a-860bfb3f-56df-491e-92bf-43e2b43f19d9',\n",
       " 'https://www.spiegel.de/deinspiegel/reiseblogger-im-kinder-interview-influencer-sein-ist-ein-vollzeitjob-a-b4440c75-3d2e-4bb5-bd80-11df71bc712d',\n",
       " 'https://www.spiegel.de/panorama/norwegen-mutmasslicher-spionagewal-hvaldimir-ist-tot-a-99754d96-8095-4de7-919b-adae55e03a9a',\n",
       " 'https://www.spiegel.de/kultur/michaela-ahlrichs-wedig-kuenstlername-ela-ist-tot-a-da4e691e-ed8c-44d0-841d-7f437effecc8',\n",
       " 'https://www.spiegel.de/kultur/tv/matt-smith-triggerwarnung-ist-ueberfluessig-sagt-der-schauspieler-house-of-the-dragon-doctor-who-a-4b586982-0926-4cbc-92dd-582d8342a312',\n",
       " 'https://www.spiegel.de/panorama/auslaenderbehoerde-woran-abschiebungen-in-der-praxis-scheitern-a-38212543-5c0a-41f1-a420-4caea97eebba',\n",
       " 'https://www.spiegel.de/reise/deutschland/wigald-boning-ueber-badegewaesser-ich-habe-die-eherne-leitregel-der-mund-bleibt-zu-a-e3f99ef0-7b1a-4ce7-84d1-903e2ff141f0',\n",
       " 'https://www.spiegel.de/panorama/polen-wildwest-in-lodz-wie-ein-tv-promi-mit-seiner-privatarmee-verbrecher-jagt-a-4ee39ac8-a9ef-453f-b9b8-1ce079d0a001',\n",
       " 'https://www.spiegel.de/start/landtagswahl-in-sachsen-was-wuerde-die-afd-mit-den-universitaeten-machen-a-02caa5e9-f8d9-4c95-a0d5-07925bd1d0ff',\n",
       " 'https://www.spiegel.de/ausland/mut-opfer-und-einsatz-europaeische-soeldner-an-der-ukrainischen-front-spiegel-tv-a-2c3bbdbc-ff3a-4a21-8a33-d4b469750cf6',\n",
       " 'https://www.spiegel.de/sport/tennis/us-open-alexander-zverev-steht-im-viertelfinale-a-e1669492-3a5f-45a4-993e-f5cca89c5e1b',\n",
       " 'https://www.spiegel.de/politik/deutschland/bodo-ramelow-im-interview-voellig-gaga-die-afd-hat-sich-jedes-mal-gefreut-a-cf3a1cd4-b450-4c40-b23a-8916dd59f87e',\n",
       " 'https://www.spiegel.de/ausland/donald-trump-maga-anhaenger-filmten-attentat-und-reisen-ihm-nach-a-3a10290c-d824-427f-ab16-63e9342a0f07',\n",
       " 'https://www.spiegel.de/stil/yuki-tsunoda-ich-habe-mit-einem-formel-1-star-ueber-zeit-gesprochen-und-natuerlich-ueber-seine-uhr-a-ea2f04e7-8421-4432-8ee3-90a8782c253d',\n",
       " 'https://www.spiegel.de/international/europe/fish-farming-in-iceland-invasion-of-the-zombie-salmon-a-d6566261-70e0-44d5-84fc-5374edfac5df',\n",
       " 'https://www.spiegel.de/geschichte/rechtsextremisums-warum-immer-thueringen-a-9cda9d0e-0604-4236-92a2-a9a8882cceef',\n",
       " 'https://www.spiegel.de/ausland/gaza-krieg-polio-fall-alarmiert-feuerpause-fuer-impfungen-vereinbart-a-4f446d66-ab0f-4b57-a34f-ed2e8c1a53bb',\n",
       " 'https://www.spiegel.de/international/europe/england-captain-harry-kane-people-have-always-thought-i-wasnt-good-enough-a-c46278c0-e137-4fac-adbd-e6d731fbaca4',\n",
       " 'https://www.spiegel.de/international/world/former-saudi-intelligence-chief-we-have-nothing-to-apologize-for-a-82d6b275-06ea-4faa-b422-ad478ee5b4a8',\n",
       " 'https://www.spiegel.de/deinspiegel/wie-der-wolf-zum-hund-wurde-der-beginn-einer-wunderbaren-freundschaft-a-4388fdf5-aeef-40f0-9d9c-753f3de38f9c',\n",
       " 'https://www.spiegel.de/geschichte/zweiter-weltkrieg-jahrestag-des-kriegsbeginns-wie-winston-churchill-hitler-besiegte-a-7c0ed570-58a9-4d77-a9dd-a5a129daed7b',\n",
       " 'https://www.spiegel.de/politik/deutschland/landtagswahl-thueringen-afd-gewinnt-erstmals-laut-prognose-klar-vorn-regierende-ramelow-linke-stuerzt-ab-a-e5aee385-d9f0-4549-9894-7decdd5bcbcf',\n",
       " 'https://www.spiegel.de/geschichte/olympische-sommerspiele-1900-in-paris-blut-schweiss-und-erschossene-tauben-a-0fd120c5-f56f-4bdf-83ba-63f16b9f9c8f',\n",
       " 'https://www.spiegel.de/sport/leichtathletik-gina-lueckenkemper-sprintet-zur-schnellsten-deutschen-zeit-seit-1991-a-06994172-03ec-431a-b50e-38633e320d9f',\n",
       " 'https://www.spiegel.de/wirtschaft/klimaschutz-frachtsegler-als-alternative-zu-containerschiffen-jede-windboee-zaehlt-a-425ccfe1-f0fc-4a99-a477-6eb871373cfc',\n",
       " 'https://www.spiegel.de/kultur/kino/donald-trump-the-apprentice-soll-noch-vor-us-wahlen-veroeffentlicht-werden-a-f0cd492b-8588-47ba-97d8-85dbfb2be4e9',\n",
       " 'https://www.spiegel.de/politik/deutschland/wahlen-in-ostdeutschland-sahra-wagenknecht-katrin-goering-eckardt-und-steffen-mau-im-spiegel-talk-a-7d201142-768b-4e4b-ac01-49ff598744ef',\n",
       " 'https://www.spiegel.de/panorama/china-elf-tote-bei-schulbusunfall-menschenmenge-vor-schule-erfasst-a-fca2fce6-c732-4104-9d42-887879d86aa0',\n",
       " 'https://www.spiegel.de/politik/deutschland/mario-voigt-cdu-wie-tickt-thueringens-wahrscheinlich-naechster-ministerpraesident-a-4807e34c-ae47-4a05-82a8-bd7314b338c6',\n",
       " 'https://www.spiegel.de/wissenschaft/wetter-sommer-2024-war-deutlich-zu-warm-a-0640ed47-bb8b-4a28-9390-d02ab87f08d7',\n",
       " 'https://www.spiegel.de/geschichte/als-in-den-usa-kinder-per-post-verschickt-wurden-was-macht-das-baby-im-postbeutel-a-6b34383d-6168-4c0f-b3aa-78d1a440a928',\n",
       " 'https://www.spiegel.de/stil/garten-und-klimawandel-wie-ich-trotz-extremwetter-meinen-garten-pflege-a-e013bc4b-46d3-4e09-bc69-f275b507ee8a',\n",
       " 'https://www.spiegel.de/geschichte/hannah-arendts-flucht-vor-den-nazis-in-die-usa-deutsche-butterkekse-in-manhattan-a-300a2744-3500-4291-aa7b-d71d5db32d54',\n",
       " 'https://www.spiegel.de/tests/kueche/tischgrills-im-test-diese-grillsaison-endet-nie-a-cf26c58a-de8c-4207-a66a-47b58fada5d6',\n",
       " 'https://www.spiegel.de/wirtschaft/unternehmen/vw-beschaeftigte-protestieren-auf-betriebsversammlung-konzernspitze-verteidigt-sich-a-58a61823-5828-4583-ba38-6b33a86cd5fd',\n",
       " 'https://www.spiegel.de/tests/brettspiele/brettspiele-fuer-haptik-fans-die-fuehlen-sich-gut-an-a-3e9e9763-dc98-4085-8d70-d25873cbd694',\n",
       " 'https://www.spiegel.de/tests/brettspiele/tipp-kick-was-wurde-eigentlich-aus-dem-spieleklassiker-a-10af759e-7df4-4557-9c88-4a65f95b9d98',\n",
       " 'https://www.spiegel.de/ausland/ukraine-krieg-wolodymyr-selenskyj-verteidigt-drohnen-angriff-auf-russland-a-33422ef0-d8e2-4224-934a-4135bcee5ef9',\n",
       " 'https://www.spiegel.de/wirtschaft/service/neuseeland-verdreifacht-einreisegebuehr-fuer-touristen-56-statt-20-euro-a-43690163-401d-4dbb-8aad-474eaa707b22',\n",
       " 'https://www.spiegel.de/tests/haushalt/waermflaschen-von-troy-hugo-frosch-und-steiner-im-test-a-632251da-9dee-444c-980a-a64022d88f81',\n",
       " 'https://www.spiegel.de/panorama/gesellschaft/spiegel-tv-vom-18-12-2023-kampf-einer-mutter-wenn-das-jugendamt-die-kinder-wegnimmt-a-803bf2a2-0134-409f-a180-053d5a2aaad8',\n",
       " 'https://www.spiegel.de/wirtschaft/unternehmen/homeoffice-trend-forscher-rechnen-mit-deutlich-weniger-nachfrage-nach-bueroflaechen-a-f51a7dab-4d72-4656-90e5-d6f73e81de66',\n",
       " 'https://www.spiegel.de/panorama/justiz/sarstedt-toedlicher-angriff-auf-61-jaehrigen-polizei-fasst-tatverdaechtigen-a-baf60a6a-d145-4cd2-a521-ae8d867627c5',\n",
       " 'https://www.spiegel.de/panorama/justiz/davidwache-in-hamburg-dauereinsatz-auf-der-reeperbahn-spiegel-tv-a-78930440-324d-453a-820c-2a3a25d525af',\n",
       " 'https://www.spiegel.de/psychologie/nachhaltige-maennlichkeit-vs-petromaskulinitaet-unter-gutmaennern-a-992b2768-e396-49f5-b327-fbf0fca1ccd0',\n",
       " 'https://www.spiegel.de/netzwelt/web/internet-trolle-bundeskriminalamt-geht-deutschlandweit-gegen-nwo-vor-a-b85b25b0-bc0d-4c02-ba90-8167b1669b0a',\n",
       " 'https://www.spiegel.de/geschichte/mythencheck-waren-germanen-gross-blond-und-blauaeugig-a-cc266306-519e-412b-9809-4005e14d0ed8',\n",
       " 'https://www.spiegel.de/start/ausbildung-2023-gab-es-so-viele-unbesetzte-ausbildungsstellen-wie-nie-zuvor-a-d67c343b-2049-4373-b9c3-1f6882cfab82',\n",
       " 'https://www.spiegel.de/wirtschaft/temu-ramsch-oder-revolution-des-online-shoppings-a-9faf7c49-c583-4189-b329-cb0f634f9beb',\n",
       " 'https://www.spiegel.de/panorama/demokratische-republik-kongo-chaos-bei-missgluecktem-gefaengnisausbruch-129-tote-in-kinshasa-a-66001631-7910-480d-97d6-69dea4b071fb',\n",
       " 'https://www.spiegel.de/tests/einbaukuehlschraenke-und-kuehlgefrier-kombinationen-im-test-was-langsam-friert-spart-spaeter-geld-a-2a3a7b52-3269-4514-8d64-8bc7d26f437e',\n",
       " 'https://www.spiegel.de/partnerschaft/sexualwissenschaft-schaut-hin-eine-ganz-normale-vulva-a-2b9a931c-7402-459e-a026-1dfcca03085e',\n",
       " 'https://www.spiegel.de/kultur/tv/landtagswahlen-sachsen-und-thueringen-die-wahlberichterstattung-im-fernsehen-a-0e35b3c5-c43d-4038-ba54-062ef3950c74',\n",
       " 'https://www.spiegel.de/geschichte/paul-breitner-der-linke-rebell-mit-maserati-und-pool-zeitreise-der-spiegel-vor-50-jahren-a-6f65c3db-6c74-46dd-bfe3-49d116ca8a7b',\n",
       " 'https://www.spiegel.de/netzwelt/web/ea-sports-fc-25-und-co-wieso-gibt-es-in-fussballgames-keinen-videobeweis-a-0712c9c9-87df-489b-bdcd-63abf722da3b',\n",
       " 'https://www.spiegel.de/wissenschaft/natur/tanker-sounion-im-roten-meer-droht-eine-umweltkatastrohe-a-20e90e86-4ac2-4e1d-bd1f-c4d7fa250b37',\n",
       " 'https://www.spiegel.de/geschichte/tiere-in-metropolen-die-groessten-plagen-der-staedte-a-0440e0d6-a038-40d7-a856-ef773958116f',\n",
       " 'https://www.spiegel.de/ausland/israel-protest-gegen-geiselpolitik-gewerkschaftsverband-ruft-zu-landesweitem-streik-auf-a-73c31b60-84d4-43d9-92ea-a8860e3a77bc',\n",
       " 'https://www.spiegel.de/politik/deutschland/die-afd-will-dass-sich-die-cdu-selbst-zerreisst-videoanalyse-nach-den-wahlen-in-sachsen-und-thueringen-a-e56abb41-d38a-412e-9c00-49d4a2e962cb',\n",
       " 'https://www.spiegel.de/karriere/homeoffice-vs-praesenzpflicht-wie-aus-der-zeit-im-buero-heilige-tage-werden-koennen-a-805ee3a0-5330-4590-a8a6-78661fc8d5e4',\n",
       " 'https://www.spiegel.de/tests/kueche/vegane-und-vegetarische-kochbuecher-im-test-ohne-fleisch-und-tierisch-gut-a-0dc41096-a250-432d-960d-a9621395c476',\n",
       " 'https://www.spiegel.de/gesundheit/diagnose/karl-lauterbach-spd-und-das-gesundes-herz-gesetz-am-besten-komplett-einstampfen-sagen-die-krankenkassen-a-40d677b0-6fd3-4977-b5ca-a0da54321a76',\n",
       " 'https://www.spiegel.de/tests/elektronik/massagepistolen-im-test-das-koennen-die-knetkanonen-wirklich-a-6793820f-359d-4c5c-9a51-77ca4ec8fc15',\n",
       " 'https://www.spiegel.de/ausland/gazakrieg-grossbritannien-schraenkt-waffenverkaeufe-an-israel-ein-a-deac2f5e-c617-49d7-9800-fea6dbb3589b',\n",
       " 'https://www.spiegel.de/politik/rechtsextremismus-warum-viele-jungwaehler-die-afd-in-sachsen-und-thueringen-unterstuetzen-a-74e30288-7055-4b9f-835d-7e294d8766ba',\n",
       " 'https://www.spiegel.de/sport/fussball/fussball-uruguays-luis-suarez-kuendigt-ruecktritt-aus-nationalteam-an-a-72bf8286-804b-4d8a-953a-50ede6133d46',\n",
       " 'https://www.spiegel.de/sport/formel1/formel-1-max-verstappen-kritisiert-red-bull-heftig-team-zeigt-sich-ratlos-a-917333cc-8cd0-4b6e-9138-acd80e05287b',\n",
       " 'https://www.spiegel.de/geschichte/attentat-auf-john-f-kennedy-teil-4-die-theorie-der-magischen-kugel-und-der-fluch-der-kennedys-a-a013be6b-4f0c-4ce1-b3bb-c7c4da04e88d',\n",
       " 'https://www.spiegel.de/tests/wandern-in-den-bergen-schuhe-kleidung-rucksack-tipps-fuer-die-ausruestung-a-1a3cd867-9a70-4968-bbb0-0613579f99e7',\n",
       " 'https://www.spiegel.de/geschichte/lotte-laserstein-abend-ueber-potsdam-a-8c77e63c-d993-40ab-8019-891e64a88a29',\n",
       " 'https://www.spiegel.de/geschichte/ein-bild-und-seine-geschichte-wie-ich-zum-sprungkissen-tester-wurde-a-55f639dc-91ee-43e5-b0c4-af8d0ebf846c',\n",
       " 'https://www.spiegel.de/familie/einschulung-und-erster-schultag-uebertreibt-nicht-es-ist-alles-schon-aufregend-und-teuer-genug-a-d882e82e-06fb-4ad2-b94b-ab673b07ac95',\n",
       " 'https://www.spiegel.de/politik/deutschland/news-des-tages-volkswagen-wahlen-in-sachsen-und-thueringen-sicherer-schulweg-a-9b408a80-ee51-4148-be2a-09b237a4831c',\n",
       " 'https://www.spiegel.de/ausland/deutscher-scharfschuetze-in-der-ukraine-ich-toete-menschen-ja-aber-sie-toeten-uns-auch-spiegel-tv-a-e5545e2d-0d11-471d-86e9-fda70716633e',\n",
       " 'https://www.spiegel.de/panorama/justiz/niederndodeleben-vier-personen-beleidigen-frau-aus-afghanistan-rassistisch-und-schlagen-auf-sie-ein-a-e7c1671e-0428-4169-a519-04658e4165f0',\n",
       " 'https://www.spiegel.de/politik/deutschland/krankenhausreform-karl-lauterbach-im-spiegel-talk-wird-mein-krankenhaus-geschlossen-a-02412e61-8aa1-462d-89fc-faec03ae9ac5',\n",
       " 'https://www.spiegel.de/start/ausbildung-zum-waldorflehrer-lernen-studierende-die-geschichte-von-atlantis-a-87197043-67fa-49e2-aa31-bee439c3d985',\n",
       " 'https://www.spiegel.de/ausland/dauerfeuer-auf-den-gazastreifen-wir-wollen-alle-dass-das-normale-leben-zurueckkehrt-spiegel-tv-a-b8354023-71f7-476e-b122-f9cc99c5a860',\n",
       " 'https://www.spiegel.de/backstage/nach-diesen-standards-arbeitet-der-spiegel-a-d80c52f5-fa6e-4463-a8de-513f15fcb29b',\n",
       " 'https://www.spiegel.de/panorama/la-palma-amanda-melian-deckt-beruehmtes-vulkan-haus-ab-a-2ef4b4e6-7456-456d-a749-0b9bb11cd746',\n",
       " 'https://www.spiegel.de/panorama/serenade-of-the-seas-neun-monate-influencer-kreuzfahrt-wir-sind-zugestiegen-a-d2afa505-ba70-47c7-bea6-cb0b56e753f8',\n",
       " 'https://www.spiegel.de/reise/europa/italien-fehlende-bademeister-strandbadbetreiber-fuerchten-um-zukunft-a-9444a79e-4a97-405a-8572-9655d0317f5f',\n",
       " 'https://www.spiegel.de/panorama/gesellschaft/der-neonazi-nachwuchs-von-dresden-die-gestaendnisse-einer-kindsmoerderin-a-7961f673-981a-4403-a96a-9eb23541b260',\n",
       " 'https://www.spiegel.de/kultur/ki-und-social-media-warum-wir-genauer-hinsehen-sollten-wenn-ki-videos-viral-gehen-a-0afeae69-bf4b-4191-85cf-1ff253d89a11',\n",
       " 'https://www.spiegel.de/international/world/rwanda-classified-europes-deals-with-an-autocrat-a-ddf3e262-fd8c-4dc7-9b9e-0fe9f1bec09e',\n",
       " 'https://www.spiegel.de/politik/deutschland/spiegel-tv-vom-27-05-2024-die-afd-im-sinkflug-a-0abe9ce9-c526-4084-8141-4ee5acc8066c',\n",
       " 'https://www.spiegel.de/panorama/gesellschaft/spiegel-tv-vom-26-02-2024-bauern-gegen-gruenenchefin-holocaust-leugner-der-parkplatz-denunziant-a-232c65f9-1e20-4f8c-ad03-d19c65bf3d05',\n",
       " 'https://www.spiegel.de/tests/kueche/kuechen-komposter-im-test-was-bringen-wurmkiste-bokashi-eimer-oder-lomi-foodcycler-a-1f9f0729-a10a-4f4e-85ad-dc618770fefd',\n",
       " 'https://www.spiegel.de/familie/witze-erzaehlen-das-sind-die-lieblingswitze-ihrer-kinder-a-b47a890b-0172-42d0-952e-02b5753db1c3',\n",
       " 'https://www.spiegel.de/politik/migrationsgipfel-union-stellt-bedingungen-fuer-weitere-gespraeche-ueber-fluechtlingspolitik-a-3c591d8a-3aef-4506-afd5-5745a2fcb727',\n",
       " 'https://www.spiegel.de/netzwelt/gadgets/true-wireless-kopfhoerer-im-test-2024-beats-sennheiser-fairphone-creative-earfun-sony-bose-a-752d0a7f-d1b8-4986-9ecb-47aefffecc8b',\n",
       " 'https://www.spiegel.de/panorama/italien-audi-chef-stuerzt-bei-bergwanderung-am-gardasee-200-meter-in-den-tod-a-1cfb585f-4f0f-4c58-aa5d-a31e25feed4a',\n",
       " 'https://www.spiegel.de/sport/fussball/bundestrainer-julian-nagelsmann-das-sind-seine-ideen-fuer-die-neue-nationalelf-a-8f5fed99-8a4c-4528-b9ca-a260250d746e',\n",
       " 'https://www.spiegel.de/ausland/amanda-knox-podcast-ein-blick-auf-ihr-leben-nach-dem-justizdrama-a-a6aa7094-441f-409c-ae60-2609699f9ab0',\n",
       " 'https://www.spiegel.de/familie/familiennewsletter-wie-mama-es-findet-ein-ein-papa-kind-zu-haben-a-5aaa87fa-31a9-489c-8f20-faa5ee9d911a',\n",
       " 'https://www.spiegel.de/ausland/tim-walz-unfall-in-auto-kolonne-von-us-vizepraesidentschaftskandidat-mehrere-verletzte-a-f6a4c32e-fc31-468a-a43a-a156496da435',\n",
       " 'https://www.spiegel.de/geschichte/heinrich-himmler-die-rolle-des-reichsfuehrers-ss-im-ns-regime-spiegel-tv-a-7ac0c824-99a8-4cc8-909d-5288d16de34d',\n",
       " 'https://www.spiegel.de/geschichte/palaeo-und-archaeogenetik-der-knochenjob-der-steinzeitforscher-a-a52ee545-8ff1-487c-a7c7-c865e2cca48a',\n",
       " 'https://www.spiegel.de/panorama/gesellschaft/spiegel-tv-vom-05-02-2024-urteil-gegen-clan-chef-abou-chaker-krieg-gegen-die-hamas-a-0939bc6d-2bd9-4901-a167-3f1fdf02f6bc',\n",
       " 'https://www.spiegel.de/politik/deutschland/wahl-in-sachsen-und-thueringen-michael-kretschmer-gibt-sich-zuversichtlich-a-9b3a70ba-f9eb-4255-b913-d59ed7f4f685',\n",
       " 'https://www.spiegel.de/geschichte/attentat-vom-20-juli-1944-treffen-der-nachfahren-der-hingerichteten-unter-dem-galgen-a-36235033-d1ac-4ed4-bbc3-5f5b998730f1',\n",
       " 'https://www.spiegel.de/panorama/justiz/clan-mitglied-jihad-remmo-wegen-beihilfe-beim-einbruch-ins-gruene-gewoelbe-vor-gericht-spiegel-tv-a-f73382a8-bee1-4380-8331-7feab43797b6',\n",
       " 'https://www.spiegel.de/netzwelt/gadgets/pixel-8-und-pixel-8-pro-im-test-was-googles-neue-ki-smartphones-koennen-a-d5591f35-d631-4b66-9fbe-ab3668a341f1',\n",
       " 'https://www.spiegel.de/gesundheit/laeuse-bei-kindern-wie-konnte-ich-die-nur-uebersehen-erfahrungsbericht-einer-mutter-a-11f25a32-0dca-4df4-9bb4-a8423b38ef0f',\n",
       " 'https://www.spiegel.de/ausland/kamala-harris-in-pennsylvania-wie-sie-die-stahlarbeiter-fuer-sich-gewinnen-wollen-a-4dfc0a1b-22e7-4384-99da-7427e8acc7ac',\n",
       " 'https://www.spiegel.de/tests/em-2024-die-besten-kinderbuecher-ueber-fussball-a-dbef4480-3522-4c76-b0a2-a2b2e24f6d84',\n",
       " 'https://www.spiegel.de/panorama/bildung/schulen-neues-schuljahr-alter-lehrkraeftemangel-a-23d3245c-4582-4793-bb0f-ba10d2ed0e43',\n",
       " 'https://www.spiegel.de/psychologie/spinnen-toeten-oder-nicht-tipps-von-mark-benecke-a-55e339a9-2b85-4be7-9853-8fba8db0a4ee',\n",
       " 'https://www.spiegel.de/stil/warum-riecht-sonnencreme-so-gut-ueber-einen-der-besten-gerueche-der-welt-a-e10e1765-72e9-4ae4-92cf-d1d33f2477eb',\n",
       " 'https://www.spiegel.de/sport/fussball/premier-league-manchester-united-zerlegt-sich-selbst-fc-liverpool-gnadenlos-a-ff36bf6d-17c7-41aa-a382-b0f52b78f76c',\n",
       " 'https://www.spiegel.de/psychologie/psychologie-wie-gut-koennen-sie-entscheidungen-treffen-a-aeafc27d-6d63-4009-9f7a-6e209b17c474',\n",
       " 'https://www.spiegel.de/tests/kueche/multi-zerkleinerer-im-test-so-gut-sind-die-blitzhacker-von-moulinex-gastroback-caso-a-bca3fbf3-9899-42d7-8c6c-dfc12de7aedf',\n",
       " 'https://www.spiegel.de/partnerschaft/weibliche-nippel-mit-deinen-bruesten-kannst-du-viel-erreichen-kolumne-a-f53fd1ed-ad90-4b22-91cb-e66cdd75d321',\n",
       " 'https://www.spiegel.de/partnerschaft/bisexuelles-dating-bei-meinen-ersten-treffen-mit-frauen-war-ich-schuechtern-und-verunsichert-a-be0e2557-4c8b-4118-83f8-e1394195b81f',\n",
       " 'https://www.spiegel.de/panorama/justiz/pkk-kader-in-hamburg-zu-vier-jahren-haft-verurteilt-a-03d07bdc-24dd-475a-9f88-eec35b4f0baf',\n",
       " 'https://www.spiegel.de/start/mieten-in-uni-staedten-in-deutschland-wenn-die-wg-unerschwinglich-wird-a-a10834c7-46aa-4921-9208-219b901cb066',\n",
       " 'https://www.spiegel.de/geschichte/jochen-schropp-ueber-sein-jahr-in-den-usa-in-kalifornien-habe-ich-mich-wahnsinnig-frei-gefuehlt-a-ad7434bc-09dc-4353-b769-31427a8fe568',\n",
       " 'https://www.spiegel.de/psychologie/emotionen-wie-unsere-gefuehle-die-politik-praegen-podcast-mit-maren-urner-a-c17197dc-dc10-4b16-ac6d-9d1768ce4fe4',\n",
       " 'https://www.spiegel.de/wirtschaft/unternehmen/volkswagen-erlebt-gerade-die-groesste-krise-seit-den-neunzigerjahren-interview-mit-helena-wisbert-a-cacdb05e-a9ce-494c-9e32-9022ea425b3d',\n",
       " 'https://www.spiegel.de/panorama/leute/wie-ed-oneill-erfuhr-dass-seine-sitcom-abgesetzt-wird-a-c2301a06-65fc-4312-893f-4141b54f5e54',\n",
       " 'https://www.spiegel.de/panorama/quallen-in-thailand-dutzende-giftige-bluebottles-an-strand-auf-phuket-angespuelt-a-d34da4ab-6400-44e4-ae34-09967e5dbe37',\n",
       " 'https://www.spiegel.de/politik/deutschland/thueringen-polizeieinsatz-in-wahllokal-ermittlungen-wegen-bedrohung-in-gera-a-38fe9c39-7dc7-4e9c-bc4c-535d1ffbc308',\n",
       " 'https://www.spiegel.de/panorama/justiz/berlin-alt-buckow-clan-familie-rammo-hinterlaesst-dreck-und-truemmer-in-geraeumter-villa-spiegel-tv-a-d80ddf9d-89a6-415c-ad36-ab7118ca910a',\n",
       " 'https://www.spiegel.de/reise/europa/staedtenamen-als-wahrzeichen-koennte-einer-mal-bitte-durchs-a-schauen-a-9a1c8985-9ee7-4a6a-b907-af2a29f6452a',\n",
       " 'https://www.spiegel.de/stil/korkenzieher-zeig-mir-wie-du-wein-oeffnest-und-ich-sage-dir-wer-du-bist-a-39cec156-1d84-4cf4-87f0-0d442ea951ec',\n",
       " 'https://www.spiegel.de/wissenschaft/japankaefer-forschende-suchen-nach-natuerlichen-gegenspielern-des-schaedlings-a-ad9270c7-da3f-4f75-934f-2f36aafd8de1',\n",
       " 'https://www.spiegel.de/ausland/ukraine-tote-bei-russischen-luftangriffen-in-lwiw-a-00ef3302-6030-4cd3-a0ea-466a3fb8b78c',\n",
       " 'https://www.spiegel.de/psychologie/coaching-souveraen-entscheidungen-treffen-schritt-zwei-die-tuecke-des-optimierens-a-0329719d-16f2-48f3-b0bb-311313e040d2',\n",
       " 'https://www.spiegel.de/politik/deutschland/polizeischutz-fuer-gruenenchefin-bauern-blockieren-ricarda-lang-spiegel-tv-a-1ef77e9b-bace-4b5d-a91e-0e8291598a2d',\n",
       " 'https://www.spiegel.de/tests/kueche/kochbuch-tipps-vincent-klink-alkoholfrei-easy-einhaenderkueche-a-ead2089a-7216-4668-8096-10a45b901db8',\n",
       " 'https://www.spiegel.de/sport/fussball/em-2024-bela-rethy-tugba-tekkal-und-wolfram-eilenberger-im-spitzengespraech-a-de2fa39d-ee1e-4979-a4df-af1626e3263e',\n",
       " 'https://www.spiegel.de/sport/ukraine-kriegsveteran-bei-paralympics-in-paris-von-der-front-aufs-treppchen-a-b70c5a8a-507b-44a6-bb12-01552860c0e5',\n",
       " 'https://www.spiegel.de/wirtschaft/unternehmen/rene-benko-podcast-ueber-aufstieg-und-fall-a-10190da2-48ad-4462-be1e-4aa9449dc4cf',\n",
       " 'https://www.spiegel.de/panorama/gesellschaft/verwahrlosung-gewalt-oder-sexuelle-uebergriffe-wenn-das-jugendamt-essen-eingreift-spiegel-tv-fuer-arte-re-a-21ce13e1-8936-49a3-aff6-c293682e80a9',\n",
       " 'https://www.spiegel.de/wissenschaft/mensch/genovesa-hoehle-versunkene-bruecke-deutet-auf-fruehere-besiedlung-mallorcas-hin-a-ac0c37b7-6d73-4d05-b44f-3bcb4f7f46e3',\n",
       " 'https://www.spiegel.de/panorama/alkoholiker-pflegeheim-in-hamburg-sie-trinken-sich-zu-tode-kontrolliert-und-betreut-a-84b56c76-9c14-49a1-aadc-fcee5cb10e43',\n",
       " 'https://www.spiegel.de/netzwelt/netzpolitik/elon-musk-das-steckt-hinter-der-x-abschaltung-in-brasilien-a-40fd1fb5-219b-479d-8b9d-2154b944f94c',\n",
       " 'https://www.spiegel.de/deinspiegel/basketball-deutschland-star-satou-sabally-ueber-olympia-karriere-einhoerner-und-donald-trump-a-21f0ce7d-29f6-441b-ab60-268802ccd644',\n",
       " 'https://www.spiegel.de/wirtschaft/unternehmen/vw-daniela-cavallo-stemmt-sich-gegen-sparkurs-a-1d0f4d77-4398-470e-bc70-3f4ee50a78c5',\n",
       " 'https://www.spiegel.de/tests/haushalt/kaffeevollautomaten-im-test-der-stiftung-warentest-das-sind-die-besten-a-7a759b47-eef1-4432-a6a3-a7178b39815d',\n",
       " 'https://www.spiegel.de/familie/kinder-werden-so-schnell-gross-gut-so-ich-bin-froh-dass-die-spielplatzzeit-vorbei-ist-a-45fe3190-cf10-44f8-88d5-9df6adb8acb0',\n",
       " 'https://www.spiegel.de/deinspiegel/paralympics-triathlet-martin-schulz-gold-gold-gold-a-0e79cbe3-ec57-431f-9db0-349e598b0f74',\n",
       " 'https://www.spiegel.de/partnerschaft/traureden-auf-hochzeit-tipps-von-einer-expertin-a-eb57538f-0375-4038-8be8-804774a6db44',\n",
       " 'https://www.spiegel.de/tests/brettspiele/wuerfelspiele-im-test-durchmarsch-sssnake-pick-a-pen-und-colour-square-a-59ecf82e-86c4-41d7-865e-5334a9472a83',\n",
       " 'https://www.spiegel.de/deinspiegel/podcast-wer-wie-buzz-wie-sich-dinosaurier-anhoerten-und-wie-das-k-pop-geschaeft-funktioniert-a-157818bc-76d8-4cd7-baac-cd96cf9751a8',\n",
       " 'https://www.spiegel.de/sport/fussball/2-fussball-bundesliga-der-1-fc-koeln-gewinnt-beim-fc-schalke-04-a-ee1d74c9-b448-4437-8d69-6999474efc24',\n",
       " 'https://www.spiegel.de/start/arbeitsmarkt-jeder-fuenfte-junge-mensch-weltweit-ohne-arbeit-oder-ausbildung-a-9b21a227-0384-410e-8efc-810c140064a2',\n",
       " 'https://www.spiegel.de/panorama/leute/udo-lindenberg-neues-xxl-gemaelde-enthuellt-rockmusiker-praesentiert-sein-groesstes-werk-a-6aa14987-e846-4d06-ab3b-9b155861eb07',\n",
       " 'https://www.spiegel.de/start/rezept-fuer-schnelles-pfannenbrot-mit-feta-dip-und-salat-fuer-2-euro-a-86638219-9447-4a7f-8a6e-f4c38d358c3f',\n",
       " 'https://www.spiegel.de/deinspiegel/basteltipps-und-rezeptideen-gute-laune-programm-fuer-die-sommerferien-a-9e88716a-4dd3-4101-9d51-808d9ad15a80',\n",
       " 'https://www.spiegel.de/geschichte/pionierinnelilo-wanders-und-paula-lambert-viele-frauen-sind-in-ihrem-geschlechtsteil-wie-tot-a-8108084d-f1e7-4d39-ac3f-fa1a0eb3d896',\n",
       " 'https://www.spiegel.de/politik/deutschland/spd-vor-den-landtagswahlen-das-war-mal-meine-lieblingspartei-aber-a-5fb9a817-3037-4521-a6c1-421f4378fb05',\n",
       " 'https://www.spiegel.de/politik/deutschland/spd-lars-klingbeil-staerkt-saskia-esken-nach-kritik-den-ruecken-a-47996c83-6788-4894-9edc-ca72edae70d6',\n",
       " 'https://www.spiegel.de/auto/fahrkultur/elektroauto-kaufen-lang-lebe-der-verbrenner-jedenfalls-meiner-a-f12ecb41-796d-4b33-9d30-ea797deea3ad',\n",
       " 'https://www.spiegel.de/start/sachsen-thueringen-brandenburg-warum-junge-menschen-ihre-zukunft-im-osten-sehen-a-ab1e99dd-4d1d-46e4-a818-06a956c8e0a9',\n",
       " 'https://www.spiegel.de/wirtschaft/wahlen-in-sachsen-thueringen-rechtsruck-gefaehrdet-standort-ostdeutschland-warnt-tesvolt-gruender-a-4926bb6b-5201-49b1-989b-2e064d98d99a',\n",
       " 'https://www.spiegel.de/start/dgb-ausbildungsreport-2024-ein-drittel-der-azubis-macht-ueberstunden-auch-unbezahlte-a-5ee69202-eaac-485d-86c0-316b96889e79',\n",
       " 'https://www.spiegel.de/politik/deutschland/landtagswahl-in-sachsen-eindruecke-aus-dem-wahlkampf-in-der-oberlausitz-a-5972e298-8321-474f-b625-1e76bab6540f',\n",
       " 'https://www.spiegel.de/tests/elektronik/kameras-mit-wechselobjektiven-im-test-fujifilm-x-s20-sony-a6700-canon-r50-nikon-z-fc-a-bf7bfe61-427b-42f4-8c8a-def99618029b',\n",
       " 'https://www.spiegel.de/panorama/gesellschaft/spiegel-tv-aufmarsch-in-gera-rechte-hetze-im-namen-der-pressefreiheit-a-4ecf04d8-d715-4c30-918c-7d81a59a365f',\n",
       " 'https://www.spiegel.de/karriere/kuendigung-und-arbeitsvertrag-wie-gehe-ich-mit-einer-langen-kuendigungsfrist-um-a-dd17b9c9-9e9d-476b-bdbb-06f4faaa79c6',\n",
       " 'https://www.spiegel.de/stil/repair-trend-kaputte-kopfhoerer-sind-nicht-mehr-zu-retten-oh-doch-a-a6ae23f3-b541-4016-8fd9-73db842df4ec',\n",
       " 'https://www.spiegel.de/karriere/raetsel-der-woche-die-perfekte-dartscheibe-a-bb3f99fb-e1cb-433f-ad66-a1a80f2aa709',\n",
       " 'https://www.spiegel.de/gesundheit/diagnose/atypisches-restless-legs-syndrom-seltene-stoerung-fuehrt-zu-orgasmen-und-kribbeln-a-4faa64eb-4573-4ede-a324-879858bb98b9',\n",
       " 'https://www.spiegel.de/kultur/tv/rtl-dschungelcamp-finale-das-leben-ist-unfair-der-dschungel-auch-a-39160574-6ed9-4c4a-a90b-24dee40eee2d',\n",
       " 'https://www.spiegel.de/wirtschaft/unternehmen/sap-technologiechef-juergen-mueller-verlaesst-den-vorstand-wegen-vorfall-auf-firmenfeier-a-e197fe7d-f402-4c98-9938-f49f49299ec7',\n",
       " 'https://www.spiegel.de/panorama/bildung/schule-und-politik-bildungsforscherin-nina-kolleck-sieht-sympathien-fuers-radikale-a-32613578-2de5-4c5d-9a25-5985be6ccb54',\n",
       " 'https://www.spiegel.de/deinspiegel/raetsel-des-alltags-warum-flimmert-bei-hitze-die-strasse-a-814149e2-6a3d-4a28-ad40-4c9dbc276feb',\n",
       " 'https://www.spiegel.de/tests/garten/maehroboter-im-test-kabellos-durch-den-garten-gps-gesteuerte-neue-modelle-a-5146e320-c026-42c8-b8eb-8cd1df98b29f',\n",
       " 'https://www.spiegel.de/start/schufa-wie-josephine-ackerman-ihren-kalender-organisiert-a-d174c36b-8f3c-477f-8537-a8734329f440',\n",
       " 'https://www.spiegel.de/psychologie/allein-in-den-urlaub-fahren-ist-es-wirklich-schoen-ohne-andere-zu-reisen-a-d8bcf1a5-f589-45b8-a8cf-8faa4b17671a',\n",
       " 'https://www.spiegel.de/wissenschaft/schlafmangel-workaholics-schlaft-am-wochenende-aus-ist-besser-fuers-herz-a-f4a60594-3acb-4df0-9c7d-9fe7da48071f',\n",
       " 'https://www.spiegel.de/panorama/justiz/waffenkontrolle-an-berliner-bahnhoefen-drogen-schlagringe-springmesser-spiegel-tv-a-626aa655-7e76-4009-948f-96d0beff31b2',\n",
       " 'https://www.spiegel.de/wissenschaft/burewestnik-sind-das-startanlagen-fuer-putins-vermeintliche-wunderwaffe-a-a4dfb022-a55e-4fd9-bb5a-9bd42401dc42',\n",
       " 'https://www.spiegel.de/netzwelt/gadgets/samsung-galaxy-z-flip5-und-z-fold5-im-test-mit-diesen-klapphandys-klappt-es-endlich-a-6467b9d3-0598-4d2e-b085-854712acd974',\n",
       " 'https://www.spiegel.de/ausland/j-d-vance-buhrufe-fuer-donald-trumps-vize-bei-auftritt-vor-feuerwehrleuten-a-b4eb6450-1037-44dc-9967-1ca42a4ce137',\n",
       " 'https://www.spiegel.de/psychologie/einsamkeit-paare-verkoerpern-das-was-einsamen-fehlt-a-7dd5aa4a-9299-440a-9f7c-d60e7af3f725',\n",
       " 'https://www.spiegel.de/panorama/gesellschaft/spiegel-tv-vom-08-07-2024-deutscher-an-der-ukraine-front-lkw-wahnsinn-auf-deutschen-raststaetten-a-add2a392-8109-46b2-b71c-549bbb1fb4d5',\n",
       " 'https://www.spiegel.de/international/europe/warsaws-palace-of-culture-from-a-symbol-of-oppression-to-a-symbol-of-subversion-a-f4b3fa68-b01f-467c-98db-e8bbd3ac1ff5',\n",
       " 'https://www.spiegel.de/politik/deutschland/afd-in-thueringen-herr-hoecke-und-das-haus-deutschland-a-d89f221c-ebd7-41b2-8c88-c2d90f4ece22',\n",
       " 'https://www.spiegel.de/tests/einschlafhilfen-im-test-was-bringen-gewichtsdecken-soundmaschinen-und-andere-gadgets-a-d48b528b-a4dd-48e1-86f3-a09c10bc5e28',\n",
       " 'https://www.spiegel.de/familie/urlaub-im-land-der-grosseltern-koennten-unsere-kinder-auch-in-der-tuerkei-leben-a-0a298232-8652-4a8f-85f8-040e370a5c29',\n",
       " 'https://www.spiegel.de/politik/deutschland/brandenburg-katrin-lange-verzweifelt-an-talkshow-auftritten-der-spd-genossinnen-a-604faba6-611b-46af-9999-f38dcf10d53e',\n",
       " 'https://www.spiegel.de/geschichte/hermann-goering-gruender-der-gestapo-und-oberbefehlshaber-der-luftwaffe-spiegel-tv-a-277dbb88-476b-4686-813e-03af4a43c8c4',\n",
       " 'https://www.spiegel.de/ausland/donald-trump-plaediert-im-wahlbetrugsprozess-auf-nicht-schuldig-a-73af60bd-d979-4053-a112-cbf42fce084b',\n",
       " 'https://www.spiegel.de/ausland/usa-joe-biden-tritt-auf-dem-parteitag-der-demokraten-auf-und-die-delegierten-feiern-ihn-a-e7c50b0b-aaa4-465e-b5ba-107033f818ff',\n",
       " 'https://www.spiegel.de/politik/was-bringt-die-bezahlkarte-fuer-asylsuchende-wirklich-a-fe2d7662-ad9d-4637-b593-225359946d1d',\n",
       " 'https://www.spiegel.de/start/kochen-ohne-kohle-rezept-fuer-erdnussbutter-knoblauch-nudeln-a-5a91e27d-dcb1-4399-9fb5-89768f9ca608',\n",
       " 'https://www.spiegel.de/ausland/kamala-harris-gegen-donald-trump-warum-der-gender-gap-immer-groesser-wird-a-84c9c6ea-03a7-4a0f-b33d-8f471af04a47',\n",
       " 'https://www.spiegel.de/wirtschaft/unternehmen/inflation-lebensmittelhandel-machte-2023-rekordumsatz-von-ueber-200-milliarden-euro-a-a696d35b-7e46-43f3-bf9a-4d171fb98d98',\n",
       " 'https://www.spiegel.de/panorama/grossbritannien-stadt-eynsham-baut-parkplatz-fuer-850-fahrzeuge-aber-keine-zufahrt-a-a73e7fa9-fcb1-44e9-b124-5f3349dca04f',\n",
       " 'https://www.spiegel.de/familie/medienkonsum-bei-kindern-koennen-kindersendungen-wie-cocomelon-suechtig-machen-a-82d81169-b397-4096-acaa-831b34813f31',\n",
       " 'https://www.spiegel.de/tests/kueche/kochbuch-tipps-fuer-urlaub-auf-dem-teller-greekish-levante-vegetarisch-roma-in-cucina-a-bf0fc10a-ba0b-45bd-81ec-7da838b989aa',\n",
       " 'https://www.spiegel.de/start/studieren-in-lueneburg-campus-wohnviertel-wg-zimmer-preise-und-kneipen-a-0dc7efd9-4a0d-4599-bd7d-7cec0f6d6f79',\n",
       " 'https://www.spiegel.de/geschichte/friedrich-wilhelm-von-steuben-der-eventuell-schwule-general-aus-preussen-a-522d66cb-5c6c-4acb-93d8-865bbd60569a',\n",
       " 'https://www.spiegel.de/auto/bahn-auto-fahrrad-so-pendelt-deutschland-a-f1280a59-2a79-44c6-ae8a-07f5fef88e2b',\n",
       " 'https://www.spiegel.de/geschichte/psychische-krankheiten-in-metropolen-die-stadtneurotiker-a-349f55d0-9be0-40c5-af88-0a047f972c6e',\n",
       " 'https://www.spiegel.de/panorama/griechenland-hafenstadt-volos-ruft-wegen-massen-von-toten-fischen-notstand-aus-a-32fe0cbc-0b88-46cd-a2e5-3e6a546a94a2',\n",
       " 'https://www.spiegel.de/karriere/hamburg-erste-polizistin-auf-der-reeperbahn-ueber-kiez-der-achzigerjahre-a-d674d102-3714-4e8a-a9e6-4472a51df865',\n",
       " 'https://www.spiegel.de/panorama/justiz/der-fall-ingo-k-die-radikalisierung-eines-reichsbuergers-spiegel-tv-a-bea4f86d-6cc4-4238-a03f-a946427c1a65',\n",
       " 'https://www.spiegel.de/backstage/nach-diesen-standards-kooperiert-der-spiegel-mit-stiftungen-a-d2da3782-f5c0-469c-8fed-59e78ee67f60',\n",
       " 'https://www.spiegel.de/start/guenstiges-rezept-fuer-tarte-tatin-kopfueber-gebackener-apfelkuchen-aus-der-pfanne-a-9d4c1fbc-4562-4a48-be43-b225602498b7',\n",
       " 'https://www.spiegel.de/backstage/debatte-ueber-fluechtlingsberichterstattung-des-spiegel-der-fall-maria-a-60436ed1-a07d-4288-88bf-baa530bf0ef3',\n",
       " 'https://www.spiegel.de/backstage/till-lindemann-ueber-die-rammstein-berichterstattung-des-spiegel-a-3eae2956-2826-4651-9ed8-65c216dfe29f',\n",
       " 'https://www.spiegel.de/ausland/polen-praesident-andrzej-duda-erneuert-entschaedigungsforderungen-an-deutschland-a-e3edc6d1-0d9e-4f5f-bdfd-643762ffd11e',\n",
       " 'https://www.spiegel.de/tests/brettspiele/great-western-trail-neuseeland-hegemony-kanban-ev-praga-caput-regni-alma-mater-strategie-brettspiele-im-test-a-f78df488-fc5f-4d24-94a6-a0dcce9ed2d0',\n",
       " 'https://www.spiegel.de/sport/fussball/fussball-bundesliga-der-frauen-alexandra-popp-schiesst-phantomtor-bei-vfl-wolfsburg-gegen-werder-bremen-a-38d3a0c9-5598-4317-ae0e-393fd7ee63f7',\n",
       " 'https://www.spiegel.de/karriere/kanada-deutsches-ehepaar-teilt-sich-botschafterposten-wie-das-funktionieren-soll-a-8acea6a3-9c49-4670-ad3b-21cc5d8a6add',\n",
       " 'https://www.spiegel.de/panorama/gesellschaft/spiegel-tv-vom-06-05-2024-kalifat-islamisten-toedliche-fluchtroute-a-8d4109bc-b864-4d45-937b-5705416be8e7',\n",
       " 'https://www.spiegel.de/backstage/fragen-und-antworten-zur-foerderung-durch-die-bill-and-melinda-gates-stiftung-a-dac661f6-210a-4616-b2d2-88917210fed4',\n",
       " 'https://www.spiegel.de/sport/fussball/dfb-praesident-bernd-neuendorf-sind-die-deutschen-fans-bei-der-em-2024-zu-leise-spiegel-spitzengespraech-a-524afcc3-c412-4c6a-9ff3-c81f0455aa6d',\n",
       " 'https://www.spiegel.de/sport/gluecksspiel-das-gefaehrliche-spiel-der-sportwetten-industrie-podcast-a-63aa3b74-9aa7-490d-b1ee-617a3ff3efb3',\n",
       " 'https://www.spiegel.de/sport/olympia/uganda-olympia-laeuferin-rebecca-cheptegei-offenbar-mit-benzin-uebergossen-und-angezuendet-a-4c1e7400-de72-4463-b8dd-37defb47c59b',\n",
       " 'https://www.spiegel.de/familie/kinder-und-entscheidungen-ich-habe-nichts-zum-anziehen-familiennewsletter-a-f66647f9-d742-41e8-b0b2-52b7dff3d3fd',\n",
       " 'https://www.spiegel.de/panorama/justiz/isoliertes-volk-in-peru-mashco-piro-erschiessen-zwei-holzfaeller-mit-pfeilen-a-f156d887-7d0e-4781-94ab-8a36d5ac4e4a',\n",
       " 'https://www.spiegel.de/international/world/war-in-sudan-soup-kitchens-fight-against-looming-famine-a-9bc7a1bb-99e7-4194-bea7-0545ab50a0d3',\n",
       " 'https://www.spiegel.de/wissenschaft/weltall/archaeologie-2500-jahre-altes-observatorium-in-aegypten-entdeckt-a-33d37538-3240-49f2-8ffd-9f002b7691d7',\n",
       " 'https://www.spiegel.de/karriere/raetsel-der-woche-wie-gross-ist-das-quadrat-a-89de2ad8-fc5f-4a1b-91c9-95eb115becfb',\n",
       " 'https://www.spiegel.de/geschichte/us-wahlkampf-1968-warum-das-schwein-pigasus-praesident-der-usa-werden-sollte-a-4e329bf4-0236-430f-b245-20227386a7fc',\n",
       " 'https://www.spiegel.de/karriere/raetsel-der-woche-ein-perfekter-satz-a-e1f0fc5c-6723-4d98-a058-c701b7d4ea62',\n",
       " 'https://www.spiegel.de/ausland/ukraine-russischer-angriff-auf-poltawa-traf-offenbar-ukrainische-streitkraefte-a-20ccb0ae-b3fa-4084-a8d4-42c73262ab2d',\n",
       " 'https://www.spiegel.de/ausland/venezuela-staatsanwaltschaft-beantragt-haftbefehl-gegen-oppositions-kandidaten-edmundo-gonzalez-urrutia-a-ca61f30d-d57d-40ce-bc02-510868f1fd36',\n",
       " 'https://www.spiegel.de/auto/fahrberichte/autogramm-vw-california-schlafsack-trifft-smartphone-a-380044dd-565b-4255-830d-e1cd0e8ac80f',\n",
       " 'https://www.spiegel.de/politik/deutschland/friedrich-merz-nach-den-landtagswahlen-der-cdu-chef-hat-jetzt-drei-probleme-a-db7ef0de-e4f3-438f-b12e-79c060f4e236',\n",
       " 'https://www.spiegel.de/netzwelt/gadgets/xiaomi-14-ultra-im-test-dieses-handy-ist-mehr-kamera-als-smartphone-a-f5b9b5ec-9c4f-43d1-af85-fa59bf1b6abd',\n",
       " 'https://www.spiegel.de/geschichte/80-jahrestag-des-warschauer-aufstands-als-die-polen-sich-gegen-die-nazis-wehrten-a-d9ab85c4-85e5-4be9-8286-7af135949d12',\n",
       " 'https://www.spiegel.de/auto/fahrradhelme-nur-drei-helme-bieten-im-test-guten-schutz-vor-kopfverletzungen-a-0a7424c0-738e-472a-974f-0e9cbd575c1d',\n",
       " 'https://www.spiegel.de/sport/extremsport-und-psyche-basejumper-elternpaar-aus-der-schweiz-ueber-wingsuit-sport-a-ce5deec0-adc7-4abd-b5ac-869a44842bcf',\n",
       " 'https://www.spiegel.de/start/reetdachdecker-in-brandenburg-wir-machen-daecher-dort-wo-andere-im-urlaub-sind-a-d84e800f-ef9d-4839-bb25-325b46976ac6',\n",
       " 'https://www.spiegel.de/tests/elektronik/outdoor-kaffeebereiter-im-test-stanley-primus-giannini-hario-hydro-flask-handpresso-esbit-a-be1e289b-cbc5-4e62-be15-dfef2376472b',\n",
       " 'https://www.spiegel.de/reise/copenpay-in-kopenhagen-wie-ich-versucht-habe-umweltbewussten-urlaub-zu-machen-a-3c52315f-39a7-49f4-8945-9e0a66de9fb3',\n",
       " 'https://www.spiegel.de/wirtschaft/unternehmen/e-autos-robert-habeck-treibt-neue-steuererleichterungen-voran-a-13751050-56f6-4efc-b82a-adc1b222305f',\n",
       " 'https://www.spiegel.de/wissenschaft/haptik-forschung-raetsel-des-knuddelns-a-f50c8283-38d8-427a-aefb-aadeeccc4e61',\n",
       " 'https://www.spiegel.de/stil/wein-in-der-werbung-diese-schaumweine-machen-definitiv-suechtig-a-ab93fbb4-aec3-443e-9364-20094a9e75d8',\n",
       " 'https://www.spiegel.de/gesundheit/diagnose/alzheimer-medikament-leqembi-in-grossbritannien-zugelassen-in-der-eu-nicht-a-beaa7b48-757a-436b-8438-ff0354aa79ff',\n",
       " 'https://www.spiegel.de/panorama/justiz/manching-spektakulaerer-diebstahl-eines-keltenschatzes-vier-maenner-angeklagt-a-96dbe00f-65e5-40a2-91a2-b42f3384f877',\n",
       " 'https://www.spiegel.de/panorama/bildung/bildungspolitik-schuelerkritik-in-baden-wuerttemberg-veralteter-unterricht-ueberholte-unterrichtskonzepte-a-b8b70638-f790-446a-8e38-278088460d4d',\n",
       " 'https://www.spiegel.de/panorama/leute/smashing-pumpkins-frontmann-billy-corgan-spricht-ueber-feuermal-a-a8e43afb-21f1-4f14-b41e-35253397f1a3',\n",
       " 'https://www.spiegel.de/start/steuerberaterin-werden-gutes-gehalt-und-einblicke-in-das-privatleben-von-mandanten-a-45fa5dea-899a-4b93-92ac-614b9300e184',\n",
       " 'https://www.spiegel.de/auto/erockit-elektromotorrad-im-test-mit-pedalen-auf-der-autobahn-a-fb9cfc73-74e8-4d65-849c-3f3a989edf1d',\n",
       " 'https://www.spiegel.de/panorama/gesellschaft/letzte-generation-klimaaktivisten-setzen-auf-neue-proteststrategie-ohne-kleber-spiegel-tv-a-87dd6e19-10ce-49b1-bfe7-640d81bbef9c',\n",
       " 'https://www.spiegel.de/wirtschaft/tuerkei-inflationsrate-sinkt-auf-niedrigsten-stand-seit-mehr-als-einem-jahr-a-779b4ab0-0ba1-4a5b-bb10-a1bb4ba9fbec',\n",
       " 'https://www.spiegel.de/wirtschaft/soziales/namibia-deutsche-wasserstoffplaene-koennten-kz-gedenkstaette-schaden-a-8ec07b72-7c67-44bb-a851-c716e282fd36',\n",
       " 'https://www.spiegel.de/politik/deutschland/freie-universitaet-berlin-antisemitismus-gegen-juedische-studenten-spiegel-tv-a-f780345a-a0bd-46e7-bf79-f1a90e4b6fc5',\n",
       " 'https://www.spiegel.de/politik/deutschland/afd-sperrminoritaet-in-thueringen-die-macht-der-blockade-a-15edd424-463c-438b-b7eb-3fb57bccc734',\n",
       " 'https://www.spiegel.de/politik/deutschland/landtagswahl-sachsen-cdu-laut-prognosen-knapp-vor-afd-wagenknecht-partei-bsw-stark-a-ad683a8e-c096-4198-a7b1-8e3be2a15ab5',\n",
       " 'https://www.spiegel.de/start/stepstone-gehaltsreport-in-diesen-ausbildungsberufen-gibt-es-die-hoechsten-einstiegsgehaelter-a-998c1a9b-acbb-462a-9c4c-3c556a4284b3',\n",
       " 'https://www.spiegel.de/panorama/leute/katy-perry-ihre-liebessprache-und-beziehungspraeferenzen-im-podcast-enthuellt-a-67bd6917-0f74-43ae-b50f-45ccc3333d66',\n",
       " 'https://www.spiegel.de/gesundheit/psychotherapie-stille-hat-die-kraft-das-gedankenkreisen-zu-stoppen-a-05f662a0-b12c-4684-9f60-3c7831a2298f',\n",
       " 'https://www.spiegel.de/wissenschaft/mensch/solingen-der-terror-und-die-reaktionen-gefuehlte-bedrohungen-und-reale-risiken-a-5ba05260-f37a-4b93-910d-c556a30ab33c',\n",
       " 'https://www.spiegel.de/tests/haushalt/diese-spuelmaschinen-empfiehlt-die-stiftung-warentest-2024-a-97acdd16-3376-4c13-bea1-4e664a8b888e',\n",
       " 'https://www.spiegel.de/auto/fahrberichte/citroen-e-c3-im-test-so-viel-elektroauto-gibt-es-fuer-wenig-geld-a-170b0369-3d6a-4503-b28c-def5a7ebb701',\n",
       " 'https://www.spiegel.de/panorama/gesellschaft/spiegel-tv-vom-26-08-2024-amok-in-solingen-die-wahlen-im-osten-a-4b25e799-c3a7-4af2-9a87-12daf11136ae',\n",
       " 'https://www.spiegel.de/panorama/leute/rudolph-giuliani-schuldet-wahlhelferinnen-148-millionen-dollar-nun-wollen-sie-seine-wohnung-pfaenden-a-65341c40-2b08-483b-b791-9ad65180d616',\n",
       " 'https://www.spiegel.de/panorama/justiz/schweden-queen-of-trash-prozess-um-umweltskandal-beginnt-a-387ba786-75db-4a24-9ecf-1b73e86fc6c7',\n",
       " 'https://www.spiegel.de/panorama/gesellschaft/teufelsaustreibung-vor-laufender-kamera-der-exorzist-aus-dem-internet-spiegel-tv-a-faa800e5-492d-428c-9059-9a385b2ccb5a',\n",
       " 'https://www.spiegel.de/sport/fussball/sol-bamba-ist-tot-cardiff-city-legende-mit-39-jahren-gestorben-a-1f957432-5c80-4ad2-811d-194f9434aeab',\n",
       " 'https://www.spiegel.de/psychologie/psychologie-der-kooperation-wie-wir-anderen-gut-helfen-koennen-a-027bca5a-d40c-4fd1-9a44-678f1165d1ab',\n",
       " 'https://www.spiegel.de/tests/elektronik/soundbars-im-test-sehr-guter-tv-sound-ist-teuer-guter-nicht-a-b31552f5-57d1-4835-989c-14c595bdf977',\n",
       " 'https://www.spiegel.de/wirtschaft/unternehmen/bmw-ruft-fast-alle-vollelektrischen-minis-zurueck-schwachstelle-im-akkusystem-a-0f060462-2081-448b-8588-d0576a403a6e',\n",
       " 'https://www.spiegel.de/wirtschaft/wirtschaftskriminalitaet-eigene-mitarbeiter-sorgen-fuer-mehr-schaden-als-externe-taeter-a-052a9863-948f-4634-91fd-5ab97e73276c',\n",
       " 'https://www.spiegel.de/netzwelt/blake-lively-justin-baldoni-und-die-diskussion-ueber-haeusliche-gewalt-a-cfb43b80-f63a-4d49-8534-77b01e9642b1',\n",
       " 'https://www.spiegel.de/wissenschaft/weltall/astronomie-drittes-energiefeld-der-erde-entdeckt-a-f715e09a-24fb-4d12-b001-efaaf809d6cf',\n",
       " 'https://www.spiegel.de/geschichte/lesbische-beziehungen-in-den-1970ern-revolte-gegen-die-herrschende-sexualitaet-a-d55bc5e2-aeb5-49cd-ac1f-c06964269a53',\n",
       " 'https://www.spiegel.de/politik/deutschland/landtagswahl-im-osten-diese-spd-wird-nicht-ueberleben-kolumne-a-2522807b-ddad-4bbf-8a95-94c8ea6a2cd5',\n",
       " 'https://www.spiegel.de/psychologie/souveraen-entscheidungen-treffen-so-finden-sie-heraus-was-sie-wirklich-wollen-a-b98e4eae-eb59-4e0c-8337-e7a5daf66e19',\n",
       " 'https://www.spiegel.de/deinspiegel/warum-ost-und-westdeutschland-unterschiedlich-sind-fuer-kinder-erklaert-a-7a164815-d3b1-4262-a7be-fb934b9d7fd7',\n",
       " 'https://www.spiegel.de/netzwelt/netzpolitik/x-und-telegram-ueberraschung-auch-tech-milliardaere-stehen-nicht-ueber-dem-gesetz-a-fdb97974-1e0c-4e32-b117-05bb8e5d38ed',\n",
       " 'https://www.spiegel.de/geschichte/zeitreise-der-spiegel-vor-50-jahren-neue-eiszeit-a-afe02bcc-5d17-4ac1-8597-23ffa1baaf71',\n",
       " 'https://www.spiegel.de/auto/benzin-und-diesel-verband-der-autoindustrie-fuer-komplettausstieg-aus-fossilen-kraftstoffen-bis-2045-a-3ca2b811-0638-4e95-bd05-f6e7c04b256d',\n",
       " 'https://www.spiegel.de/panorama/leute/millionaer-jens-hilbert-ueber-geld-ich-wollte-es-allen-zeigen-spiegel-tv-a-ca5e9b26-297b-4568-8f57-21d1062b58b1',\n",
       " 'https://www.spiegel.de/panorama/gesellschaft/spiegel-tv-vom-12-02-2024-kampf-gegen-die-rechten-nahostkonflikt-an-der-uni-lindner-vs-klimaaktivisten-a-cc9c6b2a-2ea2-41ca-b4c4-2b6aca0fbe82',\n",
       " 'https://www.spiegel.de/services/der-spiegel-verkaufsstellen-im-ausland-a-049f5763-6ba6-42fc-9abf-ed043aa7e94f',\n",
       " 'https://www.spiegel.de/kultur/literatur/harry-potter-back-to-hogwarts-in-hamburg-ein-tag-mit-hagrid-quidditch-und-alraunen-a-84c180e4-97bd-4e39-bc1c-2968e6f9f6c4',\n",
       " 'https://www.spiegel.de/services/in-was-fuer-einer-welt-leben-wir-a-719c1522-25de-4f59-8611-7a7b25573dc4',\n",
       " 'https://www.spiegel.de/panorama/oesterreich-zwei-arbeiter-bei-einsturz-eines-kellergewoelbes-gestorben-a-2adb6e9f-0f82-4963-b707-23227ac8470d',\n",
       " 'https://www.spiegel.de/tests/brettspiele/brettspiele-fuer-2-personen-stellar-match-of-the-century-philosophie-dracula-vs-van-helsing-a-b484a51c-38fb-473a-86dd-38d8d33c15e9',\n",
       " 'https://www.spiegel.de/tests/moderne-maerchen-empfehlungen-fuer-kinder-und-jugendliche-a-3924cee1-5001-403d-87ce-f781a1483cbe',\n",
       " 'https://www.spiegel.de/sport/wie-sebastian-steudtner-im-gefaehrlichen-weisswasser-fuer-unfaelle-vorsorgt-a-92ab6f98-75ed-47db-a0db-b23a12e236d2',\n",
       " 'https://www.spiegel.de/panorama/gesellschaft/spiegel-tv-vom-15-07-2024-fussball-polizei-und-die-3-halbzeit-a-8a71f51a-8a0b-4d69-a675-cba224d060c8',\n",
       " 'https://www.spiegel.de/tests/sachbuecher-fuer-kinder-wenn-lesen-schlau-und-spass-macht-a-f5fe5511-3fb3-4c81-8239-e49c9235f48a',\n",
       " 'https://www.spiegel.de/panorama/gesellschaft/teufelsaustreibung-gewalt-an-bahnhoefen-spiegel-tv-vom-08-04-2024-a-5adf508c-8322-4780-b929-ecc041316b7d',\n",
       " 'https://www.spiegel.de/panorama/bensheim-hessen-siebenjaehriger-junge-bei-badeunfall-gestorben-a-09165fd7-be86-483b-af88-9d2915cbc6b1',\n",
       " 'https://www.spiegel.de/auto/rolls-royce-spectre-elektroauto-der-luxusklasse-im-ausfuehrlichen-test-a-4f117ee9-ea02-4932-9af3-94dc2e5a223b',\n",
       " 'https://www.spiegel.de/tests/brettspiele/partyspiele-habt-ihr-mal-ein-paar-sekunden-a-f5aa2aa3-8860-4e1b-8d10-089c877f3ef6',\n",
       " 'https://www.spiegel.de/auto/morelo-loft-premium-86-lb-camper-im-test-a-738ecff3-640a-43db-9dcd-d8f88c537b1e',\n",
       " 'https://www.spiegel.de/psychologie/freunde-einladen-trotz-unlust-wie-ich-meine-einsamkeit-ueberwunden-habe-a-38475c3d-1af9-4733-a2cf-324be3dc4bbe',\n",
       " 'https://www.spiegel.de/politik/deutschland/landtagswahlen-in-thueringen-und-sachsen-fuenf-lehren-a-b9e9aa81-32d4-45fe-bd62-b62325345b24',\n",
       " 'https://www.spiegel.de/politik/sahra-wagenknecht-politisches-phaenomen-mit-grosser-anziehungskraft-spiegel-tv-a-44418744-9b7b-4818-90cc-cbc3713e561a',\n",
       " 'https://www.spiegel.de/panorama/papst-franziskus-in-indonesien-gelandet-erste-station-der-asienreise-a-e0a71a77-3fd8-485b-b482-a3f2ac37b6bf',\n",
       " 'https://www.spiegel.de/geschichte/johann-astor-deutsche-einwanderer-und-die-us-wirtschaft-dagobert-duck-war-ein-deutscher-a-8f2d8ddc-faee-40c5-9113-add66774d39d',\n",
       " 'https://www.spiegel.de/wissenschaft/natur/schweiz-fadenwuermer-sollen-invasive-art-japankaefer-unschaedlich-machen-a-d5789629-602a-4d9a-bf29-220f058e19a0',\n",
       " 'https://www.spiegel.de/politik/deutschland/sahra-wagenknecht-wird-das-bsw-zum-cdu-mehrheitsbeschaffer-in-sachsen-und-thueringen-a-cd39e30b-2c61-4cdc-8174-6e2146ae6dd4',\n",
       " 'https://www.spiegel.de/kultur/salvador-dali-lithographien-lagerten-50-jahre-in-einer-garage-a-82a5ed61-c902-4afe-943f-dc4f4b824e94',\n",
       " 'https://www.spiegel.de/panorama/leute/jessica-alba-schauspielerin-kauft-das-elternhaus-ihres-vaters-als-geschenk-a-e92ffa82-b673-4601-a58b-9b85d1069bf0',\n",
       " 'https://www.spiegel.de/start/studieren-in-flensburg-campus-wohnviertel-wg-zimmer-preise-und-kneipen-a-c70d7671-bfce-4f1b-84ee-f00f3e2bfb99',\n",
       " 'https://www.spiegel.de/sport/golf-legende-bernhard-langer-spieler-gottes-a-43a6a66d-9d54-46f2-8ff1-62c1ad791ca2',\n",
       " 'https://www.spiegel.de/sport/fussball/em-2024-omid-nouripour-ewald-lienen-und-lena-cassel-wir-sehen-aus-wie-eine-kneipenschlaegerei-a-4d2e6b7d-aa19-4a99-9c74-7f522d1d31c7',\n",
       " 'https://www.spiegel.de/geschichte/attentat-auf-john-f-kennedy-die-witwe-der-wahlkampf-und-ein-kranker-praesident-a-d40421ba-3741-401a-bc5e-05a8813a7dde',\n",
       " 'https://www.spiegel.de/sport/spanien-rundfahrt-radstar-wout-van-aert-muss-nach-sturz-aufgeben-a-c11f34ad-e2e7-4f49-ba09-b090da3a8d71',\n",
       " 'https://www.spiegel.de/politik/deutschland/afd-und-rechtsextremismus-in-sachsen-beleidigungen-drohungen-hetze-spiegel-tv-a-3ada65e4-f0d4-4702-8f14-6f165fe9e575',\n",
       " 'https://www.spiegel.de/backstage/dirk-kurbjuweit-uebernimmt-spiegel-chefredaktion-von-steffen-klusmann-a-88fc8645-16fe-4d20-9ccb-6bfdb02bf891',\n",
       " 'https://www.spiegel.de/politik/deutschland/landtagswahl-in-sachsen-warum-die-afd-bei-jungen-waehlern-so-beliebt-ist-a-5067c48c-986f-45b7-8669-a311241b1eb3',\n",
       " 'https://www.spiegel.de/geschichte/albert-speer-hitlers-persoenlicher-architekt-und-ruestungsminister-im-dritten-reich-spiegel-tv-a-d36af2fc-6eef-44cc-8520-3108249fc92e',\n",
       " 'https://www.spiegel.de/politik/sachsen-und-thueringen-wie-es-nach-den-afd-erfolgen-bei-den-landtagswahlen-weitergeht-a-e1ac4678-28df-4a41-9b6d-187eeb59e055',\n",
       " 'https://www.spiegel.de/backstage/die-neue-weltordnung-nach-dem-ukrainekrieg-a-0a7dca43-1649-485f-9cda-49beb8b238b9',\n",
       " 'https://www.spiegel.de/panorama/ost-west-vergleich-wie-unfair-ist-der-wohlstand-verteilt-a-696fddb4-c9e9-4013-80c2-a12bb911030f',\n",
       " 'https://www.spiegel.de/wirtschaft/soziales/buergergeld-hubertus-heil-kuendigt-2025-nullrunde-an-a-39d975b3-8f2e-44a3-8e7b-149a8fec24bf',\n",
       " 'https://www.spiegel.de/sport/olympia/paralympische-sommerspiele-2024-schwimmer-josia-topf-gewinnt-silbermedaille-ueber-50-meter-ruecken-a-f4507057-1fc7-47d8-816e-23ed9068d5bd',\n",
       " 'https://www.spiegel.de/panorama/extremschwimmen-jim-dreyer-plant-ueberquerung-von-michigansee-mit-61-jahren-a-5304fc71-03f0-4a28-8eae-b786b885809d',\n",
       " 'https://www.spiegel.de/deinspiegel/familien-podcast-wieso-ki-musik-nicht-die-zukunft-ist-und-warum-teenager-dauermuede-sind-a-bb2f22fc-614e-4fd1-aed0-e838fff83c94',\n",
       " 'https://www.spiegel.de/panorama/gesellschaft/kein-pardon-fuer-parksuender-ich-bin-der-anzeigenhauptmeister-spiegel-tv-a-cae5d191-afe5-4284-95ec-6772fb7bb4a1',\n",
       " 'https://www.spiegel.de/start/ausbildung-zum-waldorflehrer-von-mondknoten-atlantis-und-reinkarnation-a-17a3fbbb-f23f-421c-aee3-1b6e06d3e615',\n",
       " 'https://www.spiegel.de/international/business/russian-tech-billionaire-arkady-volozh-europe-should-be-smart-enough-to-use-these-people-who-fled-russia-a-4c2f524b-8593-4bf1-a45b-cb49fa25972f',\n",
       " 'https://www.spiegel.de/politik/deutschland/thueringen-und-sachsen-charlotte-knobloch-haelt-hohe-afd-gewinne-in-bayern-nicht-fuer-vorstellbar-a-c668f812-f99a-4d3d-ac97-b01d21465f2f',\n",
       " 'https://www.spiegel.de/reise/europa/reykjanes-auf-island-und-die-vulkanausbrueche-katastrophen-wir-sind-dankbar-fuer-die-geschenke-der-natur-a-6cc91fc6-aa25-4f71-884e-fceb7a996e97',\n",
       " 'https://www.spiegel.de/ausland/kursk-offensive-der-ukraine-sind-russlands-rote-linien-nur-ein-bluff-a-0aba329e-7ba2-4402-b5e9-e43f1a77408b',\n",
       " 'https://www.spiegel.de/psychologie/alleine-arbeiten-heisst-doppeltes-hamsterrad-kolumne-a-cc0bcb43-a03a-4aa9-a9bf-c5562432fe65',\n",
       " 'https://www.spiegel.de/ausland/russland-karin-kneissl-von-wladimir-putin-zur-tiger-botschafterin-ernannt-a-4396d1ac-96c2-44cd-9752-0e80713f44dc',\n",
       " 'https://www.spiegel.de/sport/olympia/paralympische-spiele-2024-leichtathlet-leon-schaefer-enttaeuscht-auf-100-metern-felix-streng-mit-bronze-a-2d275d13-e924-4e4d-8e13-da06fc3bbfe4',\n",
       " 'https://www.spiegel.de/kultur/kino/ian-mckellen-herr-der-ringe-schauspieler-will-nach-sturz-von-buehne-wieder-auftreten-a-b3cae3d8-26d3-4fcd-81e7-8bb3a1e2d3e3',\n",
       " 'https://www.spiegel.de/stil/olympia-2024-in-paris-die-sommerspiele-geniessen-wie-gott-in-frankreich-a-9172531e-2b74-4799-8a66-c03535b30bab',\n",
       " 'https://www.spiegel.de/start/ausbildung-unternehmen-werben-auf-falschen-plattformen-um-nachwuchs-a-d027a13e-db2b-4de2-9eb3-2d83e17553ee',\n",
       " 'https://www.spiegel.de/kultur/kino/george-clooney-lobt-ruecktritt-von-joe-biden-bei-auftritt-in-venedig-a-20acae11-94f1-42c9-b8dc-340b6dcff96f',\n",
       " 'https://www.spiegel.de/wirtschaft/unternehmen/prozess-um-dieselaffaere-ex-vw-chef-winterkorn-weist-vorwuerfe-zurueck-a-9c83370e-54a4-410d-86b8-afea0de84c8e',\n",
       " 'https://www.spiegel.de/stil/deutsche-koeche-im-ausland-wie-ausgezeichnete-gastronomen-auswandern-a-69b05268-88c3-4674-8585-c62f7fab0e68',\n",
       " 'https://www.spiegel.de/ausland/griechenland-dorf-taucht-aus-stausee-auf-a-3fbdc01d-2aac-4ff9-886c-edbac2fbf1e2',\n",
       " 'https://www.spiegel.de/ausland/russland-attackiert-kiew-mit-drohnen-und-raketen-a-b2191084-e80d-4e7b-8078-06c5ae1494ad',\n",
       " 'https://www.spiegel.de/ausland/tuerkei-wie-das-land-seine-archaeologischen-schaetze-dem-tourismus-opfert-a-82587af3-5912-4942-9ecc-fc916bbd1bc2',\n",
       " 'https://www.spiegel.de/ausland/ukraine-aussenminister-dmytro-kuleba-bietet-ruecktritt-an-a-a95c94b0-9da9-477d-9a25-5ac03b751b48',\n",
       " 'https://www.spiegel.de/ausland/venezuela-machthaber-maduro-zieht-weihnachten-in-oktober-vor-a-1907abfc-af53-4b40-9131-4b9a48da8b60',\n",
       " 'https://www.spiegel.de/panorama/mont-blanc-tunnel-zwischen-frankreich-und-italien-wegen-bauarbeiten-fuer-15-wochen-gesperrt-a-2c6e27c1-9ba2-494c-bfb7-b88cd08a7a14',\n",
       " 'https://www.spiegel.de/panorama/justiz/jerome-boateng-und-kasia-lenhardt-die-wuerde-einer-toten-a-f0327d3f-6b83-4f1e-9851-e7a92ebfe778',\n",
       " 'https://www.spiegel.de/start/ausbildung-in-deutschland-jeder-zweite-betrieb-findet-zu-wenige-azubis-a-00b47bb6-bacb-45ad-8231-897402c539fd',\n",
       " 'https://www.spiegel.de/geschichte/attentat-auf-john-f-kennedy-jfk-bodyguard-paul-landis-bricht-sein-schweigen-nach-60-jahren-a-9663833c-ef10-4230-8c01-e60bfd2c1f00',\n",
       " 'https://www.spiegel.de/ausland/krise-in-israel-schlimmer-geht-immer-a-79cd036a-4471-469c-bc06-b717424fe55c',\n",
       " 'https://www.spiegel.de/panorama/gesellschaft/spiegel-tv-vom-08-01-2024-boellerei-und-nicht-immer-spass-dabei-silvester-in-berlin-a-9c3e56dd-b7ca-4ca0-ae0b-d484cb7f2beb',\n",
       " 'https://www.spiegel.de/karriere/australien-arbeitnehmer-haben-kuenftig-ein-recht-auf-nichterreichbarkeit-a-62c43a5a-f5bb-493c-a425-f025bd8a3d6d',\n",
       " 'https://www.spiegel.de/international/world/a-prisoner-of-war-describes-captivity-in-russia-at-night-i-prayed-i-wouldnt-survive-to-the-next-day-a-a2343696-f237-49cd-8c29-9f566b5e775e',\n",
       " 'https://www.spiegel.de/tests/haushalt/kaffeemuehlen-im-test-die-besten-modelle-zum-selbstmahlen-a-087cec98-3b8f-49b0-b4fa-99de6907cccd',\n",
       " 'https://www.spiegel.de/netzwelt/netzpolitik/brasilien-starlink-beugt-sich-der-justiz-netzsperre-gegen-x-wird-umgesetzt-a-64acd999-29da-47ca-854e-a678669f3aa0',\n",
       " 'https://www.spiegel.de/tests/camping/isomatten-und-camping-matratzen-im-test-da-legst-di-nieder-a-cbf39e5a-eaf8-494f-8a07-956c805eab90',\n",
       " 'https://www.spiegel.de/deinspiegel/podcast-wer-wie-buzz-stimmen-faelschen-mit-ki-und-warum-nike-die-meisten-sneaker-verkauft-a-147cb7d6-d3d9-4cad-acb4-549402f1a061',\n",
       " 'https://www.spiegel.de/kultur/richard-gere-spricht-ueber-erotische-pretty-woman-szene-mit-julia-roberts-a-e6bd2543-5525-4b4e-ad6d-e0c6a292eacf',\n",
       " 'https://www.spiegel.de/backstage/inflation-und-krise-1923-gibt-es-parallelen-zu-heute-a-98a93789-c0fa-49c7-a614-d2add410cf05',\n",
       " 'https://www.spiegel.de/netzwelt/netzpolitik/brasilien-alexandre-de-moraes-kampf-gegen-das-x-netzwerk-von-elon-musk-a-2b307056-55cb-497b-bb05-cfb5bb3fae9f',\n",
       " 'https://www.spiegel.de/gesundheit/diagnose/natalie-grams-ueber-long-covid-sind-nicht-alle-frauen-erschoepft-das-verkennt-krass-die-schwere-der-krankheit-a-21f58783-f7f1-4cd9-a2a9-67debded756a',\n",
       " 'https://www.spiegel.de/backstage/text-to-speech-bei-spiegel-de-ab-sofort-alle-artikel-auch-zum-hoeren-a-88ddc8c2-ba79-4daf-b661-9d2fadf16c59',\n",
       " 'https://www.spiegel.de/ausland/anschlag-von-solingen-interview-mit-der-familie-des-mutmasslichen-taeters-issa-al-h-a-85374168-642e-43a0-b2ad-54f0b81b8db9',\n",
       " 'https://www.spiegel.de/start/fachkraeftemangel-in-ausbildungsberufen-an-der-zeit-die-grenzen-zwischen-ausbildung-und-studium-zu-ueberwinden-a-79dd6a30-f305-4771-bb2d-56d4482114b6',\n",
       " 'https://www.spiegel.de/panorama/justiz/hamburg-taskforce-gegen-rauschgiftkriminalitaet-ein-blick-hinter-die-kulissen-spiegel-tv-a-1a71d55c-a507-4593-8110-304b82af344e',\n",
       " 'https://www.spiegel.de/geschichte/fotos-vom-stonehenge-bau-ein-bild-und-seine-geschichte-a-47970539-9a1b-4ba2-9d91-c5ae3fd9de59',\n",
       " 'https://www.spiegel.de/panorama/grubenunglueck-in-zwickau-1960-ferienlager-fuer-die-kinder-der-toten-bergleute-zeitzeugin-erzaehlt-a-cb0d8405-ab3f-4a08-b41e-67e88ce473a5',\n",
       " 'https://www.spiegel.de/international/world/gaza-city-possible-war-crime-why-did-israel-bomb-this-residential-building-a-a7e9e4f9-9879-404a-bb87-4a17cef81f8c',\n",
       " 'https://www.spiegel.de/panorama/spiegel-tv-vom-19-08-2024-loveparade-2024-neonazis-im-harz-pfandleihhaus-auf-der-reeperbahn-a-cc5bbc32-52cd-442c-9e70-97bb787f99ac',\n",
       " 'https://www.spiegel.de/panorama/gesellschaft/holocaust-leugner-schaendung-von-gedenkstaetten-spiegel-tv-a-9885eafb-6415-43a7-99b9-db69dfdcadec',\n",
       " 'https://www.spiegel.de/panorama/gesellschaft/spiegel-tv-vom-11-12-2023-reichsbuerger-prozess-buerokratie-wahnsinn-schleuser-aufgriff-a-0618882b-e794-459a-9d93-c6720059cd25',\n",
       " 'https://www.spiegel.de/sport/big-wave-surfer-sebastian-steudtner-aus-der-provinz-an-die-weltspitze-a-9cda9798-9c22-4881-b28a-47d8e987b0c2',\n",
       " 'https://www.spiegel.de/sport/tennis/us-open-viertelfinale-alexander-zverevs-traum-vom-grand-slam-titel-erneut-geplatzt-die-zeit-laeuft-ihm-davon-a-77f139e2-6af6-4331-919f-8a039b4c352b',\n",
       " 'https://www.spiegel.de/geschichte/historisches-pancake-race-von-olney-warum-rennen-frauen-hinter-pfannkuchen-her-a-3a11fc1d-2827-4da0-b118-defb68773b13',\n",
       " 'https://www.spiegel.de/geschichte/emanuel-leutze-washington-crossing-the-delaware-george-washington-auf-dem-weg-zum-sieg-a-c47ceab8-3fa5-486e-9654-ab596b104f9b',\n",
       " 'https://www.spiegel.de/ausland/ukraine-praesident-selenskyj-baut-kabinett-um-mehrere-minister-treten-zurueck-a-884880de-445b-4597-93df-e315407ebd4f',\n",
       " 'https://www.spiegel.de/psychologie/mutter-ueber-umgang-mit-adhs-sie-war-das-duracell-haeschen-der-kindergartengruppe-a-73427a15-bdd0-4fb6-9764-26b74e00f506',\n",
       " 'https://www.spiegel.de/geschichte/wolfgang-ischingers-schul-und-studienzeit-in-den-usa-die-schulglocke-wurde-gelaeutet-und-es-hiess-auf-john-f-kennedy-sei-geschossen-worden-a-145629fe-6f93-485f-9169-66d99e312e2b',\n",
       " 'https://www.spiegel.de/panorama/gesellschaft/spiegel-tv-vom-18-03-2024-ohne-kleber-fuers-klima-mord-im-auftrag-des-kremls-auslaendische-kaempfer-im-ukrainekrieg-a-a69f4128-5c23-4c28-811f-1908f08a35db',\n",
       " 'https://www.spiegel.de/start/studieren-in-wilhelmshaven-campus-wohnviertel-wg-zimmer-preise-und-kneipen-a-4260d75e-2025-4985-84ba-92c7ad84cefa',\n",
       " 'https://www.spiegel.de/sport/american-football/ricky-pearsall-nfl-talent-von-den-san-francisco-49ers-in-die-brust-geschossen-a-06d71b89-f91c-4431-964c-1782a9451e8d',\n",
       " 'https://www.spiegel.de/familie/streit-vor-den-kindern-das-beste-ist-den-konflikt-auf-seiner-seite-zu-beenden-a-98baac5f-8a70-4e19-8674-c0e0fc37a97b',\n",
       " 'https://www.spiegel.de/geschichte/hitler-stalin-pakt-wladimir-putin-haelt-den-deal-mit-den-nazis-fuer-keine-schlechte-idee-a-00192641-33ac-43f6-8e18-56292c1f3bd4',\n",
       " 'https://www.spiegel.de/sport/christoph-daum-im-spitzengespraech-frueher-war-der-gegner-auf-der-anderen-seite-jetzt-ist-er-bei-mir-drin-a-aa05e68a-9a6e-4096-89b9-8ff68df4c64e',\n",
       " 'https://www.spiegel.de/stil/social-design-award-2024-jetzt-noch-schnell-mitmachen-beim-leserwettbewerb-a-cb1e2700-15bb-43fe-a9b6-e4e4662232ac',\n",
       " 'https://www.spiegel.de/wirtschaft/bayesian-hewlett-packard-will-nach-tod-von-mike-lynch-weiter-schadenersatz-a-6d2dc14e-a502-45bb-8718-f7792bd5b548',\n",
       " 'https://www.spiegel.de/karriere/betriebliche-altersvorsorge-bundesarbeitsgericht-staerkt-arbeitgeber-bei-entgeltumwandlung-a-f9761dae-43d7-4cd2-af4f-a598935fd7c6',\n",
       " 'https://www.spiegel.de/sport/paralympics-2024-sportschuetzin-natascha-hiltrop-holt-drittes-deutsches-gold-a-c70aeab4-7c83-462d-9ac8-e03ca05d2e09',\n",
       " 'https://www.spiegel.de/kultur/musik/oasis-konzerte-ticketmaster-in-der-kritik-wegen-gestiegener-preise-a-4221615d-e730-4c99-bda7-05f53d0bc238',\n",
       " 'https://www.spiegel.de/ausland/nicolas-maduro-usa-setzen-flugzeug-von-venezuelas-staatschef-fest-a-b2d7d638-f4ee-472d-81c8-6d367febac98',\n",
       " 'https://www.spiegel.de/gesundheit/diagnose/alzheimer-medikament-leqembi-warum-in-europa-nicht-zugelassen-a-4e5e1d37-bb48-471c-bb7b-4e9e1be236a2',\n",
       " 'https://www.spiegel.de/panorama/justiz/sarstedt-35-jaehriger-soll-hotelbetreiber-in-sarstedt-erstochen-haben-a-1c066163-69da-4fa1-81e8-755239158c62',\n",
       " 'https://www.spiegel.de/international/world/putins-invasion-of-ukraine-are-airbus-satellite-images-helping-russia-wage-war-a-3ab1e690-91a7-4b46-8915-d7e0c0b5054d',\n",
       " 'https://www.spiegel.de/panorama/gesellschaft/hamburg-das-pfandleihhaus-auf-der-reeperbahn-biete-rolex-brauche-bargeld-a-2169640b-53f0-4934-a337-5590307399fb',\n",
       " 'https://www.spiegel.de/deinspiegel/raetsel-des-alltags-warum-gehen-tonnenschwere-schiffe-nicht-unter-a-cdad7519-bf05-4fbf-96a2-a5e7beefdf19',\n",
       " 'https://www.spiegel.de/panorama/suenna-in-thueringen-kinder-und-erwachsene-schweben-nach-traktorunfall-in-lebensgefahr-a-cb7e16af-2168-42b3-b382-078a5aedae0a',\n",
       " 'https://www.spiegel.de/ausland/kursk-offensive-ukrainische-tv-reporterin-berichtet-aus-russischem-ort-sudscha-a-ddca0f12-08a6-4be4-a4ff-02f442b744c1',\n",
       " 'https://www.spiegel.de/start/kochshow-ohne-kohle-rezept-fuer-nudeln-mit-wodka-sosse-a-41396b00-80e0-48e9-97b6-0bd7162b151c',\n",
       " 'https://www.spiegel.de/psychologie/olympia-2024-europameisterschaft-wieso-uns-sport-seit-jeher-fasziniert-a-aa2ff71a-1c55-4073-b991-f50c6b9495bd',\n",
       " 'https://www.spiegel.de/deinspiegel/tauben-hotel-in-hamburg-tierschuetzer-im-einsatz-a-853ce57e-1e6e-4b0c-ab5a-bf3a12cdc883',\n",
       " 'https://www.spiegel.de/netzwelt/games/star-wars-outlaws-endlich-ein-rundum-gelungenes-star-wars-videospiel-a-7b0c91a2-ce5e-41ba-b04f-c997fb611fca',\n",
       " 'https://www.spiegel.de/panorama/vermont-dorf-verbannt-influcencer-wegen-schoener-herbstfotos-a-392fcd2f-dfe3-472c-ad17-633661b0c592',\n",
       " 'https://www.spiegel.de/ausland/ukraine-frontbericht-aus-dem-kriegsgebiet-es-ist-jetzt-ein-drohnenkrieg-spiegel-tv-a-a91827c4-32c7-4c6d-a65f-1eed689fde67',\n",
       " 'https://www.spiegel.de/panorama/gesellschaft/qualzucht-von-mops-chihuahua-und-co-das-leiden-der-modehunde-spiegel-tv-fuer-arte-re-a-6f3653ea-2bbc-4dd3-8e9e-341e1d2756aa',\n",
       " 'https://www.spiegel.de/deinspiegel/so-arbeitet-ein-reitlehrer-ein-job-mit-hindernissen-a-ad6a4730-4ed5-4068-8ec0-3eca740b42a7',\n",
       " 'https://www.spiegel.de/politik/deutschland/brandenburg-an-der-havel-eklat-wegen-afd-teilnahme-an-gedenkveranstaltung-fuer-ns-opfer-a-1fe518fe-e4fd-4093-aa3f-5ee5d97ef837',\n",
       " 'https://www.spiegel.de/wirtschaft/wahlen-in-thueringen-und-sachsen-erfolg-von-afd-und-bsw-versetzt-oekonomen-in-sorge-a-d6821b52-aed0-43b2-b54c-6e1ca46e9e8b',\n",
       " 'https://www.spiegel.de/ausland/ukraines-offensive-in-kursk-video-zeigt-angriff-auf-wichtige-russische-bruecken-a-6bc45921-a8ab-4225-8f40-e4ddcb562b24',\n",
       " 'https://www.spiegel.de/familie/etf-so-gelingt-die-geldanlage-auch-ohne-vorwissen-podcast-mit-thomas-kehl-a-6c8051e1-1393-4dfc-9a16-d8ee9117cd7c',\n",
       " 'https://www.spiegel.de/familie/olympia-2024-mein-sohn-sagt-der-hat-das-bestimmt-viel-geuebt-a-f77492a8-08b9-4d20-92cc-f9c2f7dda142',\n",
       " 'https://www.spiegel.de/politik/deutschland/news-migrationstreffen-ampel-wladimir-putin-mongolei-bodo-ramelow-a-6e12969c-1059-45e9-80f8-52b9ee9cf158',\n",
       " 'https://www.spiegel.de/wissenschaft/natur/affen-rufen-sich-beim-namen-a-46a91edd-bc98-402c-abdb-12794e921b91',\n",
       " 'https://www.spiegel.de/backstage/so-kommen-wir-an-informationen-aus-iran-a-df0a5409-eb01-4187-b130-202f5af2bb92',\n",
       " 'https://www.spiegel.de/international/world/trump-almighty-the-republican-party-deifies-the-donald-a-f415b04a-5ae9-4cfb-869a-c4484ca64cfb',\n",
       " 'https://www.spiegel.de/politik/deutschland/sachsen-dresden-untersucht-moegliche-wahlfaelschung-auf-stimmzetteln-a-7de9f2c2-8a70-4ac1-b116-e34c353ea98c',\n",
       " 'https://www.spiegel.de/tests/kueche/grillwerkzeuge-im-test-coole-tools-fuer-heisse-bbq-abende-a-a5025eaf-87b9-480b-9fe8-e1dabdf28c64',\n",
       " 'https://www.spiegel.de/panorama/paris-olympische-ringe-sollen-dem-eiffelturm-erhalten-bleiben-a-f0ef7ca0-198c-4318-8ff1-b7f9c1b092ac',\n",
       " 'https://www.spiegel.de/deinspiegel/verhaltensbiologin-nordamerikanische-woelfe-sind-etwas-entspannter-a-30f8d8a7-d58c-46e1-8ab7-f24e8073b871',\n",
       " 'https://www.spiegel.de/sport/das-gefaehrliche-spiel-der-sportwetten-industrie-a-a96426b1-a510-4e0c-bd9a-c8ae16e2ab37',\n",
       " 'https://www.spiegel.de/panorama/justiz/jugendkriminalitaet-einblicke-in-eine-jugendarrestanstalt-spiegel-tv-a-ce17b1a6-09e5-4177-bde9-407b3de6e58d',\n",
       " 'https://www.spiegel.de/ausland/tim-walz-der-weird-schoepfer-der-donald-trump-beeindruckte-a-a0a09206-3922-4bf7-8050-dd7b4a4e409c',\n",
       " 'https://www.spiegel.de/panorama/justiz/gestaendnisse-einer-mutter-das-tote-baby-vom-waller-see-spiegel-tv-a-e7ff33ae-602a-4bc0-a99e-4a220150240a',\n",
       " 'https://www.spiegel.de/tests/stiftung-warentest-das-sind-die-besten-wanderstoecke-a-ac0da704-7ca6-4522-94d2-b35428cba82d',\n",
       " 'https://www.spiegel.de/partnerschaft/intimchirurgie-warum-lassen-sich-frauen-ihre-vulva-operieren-a-acb16298-c162-4656-b44a-37b9f79b649f',\n",
       " 'https://www.spiegel.de/politik/christian-lindner-vs-die-letzte-generation-ihr-macht-klimaschutz-in-eurer-geschuetzten-deutschen-wohlstandsblase-spiegel-tv-a-ae883a94-dd71-4b3e-bcd2-a36f7ccd71c5',\n",
       " 'https://www.spiegel.de/wirtschaft/volkswagen-koennte-erstmals-werke-in-deutschland-schliessen-a-3ed9d74a-b2fd-4bf2-89de-169978184c59',\n",
       " 'https://www.spiegel.de/geschichte/those-about-to-die-was-bei-der-roland-emmerich-serie-historisch-belegt-ist-und-was-nicht-a-998bf152-33d5-4ce5-9de1-636988af255d',\n",
       " 'https://www.spiegel.de/international/world/the-supreme-courts-immunity-ruling-no-one-can-guarantee-that-trump-is-the-last-maniacal-sociopath-who-will-want-power-in-america-a-71726411-dd39-464a-ac04-e479f142f62b',\n",
       " 'https://www.spiegel.de/tests/haushalt/diese-kaffeemaschinen-mit-pads-und-kapseln-empfiehlt-die-stiftung-warentest-a-62d1d376-90ae-41db-a4c3-54aa55bf74b3',\n",
       " 'https://www.spiegel.de/ausland/huthi-attacken-weitere-handelsschiffe-vor-der-kueste-des-jemen-angegriffen-a-7f3bf5eb-7a30-4208-9ed0-edf5f64a94d8',\n",
       " 'https://www.spiegel.de/psychologie/entscheidungen-treffen-koennen-sie-wichtiges-von-unwichtigem-unterscheiden-a-15e02c01-e336-40f8-88ce-afa88a588ac9',\n",
       " 'https://www.spiegel.de/ausland/barack-und-michelle-obama-begeistern-auf-dem-parteitag-der-demokraten-in-chicago-a-43cbb286-7488-4eec-896c-a2dc4bd18bc5',\n",
       " 'https://www.spiegel.de/kultur/schorsch-kamerun-beim-kunstfest-in-weimar-mit-performance-gegen-den-rechtsruck-a-9b059149-5a0d-41a9-8695-0a0e679afeaa',\n",
       " 'https://www.spiegel.de/tests/elektronik/diese-smartwatches-empfiehlt-die-stiftung-warentest-2024-a-51e3f440-7b27-4a5b-bb5d-267fe021dd44',\n",
       " 'https://www.spiegel.de/backstage/wie-tessa-ganserer-und-linus-giese-fuer-die-rechte-von-queeren-menschen-kaempfen-a-0c8f54ec-3b04-45a6-8bfd-30a0d21fb09e',\n",
       " 'https://www.spiegel.de/sport/formel1/formel-1-charles-leclerc-gewinnt-grossen-preis-von-italien-im-ferrari-max-verstappen-schwach-a-a11fdbb3-29ac-4eaf-9a10-36f9bdb6e910',\n",
       " 'https://www.spiegel.de/wissenschaft/natur/grossbritannien-orichdeenart-das-erste-mal-seit-2009-wiederentdeckt-a-09f7f171-9532-4a3f-b407-28c97863c957',\n",
       " 'https://www.spiegel.de/panorama/justiz/jerome-boateng-urteil-gegen-ex-fussballnationalspieler-wegen-koerperverletzung-ist-rechtskraeftig-a-3b030243-a20f-478f-9e1d-83a166f0012a',\n",
       " 'https://www.spiegel.de/deinspiegel/stauffenberg-attentat-fuer-kinder-erklaert-der-geheime-plan-des-grafen-a-04736f4e-a571-41bf-a13a-b039031a14b5',\n",
       " 'https://www.spiegel.de/geschichte/erfindung-der-strassenbeleuchtung-in-paris-durch-ludwig-xiv-es-werde-licht-a-36c64d05-1345-4ce0-bac6-3b71a5c17a92',\n",
       " 'https://www.spiegel.de/panorama/gesellschaft/spiegel-tv-vom-03-06-2024-der-toedliche-angriff-von-mannheim-im-wahlkampf-mit-christian-lindner-a-b9a00163-2738-423d-af21-3851ac4a8d2d',\n",
       " 'https://www.spiegel.de/auto/deutsche-bahn-ices-sollen-langsamer-fahren-um-puenktlicher-zu-sein-a-e66d7027-a015-4ab1-8a5d-5eb435b889e2',\n",
       " 'https://www.spiegel.de/ausland/inside-gaza-im-kampfeinsatz-mit-der-israelischen-armee-spiegel-tv-a-912f7d4d-6ab5-4da6-b209-80e0a1d5a455',\n",
       " 'https://www.spiegel.de/netzwelt/telefonbetrug-80-jaehriger-faehrt-mutmasslichen-betrueger-zur-polizei-a-bd165826-1c2f-4132-9805-8479a1ebe085',\n",
       " 'https://www.spiegel.de/tests/camping/campingtische-im-test-ordentlich-aufgetischt-a-741e118d-0e28-4a37-9c95-b9778eff1e5f',\n",
       " 'https://www.spiegel.de/deinspiegel/leben-im-mehrgenerationenhaus-ich-teile-mir-mein-zuhause-mit-hundert-leuten-a-12ac54d4-a320-4b48-96d6-03da5390e467',\n",
       " 'https://www.spiegel.de/gesundheit/diagnose/kreisrunder-haarausfall-das-ist-nicht-ina-a-c5ebd1be-6532-45f0-b290-a3784d3a9b6a',\n",
       " 'https://www.spiegel.de/reise/urlaub-in-frankreich-unsere-sommer-in-charroux-a-2c9da90e-4b1b-427e-ad5f-15d1eef47cdc',\n",
       " 'https://www.spiegel.de/geschichte/80-jahre-warschauer-aufstand-warum-die-ns-aufarbeitung-der-deutschen-lueckenhaft-ist-a-5e2e4f90-ef1f-4922-a698-d07e71b3d6bd',\n",
       " 'https://www.spiegel.de/panorama/gesellschaft/fluechtlingskrise-die-kanaren-als-gefaehrliche-route-fuer-migranten-aus-afrika-spiegel-tv-a-8ecba310-fcd8-46b4-9ab3-52c92e75bb78',\n",
       " 'https://www.spiegel.de/kultur/kino/brad-pitt-und-george-clooney-stellen-ihren-film-wolfs-in-venedig-vor-duell-der-tatortreiniger-a-060b77fe-799d-432c-b237-6779219a9d6b',\n",
       " 'https://www.spiegel.de/politik/deutschland/schluettsiel-protest-gegen-robert-habeck-konfrontation-mit-dem-mutmasslichen-anstifter-spiegel-tv-a-70e09318-aa8f-4c9a-a780-9502f90d49f5',\n",
       " 'https://www.spiegel.de/partnerschaft/muttertag-equal-care-was-muetter-gegen-maennliche-selbstueberschaetzung-tun-koennen-a-39d33e56-2c4c-4250-8f6e-21221184905c',\n",
       " 'https://www.spiegel.de/politik/deutschland/franz-muentefering-im-spiegel-spitzengespraech-wir-haben-das-alles-schon-mal-erlebt-den-ganzen-scheiss-a-e455af0c-9277-4350-b07b-f2f3a8a1b730',\n",
       " 'https://www.spiegel.de/stil/apfelbaum-richtig-pflanzen-der-wurm-drin-die-gartenkolumne-a-f8d8203c-0381-4c82-bc7a-79bb881d665b',\n",
       " 'https://www.spiegel.de/wirtschaft/unternehmen/volkswagen-friedrich-merz-sieht-geplante-einschnitte-als-weckruf-fuer-ampelregierung-a-c34526df-4225-41dc-95d9-a816987ccc24',\n",
       " 'https://www.spiegel.de/geschichte/grundrecht-auf-asyl-was-heisst-das-eigentlich-die-fakten-a-323d228e-d86a-4b84-ac93-c5a85a9eff6b',\n",
       " 'https://www.spiegel.de/politik/wahlen-in-thueringen-und-sachsen-widerstand-in-der-cdu-gegen-moegliche-koalition-mit-dem-bsw-a-76431e44-62a2-41ac-9cde-9854b98a9aab',\n",
       " 'https://www.spiegel.de/panorama/justiz/berlin-pizzeria-mitarbeiter-soll-39-000-euro-abgezweigt-haben-a-9a37f507-97fb-45f6-8dea-2179d32b38e0',\n",
       " 'https://www.spiegel.de/tests/elektronik/bewaesserungsventile-im-test-durstloescher-fuer-den-smarten-garten-a-c9f77ee0-6fbb-4942-9045-592953320dc3',\n",
       " 'https://www.spiegel.de/tests/kueche/heissluftfritteusen-im-test-airfryer-von-philips-fritaire-lidl-tefal-cosori-ninja-und-princess-a-b0f3e2d9-704a-4af2-a669-4ea124e1d896',\n",
       " 'https://www.spiegel.de/partnerschaft/dating-krise-bei-jungen-frauen-den-treffe-ich-jetzt-noch-danach-gebe-ich-auf-a-13445751-e975-4bb5-b9e4-6f6c75f4bc38',\n",
       " 'https://www.spiegel.de/deinspiegel/spiele-und-basteltipps-fuer-die-ferien-ein-sommer-ohne-langeweile-a-fed64c8f-1c60-4523-9fd7-4b895c27850e',\n",
       " 'https://www.spiegel.de/politik/deutschland/solingen-attentat-bedeuten-mehr-abschiebungen-mehr-sicherheit-a-b0353244-8f95-4cd9-92e5-209e378d8ff9',\n",
       " 'https://www.spiegel.de/kultur/kino/daniel-craig-im-film-queer-in-venedig-was-hat-ihn-bloss-so-ruiniert-a-ac995eca-bdc4-47a2-9b10-b116f8d15a94',\n",
       " 'https://www.spiegel.de/politik/deutschland/friedrich-merz-cdu-chef-sieht-ampel-in-der-verantwortung-fuer-erfolge-von-bsw-und-afd-a-c826bd47-03fa-4a63-bf2b-94fee98a9b01',\n",
       " 'https://www.spiegel.de/reise/sommerferien-und-prokrastination-ich-packe-meinen-koffer-jetzt-noch-nicht-aus-a-79ef4436-477f-4503-9cf6-4eb6b857f047',\n",
       " 'https://www.spiegel.de/start/integrierter-jura-bachelor-auch-bachelor-juristen-werden-gebraucht-a-ac93b769-4071-4a5f-b197-a3837da452b1',\n",
       " 'https://www.spiegel.de/panorama/joey-chestnut-stellt-neuen-rekord-bei-wettessen-auf-83-hotdogs-in-10-minuten-a-f48fed05-4d68-4ef3-8a5c-61c1cc6d86ea',\n",
       " 'https://www.spiegel.de/politik/landtagswahlen-in-thueringen-und-sachsen-das-sagt-friedrich-merz-a-ac8b3cc2-53b4-4985-bc0e-541293bb1ce5',\n",
       " 'https://www.spiegel.de/politik/islamisten-in-deutschland-die-propagandisten-im-namen-allahs-spiegel-tv-a-87b6df06-a354-41db-8480-5958bbcb03f6',\n",
       " 'https://www.spiegel.de/panorama/bildung/kultusministerkonferenz-wappnet-sich-gegen-moegliche-afd-blockade-a-5f257f42-e259-4e67-a0c6-657c0678f92f',\n",
       " 'https://www.spiegel.de/wirtschaft/julia-oetker-verlaesst-die-familienholding-a-ee1b74f3-73d2-4828-b14f-379da82cbb89',\n",
       " 'https://www.spiegel.de/karriere/dienstwagen-zoff-bei-vw-porsche-fuer-den-vorstand-golf-fuer-den-rest-a-87d87608-6d02-4aed-a7e4-8651855263d4',\n",
       " 'https://www.spiegel.de/panorama/siegen-opfer-nach-messerattacke-ausser-lebensgefahr-mutmassliche-taeterin-in-u-haft-a-a82d8583-ba31-4797-8362-784fc2fac6fc',\n",
       " 'https://www.spiegel.de/ausland/kamala-harris-auf-dem-parteitag-demokraten-der-kampf-gegen-donald-trump-ist-eroeffnet-a-207710af-08ef-48da-b749-69156594252d',\n",
       " 'https://www.spiegel.de/debatten/debatte/spielen-sie-mit-dem-gedanken-ihren-ruhestand-im-ausland-zu-verbringen',\n",
       " 'https://www.spiegel.de/tests/elektronik/stative-fuer-smartphones-modelle-von-novoflex-hama-sirui-joby-rollei-und-manfrotto-im-test-a-62ec5c92-769d-4d0a-8d88-4bb9f2f657ac',\n",
       " 'https://www.spiegel.de/backstage/politdrama-statt-fussballfest-wie-spiegel-reporter-die-wm-in-katar-erleben-a-1b6fb1c5-7f96-4862-944a-9f84bd461c67',\n",
       " 'https://www.spiegel.de/wissenschaft/natur/malta-asiatische-bienenart-erstmals-in-europa-nachgewiesen-a-260e5d29-ee86-4ab2-9170-91b445484a67',\n",
       " 'https://www.spiegel.de/ausland/ukraine-krieg-evakuierung-der-stadt-pokrowsk-im-osten-des-landes-a-a9b0a7a4-e1af-4bc8-9a51-d992988cdaaa',\n",
       " 'https://www.spiegel.de/geschichte/palaestina-warum-in-jerusalem-die-hakenkreuzfahne-wehte-a-3e7fb8e3-9b8f-45cc-a5ee-a7e21d73b0be',\n",
       " 'https://www.spiegel.de/ausland/israel-massenprotest-fuer-einen-geiseldeal-nach-der-bergung-von-sechs-getoeteten-geiseln-a-6e39adb5-f7a3-4116-bfc8-d3891e8dc655',\n",
       " 'https://www.spiegel.de/international/world/irans-lebanon-based-militia-hezbollah-prepares-for-possible-war-a-560bc6c9-5ecb-4cec-be9d-0f52e54fb038',\n",
       " 'https://www.spiegel.de/ausland/russland-mindestens-17-tote-nach-hubschrauberabsturz-auf-kamtschatka-a-c5652ede-86b4-4cc6-8c2f-d1ea07672b99',\n",
       " 'https://www.spiegel.de/wirtschaft/unternehmen/afd-erfolg-in-sachsen-und-thueringen-so-vorsichtig-reagieren-unternehmer-a-dea25eb3-205f-4af6-99ec-ca49ef93351c',\n",
       " 'https://www.spiegel.de/geschichte/anna-luehrmann-ueber-ihr-auslandsjahr-die-freiheitsstatue-steht-fuer-die-positivste-seite-der-usa-a-8d391c62-1d04-42ca-a664-46f2d949fd9e',\n",
       " 'https://www.spiegel.de/politik/deutschland/wahl-in-thueringen-die-strahlkraft-von-sahra-wagenknecht-und-ihr-einfluss-auf-die-spitzenkandidatin-katja-wolf-a-1b988384-b5be-4b3c-b4dc-e24fe795ffc2',\n",
       " 'https://www.spiegel.de/familie/ordnung-schnelle-aufraeumroutinen-putzplaene-fuer-den-alltag-podcast-a-835d0595-a3ff-4fa8-97e2-46cfb9668ff2',\n",
       " 'https://www.spiegel.de/geschichte/deutsche-kultur-wie-juedische-kreative-aus-dem-kunstkanon-verschwanden-a-24c62318-0405-46cd-a901-ca9312db3d4a',\n",
       " 'https://www.spiegel.de/geschichte/attentat-auf-john-f-kennedy-der-moerder-der-kalte-krieg-und-ein-land-im-schockzustand-a-65480e48-dc17-4bbc-9d55-986c0426243e',\n",
       " 'https://www.spiegel.de/familie/zweiter-kinderwunsch-nach-erfolgreicher-icsi-jetzt-wieder-schwanger-werden-a-821bbd2b-7e2f-4e80-aef8-683c9f1dff81',\n",
       " 'https://www.spiegel.de/netzwelt/web/icon-league-von-toni-kroos-und-elias-nerlich-auf-spektakel-getrimmter-amateurfussball-a-650e063a-0e01-482e-b380-dc5b8b7d4db0',\n",
       " 'https://www.spiegel.de/ausland/israel-palaestina-konflikt-pulverfass-westjordanland-das-sind-schon-radikale-auf-beiden-seiten-a-f901e7de-f004-45d3-979f-edc35612c8b9',\n",
       " 'https://www.spiegel.de/impressum/autor-d6f90495-fca0-4c16-aced-70297cb1dad8',\n",
       " 'https://www.spiegel.de/sport/us-open-2024-coco-gauff-im-achtelfinale-ausgeschieden-a-bcf36d31-0260-4cd1-979b-6bd7a07cb964',\n",
       " 'https://www.spiegel.de/ausland/migration-mindestens-zehn-tote-bei-bootsunglueck-auf-dem-aermelkanal-a-ee1b0b1e-3d1c-4042-addf-1cb5104cce80',\n",
       " 'https://www.spiegel.de/wissenschaft/rubenheim-warum-ein-saarlaender-30-000-alltagsgegenstaende-und-zeitzeugendokumente-gesammelt-hat-a-cf1eae01-14d0-47e6-b658-7f5920f5db7a',\n",
       " 'https://www.spiegel.de/sport/regina-halmich-die-boxerin-will-stefan-raab-zum-dritten-mal-verhauen-was-treibt-sie-an-a-aaf5c76e-ac43-4faa-9d1f-6f19f8033ca6',\n",
       " 'https://www.spiegel.de/wirtschaft/unternehmen/ziele-erreichen-von-morgenroutine-bis-schlaftracking-was-bringen-rituale-a-0d4f833a-bc92-4fe9-883d-13729d9631e5',\n",
       " 'https://www.spiegel.de/tests/kueche/zitruspressen-im-test-die-besten-modelle-von-gastroback-caso-roesle-und-co-a-c685268b-34a8-4b1a-a16c-48acd490ad5e',\n",
       " 'https://www.spiegel.de/politik/deutschland/bjoern-hoecke-thueringer-afd-chef-verpasst-direktmandat-im-wahlkreis-greiz-ii-a-cb94e4e1-670b-42dc-abf0-2528fde86c1f',\n",
       " 'https://www.spiegel.de/wissenschaft/natur/vogelgrippe-kam-offenbar-ueber-suedamerika-in-die-antarktis-a-86deea70-b680-4b53-af02-503ee1e0f8b0',\n",
       " 'https://www.spiegel.de/panorama/watzmann-video-von-trailrunner-richard-utzmeier-loest-gefahrendiskussion-aus-a-4e6a8b36-4af6-4b61-a119-a9e04605d96a',\n",
       " 'https://www.spiegel.de/auto/podbike-frikar-im-test-ist-das-noch-ein-fahrrad-a-e506af32-ebb4-4ce2-ade0-c6106f7fc3a9',\n",
       " 'https://www.spiegel.de/politik/deutschland/markus-soeder-und-die-kanzler-frage-der-union-ja-er-will-a-5ded2b08-7792-4ef5-9f6b-bb2899619eff',\n",
       " 'https://www.spiegel.de/sport/paralympics-2024-niko-kappel-holt-silber-im-kugelstossen-gold-verschenkt-a-f0c1485e-cf32-4cf0-8bdf-52b0b5bf4c42',\n",
       " 'https://www.spiegel.de/karriere/bautzen-streit-im-kloster-acht-nonnen-muessen-ihr-zuhause-aufloesen-a-60bf2001-14d6-4eab-a86a-24231b70a486',\n",
       " 'https://www.spiegel.de/netzwelt/gadgets/airpods-und-earpods-im-test-welche-apple-kopfhoerer-zu-ihnen-passen-a-d7cef767-ac16-4e7a-8415-c48f5520afef',\n",
       " 'https://www.spiegel.de/tests/elektronik/gaming-tastaturen-im-test-lauter-drueckeberger-a-a5dea371-7d7a-4fcd-8dc6-22d942e8aa31',\n",
       " 'https://www.spiegel.de/gesundheit/who-umfrage-jugendliche-benutzen-deutlich-seltener-kondome-a-0f0b6d5b-5fb3-4997-bdb0-554c603e8e24',\n",
       " 'https://www.spiegel.de/ausland/russland-ukrainische-armee-veroeffentlicht-drohnenvideo-der-kursk-offensive-a-1c4e1c13-73b6-4f9d-9f66-245d777ac9f8',\n",
       " 'https://www.spiegel.de/politik/deutschland/gruenen-politiker-tarek-al-wazir-will-in-den-bundestag-a-029e25e5-8fe5-4417-af5b-4c1190e00a7d',\n",
       " 'https://www.spiegel.de/auto/auto-kaufen-koennen-wir-uns-in-20-jahren-von-diesel-und-benzin-trennen-a-1b1e9e8e-45e4-4144-b4a6-adacd483d048',\n",
       " 'https://www.spiegel.de/geschichte/sexualitaet-und-ehebruch-in-der-neuzeit-dieses-weib-muss-sterben-a-630a9658-c6c6-4f6e-9653-21234949c4d5',\n",
       " 'https://www.spiegel.de/start/ilmenau-in-thueringen-wie-studierende-auf-die-landtagswahl-blicken-a-1dee49b8-c79f-42ac-a5e5-9feb04310f1d',\n",
       " 'https://www.spiegel.de/wirtschaft/sap-technologiechef-juergen-mueller-verlaesst-den-vorstand-wegen-vorfall-auf-firmenfeier-a-e197fe7d-f402-4c98-9938-f49f49299ec7',\n",
       " 'https://www.spiegel.de/reise/urlaub-warum-verreisen-menschen-und-findet-man-auf-reisen-zu-sich-selbst-a-3f813748-5345-4f4c-99ef-6e8bdb1955fe',\n",
       " 'https://www.spiegel.de/ausland/ukraine-krieg-mindestens-41-tote-bei-russischem-raketenangriff-auf-poltawa-a-86e9dd05-f8ce-45b4-a6fc-2c53b788adc8',\n",
       " 'https://www.spiegel.de/start/anlagenmechaniker-viertagewoche-mit-3800-brutto-wird-in-meiner-branche-immer-normaler-a-c6b1ade5-9676-48b8-af87-887d987ee669',\n",
       " 'https://www.spiegel.de/geschichte/neues-von-gestern-der-geschichte-newsletter-die-usa-und-deutschland-es-ist-kompliziert-a-1e959720-414a-48cb-b287-dc3fa3ca03b0',\n",
       " 'https://www.spiegel.de/gesundheit/alkoholabhaengig-so-gelingt-ein-leben-ohne-alkohol-a-8210be69-1752-4faf-b7af-eb81044a67b7',\n",
       " 'https://www.spiegel.de/panorama/justiz/madeleine-mccann-christian-b-wegen-vergewaltigung-und-sexuellem-missbrauch-vor-gericht-spiegel-tv-a-8534fac6-98a0-41ef-8f0d-ec03b11f01ed',\n",
       " 'https://www.spiegel.de/backstage/worueber-wir-2022-berichtet-haben-und-was-sie-gelesen-haben-a-5fb0380d-8ff1-4391-9ae3-9868b1cb7f94',\n",
       " 'https://www.spiegel.de/ausland/usa-wahl-sohn-von-john-mccain-wechselt-zu-demokraten-jimmy-mccain-kritisiert-donald-trump-a-2f64a427-5954-43ed-a6b7-e3b3375a132f',\n",
       " 'https://www.spiegel.de/auto/deutschlandticket-vorlaeufer-9-euro-ticket-kommt-in-ifo-studie-schlecht-weg-zu-recht-a-51e99a81-18ee-442c-a25a-f626893120ad',\n",
       " 'https://www.spiegel.de/tests/camping/kuehlboxen-im-test-von-dometic-ecoflow-yeti-tundra-stanley-adventure-baumarkt-a-d49a4fda-9a66-4aaa-aed5-48aff21baf92',\n",
       " 'https://www.spiegel.de/backstage/spiegel-abonnenten-im-gespraech-mit-militaerexperten-wie-gefaehrlich-ist-putins-armee-noch-a-add94932-44cb-4875-a4ab-94613698090d',\n",
       " 'https://www.spiegel.de/karriere/homeoffice-und-steuern-wer-was-zahlt-und-was-beschaeftigte-absetzen-koennen-a-642ef159-300c-409c-b30c-830ce41d23f1',\n",
       " 'https://www.spiegel.de/ausland/israel-gaza-krieg-vater-verliert-bei-angriff-im-gazastreifen-seine-vier-tage-alten-zwillinge-a-b750c338-5576-4e93-80c1-57c465d65d7f',\n",
       " 'https://www.spiegel.de/politik/deutschland/saskia-esken-spd-chefin-korrigiert-eigene-aussage-zu-solingen-a-8dddd9b8-acea-4c86-99cf-93cf6992f9d3',\n",
       " 'https://www.spiegel.de/panorama/tschechien-polizei-entdeckt-dutzende-migranten-in-lkw-eine-tote-a-32e200a2-513d-438b-8fa4-0ce9e898e374',\n",
       " 'https://www.spiegel.de/auto/elektroauto-kaufen-absatz-von-strom-pkw-bricht-im-august-um-zwei-drittel-ein-a-35fae735-f596-41b2-b06c-be294a5a37b4',\n",
       " 'https://www.spiegel.de/wirtschaft/elektroauto-ladenhueter-statt-hoffnungstraeger-der-mobilitaetswende-spiegel-tv-a-72b87712-76ce-42cd-9ff6-9588b9020da0',\n",
       " 'https://www.spiegel.de/international/europe/unlikely-liaison-an-abandoned-italian-village-gets-new-life-a-ac956c12-3bca-406f-99b8-9f635936537e',\n",
       " 'https://www.spiegel.de/geschichte/erfindung-der-kalorie-am-anfang-waren-diaeten-vor-allem-maennersache-a-fdf65854-7497-4981-aac6-fb8e7d2af3f4',\n",
       " 'https://www.spiegel.de/sport/fussball/fussball-steven-bergwijn-wechselt-nach-saudi-arabien-ronald-koeman-wirft-ihn-aus-nationalelf-a-2c5020b4-88f3-46db-ab2a-116de6667c97',\n",
       " 'https://www.spiegel.de/auto/bmw-ix5-hydrogen-im-test-das-ist-die-wasserstoff-hoffnung-von-bmw-a-6c4c5857-8aa3-4ff2-be3e-ecd52634f81a',\n",
       " 'https://www.spiegel.de/sport/olympia/paralympics-2024-rollstuhlfechter-maurice-schmidt-gewinnt-viertes-gold-fuer-deutschland-a-77b69b31-62b2-49ea-9af8-51086d6bb735',\n",
       " 'https://www.spiegel.de/tests/elektronik/diese-wasserdichten-smartphone-gehaeuse-empfiehlt-die-stiftung-warentest-a-a6219c73-ac9e-4586-a1cb-ac2aee9e87b7']"
      ]
     },
     "execution_count": 10,
     "metadata": {},
     "output_type": "execute_result"
    }
   ],
   "source": [
    "all_found_urls"
   ]
  },
  {
   "cell_type": "code",
   "execution_count": 6,
   "id": "7b3a83b7",
   "metadata": {},
   "outputs": [],
   "source": [
    "# get the token for the database\n",
    "keycloak_login = KeycloakLogin()\n",
    "token = keycloak_login.get_token()"
   ]
  },
  {
   "cell_type": "code",
   "execution_count": 4,
   "id": "17926629",
   "metadata": {},
   "outputs": [],
   "source": [
    "all_found_urls = ['https://www.spiegel.de/auto/benzin-und-diesel-verband-der-autoindustrie-fuer-komplettausstieg-aus-fossilen-kraftstoffen-bis-2045-a-3ca2b811-0638-4e95-bd05-f6e7c04b256d',\n",
    " 'https://www.spiegel.de/geschichte/laermbelaestigung-in-ballungszentren-die-nervige-sinfonie-der-grossstadt-a-9f8949fc-15c5-47e9-99a0-289ca136e543',\n",
    " 'https://www.spiegel.de/panorama/gesellschaft/wohnungsmarkt-das-leid-der-mieter-in-deutschland-spiegel-tv-a-07dd06b2-adf7-46fb-93a9-f8bc5e46adc5',\n",
    " 'https://www.spiegel.de/sport/paralympics-2024-handy-im-boot-ruderer-giacomo-perini-verliert-bronzemedaille-a-b073553d-1c20-4bc7-9a6e-0f401c09c404',\n",
    " 'https://www.spiegel.de/politik/deutschland/spd-wahlniederlagen-juso-chef-tuermer-analysiert-enttaeuschung-der-waehler-a-89940cf3-ac81-4069-b17f-6a3a92db42d6']"
   ]
  },
  {
   "cell_type": "code",
   "execution_count": 10,
   "id": "62217f24",
   "metadata": {},
   "outputs": [],
   "source": [
    "# urls = [\"https://www.spiegel.de/backstage/so-kommen-wir-an-informationen-aus-iran-a-df0a5409-eb01-4187-b130-202f5af2bb92\",          \n",
    "# \"https://www.spiegel.de/politik/israel-gaza-konflikt-baerbock-appelliert-nach-angriffen-auf-hamas-und-hisbollah-zur-maessigung-a-09e143bd-3020-4313-b12e-67ddb6dd7bad\",\n",
    "# \"https://www.spiegel.de/karriere/kanada-deutsches-ehepaar-teilt-sich-botschafterposten-wie-das-funktionieren-soll-a-8acea6a3-9c49-4670-ad3b-21cc5d8a6add\",\n",
    "# \"https://www.spiegel.de/wirtschaft/service/kurzarbeitergeld-rechner-so-viel-geld-gibt-es-in-der-kurzarbeit-a-8d856701-4951-4e34-a500-c3ac8ffcc717\",\n",
    "# \"https://www.spiegel.de/stil/wein-aus-china-drachenaugen-im-glas-a-c76d76ae-8580-428e-af8a-46481ee0af48\",\n",
    "# \"https://www.spiegel.de/tests/camping/kuehlboxen-im-test-von-dometic-ecoflow-yeti-tundra-stanley-adventure-baumarkt-a-d49a4fda-9a66-4aaa-aed5-48aff21baf92\",\n",
    "# \"https://www.spiegel.de/politik/deutschland/afd-und-rechtsextremismus-in-sachsen-beleidigungen-drohungen-hetze-spiegel-tv-a-3ada65e4-f0d4-4702-8f14-6f165fe9e575\",\n",
    "# \"https://www.spiegel.de/start/studieren-in-wilhelmshaven-campus-wohnviertel-wg-zimmer-preise-und-kneipen-a-4260d75e-2025-4985-84ba-92c7ad84cefa\",\n",
    "# \"https://www.spiegel.de/ausland/ukraine-frontbericht-aus-dem-kriegsgebiet-es-ist-jetzt-ein-drohnenkrieg-spiegel-tv-a-a91827c4-32c7-4c6d-a65f-1eed689fde67\",\n",
    "# \"https://www.spiegel.de/auto/fahrberichte/citroen-e-c3-im-test-so-viel-elektroauto-gibt-es-fuer-wenig-geld-a-170b0369-3d6a-4503-b28c-def5a7ebb701\",\n",
    "# \"https://www.spiegel.de/backstage/so-kommen-wir-an-informationen-aus-iran-a-df0a5409-eb01-4187-b130-202f5af2bb92\",          \n",
    "# \"https://www.spiegel.de/politik/israel-gaza-konflikt-baerbock-appelliert-nach-angriffen-auf-hamas-und-hisbollah-zur-maessigung-a-09e143bd-3020-4313-b12e-67ddb6dd7bad\",\n",
    "# \"https://www.spiegel.de/karriere/kanada-deutsches-ehepaar-teilt-sich-botschafterposten-wie-das-funktionieren-soll-a-8acea6a3-9c49-4670-ad3b-21cc5d8a6add\",\n",
    "# \"https://www.spiegel.de/wirtschaft/service/kurzarbeitergeld-rechner-so-viel-geld-gibt-es-in-der-kurzarbeit-a-8d856701-4951-4e34-a500-c3ac8ffcc717\",\n",
    "# \"https://www.spiegel.de/stil/wein-aus-china-drachenaugen-im-glas-a-c76d76ae-8580-428e-af8a-46481ee0af48\",\n",
    "# \"https://www.spiegel.de/tests/camping/kuehlboxen-im-test-von-dometic-ecoflow-yeti-tundra-stanley-adventure-baumarkt-a-d49a4fda-9a66-4aaa-aed5-48aff21baf92\",\n",
    "# \"https://www.spiegel.de/politik/deutschland/afd-und-rechtsextremismus-in-sachsen-beleidigungen-drohungen-hetze-spiegel-tv-a-3ada65e4-f0d4-4702-8f14-6f165fe9e575\",\n",
    "# \"https://www.spiegel.de/start/studieren-in-wilhelmshaven-campus-wohnviertel-wg-zimmer-preise-und-kneipen-a-4260d75e-2025-4985-84ba-92c7ad84cefa\",\n",
    "# \"https://www.spiegel.de/ausland/ukraine-frontbericht-aus-dem-kriegsgebiet-es-ist-jetzt-ein-drohnenkrieg-spiegel-tv-a-a91827c4-32c7-4c6d-a65f-1eed689fde67\",\n",
    "# \"https://www.spiegel.de/auto/fahrberichte/citroen-e-c3-im-test-so-viel-elektroauto-gibt-es-fuer-wenig-geld-a-170b0369-3d6a-4503-b28c-def5a7ebb701\",\n",
    "# \"https://www.spiegel.de/backstage/so-kommen-wir-an-informationen-aus-iran-a-df0a5409-eb01-4187-b130-202f5af2bb92\",          \n",
    "# \"https://www.spiegel.de/politik/israel-gaza-konflikt-baerbock-appelliert-nach-angriffen-auf-hamas-und-hisbollah-zur-maessigung-a-09e143bd-3020-4313-b12e-67ddb6dd7bad\",\n",
    "# \"https://www.spiegel.de/karriere/kanada-deutsches-ehepaar-teilt-sich-botschafterposten-wie-das-funktionieren-soll-a-8acea6a3-9c49-4670-ad3b-21cc5d8a6add\",\n",
    "# \"https://www.spiegel.de/wirtschaft/service/kurzarbeitergeld-rechner-so-viel-geld-gibt-es-in-der-kurzarbeit-a-8d856701-4951-4e34-a500-c3ac8ffcc717\",\n",
    "# \"https://www.spiegel.de/stil/wein-aus-china-drachenaugen-im-glas-a-c76d76ae-8580-428e-af8a-46481ee0af48\",\n",
    "# \"https://www.spiegel.de/tests/camping/kuehlboxen-im-test-von-dometic-ecoflow-yeti-tundra-stanley-adventure-baumarkt-a-d49a4fda-9a66-4aaa-aed5-48aff21baf92\",\n",
    "# \"https://www.spiegel.de/politik/deutschland/afd-und-rechtsextremismus-in-sachsen-beleidigungen-drohungen-hetze-spiegel-tv-a-3ada65e4-f0d4-4702-8f14-6f165fe9e575\",\n",
    "# \"https://www.spiegel.de/start/studieren-in-wilhelmshaven-campus-wohnviertel-wg-zimmer-preise-und-kneipen-a-4260d75e-2025-4985-84ba-92c7ad84cefa\",\n",
    "# \"https://www.spiegel.de/ausland/ukraine-frontbericht-aus-dem-kriegsgebiet-es-ist-jetzt-ein-drohnenkrieg-spiegel-tv-a-a91827c4-32c7-4c6d-a65f-1eed689fde67\",\n",
    "# \"https://www.spiegel.de/auto/fahrberichte/citroen-e-c3-im-test-so-viel-elektroauto-gibt-es-fuer-wenig-geld-a-170b0369-3d6a-4503-b28c-def5a7ebb701\",\n",
    "# \"https://www.spiegel.de/backstage/so-kommen-wir-an-informationen-aus-iran-a-df0a5409-eb01-4187-b130-202f5af2bb92\",          \n",
    "# \"https://www.spiegel.de/politik/israel-gaza-konflikt-baerbock-appelliert-nach-angriffen-auf-hamas-und-hisbollah-zur-maessigung-a-09e143bd-3020-4313-b12e-67ddb6dd7bad\",\n",
    "# \"https://www.spiegel.de/karriere/kanada-deutsches-ehepaar-teilt-sich-botschafterposten-wie-das-funktionieren-soll-a-8acea6a3-9c49-4670-ad3b-21cc5d8a6add\",\n",
    "# \"https://www.spiegel.de/wirtschaft/service/kurzarbeitergeld-rechner-so-viel-geld-gibt-es-in-der-kurzarbeit-a-8d856701-4951-4e34-a500-c3ac8ffcc717\",\n",
    "# \"https://www.spiegel.de/stil/wein-aus-china-drachenaugen-im-glas-a-c76d76ae-8580-428e-af8a-46481ee0af48\",\n",
    "# \"https://www.spiegel.de/tests/camping/kuehlboxen-im-test-von-dometic-ecoflow-yeti-tundra-stanley-adventure-baumarkt-a-d49a4fda-9a66-4aaa-aed5-48aff21baf92\",\n",
    "# \"https://www.spiegel.de/politik/deutschland/afd-und-rechtsextremismus-in-sachsen-beleidigungen-drohungen-hetze-spiegel-tv-a-3ada65e4-f0d4-4702-8f14-6f165fe9e575\",\n",
    "# \"https://www.spiegel.de/start/studieren-in-wilhelmshaven-campus-wohnviertel-wg-zimmer-preise-und-kneipen-a-4260d75e-2025-4985-84ba-92c7ad84cefa\",\n",
    "# \"https://www.spiegel.de/ausland/ukraine-frontbericht-aus-dem-kriegsgebiet-es-ist-jetzt-ein-drohnenkrieg-spiegel-tv-a-a91827c4-32c7-4c6d-a65f-1eed689fde67\",\n",
    "# \"https://www.spiegel.de/auto/fahrberichte/citroen-e-c3-im-test-so-viel-elektroauto-gibt-es-fuer-wenig-geld-a-170b0369-3d6a-4503-b28c-def5a7ebb701\",\n",
    "# \"https://www.spiegel.de/backstage/so-kommen-wir-an-informationen-aus-iran-a-df0a5409-eb01-4187-b130-202f5af2bb92\",          \n",
    "# \"https://www.spiegel.de/politik/israel-gaza-konflikt-baerbock-appelliert-nach-angriffen-auf-hamas-und-hisbollah-zur-maessigung-a-09e143bd-3020-4313-b12e-67ddb6dd7bad\",\n",
    "# \"https://www.spiegel.de/karriere/kanada-deutsches-ehepaar-teilt-sich-botschafterposten-wie-das-funktionieren-soll-a-8acea6a3-9c49-4670-ad3b-21cc5d8a6add\",\n",
    "# \"https://www.spiegel.de/wirtschaft/service/kurzarbeitergeld-rechner-so-viel-geld-gibt-es-in-der-kurzarbeit-a-8d856701-4951-4e34-a500-c3ac8ffcc717\",\n",
    "# \"https://www.spiegel.de/stil/wein-aus-china-drachenaugen-im-glas-a-c76d76ae-8580-428e-af8a-46481ee0af48\",\n",
    "# \"https://www.spiegel.de/tests/camping/kuehlboxen-im-test-von-dometic-ecoflow-yeti-tundra-stanley-adventure-baumarkt-a-d49a4fda-9a66-4aaa-aed5-48aff21baf92\",\n",
    "# \"https://www.spiegel.de/politik/deutschland/afd-und-rechtsextremismus-in-sachsen-beleidigungen-drohungen-hetze-spiegel-tv-a-3ada65e4-f0d4-4702-8f14-6f165fe9e575\",\n",
    "# \"https://www.spiegel.de/start/studieren-in-wilhelmshaven-campus-wohnviertel-wg-zimmer-preise-und-kneipen-a-4260d75e-2025-4985-84ba-92c7ad84cefa\",\n",
    "# \"https://www.spiegel.de/ausland/ukraine-frontbericht-aus-dem-kriegsgebiet-es-ist-jetzt-ein-drohnenkrieg-spiegel-tv-a-a91827c4-32c7-4c6d-a65f-1eed689fde67\",\n",
    "# \"https://www.spiegel.de/auto/fahrberichte/citroen-e-c3-im-test-so-viel-elektroauto-gibt-es-fuer-wenig-geld-a-170b0369-3d6a-4503-b28c-def5a7ebb701\",\n",
    "# \"https://www.spiegel.de/backstage/so-kommen-wir-an-informationen-aus-iran-a-df0a5409-eb01-4187-b130-202f5af2bb92\",          \n",
    "# \"https://www.spiegel.de/politik/israel-gaza-konflikt-baerbock-appelliert-nach-angriffen-auf-hamas-und-hisbollah-zur-maessigung-a-09e143bd-3020-4313-b12e-67ddb6dd7bad\",\n",
    "# \"https://www.spiegel.de/karriere/kanada-deutsches-ehepaar-teilt-sich-botschafterposten-wie-das-funktionieren-soll-a-8acea6a3-9c49-4670-ad3b-21cc5d8a6add\",\n",
    "# \"https://www.spiegel.de/wirtschaft/service/kurzarbeitergeld-rechner-so-viel-geld-gibt-es-in-der-kurzarbeit-a-8d856701-4951-4e34-a500-c3ac8ffcc717\",\n",
    "# \"https://www.spiegel.de/stil/wein-aus-china-drachenaugen-im-glas-a-c76d76ae-8580-428e-af8a-46481ee0af48\",\n",
    "# \"https://www.spiegel.de/tests/camping/kuehlboxen-im-test-von-dometic-ecoflow-yeti-tundra-stanley-adventure-baumarkt-a-d49a4fda-9a66-4aaa-aed5-48aff21baf92\",\n",
    "# \"https://www.spiegel.de/politik/deutschland/afd-und-rechtsextremismus-in-sachsen-beleidigungen-drohungen-hetze-spiegel-tv-a-3ada65e4-f0d4-4702-8f14-6f165fe9e575\",\n",
    "# \"https://www.spiegel.de/start/studieren-in-wilhelmshaven-campus-wohnviertel-wg-zimmer-preise-und-kneipen-a-4260d75e-2025-4985-84ba-92c7ad84cefa\",\n",
    "# \"https://www.spiegel.de/ausland/ukraine-frontbericht-aus-dem-kriegsgebiet-es-ist-jetzt-ein-drohnenkrieg-spiegel-tv-a-a91827c4-32c7-4c6d-a65f-1eed689fde67\",\n",
    "# \"https://www.spiegel.de/auto/fahrberichte/citroen-e-c3-im-test-so-viel-elektroauto-gibt-es-fuer-wenig-geld-a-170b0369-3d6a-4503-b28c-def5a7ebb701\",\n",
    "# \"https://www.spiegel.de/backstage/so-kommen-wir-an-informationen-aus-iran-a-df0a5409-eb01-4187-b130-202f5af2bb92\",          \n",
    "# \"https://www.spiegel.de/politik/israel-gaza-konflikt-baerbock-appelliert-nach-angriffen-auf-hamas-und-hisbollah-zur-maessigung-a-09e143bd-3020-4313-b12e-67ddb6dd7bad\",\n",
    "# \"https://www.spiegel.de/karriere/kanada-deutsches-ehepaar-teilt-sich-botschafterposten-wie-das-funktionieren-soll-a-8acea6a3-9c49-4670-ad3b-21cc5d8a6add\",\n",
    "# \"https://www.spiegel.de/wirtschaft/service/kurzarbeitergeld-rechner-so-viel-geld-gibt-es-in-der-kurzarbeit-a-8d856701-4951-4e34-a500-c3ac8ffcc717\",\n",
    "# \"https://www.spiegel.de/stil/wein-aus-china-drachenaugen-im-glas-a-c76d76ae-8580-428e-af8a-46481ee0af48\",\n",
    "# \"https://www.spiegel.de/tests/camping/kuehlboxen-im-test-von-dometic-ecoflow-yeti-tundra-stanley-adventure-baumarkt-a-d49a4fda-9a66-4aaa-aed5-48aff21baf92\",\n",
    "# \"https://www.spiegel.de/politik/deutschland/afd-und-rechtsextremismus-in-sachsen-beleidigungen-drohungen-hetze-spiegel-tv-a-3ada65e4-f0d4-4702-8f14-6f165fe9e575\",\n",
    "# \"https://www.spiegel.de/start/studieren-in-wilhelmshaven-campus-wohnviertel-wg-zimmer-preise-und-kneipen-a-4260d75e-2025-4985-84ba-92c7ad84cefa\",\n",
    "# \"https://www.spiegel.de/ausland/ukraine-frontbericht-aus-dem-kriegsgebiet-es-ist-jetzt-ein-drohnenkrieg-spiegel-tv-a-a91827c4-32c7-4c6d-a65f-1eed689fde67\",\n",
    "# \"https://www.spiegel.de/auto/fahrberichte/citroen-e-c3-im-test-so-viel-elektroauto-gibt-es-fuer-wenig-geld-a-170b0369-3d6a-4503-b28c-def5a7ebb701\",\n",
    "# \"https://www.spiegel.de/backstage/so-kommen-wir-an-informationen-aus-iran-a-df0a5409-eb01-4187-b130-202f5af2bb92\",          \n",
    "# \"https://www.spiegel.de/politik/israel-gaza-konflikt-baerbock-appelliert-nach-angriffen-auf-hamas-und-hisbollah-zur-maessigung-a-09e143bd-3020-4313-b12e-67ddb6dd7bad\",\n",
    "# \"https://www.spiegel.de/karriere/kanada-deutsches-ehepaar-teilt-sich-botschafterposten-wie-das-funktionieren-soll-a-8acea6a3-9c49-4670-ad3b-21cc5d8a6add\",\n",
    "# \"https://www.spiegel.de/wirtschaft/service/kurzarbeitergeld-rechner-so-viel-geld-gibt-es-in-der-kurzarbeit-a-8d856701-4951-4e34-a500-c3ac8ffcc717\",\n",
    "# \"https://www.spiegel.de/stil/wein-aus-china-drachenaugen-im-glas-a-c76d76ae-8580-428e-af8a-46481ee0af48\",\n",
    "# \"https://www.spiegel.de/tests/camping/kuehlboxen-im-test-von-dometic-ecoflow-yeti-tundra-stanley-adventure-baumarkt-a-d49a4fda-9a66-4aaa-aed5-48aff21baf92\",\n",
    "# \"https://www.spiegel.de/politik/deutschland/afd-und-rechtsextremismus-in-sachsen-beleidigungen-drohungen-hetze-spiegel-tv-a-3ada65e4-f0d4-4702-8f14-6f165fe9e575\",\n",
    "# \"https://www.spiegel.de/start/studieren-in-wilhelmshaven-campus-wohnviertel-wg-zimmer-preise-und-kneipen-a-4260d75e-2025-4985-84ba-92c7ad84cefa\",\n",
    "# \"https://www.spiegel.de/ausland/ukraine-frontbericht-aus-dem-kriegsgebiet-es-ist-jetzt-ein-drohnenkrieg-spiegel-tv-a-a91827c4-32c7-4c6d-a65f-1eed689fde67\",\n",
    "# \"https://www.spiegel.de/auto/fahrberichte/citroen-e-c3-im-test-so-viel-elektroauto-gibt-es-fuer-wenig-geld-a-170b0369-3d6a-4503-b28c-def5a7ebb701\",\n",
    "# \"https://www.spiegel.de/backstage/so-kommen-wir-an-informationen-aus-iran-a-df0a5409-eb01-4187-b130-202f5af2bb92\",          \n",
    "# \"https://www.spiegel.de/politik/israel-gaza-konflikt-baerbock-appelliert-nach-angriffen-auf-hamas-und-hisbollah-zur-maessigung-a-09e143bd-3020-4313-b12e-67ddb6dd7bad\",\n",
    "# \"https://www.spiegel.de/karriere/kanada-deutsches-ehepaar-teilt-sich-botschafterposten-wie-das-funktionieren-soll-a-8acea6a3-9c49-4670-ad3b-21cc5d8a6add\",\n",
    "# \"https://www.spiegel.de/wirtschaft/service/kurzarbeitergeld-rechner-so-viel-geld-gibt-es-in-der-kurzarbeit-a-8d856701-4951-4e34-a500-c3ac8ffcc717\",\n",
    "# \"https://www.spiegel.de/stil/wein-aus-china-drachenaugen-im-glas-a-c76d76ae-8580-428e-af8a-46481ee0af48\",\n",
    "# \"https://www.spiegel.de/tests/camping/kuehlboxen-im-test-von-dometic-ecoflow-yeti-tundra-stanley-adventure-baumarkt-a-d49a4fda-9a66-4aaa-aed5-48aff21baf92\",\n",
    "# \"https://www.spiegel.de/politik/deutschland/afd-und-rechtsextremismus-in-sachsen-beleidigungen-drohungen-hetze-spiegel-tv-a-3ada65e4-f0d4-4702-8f14-6f165fe9e575\",\n",
    "# \"https://www.spiegel.de/start/studieren-in-wilhelmshaven-campus-wohnviertel-wg-zimmer-preise-und-kneipen-a-4260d75e-2025-4985-84ba-92c7ad84cefa\",\n",
    "# \"https://www.spiegel.de/ausland/ukraine-frontbericht-aus-dem-kriegsgebiet-es-ist-jetzt-ein-drohnenkrieg-spiegel-tv-a-a91827c4-32c7-4c6d-a65f-1eed689fde67\",\n",
    "# \"https://www.spiegel.de/auto/fahrberichte/citroen-e-c3-im-test-so-viel-elektroauto-gibt-es-fuer-wenig-geld-a-170b0369-3d6a-4503-b28c-def5a7ebb701\",\n",
    "# \"https://www.spiegel.de/backstage/so-kommen-wir-an-informationen-aus-iran-a-df0a5409-eb01-4187-b130-202f5af2bb92\",          \n",
    "# \"https://www.spiegel.de/politik/israel-gaza-konflikt-baerbock-appelliert-nach-angriffen-auf-hamas-und-hisbollah-zur-maessigung-a-09e143bd-3020-4313-b12e-67ddb6dd7bad\",\n",
    "# \"https://www.spiegel.de/karriere/kanada-deutsches-ehepaar-teilt-sich-botschafterposten-wie-das-funktionieren-soll-a-8acea6a3-9c49-4670-ad3b-21cc5d8a6add\",\n",
    "# \"https://www.spiegel.de/wirtschaft/service/kurzarbeitergeld-rechner-so-viel-geld-gibt-es-in-der-kurzarbeit-a-8d856701-4951-4e34-a500-c3ac8ffcc717\",\n",
    "# \"https://www.spiegel.de/stil/wein-aus-china-drachenaugen-im-glas-a-c76d76ae-8580-428e-af8a-46481ee0af48\",\n",
    "# \"https://www.spiegel.de/tests/camping/kuehlboxen-im-test-von-dometic-ecoflow-yeti-tundra-stanley-adventure-baumarkt-a-d49a4fda-9a66-4aaa-aed5-48aff21baf92\",\n",
    "# \"https://www.spiegel.de/politik/deutschland/afd-und-rechtsextremismus-in-sachsen-beleidigungen-drohungen-hetze-spiegel-tv-a-3ada65e4-f0d4-4702-8f14-6f165fe9e575\",\n",
    "# \"https://www.spiegel.de/start/studieren-in-wilhelmshaven-campus-wohnviertel-wg-zimmer-preise-und-kneipen-a-4260d75e-2025-4985-84ba-92c7ad84cefa\",\n",
    "# \"https://www.spiegel.de/ausland/ukraine-frontbericht-aus-dem-kriegsgebiet-es-ist-jetzt-ein-drohnenkrieg-spiegel-tv-a-a91827c4-32c7-4c6d-a65f-1eed689fde67\",\n",
    "# \"https://www.spiegel.de/auto/fahrberichte/citroen-e-c3-im-test-so-viel-elektroauto-gibt-es-fuer-wenig-geld-a-170b0369-3d6a-4503-b28c-def5a7ebb701\"]"
   ]
  },
  {
   "cell_type": "code",
   "execution_count": 12,
   "id": "9ca8f3fb",
   "metadata": {},
   "outputs": [
    {
     "name": "stderr",
     "output_type": "stream",
     "text": [
      "INFO:scrapers.BaseScraper:Starting reverify_articles for 5 URLs at 2024-09-03T18:30:45.935906\n",
      "INFO:scrapers.BaseScraper:Article found in the database: https://www.spiegel.de/politik/deutschland/spd-wahlniederlagen-juso-chef-tuermer-analysiert-enttaeuschung-der-waehler-a-89940cf3-ac81-4069-b17f-6a3a92db42d6. Status code: 200\n",
      "INFO:scrapers.BaseScraper:Article found in the database: https://www.spiegel.de/panorama/gesellschaft/wohnungsmarkt-das-leid-der-mieter-in-deutschland-spiegel-tv-a-07dd06b2-adf7-46fb-93a9-f8bc5e46adc5. Status code: 200\n",
      "INFO:scrapers.BaseScraper:Article found in the database: https://www.spiegel.de/auto/benzin-und-diesel-verband-der-autoindustrie-fuer-komplettausstieg-aus-fossilen-kraftstoffen-bis-2045-a-3ca2b811-0638-4e95-bd05-f6e7c04b256d. Status code: 200\n",
      "INFO:scrapers.BaseScraper:Article found in the database: https://www.spiegel.de/sport/paralympics-2024-handy-im-boot-ruderer-giacomo-perini-verliert-bronzemedaille-a-b073553d-1c20-4bc7-9a6e-0f401c09c404. Status code: 200\n",
      "INFO:scrapers.BaseScraper:Article found in the database: https://www.spiegel.de/geschichte/laermbelaestigung-in-ballungszentren-die-nervige-sinfonie-der-grossstadt-a-9f8949fc-15c5-47e9-99a0-289ca136e543. Status code: 200\n",
      "INFO:scrapers.BaseScraper:Starting patch_last_online_verification_date for 5 URLs at 2024-09-03T18:30:48.217670\n",
      "INFO:scrapers.BaseScraper:patch_last_online_verification_date completed at 2024-09-03T18:31:10.592819\n",
      "INFO:scrapers.BaseScraper:Total duration: 22.375 seconds for 5 URLs\n",
      "INFO:scrapers.BaseScraper:Average time per URL: 4.475 seconds\n",
      "INFO:scrapers.BaseScraper:Updated last_online_verification_date for 5 articles in the database\n",
      "INFO:scrapers.BaseScraper:Patch operation took 22.378 seconds\n",
      "INFO:scrapers.BaseScraper:reverify_articles completed at 2024-09-03T18:31:10.597801\n",
      "INFO:scrapers.BaseScraper:Total duration: 24.662 seconds for 5 URLs\n",
      "INFO:scrapers.BaseScraper:Average time per URL: 4.932 seconds\n"
     ]
    }
   ],
   "source": [
    "urls_not_in_db = scraper.reverify_articles(all_found_urls, token)"
   ]
  },
  {
   "cell_type": "code",
   "execution_count": null,
   "id": "c6444ae3",
   "metadata": {},
   "outputs": [],
   "source": []
  },
  {
   "cell_type": "code",
   "execution_count": 11,
   "id": "6d447f75",
   "metadata": {},
   "outputs": [
    {
     "data": {
      "text/plain": [
       "['https://www.spiegel.de/auto/benzin-und-diesel-verband-der-autoindustrie-fuer-komplettausstieg-aus-fossilen-kraftstoffen-bis-2045-a-3ca2b811-0638-4e95-bd05-f6e7c04b256d',\n",
       " 'https://www.spiegel.de/geschichte/laermbelaestigung-in-ballungszentren-die-nervige-sinfonie-der-grossstadt-a-9f8949fc-15c5-47e9-99a0-289ca136e543',\n",
       " 'https://www.spiegel.de/panorama/gesellschaft/wohnungsmarkt-das-leid-der-mieter-in-deutschland-spiegel-tv-a-07dd06b2-adf7-46fb-93a9-f8bc5e46adc5',\n",
       " 'https://www.spiegel.de/sport/paralympics-2024-handy-im-boot-ruderer-giacomo-perini-verliert-bronzemedaille-a-b073553d-1c20-4bc7-9a6e-0f401c09c404',\n",
       " 'https://www.spiegel.de/politik/deutschland/spd-wahlniederlagen-juso-chef-tuermer-analysiert-enttaeuschung-der-waehler-a-89940cf3-ac81-4069-b17f-6a3a92db42d6']"
      ]
     },
     "execution_count": 11,
     "metadata": {},
     "output_type": "execute_result"
    }
   ],
   "source": [
    "all_found_urls"
   ]
  },
  {
   "cell_type": "code",
   "execution_count": 12,
   "id": "76539796",
   "metadata": {},
   "outputs": [
    {
     "data": {
      "text/plain": [
       "[]"
      ]
     },
     "execution_count": 12,
     "metadata": {},
     "output_type": "execute_result"
    }
   ],
   "source": [
    "urls_not_in_db"
   ]
  },
  {
   "cell_type": "code",
   "execution_count": 11,
   "id": "a4b73c87",
   "metadata": {},
   "outputs": [],
   "source": [
    "single_url = \"https://www.spiegel.de/auto/benzin-und-diesel-verband-der-autoindustrie-fuer-komplettausstieg-aus-fossilen-kraftstoffen-bis-2045-a-3ca2b811-0638-4e95-bd05-f6e7c04b256d\""
   ]
  },
  {
   "cell_type": "code",
   "execution_count": 15,
   "id": "e873660c",
   "metadata": {},
   "outputs": [],
   "source": [
    "data_downloader = DataDownloader(token)\n",
    "test = data_downloader.get_content_rehydrate_status_code_only(url='blabla')\n"
   ]
  },
  {
   "cell_type": "code",
   "execution_count": 16,
   "id": "3eb52d2c",
   "metadata": {},
   "outputs": [
    {
     "data": {
      "text/plain": [
       "200"
      ]
     },
     "execution_count": 16,
     "metadata": {},
     "output_type": "execute_result"
    }
   ],
   "source": [
    "test"
   ]
  },
  {
   "cell_type": "code",
   "execution_count": 9,
   "id": "23e578e6",
   "metadata": {},
   "outputs": [],
   "source": [
    "test = data_downloader._get_data_status_code_only(endpoint=\"api/v1/content/rehydrate/\", url=all_found_urls[0])\n"
   ]
  },
  {
   "cell_type": "code",
   "execution_count": 10,
   "id": "5cf7feea",
   "metadata": {},
   "outputs": [
    {
     "data": {
      "text/plain": [
       "200"
      ]
     },
     "execution_count": 10,
     "metadata": {},
     "output_type": "execute_result"
    }
   ],
   "source": [
    "test"
   ]
  },
  {
   "cell_type": "code",
   "execution_count": 9,
   "id": "a32432e0",
   "metadata": {},
   "outputs": [],
   "source": [
    "import requests"
   ]
  },
  {
   "cell_type": "code",
   "execution_count": 13,
   "id": "06e2a992",
   "metadata": {},
   "outputs": [],
   "source": [
    "response = requests.get(\"https://api.m3.ifkw.lmu.de/api/v1/content/rehydrate/\", params={\"url\": \"https://www.spiegel.de/backstage/so-kommen-wir-an-informationen-aus-iran-a-df0a5409-eb01-4187-b130-202f5af2bb92\"}, stream=False, timeout=1)\n"
   ]
  },
  {
   "cell_type": "code",
   "execution_count": 14,
   "id": "34425dd0",
   "metadata": {},
   "outputs": [
    {
     "data": {
      "text/plain": [
       "200"
      ]
     },
     "execution_count": 14,
     "metadata": {},
     "output_type": "execute_result"
    }
   ],
   "source": [
    "response.status_code"
   ]
  },
  {
   "cell_type": "code",
   "execution_count": 5,
   "id": "4cade106-b392-4364-8b48-24328a839f73",
   "metadata": {},
   "outputs": [
    {
     "name": "stderr",
     "output_type": "stream",
     "text": [
      "INFO:scrapers.BaseScraper:Navigated to https://www.spiegel.de/\n",
      "INFO:scrapers.BaseScraper:Navigated to https://www.spiegel.de/fuermich/\n",
      "INFO:scrapers.BaseScraper:Navigated to https://www.spiegel.de/schlagzeilen/\n",
      "INFO:scrapers.BaseScraper:Navigated to https://www.spiegel.de/spiegel/\n",
      "INFO:scrapers.BaseScraper:Navigated to https://www.spiegel.de/audio/\n",
      "INFO:scrapers.BaseScraper:Navigated to https://www.spiegel.de/fuermich/\n",
      "INFO:scrapers.BaseScraper:Navigated to https://www.spiegel.de/schlagzeilen/\n",
      "INFO:scrapers.BaseScraper:Navigated to https://www.spiegel.de/plus/\n",
      "INFO:scrapers.BaseScraper:Navigated to https://www.spiegel.de/ausland/\n",
      "INFO:scrapers.BaseScraper:Navigated to https://www.spiegel.de/panorama/\n",
      "INFO:scrapers.BaseScraper:Navigated to https://www.spiegel.de/sport/\n",
      "INFO:scrapers.BaseScraper:Navigated to https://www.spiegel.de/wirtschaft/\n",
      "INFO:scrapers.BaseScraper:Navigated to https://www.spiegel.de/wissenschaft/\n",
      "INFO:scrapers.BaseScraper:Navigated to https://www.spiegel.de/netzwelt/\n",
      "INFO:scrapers.BaseScraper:Navigated to https://www.spiegel.de/kultur/\n",
      "INFO:scrapers.BaseScraper:Navigated to https://www.spiegel.de/karriere/\n",
      "INFO:scrapers.BaseScraper:Navigated to https://www.spiegel.de/start/\n",
      "INFO:scrapers.BaseScraper:Navigated to https://www.spiegel.de/tests/\n",
      "INFO:scrapers.BaseScraper:Navigated to https://www.spiegel.de/geschichte/\n",
      "INFO:scrapers.BaseScraper:Navigated to https://www.spiegel.de/auto/\n",
      "INFO:scrapers.BaseScraper:Navigated to https://www.spiegel.de/audio/\n",
      "INFO:scrapers.BaseScraper:Navigated to https://www.spiegel.de/video/\n",
      "INFO:scrapers.BaseScraper:Navigated to https://www.spiegel.de/debatten/\n",
      "INFO:scrapers.BaseScraper:Navigated to https://www.spiegel.de/deinspiegel/\n",
      "INFO:scrapers.BaseScraper:Navigated to https://www.spiegel.de/international/\n",
      "INFO:scrapers.BaseScraper:Navigated to https://www.spiegel.de/audio/\n",
      "INFO:scrapers.BaseScraper:Navigated to https://www.spiegel.de/audio/\n",
      "INFO:scrapers.BaseScraper:Navigated to https://www.spiegel.de/audio/\n",
      "INFO:scrapers.BaseScraper:Navigated to https://www.spiegel.de/plus/\n",
      "INFO:scrapers.BaseScraper:Navigated to https://www.spiegel.de/plus/\n",
      "INFO:scrapers.BaseScraper:Navigated to https://www.spiegel.de/plus/\n",
      "INFO:scrapers.BaseScraper:Navigated to https://www.spiegel.de/plus/\n",
      "INFO:scrapers.BaseScraper:Navigated to https://www.spiegel.de/plus/\n",
      "INFO:scrapers.BaseScraper:Navigated to https://www.spiegel.de/plus/\n",
      "INFO:scrapers.BaseScraper:Navigated to https://www.spiegel.de/video/\n",
      "INFO:scrapers.BaseScraper:Navigated to https://www.spiegel.de/video/\n",
      "INFO:scrapers.BaseScraper:Navigated to https://www.spiegel.de/video/\n",
      "INFO:scrapers.BaseScraper:Navigated to https://www.spiegel.de/politik/\n",
      "INFO:scrapers.BaseScraper:Navigated to https://www.spiegel.de/ausland/\n",
      "INFO:scrapers.BaseScraper:Navigated to https://www.spiegel.de/panorama/\n",
      "INFO:scrapers.BaseScraper:Navigated to https://www.spiegel.de/wissenschaft/\n",
      "INFO:scrapers.BaseScraper:Navigated to https://www.spiegel.de/wirtschaft/\n",
      "INFO:scrapers.BaseScraper:Navigated to https://www.spiegel.de/sport/\n",
      "INFO:scrapers.BaseScraper:Navigated to https://www.spiegel.de/netzwelt/\n",
      "INFO:scrapers.BaseScraper:Navigated to https://www.spiegel.de/kultur/\n",
      "INFO:scrapers.BaseScraper:Navigated to https://www.spiegel.de/karriere/\n",
      "INFO:scrapers.BaseScraper:Navigated to https://www.spiegel.de/start/\n",
      "INFO:scrapers.BaseScraper:Navigated to https://www.spiegel.de/geschichte/\n",
      "INFO:scrapers.BaseScraper:Navigated to https://www.spiegel.de/tests/\n",
      "INFO:scrapers.BaseScraper:Navigated to https://www.spiegel.de/auto/\n",
      "INFO:scrapers.BaseScraper:Navigated to https://www.spiegel.de/gesundheit/\n",
      "INFO:scrapers.BaseScraper:Navigated to https://www.spiegel.de/psychologie/\n",
      "INFO:scrapers.BaseScraper:Navigated to https://www.spiegel.de/familie/\n",
      "INFO:scrapers.BaseScraper:Navigated to https://www.spiegel.de/partnerschaft/\n",
      "INFO:scrapers.BaseScraper:Navigated to https://www.spiegel.de/reise/\n",
      "INFO:scrapers.BaseScraper:Navigated to https://www.spiegel.de/stil/\n",
      "INFO:scrapers.BaseScraper:Navigated to https://www.spiegel.de/deinspiegel/\n",
      "INFO:scrapers.BaseScraper:Navigated to https://www.spiegel.de/tests/\n",
      "INFO:scrapers.BaseScraper:Navigated to https://www.spiegel.de/tests/\n",
      "INFO:scrapers.BaseScraper:Navigated to https://www.spiegel.de/tests/\n",
      "INFO:scrapers.BaseScraper:Navigated to https://www.spiegel.de/deinspiegel/\n",
      "INFO:scrapers.BaseScraper:Navigated to https://www.spiegel.de/services/\n",
      "INFO:scrapers.BaseScraper:Navigated to https://www.spiegel.de/schlagzeilen/\n",
      "INFO:scrapers.BaseScraper:Navigated to https://www.spiegel.de/debatten/\n",
      "INFO:scrapers.BaseScraper:Navigated to https://www.spiegel.de/plus/\n",
      "INFO:scrapers.BaseScraper:Navigated to https://www.spiegel.de/ausland/\n",
      "INFO:scrapers.BaseScraper:Navigated to https://www.spiegel.de/panorama/\n",
      "INFO:scrapers.BaseScraper:Navigated to https://www.spiegel.de/sport/\n",
      "INFO:scrapers.BaseScraper:Navigated to https://www.spiegel.de/wirtschaft/\n",
      "INFO:scrapers.BaseScraper:Navigated to https://www.spiegel.de/wissenschaft/\n",
      "INFO:scrapers.BaseScraper:Navigated to https://www.spiegel.de/netzwelt/\n",
      "INFO:scrapers.BaseScraper:Navigated to https://www.spiegel.de/kultur/\n",
      "INFO:scrapers.BaseScraper:Navigated to https://www.spiegel.de/reise/\n",
      "INFO:scrapers.BaseScraper:Navigated to https://www.spiegel.de/stil/\n",
      "INFO:scrapers.BaseScraper:Navigated to https://www.spiegel.de/gesundheit/\n",
      "INFO:scrapers.BaseScraper:Navigated to https://www.spiegel.de/familie/\n",
      "INFO:scrapers.BaseScraper:Navigated to https://www.spiegel.de/psychologie/\n",
      "INFO:scrapers.BaseScraper:Navigated to https://www.spiegel.de/karriere/\n",
      "INFO:scrapers.BaseScraper:Navigated to https://www.spiegel.de/start/\n",
      "INFO:scrapers.BaseScraper:Navigated to https://www.spiegel.de/geschichte/\n",
      "INFO:scrapers.BaseScraper:Navigated to https://www.spiegel.de/auto/\n",
      "INFO:scrapers.BaseScraper:Navigated to https://www.spiegel.de/international/\n",
      "INFO:scrapers.BaseScraper:Navigated to https://www.spiegel.de/deinspiegel/\n",
      "INFO:scrapers.BaseScraper:Navigated to https://www.spiegel.de/audio/\n",
      "INFO:scrapers.BaseScraper:Navigated to https://www.spiegel.de/video/\n",
      "INFO:scrapers.BaseScraper:Navigated to https://www.spiegel.de/tests/\n",
      "INFO:scrapers.BaseScraper:Navigated to https://www.spiegel.de/backstage/\n",
      "INFO:scrapers.BaseScraper:Navigated to https://www.spiegel.de/services/\n",
      "INFO:scrapers.BaseScraper:Navigated to https://www.spiegel.de/nachrichtenarchiv/\n"
     ]
    }
   ],
   "source": [
    "this_runs_articles = scraper.scrape(token)"
   ]
  },
  {
   "cell_type": "code",
   "execution_count": null,
   "id": "668fe0c9-045a-4457-bb53-3d5dc9db662d",
   "metadata": {},
   "outputs": [],
   "source": [
    "this_runs_articles"
   ]
  },
  {
   "cell_type": "code",
   "execution_count": 2,
   "id": "64c9eeab-d60b-4da4-9f62-86ff614ce251",
   "metadata": {},
   "outputs": [],
   "source": [
    "# Open the file and load its content\n",
    "with open(\"spiegel_articles.json\", 'r') as file:\n",
    "    this_runs_articles = json.load(file)"
   ]
  },
  {
   "cell_type": "code",
   "execution_count": null,
   "id": "63e9d23a-319d-446f-ae23-486238e8e398",
   "metadata": {},
   "outputs": [],
   "source": [
    "# Save the responses to a json file\n",
    "with open('spiegel_articles.json', 'w') as f:\n",
    "    json.dump(this_runs_articles, f)\n"
   ]
  },
  {
   "cell_type": "code",
   "execution_count": 3,
   "id": "e9b2926d-b10c-441a-a60c-009897376483",
   "metadata": {},
   "outputs": [],
   "source": [
    "# get the token for the database\n",
    "keycloak_login = KeycloakLogin()\n",
    "token = keycloak_login.return_token()"
   ]
  },
  {
   "cell_type": "code",
   "execution_count": null,
   "id": "d6bf3eef-45fb-4a6b-810b-096fed7a7341",
   "metadata": {
    "tags": []
   },
   "outputs": [],
   "source": [
    "from database_handling.DataDownload import DataDownloader\n",
    "\n",
    "test_url_checker = DataDownloader(token)\n",
    "status_code = test_url_checker.get_content_rehydrate_status_code_only(url=\"https://www.spiegel.de/deinspiegel/wie-der-wolf-zum-hund-wurde-der-beginn-einer-wunderbaren-freundschaft-a-4388fdf5-aeef-40f0-9d9c-753f3de38f9c\")"
   ]
  },
  {
   "cell_type": "code",
   "execution_count": null,
   "id": "810e4154-8e3b-40e7-b26e-16208c883886",
   "metadata": {},
   "outputs": [],
   "source": [
    "status_code"
   ]
  },
  {
   "cell_type": "code",
   "execution_count": null,
   "id": "035f5613-56fd-4f63-baa3-273b7ed8b629",
   "metadata": {},
   "outputs": [],
   "source": [
    "import requests"
   ]
  },
  {
   "cell_type": "code",
   "execution_count": null,
   "id": "8e28d2d8-fddb-4540-83e6-bca1a79c2c09",
   "metadata": {},
   "outputs": [],
   "source": [
    "# Construct the full URL for the API request\n",
    "api_url = f\"https://api.m3.ifkw.lmu.de/api/v1/content/rehydrate/\"\n",
    "\n",
    "# Send the HEAD request with the optional query parameters\n",
    "response = requests.head(api_url, url=\"https://www.spiegel.de/deinspiegel/wie-der-wolf-zum-hund-wurde-der-beginn-einer-wunderbaren-freundschaft-a-4388fdf5-aeef-40f0-9d9c-753f3de38f9c\")"
   ]
  },
  {
   "cell_type": "code",
   "execution_count": 4,
   "id": "add8ddc0-aa2f-4978-9229-118f2ae0c284",
   "metadata": {},
   "outputs": [
    {
     "name": "stdout",
     "output_type": "stream",
     "text": [
      "Total articles fetched: 747\n"
     ]
    }
   ],
   "source": [
    "# Initialize the data downloader with the provided token\n",
    "data_downloader = DataDownloader(token)\n",
    "\n",
    "# Initialize variables for pagination\n",
    "all_articles_in_db = []\n",
    "page_size = 100  # Assuming the server returns 100 items per page by default\n",
    "offset = 0\n",
    "url = \"https://www.spiegel.de/\"\n",
    "\n",
    "# Loop until all pages are retrieved\n",
    "while True:\n",
    "    # Fetch articles from the current page\n",
    "    articles_in_db = data_downloader.get_content(url=url, limit=page_size, offset=offset)\n",
    "    \n",
    "    # Check if articles were returned\n",
    "    if not articles_in_db or 'items' not in articles_in_db:\n",
    "        break\n",
    "    \n",
    "    # Add the current batch of articles to the complete list\n",
    "    all_articles_in_db.extend(articles_in_db['items'])\n",
    "    \n",
    "    # Update the offset for the next page\n",
    "    offset += page_size\n",
    "    \n",
    "    # Check if we have fetched all articles\n",
    "    if len(all_articles_in_db) >= articles_in_db['count']:\n",
    "        break\n",
    "\n",
    "# The total number of articles retrieved\n",
    "article_count = len(all_articles_in_db)\n",
    "\n",
    "print(f\"Total articles fetched: {article_count}\")\n"
   ]
  },
  {
   "cell_type": "code",
   "execution_count": 5,
   "id": "9a50eccb-a834-49f8-9d1a-6014abaa1880",
   "metadata": {},
   "outputs": [],
   "source": [
    "# instantiate the data handler\n",
    "data_handler = DataHandler()"
   ]
  },
  {
   "cell_type": "code",
   "execution_count": 6,
   "id": "75744cf4-af27-4b1c-bbd6-8f00a71b1915",
   "metadata": {},
   "outputs": [],
   "source": [
    "# for the articles that are already in the database, only update the last_verification_date\n",
    "articles_for_last_verifcation_date_update = data_handler.find_scraped_articles_already_in_db(this_runs_articles, all_articles_in_db)\n",
    "# safe the responses to the last verification date update\n",
    "responses_to_last_verifcation_date_update = data_handler.patch_last_online_verification_date(token, articles_for_last_verifcation_date_update)\n",
    "# get the articles that are not yet in the database\n",
    "articles_not_yet_in_db = data_handler.find_scraped_articles_not_already_in_db(this_runs_articles, all_articles_in_db)\n",
    "articles_not_yet_in_db_list_of_dicts = [article for article in this_runs_articles if article['url'] in articles_not_yet_in_db]\n",
    "\n",
    "# Define the number of articles to process and upload per iteration\n",
    "articles_per_iteration = 10\n",
    "\n",
    "# Calculate the number of iterations\n",
    "iterations = len(articles_not_yet_in_db_list_of_dicts) // articles_per_iteration + (len(articles_not_yet_in_db_list_of_dicts) % articles_per_iteration > 0)\n",
    "\n",
    "responses = []"
   ]
  },
  {
   "cell_type": "code",
   "execution_count": 7,
   "id": "feb05c50-3543-4902-abe0-c91faa389420",
   "metadata": {},
   "outputs": [
    {
     "name": "stdout",
     "output_type": "stream",
     "text": [
      "Starting entity extraction...\n",
      "2024-08-29 09:16:17,488 SequenceTagger predicts: Dictionary with 20 tags: <unk>, O, B-PER, E-PER, S-LOC, B-MISC, I-MISC, E-MISC, S-PER, B-ORG, E-ORG, S-ORG, I-ORG, B-LOC, E-LOC, S-MISC, I-PER, I-LOC, <START>, <STOP>\n",
      "Tagger instantiated successfully\n"
     ]
    },
    {
     "data": {
      "application/vnd.jupyter.widget-view+json": {
       "model_id": "511484a711514c25af45896dca62b73e",
       "version_major": 2,
       "version_minor": 0
      },
      "text/plain": [
       "Map:   0%|          | 0/160 [00:00<?, ? examples/s]"
      ]
     },
     "metadata": {},
     "output_type": "display_data"
    },
    {
     "name": "stdout",
     "output_type": "stream",
     "text": [
      "Entity extraction completed.\n",
      "Starting topic extraction...\n"
     ]
    },
    {
     "name": "stderr",
     "output_type": "stream",
     "text": [
      "/opt/conda/lib/python3.10/site-packages/huggingface_hub/file_download.py:1150: FutureWarning: `resume_download` is deprecated and will be removed in version 1.0.0. Downloads always resume when possible. If you want to force a new download, use `force_download=True`.\n",
      "  warnings.warn(\n"
     ]
    },
    {
     "data": {
      "application/vnd.jupyter.widget-view+json": {
       "model_id": "ef17ca485d1442e4804c576a2ee38d4e",
       "version_major": 2,
       "version_minor": 0
      },
      "text/plain": [
       "Map:   0%|          | 0/160 [00:00<?, ? examples/s]"
      ]
     },
     "metadata": {},
     "output_type": "display_data"
    },
    {
     "name": "stderr",
     "output_type": "stream",
     "text": [
      "No sentence-transformers model found with name deepset/gbert-base. Creating a new one with MEAN pooling.\n"
     ]
    },
    {
     "name": "stdout",
     "output_type": "stream",
     "text": [
      "Topic extraction completed.\n",
      "Starting vectorization...\n"
     ]
    },
    {
     "data": {
      "application/vnd.jupyter.widget-view+json": {
       "model_id": "f073a4e1750c412ab3972a37a78ce0f7",
       "version_major": 2,
       "version_minor": 0
      },
      "text/plain": [
       "config.json:   0%|          | 0.00/362 [00:00<?, ?B/s]"
      ]
     },
     "metadata": {},
     "output_type": "display_data"
    },
    {
     "data": {
      "application/vnd.jupyter.widget-view+json": {
       "model_id": "8dc3f220aff04312a5bf02fa805a97db",
       "version_major": 2,
       "version_minor": 0
      },
      "text/plain": [
       "model.safetensors:   0%|          | 0.00/442M [00:00<?, ?B/s]"
      ]
     },
     "metadata": {},
     "output_type": "display_data"
    },
    {
     "data": {
      "application/vnd.jupyter.widget-view+json": {
       "model_id": "4eada540d1444921b242b2b4678dd783",
       "version_major": 2,
       "version_minor": 0
      },
      "text/plain": [
       "tokenizer_config.json:   0%|          | 0.00/83.0 [00:00<?, ?B/s]"
      ]
     },
     "metadata": {},
     "output_type": "display_data"
    },
    {
     "data": {
      "application/vnd.jupyter.widget-view+json": {
       "model_id": "bcb8d5554f3a4ae6b5ea12ceb50a6f1a",
       "version_major": 2,
       "version_minor": 0
      },
      "text/plain": [
       "vocab.txt:   0%|          | 0.00/240k [00:00<?, ?B/s]"
      ]
     },
     "metadata": {},
     "output_type": "display_data"
    },
    {
     "name": "stderr",
     "output_type": "stream",
     "text": [
      "No sentence-transformers model found with name T-Systems-onsite/german-roberta-sentence-transformer-v2. Creating a new one with MEAN pooling.\n"
     ]
    },
    {
     "data": {
      "application/vnd.jupyter.widget-view+json": {
       "model_id": "bcac6123e82148128fdc0f967885b8e8",
       "version_major": 2,
       "version_minor": 0
      },
      "text/plain": [
       "config.json:   0%|          | 0.00/541 [00:00<?, ?B/s]"
      ]
     },
     "metadata": {},
     "output_type": "display_data"
    },
    {
     "data": {
      "application/vnd.jupyter.widget-view+json": {
       "model_id": "a721a200c66a4c11a2274f10e5ffd8da",
       "version_major": 2,
       "version_minor": 0
      },
      "text/plain": [
       "model.safetensors:   0%|          | 0.00/1.11G [00:00<?, ?B/s]"
      ]
     },
     "metadata": {},
     "output_type": "display_data"
    },
    {
     "data": {
      "application/vnd.jupyter.widget-view+json": {
       "model_id": "c8817b53da3349b6ad74b7cb08576093",
       "version_major": 2,
       "version_minor": 0
      },
      "text/plain": [
       "tokenizer_config.json:   0%|          | 0.00/188 [00:00<?, ?B/s]"
      ]
     },
     "metadata": {},
     "output_type": "display_data"
    },
    {
     "data": {
      "application/vnd.jupyter.widget-view+json": {
       "model_id": "c52e5d8f5b294a1f984b7fa83e43039e",
       "version_major": 2,
       "version_minor": 0
      },
      "text/plain": [
       "sentencepiece.bpe.model:   0%|          | 0.00/5.07M [00:00<?, ?B/s]"
      ]
     },
     "metadata": {},
     "output_type": "display_data"
    },
    {
     "data": {
      "application/vnd.jupyter.widget-view+json": {
       "model_id": "afa102389fb14fcb8ddbfaed71b2348d",
       "version_major": 2,
       "version_minor": 0
      },
      "text/plain": [
       "special_tokens_map.json:   0%|          | 0.00/150 [00:00<?, ?B/s]"
      ]
     },
     "metadata": {},
     "output_type": "display_data"
    },
    {
     "data": {
      "application/vnd.jupyter.widget-view+json": {
       "model_id": "ac523ec78514446cb0f559d45eac2c2c",
       "version_major": 2,
       "version_minor": 0
      },
      "text/plain": [
       "modules.json:   0%|          | 0.00/229 [00:00<?, ?B/s]"
      ]
     },
     "metadata": {},
     "output_type": "display_data"
    },
    {
     "data": {
      "application/vnd.jupyter.widget-view+json": {
       "model_id": "efdd1822ae944059adc8b795260e95fd",
       "version_major": 2,
       "version_minor": 0
      },
      "text/plain": [
       "config_sentence_transformers.json:   0%|          | 0.00/124 [00:00<?, ?B/s]"
      ]
     },
     "metadata": {},
     "output_type": "display_data"
    },
    {
     "data": {
      "application/vnd.jupyter.widget-view+json": {
       "model_id": "84aea25c6844444ebc97f2ac051fcd38",
       "version_major": 2,
       "version_minor": 0
      },
      "text/plain": [
       "README.md:   0%|          | 0.00/3.02k [00:00<?, ?B/s]"
      ]
     },
     "metadata": {},
     "output_type": "display_data"
    },
    {
     "data": {
      "application/vnd.jupyter.widget-view+json": {
       "model_id": "cfaab25eed294c67b52050995dd920e1",
       "version_major": 2,
       "version_minor": 0
      },
      "text/plain": [
       "sentence_bert_config.json:   0%|          | 0.00/53.0 [00:00<?, ?B/s]"
      ]
     },
     "metadata": {},
     "output_type": "display_data"
    },
    {
     "data": {
      "application/vnd.jupyter.widget-view+json": {
       "model_id": "5b6f29ad084c4b92b13f7ccd5178143f",
       "version_major": 2,
       "version_minor": 0
      },
      "text/plain": [
       "config.json:   0%|          | 0.00/626 [00:00<?, ?B/s]"
      ]
     },
     "metadata": {},
     "output_type": "display_data"
    },
    {
     "data": {
      "application/vnd.jupyter.widget-view+json": {
       "model_id": "4f6987afa60c44ccb9e5ef0266b356bb",
       "version_major": 2,
       "version_minor": 0
      },
      "text/plain": [
       "pytorch_model.bin:   0%|          | 0.00/1.34G [00:00<?, ?B/s]"
      ]
     },
     "metadata": {},
     "output_type": "display_data"
    },
    {
     "data": {
      "application/vnd.jupyter.widget-view+json": {
       "model_id": "c413fc45c21c43d1b53934f8e2a88f3b",
       "version_major": 2,
       "version_minor": 0
      },
      "text/plain": [
       "tokenizer_config.json:   0%|          | 0.00/395 [00:00<?, ?B/s]"
      ]
     },
     "metadata": {},
     "output_type": "display_data"
    },
    {
     "data": {
      "application/vnd.jupyter.widget-view+json": {
       "model_id": "0edecd2bc6df4af2b083172431c7195d",
       "version_major": 2,
       "version_minor": 0
      },
      "text/plain": [
       "vocab.txt:   0%|          | 0.00/240k [00:00<?, ?B/s]"
      ]
     },
     "metadata": {},
     "output_type": "display_data"
    },
    {
     "data": {
      "application/vnd.jupyter.widget-view+json": {
       "model_id": "bddb4610ec2a4ebc9c3c5c21f8a562f7",
       "version_major": 2,
       "version_minor": 0
      },
      "text/plain": [
       "tokenizer.json:   0%|          | 0.00/729k [00:00<?, ?B/s]"
      ]
     },
     "metadata": {},
     "output_type": "display_data"
    },
    {
     "data": {
      "application/vnd.jupyter.widget-view+json": {
       "model_id": "b855e3b0cb844d39b52ddaa0b0df8a16",
       "version_major": 2,
       "version_minor": 0
      },
      "text/plain": [
       "special_tokens_map.json:   0%|          | 0.00/125 [00:00<?, ?B/s]"
      ]
     },
     "metadata": {},
     "output_type": "display_data"
    },
    {
     "data": {
      "application/vnd.jupyter.widget-view+json": {
       "model_id": "5e51367aa9c54de9b1d52a90ca60b54b",
       "version_major": 2,
       "version_minor": 0
      },
      "text/plain": [
       "1_Pooling/config.json:   0%|          | 0.00/191 [00:00<?, ?B/s]"
      ]
     },
     "metadata": {},
     "output_type": "display_data"
    },
    {
     "name": "stderr",
     "output_type": "stream",
     "text": [
      "No sentence-transformers model found with name xlm-roberta-large. Creating a new one with MEAN pooling.\n"
     ]
    },
    {
     "data": {
      "application/vnd.jupyter.widget-view+json": {
       "model_id": "8106b222d6c64f848e65941bc6645771",
       "version_major": 2,
       "version_minor": 0
      },
      "text/plain": [
       "config.json:   0%|          | 0.00/616 [00:00<?, ?B/s]"
      ]
     },
     "metadata": {},
     "output_type": "display_data"
    },
    {
     "data": {
      "application/vnd.jupyter.widget-view+json": {
       "model_id": "c591077291bd41a1a04d13628f93eff3",
       "version_major": 2,
       "version_minor": 0
      },
      "text/plain": [
       "model.safetensors:   0%|          | 0.00/2.24G [00:00<?, ?B/s]"
      ]
     },
     "metadata": {},
     "output_type": "display_data"
    },
    {
     "data": {
      "application/vnd.jupyter.widget-view+json": {
       "model_id": "d1d88f5e62224f6196b551769ca33d83",
       "version_major": 2,
       "version_minor": 0
      },
      "text/plain": [
       "tokenizer_config.json:   0%|          | 0.00/25.0 [00:00<?, ?B/s]"
      ]
     },
     "metadata": {},
     "output_type": "display_data"
    },
    {
     "data": {
      "application/vnd.jupyter.widget-view+json": {
       "model_id": "33fa8e8aed0840538493fcf1cf3fb83c",
       "version_major": 2,
       "version_minor": 0
      },
      "text/plain": [
       "sentencepiece.bpe.model:   0%|          | 0.00/5.07M [00:00<?, ?B/s]"
      ]
     },
     "metadata": {},
     "output_type": "display_data"
    },
    {
     "data": {
      "application/vnd.jupyter.widget-view+json": {
       "model_id": "fc8fbfef7afd40fd8a69ec3d1b715afc",
       "version_major": 2,
       "version_minor": 0
      },
      "text/plain": [
       "tokenizer.json:   0%|          | 0.00/9.10M [00:00<?, ?B/s]"
      ]
     },
     "metadata": {},
     "output_type": "display_data"
    },
    {
     "name": "stderr",
     "output_type": "stream",
     "text": [
      "No sentence-transformers model found with name google/bigbird-roberta-large. Creating a new one with MEAN pooling.\n"
     ]
    },
    {
     "data": {
      "application/vnd.jupyter.widget-view+json": {
       "model_id": "90963c7340364067ab119432cd11da5f",
       "version_major": 2,
       "version_minor": 0
      },
      "text/plain": [
       "config.json:   0%|          | 0.00/758 [00:00<?, ?B/s]"
      ]
     },
     "metadata": {},
     "output_type": "display_data"
    },
    {
     "data": {
      "application/vnd.jupyter.widget-view+json": {
       "model_id": "01b12d121f8c48a4a2a2c96583a85a4a",
       "version_major": 2,
       "version_minor": 0
      },
      "text/plain": [
       "pytorch_model.bin:   0%|          | 0.00/1.44G [00:00<?, ?B/s]"
      ]
     },
     "metadata": {},
     "output_type": "display_data"
    },
    {
     "data": {
      "application/vnd.jupyter.widget-view+json": {
       "model_id": "fd49a9aa24bd4d5cb58bade61d682d73",
       "version_major": 2,
       "version_minor": 0
      },
      "text/plain": [
       "tokenizer_config.json:   0%|          | 0.00/969 [00:00<?, ?B/s]"
      ]
     },
     "metadata": {},
     "output_type": "display_data"
    },
    {
     "data": {
      "application/vnd.jupyter.widget-view+json": {
       "model_id": "b3dfc9da1f644a328e66a8346ead5142",
       "version_major": 2,
       "version_minor": 0
      },
      "text/plain": [
       "spiece.model:   0%|          | 0.00/846k [00:00<?, ?B/s]"
      ]
     },
     "metadata": {},
     "output_type": "display_data"
    },
    {
     "data": {
      "application/vnd.jupyter.widget-view+json": {
       "model_id": "2ac81fa77f2940a1bc08f3bd8e072285",
       "version_major": 2,
       "version_minor": 0
      },
      "text/plain": [
       "special_tokens_map.json:   0%|          | 0.00/775 [00:00<?, ?B/s]"
      ]
     },
     "metadata": {},
     "output_type": "display_data"
    },
    {
     "name": "stderr",
     "output_type": "stream",
     "text": [
      "No sentence-transformers model found with name severinsimmler/xlm-roberta-longformer-large-16384. Creating a new one with MEAN pooling.\n"
     ]
    },
    {
     "data": {
      "application/vnd.jupyter.widget-view+json": {
       "model_id": "54978360f829487f975446af028885e7",
       "version_major": 2,
       "version_minor": 0
      },
      "text/plain": [
       "config.json:   0%|          | 0.00/976 [00:00<?, ?B/s]"
      ]
     },
     "metadata": {},
     "output_type": "display_data"
    },
    {
     "data": {
      "application/vnd.jupyter.widget-view+json": {
       "model_id": "7e0a0bb81dbf4633825f6fcfc8b07f9d",
       "version_major": 2,
       "version_minor": 0
      },
      "text/plain": [
       "model.safetensors:   0%|          | 0.00/2.61G [00:00<?, ?B/s]"
      ]
     },
     "metadata": {},
     "output_type": "display_data"
    },
    {
     "data": {
      "application/vnd.jupyter.widget-view+json": {
       "model_id": "29d95c839c124e2ebeed8bd45ee6d68d",
       "version_major": 2,
       "version_minor": 0
      },
      "text/plain": [
       "tokenizer_config.json:   0%|          | 0.00/420 [00:00<?, ?B/s]"
      ]
     },
     "metadata": {},
     "output_type": "display_data"
    },
    {
     "data": {
      "application/vnd.jupyter.widget-view+json": {
       "model_id": "6bd73e6de1a7423f9a6e2649c2c4a9dd",
       "version_major": 2,
       "version_minor": 0
      },
      "text/plain": [
       "tokenizer.json:   0%|          | 0.00/17.1M [00:00<?, ?B/s]"
      ]
     },
     "metadata": {},
     "output_type": "display_data"
    },
    {
     "data": {
      "application/vnd.jupyter.widget-view+json": {
       "model_id": "862cd2230e25486089ec37c8dd872fd0",
       "version_major": 2,
       "version_minor": 0
      },
      "text/plain": [
       "special_tokens_map.json:   0%|          | 0.00/280 [00:00<?, ?B/s]"
      ]
     },
     "metadata": {},
     "output_type": "display_data"
    },
    {
     "data": {
      "application/vnd.jupyter.widget-view+json": {
       "model_id": "38ea4158585942ebb97e0032b39d5de6",
       "version_major": 2,
       "version_minor": 0
      },
      "text/plain": [
       "Map:   0%|          | 0/160 [00:00<?, ? examples/s]"
      ]
     },
     "metadata": {},
     "output_type": "display_data"
    },
    {
     "name": "stdout",
     "output_type": "stream",
     "text": [
      "Vectorization completed.\n",
      "Beginning article upload...\n",
      "Article upload completed.\n"
     ]
    }
   ],
   "source": [
    "import torch\n",
    "import gc\n",
    "import json\n",
    "\n",
    "def clear_gpu_memory():\n",
    "    \"\"\"Clears GPU memory and forces garbage collection.\"\"\"\n",
    "    torch.cuda.empty_cache()\n",
    "    gc.collect()\n",
    "\n",
    "def process_articles_in_batches(text_analysis_class, method_name, articles, batch_size):\n",
    "    \"\"\"Process articles in batches using the specified text analysis class and method.\"\"\"\n",
    "    processor = text_analysis_class()\n",
    "    method = getattr(processor, method_name)\n",
    "    \n",
    "    for i in range(0, len(articles), batch_size):\n",
    "        batch = articles[i:i + batch_size]\n",
    "        batch = method(batch)\n",
    "        \n",
    "        # Reassign the processed batch back to the main list\n",
    "        articles[i:i + batch_size] = batch\n",
    "        \n",
    "        clear_gpu_memory()  # Clear memory after each batch\n",
    "    \n",
    "    del processor  # Delete the processor instance to free up GPU memory\n",
    "    clear_gpu_memory()\n",
    "\n",
    "# Define your batch size\n",
    "batch_size = len(articles_not_yet_in_db_list_of_dicts)  # Adjust this based on your GPU capacity\n",
    "\n",
    "# Process with Entity Extractor\n",
    "print(\"Starting entity extraction...\")\n",
    "process_articles_in_batches(NEExtractor, 'extract_entities', articles_not_yet_in_db_list_of_dicts, batch_size)\n",
    "print(\"Entity extraction completed.\")\n",
    "\n",
    "# Process with Topic Extractor\n",
    "print(\"Starting topic extraction...\")\n",
    "process_articles_in_batches(TopicExtractor, 'extract_topics', articles_not_yet_in_db_list_of_dicts, batch_size)\n",
    "print(\"Topic extraction completed.\")\n",
    "\n",
    "# Process with Vectorizer\n",
    "print(\"Starting vectorization...\")\n",
    "process_articles_in_batches(Vectorizer, 'vectorize', articles_not_yet_in_db_list_of_dicts, batch_size)\n",
    "print(\"Vectorization completed.\")\n",
    "\n",
    "# Remove main_text and lead_text from articles to save space before uploading\n",
    "for article in articles_not_yet_in_db_list_of_dicts:\n",
    "    article.pop('main_text', None)\n",
    "    article.pop('lead_text', None)\n",
    "\n",
    "# Upload each article to the database\n",
    "print(\"Beginning article upload...\")\n",
    "responses = []\n",
    "keycloak_login = KeycloakLogin()\n",
    "token = keycloak_login.return_token()\n",
    "data_uploader = DataUploader(token)\n",
    "\n",
    "for article in articles_not_yet_in_db_list_of_dicts:\n",
    "    response = data_uploader.post_content(article)\n",
    "    responses.append(response)\n",
    "\n",
    "# Save the responses to a JSON file\n",
    "with open('responses.json', 'w') as f:\n",
    "    json.dump(responses, f)\n",
    "\n",
    "print(\"Article upload completed.\")\n"
   ]
  },
  {
   "cell_type": "code",
   "execution_count": null,
   "id": "86cd1498-12b3-4ca6-8352-67a119bfc8af",
   "metadata": {},
   "outputs": [],
   "source": []
  },
  {
   "cell_type": "code",
   "execution_count": null,
   "id": "1b3c47e2-ca46-44dd-8457-90bc4de266b1",
   "metadata": {},
   "outputs": [],
   "source": []
  },
  {
   "cell_type": "code",
   "execution_count": null,
   "id": "9e0f3e1e-6c4f-4bd6-868d-875b22965348",
   "metadata": {},
   "outputs": [],
   "source": [
    "#for i in range(iterations):\n",
    "#    print(\"Processing articles\", i*articles_per_iteration, \"to\", (i+1)*articles_per_iteration, \"from\", len(articles_not_yet_in_db_list_of_dicts))\n",
    "#    # Get the articles for this iteration\n",
    "#    articles = spiegel_articles_not_yet_in_db_list_of_dicts[i*articles_per_iteration:(i+1)*articles_per_iteration]#\n",
    "#\n",
    "#    print(\"Running text processing on articles\", i*articles_per_iteration, \"to\", (i+1)*articles_per_iteration, \"from\", len(articles_not_yet_in_db_list_of_dicts))\n",
    "    # Add the summaries, named entities, topics, and vectors to the articles dict\n",
    "    #articles = summarizer.summarize(articles)\n",
    "#    articles = entity_extractor.extract_entities(articles)\n",
    "#    articles = topic_extractor.extract_topics(articles)\n",
    "#    articles = vectorizer.vectorize(articles)\n",
    "\n",
    "    # Remove main_text and lead_text from articles\n",
    "#    for article in articles:\n",
    "#        article.pop('main_text', None)\n",
    "#        article.pop('lead_text', None)\n",
    "        \n",
    "#    print(\"Uploading articles\", i*articles_per_iteration, \"to\", (i+1)*articles_per_iteration, \"from\", len(articles_not_yet_in_db_list_of_dicts))\n",
    "    # Ensure that the token is still valid every n iterations\n",
    "    # TODO: Tell Mario chuncking was done because I get a new token every 30 uploads to make sure the token is always valid\n",
    "    # if we do that every 1 upload that takes much longer since it takes ~20 seconds to get a net token/ensure the token is valid#\n",
    "#    keycloak_login = KeycloakLogin()\n",
    "#    token = keycloak_login.return_token()\n",
    "    \n",
    "    # Loop over articles and put every article into the database\n",
    "#    data_uploader = DataUploader(token)\n",
    "    \n",
    "#    for article in articles:\n",
    "#        response = data_uploader.post_content(article)\n",
    "#        responses.append(response)\n",
    "    \n",
    "#    print(\"Processed and uploaded articles\", i*articles_per_iteration, \"to\", (i+1)*articles_per_iteration, \"from\", len(articles_not_yet_in_db_list_of_dicts))\n",
    "    \n",
    "        \n",
    "    # save the responses to a json file\n",
    "#    with open('responses.json', 'w') as f:\n",
    "#        json.dump(responses, f)"
   ]
  }
 ],
 "metadata": {
  "kernelspec": {
   "display_name": "Python 3",
   "language": "python",
   "name": "python3"
  },
  "language_info": {
   "codemirror_mode": {
    "name": "ipython",
    "version": 3
   },
   "file_extension": ".py",
   "mimetype": "text/x-python",
   "name": "python",
   "nbconvert_exporter": "python",
   "pygments_lexer": "ipython3",
   "version": "3.9.19"
  }
 },
 "nbformat": 4,
 "nbformat_minor": 5
}
