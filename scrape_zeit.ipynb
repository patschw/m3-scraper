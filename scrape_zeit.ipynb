{
 "cells": [
  {
   "cell_type": "code",
   "execution_count": 1,
   "id": "3ba7eecf-dfea-4544-8596-179dfd687634",
   "metadata": {
    "tags": []
   },
   "outputs": [],
   "source": [
    "#from database_handling.DataDownload import DataDownloader\n",
    "#from database_handling.DataHandleAndOtherHelpers import DataHandler\n",
    "#from database_handling.DataUpload import DataUploader\n",
    "#from database_handling.DataDelete import DataDeleter\n",
    "#from database_handling.KeycloakLogin import KeycloakLogin\n",
    "from scrapers.ZeitScraper import ZeitScraper\n",
    "#from text_analysis.NEExtractor import NEExtractor\n",
    "#from text_analysis.Summarizer import Summarizer\n",
    "#from text_analysis.TopicExtractor import TopicExtractor\n",
    "#from text_analysis.Vectorizers import Vectorizer\n",
    "#\n",
    "#import transformers\n",
    "#import json\n",
    "#import gc\n",
    "#import torch\n",
    "import logging"
   ]
  },
  {
   "cell_type": "code",
   "execution_count": 2,
   "id": "9fac4c17",
   "metadata": {},
   "outputs": [],
   "source": [
    "# Suppress all logging below CRITICAL level\n",
    "logging.basicConfig(level=logging.INFO)"
   ]
  },
  {
   "cell_type": "code",
   "execution_count": 3,
   "id": "fbf8bcb2-8784-4df6-91cb-d42ded91c329",
   "metadata": {},
   "outputs": [
    {
     "name": "stderr",
     "output_type": "stream",
     "text": [
      "INFO:scrapers.BaseScraper:Navigated to https://meine.zeit.de/anmelden\n",
      "INFO:scrapers.BaseScraper:Input text successfully entered into the field.\n",
      "INFO:scrapers.BaseScraper:Input text successfully entered into the field.\n",
      "INFO:scrapers.BaseScraper:Navigated to https://www.zeit.de/\n",
      "INFO:scrapers.ZeitScraper:Login successful.\n"
     ]
    }
   ],
   "source": [
    "scraper = ZeitScraper(headless=False)\n",
    "scraper.start_browser()\n",
    "scraper.login()"
   ]
  },
  {
   "cell_type": "code",
   "execution_count": 4,
   "id": "6ab62c99",
   "metadata": {},
   "outputs": [
    {
     "name": "stderr",
     "output_type": "stream",
     "text": [
      "INFO:scrapers.BaseScraper:Found 290 article URLs on the current page: https://www.zeit.de/index\n"
     ]
    }
   ],
   "source": [
    "test = scraper._get_all_article_urls_on_current_page()\n"
   ]
  },
  {
   "cell_type": "code",
   "execution_count": 5,
   "id": "cc7f6551",
   "metadata": {},
   "outputs": [
    {
     "data": {
      "text/plain": [
       "['https://www.zeit.de/beta/fragen-sie-zeit-online-news',\n",
       " 'https://www.zeit.de/geld/2024-08/tourismusgebiete-anwohner-geld-tourismusbranche-reisen',\n",
       " 'https://www.zeit.de/politik/ausland/2024-09/nahostkonflikt-israel-palaestina-benjamin-netanjahu',\n",
       " 'https://www.zeit.de/gesellschaft/zeitgeschehen/2024-09/abwanderung-deutschland-ostdeutschland-bevoelkerung-trend',\n",
       " 'https://www.zeit.de/thema/krieg-in-ukraine',\n",
       " 'https://www.zeit.de/thema/us-wahl',\n",
       " 'https://www.zeit.de/gesellschaft/zeitgeschehen/2024-09/abwanderung-deutschland-ostdeutschland-bevoelkerung-trend',\n",
       " 'https://www.zeit.de/gesellschaft/zeitgeschehen/2024-09/abwanderung-deutschland-ostdeutschland-bevoelkerung-trend',\n",
       " 'https://www.zeit.de/politik/deutschland/2024-09/bewaffneter-von-muenchen-war-laut-polizei-18-jaehriger-aus-oesterreich',\n",
       " 'https://www.zeit.de/politik/deutschland/2024-09/bewaffneter-von-muenchen-war-laut-polizei-18-jaehriger-aus-oesterreich',\n",
       " 'https://www.zeit.de/gesellschaft/zeitgeschehen/2024-09/polizeieinsatz-muenchen-innenstadt-schuesse-ns-dokumentationszentrum',\n",
       " 'https://www.zeit.de/gesellschaft/zeitgeschehen/2024-09/polizeieinsatz-muenchen-innenstadt-schuesse-ns-dokumentationszentrum',\n",
       " 'https://www.zeit.de/kultur/musik/2024-09/oasis-ticketpreise-konzerte-liam-noel-gallagher-keir-starmer',\n",
       " 'https://www.zeit.de/kultur/musik/2024-09/oasis-ticketpreise-konzerte-liam-noel-gallagher-keir-starmer',\n",
       " 'https://www.zeit.de/politik/deutschland/2024-09/bundeswirtschaftsministerium-strengere-kontrollen-temu-shein',\n",
       " 'https://www.zeit.de/politik/deutschland/2024-09/bundeswirtschaftsministerium-strengere-kontrollen-temu-shein',\n",
       " 'https://www.zeit.de/geld/2024-02/wohnen-mieten-oder-kaufen-rechner-immobilien-hauskauf',\n",
       " 'https://www.zeit.de/geld/2024-02/wohnen-mieten-oder-kaufen-rechner-immobilien-hauskauf',\n",
       " 'https://www.zeit.de/gesellschaft/zeitgeschehen/2024-09/muenchen-schuesse-innenstadt-ns-dokumentationszentrum-was-bekannt-ist',\n",
       " 'https://www.zeit.de/politik/ausland/2024-09/ex-eu-kommissar-barnier-zum-franzoesischen-premierminister-ernannt',\n",
       " 'https://www.zeit.de/politik/ausland/ukraine-krieg-news-liveblog',\n",
       " 'https://www.zeit.de/wirtschaft/2024-09/ifo-institut-wachstumsprognose-herbst',\n",
       " 'https://www.zeit.de/administratives/zeit-online-app-ios-android',\n",
       " 'https://www.zeit.de/zeit-magazin/leben/2024-09/verhalten-gast-regeln-manieren',\n",
       " 'https://www.zeit.de/zeit-magazin/leben/2024-09/verhalten-gast-regeln-manieren',\n",
       " 'https://www.zeit.de/2024/38/kitas-kinderbetreuung-erzieher-psychologie-entwicklung',\n",
       " 'https://www.zeit.de/2024/38/kitas-kinderbetreuung-erzieher-psychologie-entwicklung',\n",
       " 'https://www.zeit.de/gesundheit/2024-09/handystrahlung-hirntumor-krebs-handy-studie',\n",
       " 'https://www.zeit.de/gesundheit/2024-09/handystrahlung-hirntumor-krebs-handy-studie',\n",
       " 'https://www.zeit.de/sport/2024-09/olympia-teilnehmerin-rebecca-cheptegei-brandangriff-tot',\n",
       " 'https://www.zeit.de/sport/2024-09/olympia-teilnehmerin-rebecca-cheptegei-brandangriff-tot',\n",
       " 'https://www.zeit.de/politik/ausland/2024-09/ex-eu-kommissar-barnier-zum-franzoesischen-premierminister-ernannt',\n",
       " 'https://www.zeit.de/politik/ausland/2024-09/ex-eu-kommissar-barnier-zum-franzoesischen-premierminister-ernannt',\n",
       " 'https://www.zeit.de/politik/ausland/2024-09/us-wahlkampf-trinkgeldsteuer-donald-trump-ok-america',\n",
       " 'https://www.zeit.de/politik/ausland/2024-09/us-wahlkampf-trinkgeldsteuer-donald-trump-ok-america',\n",
       " 'https://www.zeit.de/politik/ausland/2024-09/nahostkonflikt-israel-palaestina-benjamin-netanjahu',\n",
       " 'https://www.zeit.de/politik/ausland/2024-09/nahostkonflikt-israel-palaestina-benjamin-netanjahu',\n",
       " 'https://www.zeit.de/serie/plan-d',\n",
       " 'https://www.zeit.de/gesellschaft/2024-08/woelfe-jagd-natur-gleichgewicht-bus-pland',\n",
       " 'https://www.zeit.de/gesellschaft/2024-08/woelfe-jagd-natur-gleichgewicht-bus-pland',\n",
       " 'https://www.zeit.de/digital/internet/2024-09/richard-socher-ki-forscher-suchmaschine-you-google',\n",
       " 'https://www.zeit.de/digital/internet/2024-09/richard-socher-ki-forscher-suchmaschine-you-google',\n",
       " 'https://www.zeit.de/arbeit/2024-09/erfahrungen-fuehrungskraft-arbeitsalltag-krankmeldungen-homeoffice',\n",
       " 'https://www.zeit.de/arbeit/2024-09/erfahrungen-fuehrungskraft-arbeitsalltag-krankmeldungen-homeoffice',\n",
       " 'https://www.zeit.de/arbeit/2024-08/erzieherinnen-kitas-krankmeldung-kinderbetreuung-ueberlastung',\n",
       " 'https://www.zeit.de/arbeit/2024-08/erzieherinnen-kitas-krankmeldung-kinderbetreuung-ueberlastung',\n",
       " 'https://www.zeit.de/zeit-magazin/wochenmarkt/2024-08/brotsalat-zucchini-miso-rezept-wochenmarkt-besser-guenstig',\n",
       " 'https://www.zeit.de/zeit-magazin/wochenmarkt/2024-08/brotsalat-zucchini-miso-rezept-wochenmarkt-besser-guenstig',\n",
       " 'https://www.zeit.de/2024/38/vw-sparplan-werksschliessungen-autoindustrie-arbeitsplaetze',\n",
       " 'https://www.zeit.de/2024/38/vw-sparplan-werksschliessungen-autoindustrie-arbeitsplaetze',\n",
       " 'https://www.zeit.de/gesellschaft/zeitgeschehen/2024-09/anschlag-solingen-ermittlungen-hinweise-tatverdaechtiger',\n",
       " 'https://www.zeit.de/gesellschaft/zeitgeschehen/2024-09/anschlag-solingen-ermittlungen-hinweise-tatverdaechtiger',\n",
       " 'https://www.zeit.de/zeit-magazin/2024/38/urlaub-hollywoodstars-leondardo-dicaprio-reichtum',\n",
       " 'https://www.zeit.de/zeit-magazin/2024/38/urlaub-hollywoodstars-leondardo-dicaprio-reichtum',\n",
       " 'https://www.zeit.de/familie/2024-08/familienurlaub-ex-partner-liebe-kind-elternschaft',\n",
       " 'https://www.zeit.de/familie/2024-08/familienurlaub-ex-partner-liebe-kind-elternschaft',\n",
       " 'https://www.zeit.de/serie/plan-d',\n",
       " 'https://www.zeit.de/serie/plan-d',\n",
       " 'https://www.zeit.de/wissen/umwelt/2024-09/grossbritannien-abwasser-gesetzesaenderung-haftstrafe',\n",
       " 'https://www.zeit.de/wissen/umwelt/2024-09/grossbritannien-abwasser-gesetzesaenderung-haftstrafe',\n",
       " 'https://www.zeit.de/gesellschaft/2024-09/harvey-weinstein-einstellung-verfahren-grossbritannien-sexueller-missbrauch',\n",
       " 'https://www.zeit.de/gesellschaft/2024-09/harvey-weinstein-einstellung-verfahren-grossbritannien-sexueller-missbrauch',\n",
       " 'https://www.zeit.de/politik/ausland/2024-09/andrij-sybiha-neuer-aussenminister-ukraine',\n",
       " 'https://www.zeit.de/politik/ausland/2024-09/andrij-sybiha-neuer-aussenminister-ukraine',\n",
       " 'https://www.zeit.de/sport/2024-09/paralympics-para-sportschuetzin-natascha-hiltrop-gold-paris',\n",
       " 'https://www.zeit.de/sport/2024-09/paralympics-para-sportschuetzin-natascha-hiltrop-gold-paris',\n",
       " 'https://www.zeit.de/politik/deutschland/2024-09/spd-gruene-ultimatum-reform-asylgesetz',\n",
       " 'https://www.zeit.de/politik/deutschland/2024-09/spd-gruene-ultimatum-reform-asylgesetz',\n",
       " 'https://www.zeit.de/wissen/2024-09/fossilien-frankenwald-tierische-ueberreste-erdzeitalter',\n",
       " 'https://www.zeit.de/wissen/2024-09/fossilien-frankenwald-tierische-ueberreste-erdzeitalter',\n",
       " 'https://www.zeit.de/wirtschaft/2024-09/ifo-institut-wachstumsprognose-herbst',\n",
       " 'https://www.zeit.de/wirtschaft/2024-09/ifo-institut-wachstumsprognose-herbst',\n",
       " 'https://www.zeit.de/wirtschaft/2024-09/wirecard-vorstaende-verurteilung-schadenersatz',\n",
       " 'https://www.zeit.de/wirtschaft/2024-09/wirecard-vorstaende-verurteilung-schadenersatz',\n",
       " 'https://www.zeit.de/gesellschaft/2024-04/live-podcasts-zeit-tour-programm-2024',\n",
       " 'https://www.zeit.de/gesellschaft/2024-04/live-podcasts-zeit-tour-programm-2024',\n",
       " 'https://www.zeit.de/digital/internet/2024-09/kuenstliche-intelligenz-bildung-schule-lernhilfe-lehrer',\n",
       " 'https://www.zeit.de/digital/internet/2024-09/kuenstliche-intelligenz-bildung-schule-lernhilfe-lehrer',\n",
       " 'https://www.zeit.de/wirtschaft/energiemonitor-strompreis-gaspreis-erneuerbare-energien-ausbau',\n",
       " 'https://www.zeit.de/wirtschaft/energiemonitor-strompreis-gaspreis-erneuerbare-energien-ausbau',\n",
       " 'https://www.zeit.de/gesellschaft/2024-06/neonazi-aussteiger-mord-gestaendnis-true-crime-white-podcast-folge-1',\n",
       " 'https://www.zeit.de/gesellschaft/2024-06/neonazi-aussteiger-mord-gestaendnis-true-crime-white-podcast-folge-1',\n",
       " 'https://www.zeit.de/gesellschaft/2024-06/neonazi-aussteiger-mord-gestaendnis-true-crime-white-podcast-folge-2',\n",
       " 'https://www.zeit.de/gesellschaft/2024-06/neonazi-aussteiger-mord-gestaendnis-true-crime-white-podcast-folge-2',\n",
       " 'https://www.zeit.de/gesellschaft/2024-06/neonazi-aussteiger-mord-gestaendnis-true-crime-white-podcast-folge-3',\n",
       " 'https://www.zeit.de/gesellschaft/2024-06/neonazi-aussteiger-mord-gestaendnis-true-crime-white-podcast-folge-3',\n",
       " 'https://www.zeit.de/gesellschaft/2024-06/neonazi-aussteiger-mord-gestaendnis-true-crime-white-podcast-folge-4',\n",
       " 'https://www.zeit.de/gesellschaft/2024-06/neonazi-aussteiger-mord-gestaendnis-true-crime-white-podcast-folge-4',\n",
       " 'https://www.zeit.de/gesellschaft/2024-06/neonazi-aussteiger-mord-gestaendnis-true-crime-white-podcast-folge-5',\n",
       " 'https://www.zeit.de/gesellschaft/2024-06/neonazi-aussteiger-mord-gestaendnis-true-crime-white-podcast-folge-5',\n",
       " 'https://www.zeit.de/gesellschaft/2024-06/neonazi-aussteiger-mord-gestaendnis-true-crime-white-podcast-folge-6',\n",
       " 'https://www.zeit.de/gesellschaft/2024-06/neonazi-aussteiger-mord-gestaendnis-true-crime-white-podcast-folge-6',\n",
       " 'https://www.zeit.de/gesellschaft/2024-06/neonazi-aussteiger-mord-gestaendnis-true-crime-white-podcast-folge-7',\n",
       " 'https://www.zeit.de/gesellschaft/2024-06/neonazi-aussteiger-mord-gestaendnis-true-crime-white-podcast-folge-7',\n",
       " 'https://www.zeit.de/gesellschaft/2024-06/neonazi-aussteiger-mord-gestaendnis-true-crime-white-podcast-folge-8',\n",
       " 'https://www.zeit.de/gesellschaft/2024-06/neonazi-aussteiger-mord-gestaendnis-true-crime-white-podcast-folge-8',\n",
       " 'https://www.zeit.de/gesellschaft/2024-06/neonazi-aussteiger-mord-gestaendnis-true-crime-white-podcast-folge-9',\n",
       " 'https://www.zeit.de/gesellschaft/2024-06/neonazi-aussteiger-mord-gestaendnis-true-crime-white-podcast-folge-9',\n",
       " 'https://www.zeit.de/gesellschaft/2017-03/stimmung-wie-geht-es-uns',\n",
       " 'https://www.zeit.de/beta/fragen-sie-zeit-online-news',\n",
       " 'https://www.zeit.de/beta/fragen-sie-zeit-online-news',\n",
       " 'https://www.zeit.de/2024/38/kitas-kinderbetreuung-erzieher-psychologie-entwicklung',\n",
       " 'https://www.zeit.de/2024/38/kitas-kinderbetreuung-erzieher-psychologie-entwicklung',\n",
       " 'https://www.zeit.de/wirtschaft/2024-06/arbeitsproduktivitaet-arbeitsstunden-deutschland-leistung-paradox',\n",
       " 'https://www.zeit.de/wirtschaft/2024-06/arbeitsproduktivitaet-arbeitsstunden-deutschland-leistung-paradox',\n",
       " 'https://www.zeit.de/gesundheit/2024-09/handystrahlung-hirntumor-krebs-handy-studie',\n",
       " 'https://www.zeit.de/gesundheit/2024-09/handystrahlung-hirntumor-krebs-handy-studie',\n",
       " 'https://www.zeit.de/gesellschaft/zeitgeschehen/2024-09/muenchen-schuesse-innenstadt-ns-dokumentationszentrum-was-bekannt-ist',\n",
       " 'https://www.zeit.de/gesellschaft/zeitgeschehen/2024-09/muenchen-schuesse-innenstadt-ns-dokumentationszentrum-was-bekannt-ist',\n",
       " 'https://www.zeit.de/gesellschaft/2024-09/polizeieinsatz-am-ns-dokuzentrum-muenchen-berichte-von-schuessen',\n",
       " 'https://www.zeit.de/gesellschaft/2024-09/polizeieinsatz-am-ns-dokuzentrum-muenchen-berichte-von-schuessen',\n",
       " 'https://www.zeit.de/wirtschaft/2024-06/arbeitsproduktivitaet-arbeitsstunden-deutschland-leistung-paradox',\n",
       " 'https://www.zeit.de/wirtschaft/2024-06/arbeitsproduktivitaet-arbeitsstunden-deutschland-leistung-paradox',\n",
       " 'https://www.zeit.de/politik/deutschland/2024-09/wuest-soeder-union-gruene-koalition',\n",
       " 'https://www.zeit.de/politik/deutschland/2024-09/wuest-soeder-union-gruene-koalition',\n",
       " 'https://www.zeit.de/politik/deutschland/2024-09/olaf-scholz-buergerdialog-landtagswahlen-afd-populismus',\n",
       " 'https://www.zeit.de/politik/deutschland/2024-09/olaf-scholz-buergerdialog-landtagswahlen-afd-populismus',\n",
       " 'https://www.zeit.de/politik/deutschland/2024-09/friedrich-merz-cdu-ultimatum-reform-asylgesetz',\n",
       " 'https://www.zeit.de/politik/deutschland/2024-09/friedrich-merz-cdu-ultimatum-reform-asylgesetz',\n",
       " 'https://www.zeit.de/politik/deutschland/2024-09/regierungsbildung-thueringen-sachsen-landtagswahlen-koalition-faq',\n",
       " 'https://www.zeit.de/politik/deutschland/2024-09/regierungsbildung-thueringen-sachsen-landtagswahlen-koalition-faq',\n",
       " 'https://www.zeit.de/politik/deutschland/2024-09/mario-reiss-gdl-chef-claus-weselsky-nachfolger-bahn',\n",
       " 'https://www.zeit.de/politik/deutschland/2024-09/mario-reiss-gdl-chef-claus-weselsky-nachfolger-bahn',\n",
       " 'https://www.zeit.de/politik/2024-09/krieg-sudan-vereinigte-arabische-emirate-5vor8',\n",
       " 'https://www.zeit.de/politik/2024-09/krieg-sudan-vereinigte-arabische-emirate-5vor8',\n",
       " 'https://www.zeit.de/spiele/wortraetsel-buchstabenspiele',\n",
       " 'https://www.zeit.de/serie/plan-d',\n",
       " 'https://www.zeit.de/gesellschaft/2024/plan-d-probleme-loesungen-ueberblick',\n",
       " 'https://www.zeit.de/video/2024-09/wahlergebnisse-thueringen-landtagswahl-pland',\n",
       " 'https://www.zeit.de/video/2024-09/wahlergebnisse-thueringen-landtagswahl-pland',\n",
       " 'https://www.zeit.de/gesellschaft/zeitgeschehen/2024-09/wahlergebnisse-ausblick-zukunft-sachsen-thueringen-rechtsextremismus',\n",
       " 'https://www.zeit.de/gesellschaft/zeitgeschehen/2024-09/wahlergebnisse-ausblick-zukunft-sachsen-thueringen-rechtsextremismus',\n",
       " 'https://www.zeit.de/gesellschaft/zeitgeschehen/2024-08/waehler-ostdeutschland-landtagswahl-meinungen-plan-d-live',\n",
       " 'https://www.zeit.de/gesellschaft/zeitgeschehen/2024-08/waehler-ostdeutschland-landtagswahl-meinungen-plan-d-live',\n",
       " 'https://www.zeit.de/thema/msci-world',\n",
       " 'https://www.zeit.de/geld/2024-09/hauskauf-immobilie-fehler-kosten-stress',\n",
       " 'https://www.zeit.de/geld/2024-09/hauskauf-immobilie-fehler-kosten-stress',\n",
       " 'https://www.zeit.de/geld/2024-09/jung-kauft-alt-kfw-foerderung-finanzierung-immobilienkauf',\n",
       " 'https://www.zeit.de/geld/2024-09/jung-kauft-alt-kfw-foerderung-finanzierung-immobilienkauf',\n",
       " 'https://www.zeit.de/geld/2024-08/private-krankenversicherung-wechsel-gesetzliche-krankenversicherung-beitraege-alter',\n",
       " 'https://www.zeit.de/geld/2024-08/private-krankenversicherung-wechsel-gesetzliche-krankenversicherung-beitraege-alter',\n",
       " 'https://www.zeit.de/zeit-magazin/wochenmarkt/2024-09/okroschka-suppe-kartoffel-dill-rezept-wochenmarkt',\n",
       " 'https://www.zeit.de/zeit-magazin/wochenmarkt/2024-09/okroschka-suppe-kartoffel-dill-rezept-wochenmarkt',\n",
       " 'https://www.zeit.de/zeit-magazin/wochenmarkt/2024-08/pasta-bohnen-butterbroesel-rezept',\n",
       " 'https://www.zeit.de/zeit-magazin/wochenmarkt/2024-08/pasta-bohnen-butterbroesel-rezept',\n",
       " 'https://www.zeit.de/zeit-magazin/wochenmarkt/2024-08/ofenpfannkuchen-holunderbeeren-zimt-rezept',\n",
       " 'https://www.zeit.de/zeit-magazin/wochenmarkt/2024-08/ofenpfannkuchen-holunderbeeren-zimt-rezept',\n",
       " 'https://www.zeit.de/zeit-magazin/wochenmarkt/2024-08/salade-nicoise-mais-nizza-rezept',\n",
       " 'https://www.zeit.de/zeit-magazin/wochenmarkt/2024-08/salade-nicoise-mais-nizza-rezept',\n",
       " 'https://www.zeit.de/zeit-magazin/wochenmarkt/2024-08/grilled-blue-cheese-sandwich-brombeeren-rezept',\n",
       " 'https://www.zeit.de/zeit-magazin/wochenmarkt/2024-08/grilled-blue-cheese-sandwich-brombeeren-rezept',\n",
       " 'https://www.zeit.de/zeit-magazin/wochenmarkt/2024-08/erbsensalat-artischocken-speck-rezept',\n",
       " 'https://www.zeit.de/zeit-magazin/wochenmarkt/2024-08/erbsensalat-artischocken-speck-rezept',\n",
       " 'https://www.zeit.de/zeit-magazin/2024/37/bruschetta-aubergine-rezept-wochenmarkt',\n",
       " 'https://www.zeit.de/zeit-magazin/2024/37/bruschetta-aubergine-rezept-wochenmarkt',\n",
       " 'https://www.zeit.de/serie/was-jetzt-die-woche',\n",
       " 'https://www.zeit.de/politik/2024-08/wahlen-sachsen-thueringen-landtagswahlen-osten-live',\n",
       " 'https://www.zeit.de/politik/2024-08/wahlen-sachsen-thueringen-landtagswahlen-osten-live',\n",
       " 'https://www.zeit.de/serie/was-jetzt-die-woche',\n",
       " 'https://www.zeit.de/politik/2024-08/anschlag-solingen-islamismus-ostwahlen-rechtsextremismus-was-jetzt-videopodcast',\n",
       " 'https://www.zeit.de/politik/2024-08/anschlag-solingen-islamismus-ostwahlen-rechtsextremismus-was-jetzt-videopodcast',\n",
       " 'https://www.zeit.de/politik/2024-08/us-demokraten-kamala-harris-praesidentschaftskandidatin-parteitag-was-jetzt-videopodcast',\n",
       " 'https://www.zeit.de/politik/2024-08/us-demokraten-kamala-harris-praesidentschaftskandidatin-parteitag-was-jetzt-videopodcast',\n",
       " 'https://www.zeit.de/politik/2024-08/kursk-offensive-krieg-ukraine-russland-putin-was-jetzt-videopodcast',\n",
       " 'https://www.zeit.de/politik/2024-08/kursk-offensive-krieg-ukraine-russland-putin-was-jetzt-videopodcast',\n",
       " 'https://www.zeit.de/politik/2024-08/messerangriff-rechtsextreme-krawalle-grossbritannien-was-jetzt-videopodcast',\n",
       " 'https://www.zeit.de/politik/2024-08/messerangriff-rechtsextreme-krawalle-grossbritannien-was-jetzt-videopodcast',\n",
       " 'https://www.zeit.de/politik/2024-07/krieg-nahost-israel-hisbollah-was-jetzt-videopodcast',\n",
       " 'https://www.zeit.de/politik/2024-07/krieg-nahost-israel-hisbollah-was-jetzt-videopodcast',\n",
       " 'https://www.zeit.de/thema/krieg-in-ukraine',\n",
       " 'https://www.zeit.de/thema/us-wahl',\n",
       " 'https://www.zeit.de/politik/ausland/ukraine-krieg-news-liveblog',\n",
       " 'https://www.zeit.de/politik/ausland/ukraine-krieg-news-liveblog',\n",
       " 'https://www.zeit.de/politik/2024-09/polizeieinsatz-muenchen-ns-dokumentationszentrum-statement-polizei',\n",
       " 'https://www.zeit.de/politik/2024-09/polizeieinsatz-muenchen-ns-dokumentationszentrum-statement-polizei',\n",
       " 'https://www.zeit.de/politik/2024-09/bka-lagebericht-organisierte-kriminalitaet-2023',\n",
       " 'https://www.zeit.de/politik/2024-09/bka-lagebericht-organisierte-kriminalitaet-2023',\n",
       " 'https://www.zeit.de/entdecken/2024-09/eric-pfeil-autor-wochenende-tipps-podcast',\n",
       " 'https://www.zeit.de/entdecken/2024-09/eric-pfeil-autor-wochenende-tipps-podcast',\n",
       " 'https://www.zeit.de/gesellschaft/2024-09/erfolg-rechtspopulismus-afd-oesterreich-schweiz-alpenpodcast',\n",
       " 'https://www.zeit.de/gesellschaft/2024-09/erfolg-rechtspopulismus-afd-oesterreich-schweiz-alpenpodcast',\n",
       " 'https://www.zeit.de/sport/2024-09/christoph-kramer-fussball-fernsehen-weltmeister',\n",
       " 'https://www.zeit.de/sport/2024-09/christoph-kramer-fussball-fernsehen-weltmeister',\n",
       " 'https://www.zeit.de/kultur/2024-09/camille-claudel-bildhauerin-kunstpodcast',\n",
       " 'https://www.zeit.de/kultur/2024-09/camille-claudel-bildhauerin-kunstpodcast',\n",
       " 'https://www.zeit.de/wissen/2024-09/zukunft-fortschritt-verbesserung-technologie-krisenpodcast',\n",
       " 'https://www.zeit.de/wissen/2024-09/zukunft-fortschritt-verbesserung-technologie-krisenpodcast',\n",
       " 'https://www.zeit.de/wirtschaft/2024-08/wirtschaftspodcast-kamala-harris-wahlprogramm-preise-inflation-steuern',\n",
       " 'https://www.zeit.de/wirtschaft/2024-08/wirtschaftspodcast-kamala-harris-wahlprogramm-preise-inflation-steuern',\n",
       " 'https://www.zeit.de/wissen/2024-08/kinderkur-westdeutschland-erfahrungen-folgen-wissen-podcast',\n",
       " 'https://www.zeit.de/wissen/2024-08/kinderkur-westdeutschland-erfahrungen-folgen-wissen-podcast',\n",
       " 'https://www.zeit.de/gesellschaft/zeitgeschehen/2024-09/oesterreich-aerztin-lisa-maria-kellermayr-anklage-deutscher',\n",
       " 'https://www.zeit.de/gesellschaft/zeitgeschehen/2024-09/oesterreich-aerztin-lisa-maria-kellermayr-anklage-deutscher',\n",
       " 'https://www.zeit.de/gesellschaft/zeitgeschehen/2024-09/muenchen-schuesse-polizeieinsatz-markus-soeder-live',\n",
       " 'https://www.zeit.de/gesellschaft/zeitgeschehen/2024-09/muenchen-schuesse-polizeieinsatz-markus-soeder-live',\n",
       " 'https://www.zeit.de/gesellschaft/schule/2024-09/gewaltdelikte-schulen-anstieg-2023',\n",
       " 'https://www.zeit.de/gesellschaft/schule/2024-09/gewaltdelikte-schulen-anstieg-2023',\n",
       " 'https://www.zeit.de/serie/fratzschers-verteilungsfragen',\n",
       " 'https://www.zeit.de/wirtschaft/2024-09/vw-niedersachsen-ministerpraesident-weil-schliessung',\n",
       " 'https://www.zeit.de/wirtschaft/2024-09/vw-niedersachsen-ministerpraesident-weil-schliessung',\n",
       " 'https://www.zeit.de/wirtschaft/2024-09/industrie-deutschland-auftraege-gestiegen',\n",
       " 'https://www.zeit.de/wirtschaft/2024-09/industrie-deutschland-auftraege-gestiegen',\n",
       " 'https://www.zeit.de/wirtschaft/2024-06/arbeitsproduktivitaet-arbeitsstunden-deutschland-leistung-paradox',\n",
       " 'https://www.zeit.de/wirtschaft/2024-06/arbeitsproduktivitaet-arbeitsstunden-deutschland-leistung-paradox',\n",
       " 'https://www.zeit.de/wirtschaft/unternehmen/2024-09/starliner-rueckkehr-boeing-fahrplan-freitag',\n",
       " 'https://www.zeit.de/wirtschaft/unternehmen/2024-09/starliner-rueckkehr-boeing-fahrplan-freitag',\n",
       " 'https://www.zeit.de/2024/38/asap-rocky-tailor-swif-musikvideo-kunst-rapper',\n",
       " 'https://www.zeit.de/2024/38/asap-rocky-tailor-swif-musikvideo-kunst-rapper',\n",
       " 'https://www.zeit.de/politik/ausland/2024-09/alec-baldwin-staatsanwaltschaft-wiederaufnahme-verfahren',\n",
       " 'https://www.zeit.de/politik/ausland/2024-09/alec-baldwin-staatsanwaltschaft-wiederaufnahme-verfahren',\n",
       " 'https://www.zeit.de/kultur/film/2024-09/joker-folie-a-deux-joaquin-phoenix-lady-gaga-premiere-venedig',\n",
       " 'https://www.zeit.de/kultur/film/2024-09/joker-folie-a-deux-joaquin-phoenix-lady-gaga-premiere-venedig',\n",
       " 'https://www.zeit.de/2024/38/gesellschaftliche-entwicklungen-ulf-poschardt-jan-boehmermann-mensch-von-gestern',\n",
       " 'https://www.zeit.de/2024/38/gesellschaftliche-entwicklungen-ulf-poschardt-jan-boehmermann-mensch-von-gestern',\n",
       " 'https://www.zeit.de/video/2024-09/6361553842112/polizei-nach-schuessen-in-muenchen-taeter-war-18-jaehriger-aus-oesterreich',\n",
       " 'https://www.zeit.de/video/2024-09/6361553842112/polizei-nach-schuessen-in-muenchen-taeter-war-18-jaehriger-aus-oesterreich',\n",
       " 'https://www.zeit.de/video/2024-09/6361536223112/georgia-14-jaehriger-erschiesst-vier-menschen-an-schule-in-den-usa',\n",
       " 'https://www.zeit.de/video/2024-09/6361536223112/georgia-14-jaehriger-erschiesst-vier-menschen-an-schule-in-den-usa',\n",
       " 'https://www.zeit.de/video/2024-09/6361537001112/friedrich-merz-cdu-chef-stellt-ampel-im-migrationsstreit-ultimatum',\n",
       " 'https://www.zeit.de/video/2024-09/6361537001112/friedrich-merz-cdu-chef-stellt-ampel-im-migrationsstreit-ultimatum',\n",
       " 'https://www.zeit.de/video/2024-09/6361539230112/brasilien-schwerste-braende-seit-fast-20-jahren-im-amazonasgebiet',\n",
       " 'https://www.zeit.de/video/2024-09/6361539230112/brasilien-schwerste-braende-seit-fast-20-jahren-im-amazonasgebiet',\n",
       " 'https://www.zeit.de/2024/38/kommunikation-tiere-hund-gestik-forschung',\n",
       " 'https://www.zeit.de/2024/38/kommunikation-tiere-hund-gestik-forschung',\n",
       " 'https://www.zeit.de/wissen/2024-09/hvaldimir-russland-spionagewal-erschossen',\n",
       " 'https://www.zeit.de/wissen/2024-09/hvaldimir-russland-spionagewal-erschossen',\n",
       " 'https://www.zeit.de/2024/38/klimawandel-schweiz-urteil-europaeischer-gerichtshof-menschenrechte-klimaschutz',\n",
       " 'https://www.zeit.de/2024/38/klimawandel-schweiz-urteil-europaeischer-gerichtshof-menschenrechte-klimaschutz',\n",
       " 'https://www.zeit.de/wissen/umwelt/2024-09/polen-entwarnung-goldalgen-nebengewaesser-oder',\n",
       " 'https://www.zeit.de/wissen/umwelt/2024-09/polen-entwarnung-goldalgen-nebengewaesser-oder',\n",
       " 'https://www.zeit.de/administratives/2015-10/shop-cp',\n",
       " 'https://www.zeit.de/schwerpunkte/unfruchtbare-tage',\n",
       " 'https://www.zeit.de/serie/ist-das-normal',\n",
       " 'https://www.zeit.de/gesundheit/2024-09/abnehmspritze-wegovy-corona-grippe-schutz',\n",
       " 'https://www.zeit.de/gesundheit/2024-09/abnehmspritze-wegovy-corona-grippe-schutz',\n",
       " 'https://www.zeit.de/politik/deutschland/2024-09/pflege-fachassistenz-ausbildung-gesetz-kabinett',\n",
       " 'https://www.zeit.de/politik/deutschland/2024-09/pflege-fachassistenz-ausbildung-gesetz-kabinett',\n",
       " 'https://www.zeit.de/gesundheit/2024-09/hautpilz-erkrankung-barbershop-medizin-behandlung',\n",
       " 'https://www.zeit.de/gesundheit/2024-09/hautpilz-erkrankung-barbershop-medizin-behandlung',\n",
       " 'https://www.zeit.de/thema/kuenstliche-intelligenz',\n",
       " 'https://www.zeit.de/thema/social-media',\n",
       " 'https://www.zeit.de/digital/2024-09/meta-facebook-parole-israel-palaestina',\n",
       " 'https://www.zeit.de/digital/2024-09/meta-facebook-parole-israel-palaestina',\n",
       " 'https://www.zeit.de/digital/2024-09/bka-razzia-cybermobbing-gruppe-new-world-order',\n",
       " 'https://www.zeit.de/digital/2024-09/bka-razzia-cybermobbing-gruppe-new-world-order',\n",
       " 'https://www.zeit.de/thema/work-life-balance',\n",
       " 'https://www.zeit.de/arbeit/2024-09/arbeitsmarkt-arbeitslose-stellen-frei-deutschland',\n",
       " 'https://www.zeit.de/arbeit/2024-09/arbeitsmarkt-arbeitslose-stellen-frei-deutschland',\n",
       " 'https://www.zeit.de/arbeit/2024-09/schulabschluss-karte-region-abitur-realschule-hauptschule',\n",
       " 'https://www.zeit.de/arbeit/2024-09/schulabschluss-karte-region-abitur-realschule-hauptschule',\n",
       " 'https://www.zeit.de/zeit-magazin/2024/37/luisa-neubauer-ratschlaege-leben',\n",
       " 'https://www.zeit.de/zeit-magazin/2024/37/luisa-neubauer-ratschlaege-leben',\n",
       " 'https://www.zeit.de/zeit-magazin/2024/37/pyjamas-prominente-schlafanzug-mode-bruce-darnell',\n",
       " 'https://www.zeit.de/zeit-magazin/2024/37/pyjamas-prominente-schlafanzug-mode-bruce-darnell',\n",
       " 'https://www.zeit.de/zeit-magazin/2024/37/klimaangst-psychologie-klimawandel-klima-cafe-hannover',\n",
       " 'https://www.zeit.de/zeit-magazin/2024/37/klimaangst-psychologie-klimawandel-klima-cafe-hannover',\n",
       " 'https://www.zeit.de/campus/2024-08/armutsgefahr-studierende-azubis-wohnkosten',\n",
       " 'https://www.zeit.de/campus/2024-08/armutsgefahr-studierende-azubis-wohnkosten',\n",
       " 'https://www.zeit.de/campus/2024/04/herausforderung-karriere-leben-bildung-networking',\n",
       " 'https://www.zeit.de/campus/2024/04/herausforderung-karriere-leben-bildung-networking',\n",
       " 'https://www.zeit.de/gesellschaft/zeitgeschehen/2024-08/wie-lebt-man-ein-ganzes-leben-mit-halbem-herz-sabrina-lorenz',\n",
       " 'https://www.zeit.de/gesellschaft/zeitgeschehen/2024-08/wie-lebt-man-ein-ganzes-leben-mit-halbem-herz-sabrina-lorenz',\n",
       " 'https://www.zeit.de/2024/38/stromboli-vulkan-lava-aktiv-wanderung',\n",
       " 'https://www.zeit.de/2024/38/stromboli-vulkan-lava-aktiv-wanderung',\n",
       " 'https://www.zeit.de/entdecken/2024-08/geld-sparen-ernaehrung-vegetarisch-umwelt',\n",
       " 'https://www.zeit.de/entdecken/2024-08/geld-sparen-ernaehrung-vegetarisch-umwelt',\n",
       " 'https://www.zeit.de/thema/deutsche-bahn',\n",
       " 'https://www.zeit.de/mobilitaet/2024-09/dienstwagen-bundesregierung-e-autos-steuern-foerderung',\n",
       " 'https://www.zeit.de/mobilitaet/2024-09/dienstwagen-bundesregierung-e-autos-steuern-foerderung',\n",
       " 'https://www.zeit.de/mobilitaet/2024-09/elektroautos-dienstwagen-steuererleichterungen-wachstumschancenpaket',\n",
       " 'https://www.zeit.de/mobilitaet/2024-09/elektroautos-dienstwagen-steuererleichterungen-wachstumschancenpaket',\n",
       " 'https://www.zeit.de/serie/elbvertiefung-podcast',\n",
       " 'https://www.zeit.de/hamburg/2024-09/hamburger-hafen-reederei-msc-einstieg-abstimmung-buergerschaft',\n",
       " 'https://www.zeit.de/hamburg/2024-09/hamburger-hafen-reederei-msc-einstieg-abstimmung-buergerschaft',\n",
       " 'https://www.zeit.de/hamburg/2024-09/rondenbarg-prozess-g20-ausschreitungen-hamburg-gerichtsprozess',\n",
       " 'https://www.zeit.de/hamburg/2024-09/rondenbarg-prozess-g20-ausschreitungen-hamburg-gerichtsprozess',\n",
       " 'https://www.zeit.de/thema/champions-league',\n",
       " 'https://www.zeit.de/sport/2024-09/ballon-d-or-nominierung-toni-kroos-antonio-ruediger-florian-wirtz-mats-hummels-lea-schueller-giulia-gwinn-sjoeke-nuesken',\n",
       " 'https://www.zeit.de/sport/2024-09/ballon-d-or-nominierung-toni-kroos-antonio-ruediger-florian-wirtz-mats-hummels-lea-schueller-giulia-gwinn-sjoeke-nuesken',\n",
       " 'https://www.zeit.de/sport/2024-09/markus-rehm-gold-weitsprung-paralympische-spiele-paris',\n",
       " 'https://www.zeit.de/sport/2024-09/markus-rehm-gold-weitsprung-paralympische-spiele-paris',\n",
       " 'https://www.zeit.de/news/2024-09/05/frau-wegen-mordversuchs-an-rollstuhlfahrer-vor-gericht',\n",
       " 'https://www.zeit.de/news/2024-09/05/erstes-gespraech-von-cdu-und-bsw-in-einem-caf',\n",
       " 'https://www.zeit.de/news/2024-09/05/max-und-moritz-bislang-unbekannte-fossilien-entdeckt',\n",
       " 'https://www.zeit.de/news/2024-09/05/reul-will-mehr-polizeipraesenz-bei-stadtfesten',\n",
       " 'https://www.zeit.de/news/2024-09/05/drohungen-mann-aus-bayern-nach-tod-von-aerztin-angeklagt',\n",
       " 'https://www.zeit.de/news/2024-09/05/braunschweig-erkaempft-2-2-bei-erstligist-union-berlin',\n",
       " 'https://www.zeit.de/news/2024-09/05/angeklagte-fehlen-uhren-prozess-in-dresden-ausgesetzt',\n",
       " 'https://www.zeit.de/news/2024-09/05/tatort-dortmund-mit-neuer-chefin-in-mordkommission',\n",
       " 'https://www.zeit.de/administratives/agb-kommentare-artikel']"
      ]
     },
     "execution_count": 5,
     "metadata": {},
     "output_type": "execute_result"
    }
   ],
   "source": [
    "test"
   ]
  },
  {
   "cell_type": "code",
   "execution_count": 6,
   "id": "069cc588",
   "metadata": {},
   "outputs": [
    {
     "name": "stderr",
     "output_type": "stream",
     "text": [
      "INFO:scrapers.BaseScraper:Navigated to https://www.zeit.de/1946/01/index\n",
      "INFO:scrapers.BaseScraper:Found 51 article URLs on the current page: https://www.zeit.de/1946/01/index\n"
     ]
    },
    {
     "name": "stdout",
     "output_type": "stream",
     "text": [
      "['https://www.zeit.de/1946/01/index#navigation-content-main', 'https://www.zeit.de/beta/fragen-sie-zeit-online-news', 'https://www.zeit.de/1946/01/index#navigation-content-account', 'https://www.zeit.de/geld/2024-08/tourismusgebiete-anwohner-geld-tourismusbranche-reisen', 'https://www.zeit.de/politik/ausland/2024-09/nahostkonflikt-israel-palaestina-benjamin-netanjahu', 'https://www.zeit.de/gesellschaft/zeitgeschehen/2024-09/abwanderung-deutschland-ostdeutschland-bevoelkerung-trend', 'https://www.zeit.de/1946/01/unsere-aufgabe', 'https://www.zeit.de/1946/01/unsere-aufgabe', 'https://www.zeit.de/1946/01/die-erste-probe', 'https://www.zeit.de/1946/01/die-erste-probe', 'https://www.zeit.de/1946/01/don-juan-prinz-von-asturien', 'https://www.zeit.de/1946/01/don-juan-prinz-von-asturien', 'https://www.zeit.de/1946/01/brasiliens-neuer-praesident', 'https://www.zeit.de/1946/01/brasiliens-neuer-praesident', 'https://www.zeit.de/1946/01/die-wahlen-in-belgien', 'https://www.zeit.de/1946/01/die-wahlen-in-belgien', 'https://www.zeit.de/1946/01/die-grosse-flut', 'https://www.zeit.de/1946/01/die-grosse-flut', 'https://www.zeit.de/1946/01/mein-vater', 'https://www.zeit.de/1946/01/mein-vater', 'https://www.zeit.de/1946/01/gemeinsame-not', 'https://www.zeit.de/1946/01/gemeinsame-not', 'https://www.zeit.de/1946/01/pourvou-que-ca-doure', 'https://www.zeit.de/1946/01/pourvou-que-ca-doure', 'https://www.zeit.de/1946/01/ueber-die-zeit', 'https://www.zeit.de/1946/01/ueber-die-zeit', 'https://www.zeit.de/1946/01/der-arier', 'https://www.zeit.de/1946/01/der-arier', 'https://www.zeit.de/1946/01/der-aufstieg-der-labour-partei', 'https://www.zeit.de/1946/01/der-aufstieg-der-labour-partei', 'https://www.zeit.de/1946/01/rueckkehr-nach-deutschland', 'https://www.zeit.de/1946/01/rueckkehr-nach-deutschland', 'https://www.zeit.de/1946/01/karneval-in-posen', 'https://www.zeit.de/1946/01/karneval-in-posen', 'https://www.zeit.de/1946/01/sophokles-antigone', 'https://www.zeit.de/1946/01/sophokles-antigone', 'https://www.zeit.de/1946/01/duerfen-wir-hoffen', 'https://www.zeit.de/1946/01/duerfen-wir-hoffen', 'https://www.zeit.de/1946/01/winter-ohne-kohlen', 'https://www.zeit.de/1946/01/winter-ohne-kohlen', 'https://www.zeit.de/1946/01/england-anfang-1946', 'https://www.zeit.de/1946/01/england-anfang-1946', 'https://www.zeit.de/1946/01/wirtschaft-im-nebel', 'https://www.zeit.de/1946/01/wirtschaft-im-nebel', 'https://www.zeit.de/1946/01/kurze-wirtschaftsmeldungen', 'https://www.zeit.de/1946/01/kurze-wirtschaftsmeldungen', 'https://www.zeit.de/1946/01/arbeiter-werden-gesucht', 'https://www.zeit.de/1946/01/arbeiter-werden-gesucht', 'https://www.zeit.de/1946/01/auf-einen-von-bomben-zerschlagenen-engel', 'https://www.zeit.de/1946/01/auf-einen-von-bomben-zerschlagenen-engel', 'https://www.zeit.de/administratives/agb-kommentare-artikel']\n"
     ]
    },
    {
     "name": "stderr",
     "output_type": "stream",
     "text": [
      "INFO:scrapers.BaseScraper:Navigated to https://www.zeit.de/1946/02/index\n",
      "INFO:scrapers.BaseScraper:Found 65 article URLs on the current page: https://www.zeit.de/1946/02/index\n"
     ]
    },
    {
     "name": "stdout",
     "output_type": "stream",
     "text": [
      "['https://www.zeit.de/1946/02/index#navigation-content-main', 'https://www.zeit.de/beta/fragen-sie-zeit-online-news', 'https://www.zeit.de/1946/02/index#navigation-content-account', 'https://www.zeit.de/geld/2024-08/tourismusgebiete-anwohner-geld-tourismusbranche-reisen', 'https://www.zeit.de/politik/ausland/2024-09/nahostkonflikt-israel-palaestina-benjamin-netanjahu', 'https://www.zeit.de/gesellschaft/zeitgeschehen/2024-09/abwanderung-deutschland-ostdeutschland-bevoelkerung-trend', 'https://www.zeit.de/1946/02/um-die-deutsche-einheit', 'https://www.zeit.de/1946/02/um-die-deutsche-einheit', 'https://www.zeit.de/1946/02/besondere-verantwortung', 'https://www.zeit.de/1946/02/besondere-verantwortung', 'https://www.zeit.de/1946/02/heim-ins-reich', 'https://www.zeit.de/1946/02/heim-ins-reich', 'https://www.zeit.de/1946/02/stunde-der-pruefung', 'https://www.zeit.de/1946/02/stunde-der-pruefung', 'https://www.zeit.de/1946/02/frankreich-spart', 'https://www.zeit.de/1946/02/frankreich-spart', 'https://www.zeit.de/1946/02/reform-der-rentenquetsche', 'https://www.zeit.de/1946/02/reform-der-rentenquetsche', 'https://www.zeit.de/1946/02/demokratie-fuer-bulgarien', 'https://www.zeit.de/1946/02/demokratie-fuer-bulgarien', 'https://www.zeit.de/1946/02/menschen-und-buergerrechte', 'https://www.zeit.de/1946/02/menschen-und-buergerrechte', 'https://www.zeit.de/1946/02/wo-stehen-wir-heute', 'https://www.zeit.de/1946/02/wo-stehen-wir-heute', 'https://www.zeit.de/1946/02/das-neue-deutsche-buch', 'https://www.zeit.de/1946/02/das-neue-deutsche-buch', 'https://www.zeit.de/1946/02/unsere-ernaehrungsgrundlage', 'https://www.zeit.de/1946/02/unsere-ernaehrungsgrundlage', 'https://www.zeit.de/1946/02/kultur-am-kraterrand', 'https://www.zeit.de/1946/02/kultur-am-kraterrand', 'https://www.zeit.de/1946/02/bremische-anekdoten', 'https://www.zeit.de/1946/02/bremische-anekdoten', 'https://www.zeit.de/1946/02/der-pfirsichbaum', 'https://www.zeit.de/1946/02/der-pfirsichbaum', 'https://www.zeit.de/1946/02/emil-popel-sucht-die-guete', 'https://www.zeit.de/1946/02/emil-popel-sucht-die-guete', 'https://www.zeit.de/1946/02/ueber-das-daemonische', 'https://www.zeit.de/1946/02/ueber-das-daemonische', 'https://www.zeit.de/1946/02/franz-marc-zum-gedaechtnis', 'https://www.zeit.de/1946/02/franz-marc-zum-gedaechtnis', 'https://www.zeit.de/1946/02/das-palais-biron', 'https://www.zeit.de/1946/02/das-palais-biron', 'https://www.zeit.de/1946/02/heimweh-nach-paris', 'https://www.zeit.de/1946/02/heimweh-nach-paris', 'https://www.zeit.de/1946/02/musik-in-england', 'https://www.zeit.de/1946/02/musik-in-england', 'https://www.zeit.de/1946/02/aluminium-und-magnesium', 'https://www.zeit.de/1946/02/aluminium-und-magnesium', 'https://www.zeit.de/1946/02/kampf-um-lohn-und-preis-in-usa', 'https://www.zeit.de/1946/02/kampf-um-lohn-und-preis-in-usa', 'https://www.zeit.de/1946/02/banken-in-berlin', 'https://www.zeit.de/1946/02/banken-in-berlin', 'https://www.zeit.de/1946/02/demobilmachung-in-england', 'https://www.zeit.de/1946/02/demobilmachung-in-england', 'https://www.zeit.de/1946/02/land-im-umbau', 'https://www.zeit.de/1946/02/land-im-umbau', 'https://www.zeit.de/1946/02/mark-und-dollar', 'https://www.zeit.de/1946/02/mark-und-dollar', 'https://www.zeit.de/1946/02/kurze-wirtschaftsmeldungen', 'https://www.zeit.de/1946/02/kurze-wirtschaftsmeldungen', 'https://www.zeit.de/1946/02/der-deutsche-export-laeuft-an', 'https://www.zeit.de/1946/02/der-deutsche-export-laeuft-an', 'https://www.zeit.de/1946/02/industrie-abruestung', 'https://www.zeit.de/1946/02/industrie-abruestung', 'https://www.zeit.de/administratives/agb-kommentare-artikel']\n"
     ]
    },
    {
     "name": "stderr",
     "output_type": "stream",
     "text": [
      "INFO:scrapers.BaseScraper:Navigated to https://www.zeit.de/1946/03/index\n",
      "INFO:scrapers.BaseScraper:Found 57 article URLs on the current page: https://www.zeit.de/1946/03/index\n"
     ]
    },
    {
     "name": "stdout",
     "output_type": "stream",
     "text": [
      "['https://www.zeit.de/1946/03/index#navigation-content-main', 'https://www.zeit.de/beta/fragen-sie-zeit-online-news', 'https://www.zeit.de/1946/03/index#navigation-content-account', 'https://www.zeit.de/geld/2024-08/tourismusgebiete-anwohner-geld-tourismusbranche-reisen', 'https://www.zeit.de/politik/ausland/2024-09/nahostkonflikt-israel-palaestina-benjamin-netanjahu', 'https://www.zeit.de/gesellschaft/zeitgeschehen/2024-09/abwanderung-deutschland-ostdeutschland-bevoelkerung-trend', 'https://www.zeit.de/1946/03/aus-eigener-kraft', 'https://www.zeit.de/1946/03/aus-eigener-kraft', 'https://www.zeit.de/1946/03/spanische-krise', 'https://www.zeit.de/1946/03/spanische-krise', 'https://www.zeit.de/1946/03/das-verlorene-paradies', 'https://www.zeit.de/1946/03/das-verlorene-paradies', 'https://www.zeit.de/1946/03/italiens-kuenfitge-nordostgrenze', 'https://www.zeit.de/1946/03/italiens-kuenfitge-nordostgrenze', 'https://www.zeit.de/1946/03/ausgleich-an-der-donaulinie', 'https://www.zeit.de/1946/03/ausgleich-an-der-donaulinie', 'https://www.zeit.de/1946/03/wartehalle-zur-anderen-seite', 'https://www.zeit.de/1946/03/wartehalle-zur-anderen-seite', 'https://www.zeit.de/1946/03/emil-ludwig-und-wir', 'https://www.zeit.de/1946/03/emil-ludwig-und-wir', 'https://www.zeit.de/1946/03/der-amtsschimmel-galoppiert', 'https://www.zeit.de/1946/03/der-amtsschimmel-galoppiert', 'https://www.zeit.de/1946/03/kultur-in-der-oase', 'https://www.zeit.de/1946/03/kultur-in-der-oase', 'https://www.zeit.de/1946/03/objektivitaet-und-demokratie', 'https://www.zeit.de/1946/03/objektivitaet-und-demokratie', 'https://www.zeit.de/1946/03/jugend-der-empfindung-eskimo-lieder', 'https://www.zeit.de/1946/03/jugend-der-empfindung-eskimo-lieder', 'https://www.zeit.de/1946/03/anarchie-mit-liebe', 'https://www.zeit.de/1946/03/anarchie-mit-liebe', 'https://www.zeit.de/1946/03/politik-und-geschichte-im-widerstreit', 'https://www.zeit.de/1946/03/politik-und-geschichte-im-widerstreit', 'https://www.zeit.de/1946/03/die-staerke-des-schwachen', 'https://www.zeit.de/1946/03/die-staerke-des-schwachen', 'https://www.zeit.de/1946/03/karl-schneider', 'https://www.zeit.de/1946/03/karl-schneider', 'https://www.zeit.de/1946/03/schuhmacher-und-poet-dazu', 'https://www.zeit.de/1946/03/schuhmacher-und-poet-dazu', 'https://www.zeit.de/1946/03/naturschutz-in-england', 'https://www.zeit.de/1946/03/naturschutz-in-england', 'https://www.zeit.de/1946/03/ist-die-technik-diabolisch', 'https://www.zeit.de/1946/03/ist-die-technik-diabolisch', 'https://www.zeit.de/1946/03/frankreichs-kohlensorgen', 'https://www.zeit.de/1946/03/frankreichs-kohlensorgen', 'https://www.zeit.de/1946/03/neuer-start', 'https://www.zeit.de/1946/03/neuer-start', 'https://www.zeit.de/1946/03/binnenschiffahrt-baut-auf', 'https://www.zeit.de/1946/03/binnenschiffahrt-baut-auf', 'https://www.zeit.de/1946/03/erleichterte-aussetzung-gerichtlicher-verfahren', 'https://www.zeit.de/1946/03/erleichterte-aussetzung-gerichtlicher-verfahren', 'https://www.zeit.de/1946/03/mobilisierung-der-reserven', 'https://www.zeit.de/1946/03/mobilisierung-der-reserven', 'https://www.zeit.de/1946/03/die-ernte-1945', 'https://www.zeit.de/1946/03/die-ernte-1945', 'https://www.zeit.de/1946/03/kurze-wirtschaftsmeldungen', 'https://www.zeit.de/1946/03/kurze-wirtschaftsmeldungen', 'https://www.zeit.de/administratives/agb-kommentare-artikel']\n"
     ]
    },
    {
     "name": "stderr",
     "output_type": "stream",
     "text": [
      "INFO:scrapers.BaseScraper:Navigated to https://www.zeit.de/1946/04/index\n",
      "INFO:scrapers.BaseScraper:Found 48 article URLs on the current page: https://www.zeit.de/1946/04/index\n"
     ]
    },
    {
     "name": "stdout",
     "output_type": "stream",
     "text": [
      "['https://www.zeit.de/1946/04/index#navigation-content-main', 'https://www.zeit.de/beta/fragen-sie-zeit-online-news', 'https://www.zeit.de/1946/04/index#navigation-content-account', 'https://www.zeit.de/1946/04/die-stimme-des-freundes', 'https://www.zeit.de/1946/04/die-stimme-des-freundes', 'https://www.zeit.de/1946/04/fuer-den-frieden', 'https://www.zeit.de/1946/04/fuer-den-frieden', 'https://www.zeit.de/1946/04/zugelassen-oder-ausgesperrt', 'https://www.zeit.de/1946/04/zugelassen-oder-ausgesperrt', 'https://www.zeit.de/1946/04/neue-maenner-um-truman', 'https://www.zeit.de/1946/04/neue-maenner-um-truman', 'https://www.zeit.de/1946/04/fressender-neid', 'https://www.zeit.de/1946/04/fressender-neid', 'https://www.zeit.de/1946/04/romantik-der-realitaet', 'https://www.zeit.de/1946/04/romantik-der-realitaet', 'https://www.zeit.de/1946/04/feind-und-gegner', 'https://www.zeit.de/1946/04/feind-und-gegner', 'https://www.zeit.de/1946/04/kaelbchen-macht-nicht-mit', 'https://www.zeit.de/1946/04/kaelbchen-macht-nicht-mit', 'https://www.zeit.de/1946/04/sturm-ueber-picasso', 'https://www.zeit.de/1946/04/sturm-ueber-picasso', 'https://www.zeit.de/1946/04/oberschwester-mit-lippenstift', 'https://www.zeit.de/1946/04/oberschwester-mit-lippenstift', 'https://www.zeit.de/1946/04/wilhelm-raabe', 'https://www.zeit.de/1946/04/wilhelm-raabe', 'https://www.zeit.de/1946/04/der-geist-der-freiheit', 'https://www.zeit.de/1946/04/der-geist-der-freiheit', 'https://www.zeit.de/1946/04/woyzecks-moral', 'https://www.zeit.de/1946/04/woyzecks-moral', 'https://www.zeit.de/1946/04/existentielles-philosophieren-in-frankreich', 'https://www.zeit.de/1946/04/existentielles-philosophieren-in-frankreich', 'https://www.zeit.de/1946/04/vom-x-strahl-zum-atommodell', 'https://www.zeit.de/1946/04/vom-x-strahl-zum-atommodell', 'https://www.zeit.de/1946/04/das-abgruendige-in-herrn-gerstenberg', 'https://www.zeit.de/1946/04/das-abgruendige-in-herrn-gerstenberg', 'https://www.zeit.de/1946/04/das-gesetz-vom-minimum', 'https://www.zeit.de/1946/04/das-gesetz-vom-minimum', 'https://www.zeit.de/1946/04/amerika-baut-auf', 'https://www.zeit.de/1946/04/amerika-baut-auf', 'https://www.zeit.de/1946/04/koks-oder-kein-koks', 'https://www.zeit.de/1946/04/koks-oder-kein-koks', 'https://www.zeit.de/1946/04/das-land-der-sojabohne', 'https://www.zeit.de/1946/04/das-land-der-sojabohne', 'https://www.zeit.de/1946/04/kurze-wirtschaftsmeldungen', 'https://www.zeit.de/1946/04/kurze-wirtschaftsmeldungen', 'https://www.zeit.de/1946/04/die-automobilindustrie-in-der-britischen-zone', 'https://www.zeit.de/1946/04/die-automobilindustrie-in-der-britischen-zone', 'https://www.zeit.de/administratives/agb-kommentare-artikel']\n"
     ]
    },
    {
     "name": "stderr",
     "output_type": "stream",
     "text": [
      "INFO:scrapers.BaseScraper:Navigated to https://www.zeit.de/1946/05/index\n",
      "INFO:scrapers.BaseScraper:Found 59 article URLs on the current page: https://www.zeit.de/1946/05/index\n"
     ]
    },
    {
     "name": "stdout",
     "output_type": "stream",
     "text": [
      "['https://www.zeit.de/1946/05/index#navigation-content-main', 'https://www.zeit.de/beta/fragen-sie-zeit-online-news', 'https://www.zeit.de/1946/05/index#navigation-content-account', 'https://www.zeit.de/geld/2024-08/tourismusgebiete-anwohner-geld-tourismusbranche-reisen', 'https://www.zeit.de/politik/ausland/2024-09/nahostkonflikt-israel-palaestina-benjamin-netanjahu', 'https://www.zeit.de/gesellschaft/zeitgeschehen/2024-09/abwanderung-deutschland-ostdeutschland-bevoelkerung-trend', 'https://www.zeit.de/1946/05/plan-murmeltier', 'https://www.zeit.de/1946/05/plan-murmeltier', 'https://www.zeit.de/1946/05/totengedenken-1946', 'https://www.zeit.de/1946/05/totengedenken-1946', 'https://www.zeit.de/1946/05/elemente-des-aufbaus', 'https://www.zeit.de/1946/05/elemente-des-aufbaus', 'https://www.zeit.de/1946/05/grossstadt-an-der-zonengrenze', 'https://www.zeit.de/1946/05/grossstadt-an-der-zonengrenze', 'https://www.zeit.de/1946/05/argentinien-waehlte-peron', 'https://www.zeit.de/1946/05/argentinien-waehlte-peron', 'https://www.zeit.de/1946/05/soldaten-der-uno', 'https://www.zeit.de/1946/05/soldaten-der-uno', 'https://www.zeit.de/1946/05/aber-der-aberglaube', 'https://www.zeit.de/1946/05/aber-der-aberglaube', 'https://www.zeit.de/1946/05/simonetta-bertall', 'https://www.zeit.de/1946/05/simonetta-bertall', 'https://www.zeit.de/1946/05/gesundung-aus-dem-geiste', 'https://www.zeit.de/1946/05/gesundung-aus-dem-geiste', 'https://www.zeit.de/1946/05/ritt-gen-westen', 'https://www.zeit.de/1946/05/ritt-gen-westen', 'https://www.zeit.de/1946/05/entthronte-hauptstadt', 'https://www.zeit.de/1946/05/entthronte-hauptstadt', 'https://www.zeit.de/1946/05/orpheus-herbert-budek', 'https://www.zeit.de/1946/05/orpheus-herbert-budek', 'https://www.zeit.de/1946/05/verstummtes-glockenspiel', 'https://www.zeit.de/1946/05/verstummtes-glockenspiel', 'https://www.zeit.de/1946/05/der-singende-hut', 'https://www.zeit.de/1946/05/der-singende-hut', 'https://www.zeit.de/1946/05/begegnung-mit-befreiter-kunst', 'https://www.zeit.de/1946/05/begegnung-mit-befreiter-kunst', 'https://www.zeit.de/1946/05/von-der-freiheit-zum-guten-und-boesen', 'https://www.zeit.de/1946/05/von-der-freiheit-zum-guten-und-boesen', 'https://www.zeit.de/1946/05/der-schimmel-des-kaisers', 'https://www.zeit.de/1946/05/der-schimmel-des-kaisers', 'https://www.zeit.de/1946/05/moderne-plastik-und-malerei', 'https://www.zeit.de/1946/05/moderne-plastik-und-malerei', 'https://www.zeit.de/1946/05/umwelt-und-umgebung', 'https://www.zeit.de/1946/05/umwelt-und-umgebung', 'https://www.zeit.de/1946/05/die-welt-von-gestern', 'https://www.zeit.de/1946/05/die-welt-von-gestern', 'https://www.zeit.de/1946/05/ruhrgebiet-muss-produzieren', 'https://www.zeit.de/1946/05/ruhrgebiet-muss-produzieren', 'https://www.zeit.de/1946/05/weltschiffahrt-am-start', 'https://www.zeit.de/1946/05/weltschiffahrt-am-start', 'https://www.zeit.de/1946/05/reichsbahnverkehr-im-aufbau', 'https://www.zeit.de/1946/05/reichsbahnverkehr-im-aufbau', 'https://www.zeit.de/1946/05/grosszuegige-innen-kolonisation', 'https://www.zeit.de/1946/05/grosszuegige-innen-kolonisation', 'https://www.zeit.de/1946/05/die-preisspirale', 'https://www.zeit.de/1946/05/die-preisspirale', 'https://www.zeit.de/1946/05/kurze-wirtschaftsmeldungen', 'https://www.zeit.de/1946/05/kurze-wirtschaftsmeldungen', 'https://www.zeit.de/administratives/agb-kommentare-artikel']\n"
     ]
    },
    {
     "name": "stderr",
     "output_type": "stream",
     "text": [
      "INFO:scrapers.BaseScraper:Navigated to https://www.zeit.de/1946/06/index\n",
      "INFO:scrapers.BaseScraper:Found 53 article URLs on the current page: https://www.zeit.de/1946/06/index\n"
     ]
    },
    {
     "name": "stdout",
     "output_type": "stream",
     "text": [
      "['https://www.zeit.de/1946/06/index#navigation-content-main', 'https://www.zeit.de/beta/fragen-sie-zeit-online-news', 'https://www.zeit.de/1946/06/index#navigation-content-account', 'https://www.zeit.de/geld/2024-08/tourismusgebiete-anwohner-geld-tourismusbranche-reisen', 'https://www.zeit.de/politik/ausland/2024-09/nahostkonflikt-israel-palaestina-benjamin-netanjahu', 'https://www.zeit.de/gesellschaft/zeitgeschehen/2024-09/abwanderung-deutschland-ostdeutschland-bevoelkerung-trend', 'https://www.zeit.de/1946/06/nuernbergs-zweite-phase', 'https://www.zeit.de/1946/06/nuernbergs-zweite-phase', 'https://www.zeit.de/1946/06/ein-streiter-fuers-recht', 'https://www.zeit.de/1946/06/ein-streiter-fuers-recht', 'https://www.zeit.de/1946/06/die-grosse-familie', 'https://www.zeit.de/1946/06/die-grosse-familie', 'https://www.zeit.de/1946/06/unternehmen-moschusochse', 'https://www.zeit.de/1946/06/unternehmen-moschusochse', 'https://www.zeit.de/1946/06/neue-maenner-im-kreml', 'https://www.zeit.de/1946/06/neue-maenner-im-kreml', 'https://www.zeit.de/1946/06/die-jugendlichen-vagabunden', 'https://www.zeit.de/1946/06/die-jugendlichen-vagabunden', 'https://www.zeit.de/1946/06/ein-film-klagt-an', 'https://www.zeit.de/1946/06/ein-film-klagt-an', 'https://www.zeit.de/1946/06/zeitungsdeutsch-von-heute', 'https://www.zeit.de/1946/06/zeitungsdeutsch-von-heute', 'https://www.zeit.de/1946/06/ruinierte-romantik', 'https://www.zeit.de/1946/06/ruinierte-romantik', 'https://www.zeit.de/1946/06/der-mann-der-ausgezeichnet-war', 'https://www.zeit.de/1946/06/der-mann-der-ausgezeichnet-war', 'https://www.zeit.de/1946/06/denkmal-seiner-selbst', 'https://www.zeit.de/1946/06/denkmal-seiner-selbst', 'https://www.zeit.de/1946/06/francisco-de-goya', 'https://www.zeit.de/1946/06/francisco-de-goya', 'https://www.zeit.de/1946/06/wohnen-im-abgrund', 'https://www.zeit.de/1946/06/wohnen-im-abgrund', 'https://www.zeit.de/1946/06/die-amsel-singt', 'https://www.zeit.de/1946/06/die-amsel-singt', 'https://www.zeit.de/1946/06/ein-segelschiffskapitaen-an-seinen-sohn', 'https://www.zeit.de/1946/06/ein-segelschiffskapitaen-an-seinen-sohn', 'https://www.zeit.de/1946/06/die-bruecke-zum-unbelebten', 'https://www.zeit.de/1946/06/die-bruecke-zum-unbelebten', 'https://www.zeit.de/1946/06/verkehrte-welt', 'https://www.zeit.de/1946/06/verkehrte-welt', 'https://www.zeit.de/1946/06/bessere-weizen-bilanz', 'https://www.zeit.de/1946/06/bessere-weizen-bilanz', 'https://www.zeit.de/1946/06/ueber-die-karpaten', 'https://www.zeit.de/1946/06/ueber-die-karpaten', 'https://www.zeit.de/1946/06/russlands-neuer-fuenfjahresplan', 'https://www.zeit.de/1946/06/russlands-neuer-fuenfjahresplan', 'https://www.zeit.de/1946/06/gesteuerte-landwirtschaft', 'https://www.zeit.de/1946/06/gesteuerte-landwirtschaft', 'https://www.zeit.de/1946/06/baumwolle-kommt-herein', 'https://www.zeit.de/1946/06/baumwolle-kommt-herein', 'https://www.zeit.de/1946/06/kurze-wirtschaftsmeldungen', 'https://www.zeit.de/1946/06/kurze-wirtschaftsmeldungen', 'https://www.zeit.de/administratives/agb-kommentare-artikel']\n"
     ]
    },
    {
     "name": "stderr",
     "output_type": "stream",
     "text": [
      "INFO:scrapers.BaseScraper:Navigated to https://www.zeit.de/1946/07/index\n",
      "INFO:scrapers.BaseScraper:Found 61 article URLs on the current page: https://www.zeit.de/1946/07/index\n"
     ]
    },
    {
     "name": "stdout",
     "output_type": "stream",
     "text": [
      "['https://www.zeit.de/1946/07/index#navigation-content-main', 'https://www.zeit.de/beta/fragen-sie-zeit-online-news', 'https://www.zeit.de/1946/07/index#navigation-content-account', 'https://www.zeit.de/geld/2024-08/tourismusgebiete-anwohner-geld-tourismusbranche-reisen', 'https://www.zeit.de/politik/ausland/2024-09/nahostkonflikt-israel-palaestina-benjamin-netanjahu', 'https://www.zeit.de/gesellschaft/zeitgeschehen/2024-09/abwanderung-deutschland-ostdeutschland-bevoelkerung-trend', 'https://www.zeit.de/1946/07/europa-und-die-demokratie', 'https://www.zeit.de/1946/07/europa-und-die-demokratie', 'https://www.zeit.de/1946/07/die-herrschaft-des-gesetzes', 'https://www.zeit.de/1946/07/die-herrschaft-des-gesetzes', 'https://www.zeit.de/1946/07/unser-atemraum', 'https://www.zeit.de/1946/07/unser-atemraum', 'https://www.zeit.de/1946/07/slawische-gemeinschaft', 'https://www.zeit.de/1946/07/slawische-gemeinschaft', 'https://www.zeit.de/1946/07/indien-will-frei-werden', 'https://www.zeit.de/1946/07/indien-will-frei-werden', 'https://www.zeit.de/1946/07/noch-einmal-persien', 'https://www.zeit.de/1946/07/noch-einmal-persien', 'https://www.zeit.de/1946/07/drehscheibe-kassel', 'https://www.zeit.de/1946/07/drehscheibe-kassel', 'https://www.zeit.de/1946/07/im-spiegel-der-parodie', 'https://www.zeit.de/1946/07/im-spiegel-der-parodie', 'https://www.zeit.de/1946/07/zielscheibe-hamsun', 'https://www.zeit.de/1946/07/zielscheibe-hamsun', 'https://www.zeit.de/1946/07/zentralismus-oder-demokratie', 'https://www.zeit.de/1946/07/zentralismus-oder-demokratie', 'https://www.zeit.de/1946/07/ein-neuer-gruenewald', 'https://www.zeit.de/1946/07/ein-neuer-gruenewald', 'https://www.zeit.de/1946/07/am-anderen-ufer', 'https://www.zeit.de/1946/07/am-anderen-ufer', 'https://www.zeit.de/1946/07/weg-durchs-chaos', 'https://www.zeit.de/1946/07/weg-durchs-chaos', 'https://www.zeit.de/1946/07/reinheit-der-form', 'https://www.zeit.de/1946/07/reinheit-der-form', 'https://www.zeit.de/1946/07/tolstoi-nahe-gesehen', 'https://www.zeit.de/1946/07/tolstoi-nahe-gesehen', 'https://www.zeit.de/1946/07/umgang-mit-geistern', 'https://www.zeit.de/1946/07/umgang-mit-geistern', 'https://www.zeit.de/1946/07/rueckblick-auf-die-heilige-allianz', 'https://www.zeit.de/1946/07/rueckblick-auf-die-heilige-allianz', 'https://www.zeit.de/1946/07/suedarabische-kultur', 'https://www.zeit.de/1946/07/suedarabische-kultur', 'https://www.zeit.de/1946/07/kuenstler-machen-sich-luft', 'https://www.zeit.de/1946/07/kuenstler-machen-sich-luft', 'https://www.zeit.de/1946/07/nordexpress-faehrt-wieder', 'https://www.zeit.de/1946/07/nordexpress-faehrt-wieder', 'https://www.zeit.de/1946/07/lebensmittellieferungen-und-handelsvertraege', 'https://www.zeit.de/1946/07/lebensmittellieferungen-und-handelsvertraege', 'https://www.zeit.de/1946/07/gefahr-fuer-die-landschaft', 'https://www.zeit.de/1946/07/gefahr-fuer-die-landschaft', 'https://www.zeit.de/1946/07/die-steuerschraube', 'https://www.zeit.de/1946/07/die-steuerschraube', 'https://www.zeit.de/1946/07/sparsames-wirtschaften', 'https://www.zeit.de/1946/07/sparsames-wirtschaften', 'https://www.zeit.de/1946/07/nach-dem-autostreik', 'https://www.zeit.de/1946/07/nach-dem-autostreik', 'https://www.zeit.de/1946/07/das-schicksal-des-effekten-depots', 'https://www.zeit.de/1946/07/das-schicksal-des-effekten-depots', 'https://www.zeit.de/1946/07/kunstfaser-produktion-oder-nicht', 'https://www.zeit.de/1946/07/kunstfaser-produktion-oder-nicht', 'https://www.zeit.de/administratives/agb-kommentare-artikel']\n"
     ]
    },
    {
     "name": "stderr",
     "output_type": "stream",
     "text": [
      "INFO:scrapers.BaseScraper:Navigated to https://www.zeit.de/1946/08/index\n",
      "INFO:scrapers.BaseScraper:Found 50 article URLs on the current page: https://www.zeit.de/1946/08/index\n"
     ]
    },
    {
     "name": "stdout",
     "output_type": "stream",
     "text": [
      "['https://www.zeit.de/1946/08/index#navigation-content-main', 'https://www.zeit.de/beta/fragen-sie-zeit-online-news', 'https://www.zeit.de/1946/08/index#navigation-content-account', 'https://www.zeit.de/1946/08/die-arabische-frage', 'https://www.zeit.de/1946/08/die-arabische-frage', 'https://www.zeit.de/1946/08/aufbau-in-belgien', 'https://www.zeit.de/1946/08/aufbau-in-belgien', 'https://www.zeit.de/1946/08/das-haus-ohne-naehere-adresse', 'https://www.zeit.de/1946/08/das-haus-ohne-naehere-adresse', 'https://www.zeit.de/1946/08/hoover-in-berlin', 'https://www.zeit.de/1946/08/hoover-in-berlin', 'https://www.zeit.de/1946/08/abschied-vom-gotha', 'https://www.zeit.de/1946/08/abschied-vom-gotha', 'https://www.zeit.de/1946/08/vergraben-verloren', 'https://www.zeit.de/1946/08/vergraben-verloren', 'https://www.zeit.de/1946/08/darf-man-jetzt-von-mode-sprechen', 'https://www.zeit.de/1946/08/darf-man-jetzt-von-mode-sprechen', 'https://www.zeit.de/1946/08/olympia-und-der-demokratische-gedanke', 'https://www.zeit.de/1946/08/olympia-und-der-demokratische-gedanke', 'https://www.zeit.de/1946/08/musica-sacra', 'https://www.zeit.de/1946/08/musica-sacra', 'https://www.zeit.de/1946/08/im-paradies', 'https://www.zeit.de/1946/08/im-paradies', 'https://www.zeit.de/1946/08/der-engel-gottes-und-der-molch', 'https://www.zeit.de/1946/08/der-engel-gottes-und-der-molch', 'https://www.zeit.de/1946/08/monolog-ueber-die-existenz', 'https://www.zeit.de/1946/08/monolog-ueber-die-existenz', 'https://www.zeit.de/1946/08/nunc-et-in-hora-mortis--', 'https://www.zeit.de/1946/08/nunc-et-in-hora-mortis--', 'https://www.zeit.de/1946/08/lebensstufen-zeitgepraegt', 'https://www.zeit.de/1946/08/lebensstufen-zeitgepraegt', 'https://www.zeit.de/1946/08/ein-spiel-von-tod-und-liebe', 'https://www.zeit.de/1946/08/ein-spiel-von-tod-und-liebe', 'https://www.zeit.de/1946/08/humanismus-heute', 'https://www.zeit.de/1946/08/humanismus-heute', 'https://www.zeit.de/1946/08/klarheit-ueber-kuenftige-lasten', 'https://www.zeit.de/1946/08/klarheit-ueber-kuenftige-lasten', 'https://www.zeit.de/1946/08/konkrete-ergebnisse', 'https://www.zeit.de/1946/08/konkrete-ergebnisse', 'https://www.zeit.de/1946/08/rohstoffwirtschaft-im-aufbau', 'https://www.zeit.de/1946/08/rohstoffwirtschaft-im-aufbau', 'https://www.zeit.de/1946/08/richtige-und-falsche-verteilung', 'https://www.zeit.de/1946/08/richtige-und-falsche-verteilung', 'https://www.zeit.de/1946/08/kurze-wirtschaftsmeldungen', 'https://www.zeit.de/1946/08/kurze-wirtschaftsmeldungen', 'https://www.zeit.de/1946/08/frankreich-braucht-menschen', 'https://www.zeit.de/1946/08/frankreich-braucht-menschen', 'https://www.zeit.de/1946/08/die-letzte-boersenwoche', 'https://www.zeit.de/1946/08/die-letzte-boersenwoche', 'https://www.zeit.de/administratives/agb-kommentare-artikel']\n"
     ]
    },
    {
     "name": "stderr",
     "output_type": "stream",
     "text": [
      "INFO:scrapers.BaseScraper:Navigated to https://www.zeit.de/1946/09/index\n",
      "INFO:scrapers.BaseScraper:Found 57 article URLs on the current page: https://www.zeit.de/1946/09/index\n"
     ]
    },
    {
     "name": "stdout",
     "output_type": "stream",
     "text": [
      "['https://www.zeit.de/1946/09/index#navigation-content-main', 'https://www.zeit.de/beta/fragen-sie-zeit-online-news', 'https://www.zeit.de/1946/09/index#navigation-content-account', 'https://www.zeit.de/geld/2024-08/tourismusgebiete-anwohner-geld-tourismusbranche-reisen', 'https://www.zeit.de/politik/ausland/2024-09/nahostkonflikt-israel-palaestina-benjamin-netanjahu', 'https://www.zeit.de/gesellschaft/zeitgeschehen/2024-09/abwanderung-deutschland-ostdeutschland-bevoelkerung-trend', 'https://www.zeit.de/1946/09/erziehung-zum-menschen', 'https://www.zeit.de/1946/09/erziehung-zum-menschen', 'https://www.zeit.de/1946/09/europa-als-geistige-einheit', 'https://www.zeit.de/1946/09/europa-als-geistige-einheit', 'https://www.zeit.de/1946/09/landbruecke-persien', 'https://www.zeit.de/1946/09/landbruecke-persien', 'https://www.zeit.de/1946/09/attempto-ich-wags', 'https://www.zeit.de/1946/09/attempto-ich-wags', 'https://www.zeit.de/1946/09/nordische-solidaritaet', 'https://www.zeit.de/1946/09/nordische-solidaritaet', 'https://www.zeit.de/1946/09/bilderstuermer-in-der-kleinstadt', 'https://www.zeit.de/1946/09/bilderstuermer-in-der-kleinstadt', 'https://www.zeit.de/1946/09/vom-expressionismus-zur-gegenwart', 'https://www.zeit.de/1946/09/vom-expressionismus-zur-gegenwart', 'https://www.zeit.de/1946/09/tausend-jahre', 'https://www.zeit.de/1946/09/tausend-jahre', 'https://www.zeit.de/1946/09/division-999', 'https://www.zeit.de/1946/09/division-999', 'https://www.zeit.de/1946/09/der-osterhase', 'https://www.zeit.de/1946/09/der-osterhase', 'https://www.zeit.de/1946/09/entfuehrung-aus-dem-serail', 'https://www.zeit.de/1946/09/entfuehrung-aus-dem-serail', 'https://www.zeit.de/1946/09/die-unruhe-des-herzens', 'https://www.zeit.de/1946/09/die-unruhe-des-herzens', 'https://www.zeit.de/1946/09/eine-affaere-die-uns-leider-fehlte', 'https://www.zeit.de/1946/09/eine-affaere-die-uns-leider-fehlte', 'https://www.zeit.de/1946/09/bekennende-kirche', 'https://www.zeit.de/1946/09/bekennende-kirche', 'https://www.zeit.de/1946/09/der-unsterbliche-wandervogel', 'https://www.zeit.de/1946/09/der-unsterbliche-wandervogel', 'https://www.zeit.de/1946/09/junge-buehne-altes-theater', 'https://www.zeit.de/1946/09/junge-buehne-altes-theater', 'https://www.zeit.de/1946/09/bulk-kaeufe', 'https://www.zeit.de/1946/09/bulk-kaeufe', 'https://www.zeit.de/1946/09/im-kampf-gegen-den-hunger', 'https://www.zeit.de/1946/09/im-kampf-gegen-den-hunger', 'https://www.zeit.de/1946/09/die-boersen-der-westlichen-zonen', 'https://www.zeit.de/1946/09/die-boersen-der-westlichen-zonen', 'https://www.zeit.de/1946/09/kurze-wirtschaftsmeldungen', 'https://www.zeit.de/1946/09/kurze-wirtschaftsmeldungen', 'https://www.zeit.de/1946/09/mit-britischen-augen', 'https://www.zeit.de/1946/09/mit-britischen-augen', 'https://www.zeit.de/1946/09/bestandsaufnahme-fuer-metalle', 'https://www.zeit.de/1946/09/bestandsaufnahme-fuer-metalle', 'https://www.zeit.de/1946/09/hafen-hamburg-lebt', 'https://www.zeit.de/1946/09/hafen-hamburg-lebt', 'https://www.zeit.de/1946/09/die-letzte-boersenwoche', 'https://www.zeit.de/1946/09/die-letzte-boersenwoche', 'https://www.zeit.de/1946/09/vom-anlaufen-des-verkehrs', 'https://www.zeit.de/1946/09/vom-anlaufen-des-verkehrs', 'https://www.zeit.de/administratives/agb-kommentare-artikel']\n"
     ]
    },
    {
     "name": "stderr",
     "output_type": "stream",
     "text": [
      "INFO:scrapers.BaseScraper:Navigated to https://www.zeit.de/1946/10/index\n",
      "INFO:scrapers.BaseScraper:Found 51 article URLs on the current page: https://www.zeit.de/1946/10/index\n"
     ]
    },
    {
     "name": "stdout",
     "output_type": "stream",
     "text": [
      "['https://www.zeit.de/1946/10/index#navigation-content-main', 'https://www.zeit.de/beta/fragen-sie-zeit-online-news', 'https://www.zeit.de/1946/10/index#navigation-content-account', 'https://www.zeit.de/geld/2024-08/tourismusgebiete-anwohner-geld-tourismusbranche-reisen', 'https://www.zeit.de/politik/ausland/2024-09/nahostkonflikt-israel-palaestina-benjamin-netanjahu', 'https://www.zeit.de/gesellschaft/zeitgeschehen/2024-09/abwanderung-deutschland-ostdeutschland-bevoelkerung-trend', 'https://www.zeit.de/1946/10/der-kostenpunkt', 'https://www.zeit.de/1946/10/der-kostenpunkt', 'https://www.zeit.de/1946/10/daenische-reise', 'https://www.zeit.de/1946/10/daenische-reise', 'https://www.zeit.de/1946/10/umstrittene-einheit', 'https://www.zeit.de/1946/10/umstrittene-einheit', 'https://www.zeit.de/1946/10/angriff-auf-spanien', 'https://www.zeit.de/1946/10/angriff-auf-spanien', 'https://www.zeit.de/1946/10/durch-die-schleuse', 'https://www.zeit.de/1946/10/durch-die-schleuse', 'https://www.zeit.de/1946/10/der-jugendliche-held', 'https://www.zeit.de/1946/10/der-jugendliche-held', 'https://www.zeit.de/1946/10/das-biedermeier-der-prominenz', 'https://www.zeit.de/1946/10/das-biedermeier-der-prominenz', 'https://www.zeit.de/1946/10/nach-diesem-kriege', 'https://www.zeit.de/1946/10/nach-diesem-kriege', 'https://www.zeit.de/1946/10/san-franzisko', 'https://www.zeit.de/1946/10/san-franzisko', 'https://www.zeit.de/1946/10/erste-schritte-einer-demokratie', 'https://www.zeit.de/1946/10/erste-schritte-einer-demokratie', 'https://www.zeit.de/1946/10/mass-und-harmonie', 'https://www.zeit.de/1946/10/mass-und-harmonie', 'https://www.zeit.de/1946/10/meisterwerke-aus-koelner-museen', 'https://www.zeit.de/1946/10/meisterwerke-aus-koelner-museen', 'https://www.zeit.de/1946/10/aus-den-briefen-eines-malers', 'https://www.zeit.de/1946/10/aus-den-briefen-eines-malers', 'https://www.zeit.de/1946/10/die-schalen-der-waage', 'https://www.zeit.de/1946/10/die-schalen-der-waage', 'https://www.zeit.de/1946/10/der-magus-im-norden', 'https://www.zeit.de/1946/10/der-magus-im-norden', 'https://www.zeit.de/1946/10/muenchen-spielt-theater', 'https://www.zeit.de/1946/10/muenchen-spielt-theater', 'https://www.zeit.de/1946/10/von-unten-herauf', 'https://www.zeit.de/1946/10/von-unten-herauf', 'https://www.zeit.de/1946/10/berliner-kindl', 'https://www.zeit.de/1946/10/berliner-kindl', 'https://www.zeit.de/1946/10/versicherung-in-fuenf-zonen', 'https://www.zeit.de/1946/10/versicherung-in-fuenf-zonen', 'https://www.zeit.de/1946/10/die-letzte-boersenwoche', 'https://www.zeit.de/1946/10/die-letzte-boersenwoche', 'https://www.zeit.de/1946/10/apologie-des-kleinsthof-planes', 'https://www.zeit.de/1946/10/apologie-des-kleinsthof-planes', 'https://www.zeit.de/1946/10/kurze-wirtschaftsmeldungen', 'https://www.zeit.de/1946/10/kurze-wirtschaftsmeldungen', 'https://www.zeit.de/administratives/agb-kommentare-artikel']\n"
     ]
    },
    {
     "name": "stderr",
     "output_type": "stream",
     "text": [
      "INFO:scrapers.BaseScraper:Navigated to https://www.zeit.de/1946/11/index\n",
      "INFO:scrapers.BaseScraper:Found 43 article URLs on the current page: https://www.zeit.de/1946/11/index\n"
     ]
    },
    {
     "name": "stdout",
     "output_type": "stream",
     "text": [
      "['https://www.zeit.de/1946/11/index#navigation-content-main', 'https://www.zeit.de/beta/fragen-sie-zeit-online-news', 'https://www.zeit.de/1946/11/index#navigation-content-account', 'https://www.zeit.de/geld/2024-08/tourismusgebiete-anwohner-geld-tourismusbranche-reisen', 'https://www.zeit.de/politik/ausland/2024-09/nahostkonflikt-israel-palaestina-benjamin-netanjahu', 'https://www.zeit.de/gesellschaft/zeitgeschehen/2024-09/abwanderung-deutschland-ostdeutschland-bevoelkerung-trend', 'https://www.zeit.de/1946/11/zum-1mai', 'https://www.zeit.de/1946/11/zum-1mai', 'https://www.zeit.de/1946/11/erwachen-aus-dem-chaos', 'https://www.zeit.de/1946/11/erwachen-aus-dem-chaos', 'https://www.zeit.de/1946/11/die-regulierung-des-bodenpreises', 'https://www.zeit.de/1946/11/die-regulierung-des-bodenpreises', 'https://www.zeit.de/1946/11/java-als-bewaehrung', 'https://www.zeit.de/1946/11/java-als-bewaehrung', 'https://www.zeit.de/1946/11/um-frankreichs-verfassung', 'https://www.zeit.de/1946/11/um-frankreichs-verfassung', 'https://www.zeit.de/1946/11/naechtlichtlicher-gewitterflug-aus-budapest', 'https://www.zeit.de/1946/11/naechtlichtlicher-gewitterflug-aus-budapest', 'https://www.zeit.de/1946/11/die-geheimregierung-im-schatten-hitlers', 'https://www.zeit.de/1946/11/die-geheimregierung-im-schatten-hitlers', 'https://www.zeit.de/1946/11/ueber-das-schuldbekenntnis-des-deutschen-volkes', 'https://www.zeit.de/1946/11/ueber-das-schuldbekenntnis-des-deutschen-volkes', 'https://www.zeit.de/1946/11/das-bleibende', 'https://www.zeit.de/1946/11/das-bleibende', 'https://www.zeit.de/1946/11/die-kunst-der-voelker-in-europa', 'https://www.zeit.de/1946/11/die-kunst-der-voelker-in-europa', 'https://www.zeit.de/1946/11/reporter-unter-tulpen', 'https://www.zeit.de/1946/11/reporter-unter-tulpen', 'https://www.zeit.de/1946/11/kurze-wirtschaftsmeldung', 'https://www.zeit.de/1946/11/kurze-wirtschaftsmeldung', 'https://www.zeit.de/1946/11/74-millionen-in-4-zonen', 'https://www.zeit.de/1946/11/74-millionen-in-4-zonen', 'https://www.zeit.de/1946/11/vom-kampf-gegen-den-hunger', 'https://www.zeit.de/1946/11/vom-kampf-gegen-den-hunger', 'https://www.zeit.de/1946/11/dollar-kredite', 'https://www.zeit.de/1946/11/dollar-kredite', 'https://www.zeit.de/1946/11/britisches-russlandgeschaeft', 'https://www.zeit.de/1946/11/britisches-russlandgeschaeft', 'https://www.zeit.de/1946/11/die-letzte-boersenwoche', 'https://www.zeit.de/1946/11/die-letzte-boersenwoche', 'https://www.zeit.de/1946/11/aus-verkehr-und-schiffahrt', 'https://www.zeit.de/1946/11/aus-verkehr-und-schiffahrt', 'https://www.zeit.de/administratives/agb-kommentare-artikel']\n"
     ]
    },
    {
     "name": "stderr",
     "output_type": "stream",
     "text": [
      "INFO:scrapers.BaseScraper:Navigated to https://www.zeit.de/1946/12/index\n",
      "INFO:scrapers.BaseScraper:Found 57 article URLs on the current page: https://www.zeit.de/1946/12/index\n"
     ]
    },
    {
     "name": "stdout",
     "output_type": "stream",
     "text": [
      "['https://www.zeit.de/1946/12/index#navigation-content-main', 'https://www.zeit.de/beta/fragen-sie-zeit-online-news', 'https://www.zeit.de/1946/12/index#navigation-content-account', 'https://www.zeit.de/geld/2024-08/tourismusgebiete-anwohner-geld-tourismusbranche-reisen', 'https://www.zeit.de/politik/ausland/2024-09/nahostkonflikt-israel-palaestina-benjamin-netanjahu', 'https://www.zeit.de/gesellschaft/zeitgeschehen/2024-09/abwanderung-deutschland-ostdeutschland-bevoelkerung-trend', 'https://www.zeit.de/1946/12/ein-teilungsplan', 'https://www.zeit.de/1946/12/ein-teilungsplan', 'https://www.zeit.de/1946/12/ohne-frieden', 'https://www.zeit.de/1946/12/ohne-frieden', 'https://www.zeit.de/1946/12/frankreichs-nein', 'https://www.zeit.de/1946/12/frankreichs-nein', 'https://www.zeit.de/1946/12/die-vier-gesichter-berlins', 'https://www.zeit.de/1946/12/die-vier-gesichter-berlins', 'https://www.zeit.de/1946/12/heikle-themen', 'https://www.zeit.de/1946/12/heikle-themen', 'https://www.zeit.de/1946/12/maertyrer-fuer-den-frieden', 'https://www.zeit.de/1946/12/maertyrer-fuer-den-frieden', 'https://www.zeit.de/1946/12/die-verantwortung-der-jugend', 'https://www.zeit.de/1946/12/die-verantwortung-der-jugend', 'https://www.zeit.de/1946/12/weg-zu-neuem-leben', 'https://www.zeit.de/1946/12/weg-zu-neuem-leben', 'https://www.zeit.de/1946/12/bericht-aus-einer-zeitungsstadt', 'https://www.zeit.de/1946/12/bericht-aus-einer-zeitungsstadt', 'https://www.zeit.de/1946/12/das-gedicht-im-archaischen-griechenland', 'https://www.zeit.de/1946/12/das-gedicht-im-archaischen-griechenland', 'https://www.zeit.de/1946/12/bekenntnis-zu-reger', 'https://www.zeit.de/1946/12/bekenntnis-zu-reger', 'https://www.zeit.de/1946/12/botschaft-an-hermann-hesse', 'https://www.zeit.de/1946/12/botschaft-an-hermann-hesse', 'https://www.zeit.de/1946/12/religioese-moeglichkeiten-der-kirche', 'https://www.zeit.de/1946/12/religioese-moeglichkeiten-der-kirche', 'https://www.zeit.de/1946/12/lotte-in-weimar', 'https://www.zeit.de/1946/12/lotte-in-weimar', 'https://www.zeit.de/1946/12/pferde-im-fruehling', 'https://www.zeit.de/1946/12/pferde-im-fruehling', 'https://www.zeit.de/1946/12/gruetze-gruetze', 'https://www.zeit.de/1946/12/gruetze-gruetze', 'https://www.zeit.de/1946/12/die-verlorenen-schuhe', 'https://www.zeit.de/1946/12/die-verlorenen-schuhe', 'https://www.zeit.de/1946/12/vom-klugen-kaufmann', 'https://www.zeit.de/1946/12/vom-klugen-kaufmann', 'https://www.zeit.de/1946/12/jm-keynes-der-mann-und-sein-werk', 'https://www.zeit.de/1946/12/jm-keynes-der-mann-und-sein-werk', 'https://www.zeit.de/1946/12/kurze-wirtschaftsmeldungen', 'https://www.zeit.de/1946/12/kurze-wirtschaftsmeldungen', 'https://www.zeit.de/1946/12/al-contra-cu', 'https://www.zeit.de/1946/12/al-contra-cu', 'https://www.zeit.de/1946/12/die-ausfuhrkapazitaet-des-handwerks', 'https://www.zeit.de/1946/12/die-ausfuhrkapazitaet-des-handwerks', 'https://www.zeit.de/1946/12/es-muesste-gelingen', 'https://www.zeit.de/1946/12/es-muesste-gelingen', 'https://www.zeit.de/1946/12/aus-verkehr-und-schiffahrt', 'https://www.zeit.de/1946/12/aus-verkehr-und-schiffahrt', 'https://www.zeit.de/1946/12/die-letzte-boersenwoche', 'https://www.zeit.de/1946/12/die-letzte-boersenwoche', 'https://www.zeit.de/administratives/agb-kommentare-artikel']\n"
     ]
    },
    {
     "name": "stderr",
     "output_type": "stream",
     "text": [
      "INFO:scrapers.BaseScraper:Navigated to https://www.zeit.de/1946/13/index\n",
      "INFO:scrapers.BaseScraper:Found 49 article URLs on the current page: https://www.zeit.de/1946/13/index\n"
     ]
    },
    {
     "name": "stdout",
     "output_type": "stream",
     "text": [
      "['https://www.zeit.de/1946/13/index#navigation-content-main', 'https://www.zeit.de/beta/fragen-sie-zeit-online-news', 'https://www.zeit.de/1946/13/index#navigation-content-account', 'https://www.zeit.de/geld/2024-08/tourismusgebiete-anwohner-geld-tourismusbranche-reisen', 'https://www.zeit.de/politik/ausland/2024-09/nahostkonflikt-israel-palaestina-benjamin-netanjahu', 'https://www.zeit.de/gesellschaft/zeitgeschehen/2024-09/abwanderung-deutschland-ostdeutschland-bevoelkerung-trend', 'https://www.zeit.de/1946/13/die-welle-nach-rechts', 'https://www.zeit.de/1946/13/die-welle-nach-rechts', 'https://www.zeit.de/1946/13/leipziger-messe', 'https://www.zeit.de/1946/13/leipziger-messe', 'https://www.zeit.de/1946/13/an-der-krise-vorbei', 'https://www.zeit.de/1946/13/an-der-krise-vorbei', 'https://www.zeit.de/1946/13/probleme-des-weltluftverkehrs', 'https://www.zeit.de/1946/13/probleme-des-weltluftverkehrs', 'https://www.zeit.de/1946/13/aufstieg-und-untergang-des-admirals-canaris', 'https://www.zeit.de/1946/13/aufstieg-und-untergang-des-admirals-canaris', 'https://www.zeit.de/1946/13/erinnerungen-an-graf-hermann-keyserling', 'https://www.zeit.de/1946/13/erinnerungen-an-graf-hermann-keyserling', 'https://www.zeit.de/1946/13/geistiges-zentrum-in-der-usa-zone', 'https://www.zeit.de/1946/13/geistiges-zentrum-in-der-usa-zone', 'https://www.zeit.de/1946/13/bildnis-einer-europaeerin', 'https://www.zeit.de/1946/13/bildnis-einer-europaeerin', 'https://www.zeit.de/1946/13/neue-lyrik', 'https://www.zeit.de/1946/13/neue-lyrik', 'https://www.zeit.de/1946/13/deutsche-maler-und-bildhauer-von-gestern-und-heute', 'https://www.zeit.de/1946/13/deutsche-maler-und-bildhauer-von-gestern-und-heute', 'https://www.zeit.de/1946/13/vom-untergang-des-abendlandes', 'https://www.zeit.de/1946/13/vom-untergang-des-abendlandes', 'https://www.zeit.de/1946/13/das-geheimnis-des-bodens', 'https://www.zeit.de/1946/13/das-geheimnis-des-bodens', 'https://www.zeit.de/1946/13/zweierlei-bodenpreise', 'https://www.zeit.de/1946/13/zweierlei-bodenpreise', 'https://www.zeit.de/1946/13/wandlungen-im-welthandel', 'https://www.zeit.de/1946/13/wandlungen-im-welthandel', 'https://www.zeit.de/1946/13/der-durchschnittliche-lebensstand', 'https://www.zeit.de/1946/13/der-durchschnittliche-lebensstand', 'https://www.zeit.de/1946/13/der-lord-mayor', 'https://www.zeit.de/1946/13/der-lord-mayor', 'https://www.zeit.de/1946/13/kurze-wirtschaftsmeldungen', 'https://www.zeit.de/1946/13/kurze-wirtschaftsmeldungen', 'https://www.zeit.de/1946/13/20-v-h-kapazitaetsausnutzung', 'https://www.zeit.de/1946/13/20-v-h-kapazitaetsausnutzung', 'https://www.zeit.de/1946/13/aktionaere-mit-gesperrtem-vermoegen', 'https://www.zeit.de/1946/13/aktionaere-mit-gesperrtem-vermoegen', 'https://www.zeit.de/1946/13/die-letzte-boersenwoche', 'https://www.zeit.de/1946/13/die-letzte-boersenwoche', 'https://www.zeit.de/1946/13/die-mit-kartoffeln-gehen', 'https://www.zeit.de/1946/13/die-mit-kartoffeln-gehen', 'https://www.zeit.de/administratives/agb-kommentare-artikel']\n"
     ]
    },
    {
     "name": "stderr",
     "output_type": "stream",
     "text": [
      "INFO:scrapers.BaseScraper:Navigated to https://www.zeit.de/1946/14/index\n",
      "INFO:scrapers.BaseScraper:Found 53 article URLs on the current page: https://www.zeit.de/1946/14/index\n"
     ]
    },
    {
     "name": "stdout",
     "output_type": "stream",
     "text": [
      "['https://www.zeit.de/1946/14/index#navigation-content-main', 'https://www.zeit.de/beta/fragen-sie-zeit-online-news', 'https://www.zeit.de/1946/14/index#navigation-content-account', 'https://www.zeit.de/geld/2024-08/tourismusgebiete-anwohner-geld-tourismusbranche-reisen', 'https://www.zeit.de/politik/ausland/2024-09/nahostkonflikt-israel-palaestina-benjamin-netanjahu', 'https://www.zeit.de/gesellschaft/zeitgeschehen/2024-09/abwanderung-deutschland-ostdeutschland-bevoelkerung-trend', 'https://www.zeit.de/1946/14/jahrmarkt-der-politik', 'https://www.zeit.de/1946/14/jahrmarkt-der-politik', 'https://www.zeit.de/1946/14/probleme-der-arbeit', 'https://www.zeit.de/1946/14/probleme-der-arbeit', 'https://www.zeit.de/1946/14/der-hamburger-kaufmann', 'https://www.zeit.de/1946/14/der-hamburger-kaufmann', 'https://www.zeit.de/1946/14/vertagte-entscheidung', 'https://www.zeit.de/1946/14/vertagte-entscheidung', 'https://www.zeit.de/1946/14/hollaendische-wahlen', 'https://www.zeit.de/1946/14/hollaendische-wahlen', 'https://www.zeit.de/1946/14/naechtlich-an-der-gruenen-grenze', 'https://www.zeit.de/1946/14/naechtlich-an-der-gruenen-grenze', 'https://www.zeit.de/1946/14/italien-ohne-frieden', 'https://www.zeit.de/1946/14/italien-ohne-frieden', 'https://www.zeit.de/1946/14/geschichte-auf-der-buehne', 'https://www.zeit.de/1946/14/geschichte-auf-der-buehne', 'https://www.zeit.de/1946/14/brigadier-armytage', 'https://www.zeit.de/1946/14/brigadier-armytage', 'https://www.zeit.de/1946/14/das-hundetreffen', 'https://www.zeit.de/1946/14/das-hundetreffen', 'https://www.zeit.de/1946/14/verweigertes-studium', 'https://www.zeit.de/1946/14/verweigertes-studium', 'https://www.zeit.de/1946/14/die-wege-igor-strawinskis', 'https://www.zeit.de/1946/14/die-wege-igor-strawinskis', 'https://www.zeit.de/1946/14/rainer-maria-rilke-und-die-zeit', 'https://www.zeit.de/1946/14/rainer-maria-rilke-und-die-zeit', 'https://www.zeit.de/1946/14/paraphrasen-um-ein-antlitz', 'https://www.zeit.de/1946/14/paraphrasen-um-ein-antlitz', 'https://www.zeit.de/1946/14/die-drei-wuensche', 'https://www.zeit.de/1946/14/die-drei-wuensche', 'https://www.zeit.de/1946/14/cornwall-rhapsodie', 'https://www.zeit.de/1946/14/cornwall-rhapsodie', 'https://www.zeit.de/1946/14/die-probleme-des-lebens', 'https://www.zeit.de/1946/14/die-probleme-des-lebens', 'https://www.zeit.de/1946/14/gedrosselte-textilwirtschaft', 'https://www.zeit.de/1946/14/gedrosselte-textilwirtschaft', 'https://www.zeit.de/1946/14/neue-formen-der-kommunalpolitik', 'https://www.zeit.de/1946/14/neue-formen-der-kommunalpolitik', 'https://www.zeit.de/1946/14/die-rheinflotte', 'https://www.zeit.de/1946/14/die-rheinflotte', 'https://www.zeit.de/1946/14/zinslose-einlagen', 'https://www.zeit.de/1946/14/zinslose-einlagen', 'https://www.zeit.de/1946/14/verschiedener-export', 'https://www.zeit.de/1946/14/verschiedener-export', 'https://www.zeit.de/1946/14/kurze-wirtschaftsmeldungen', 'https://www.zeit.de/1946/14/kurze-wirtschaftsmeldungen', 'https://www.zeit.de/administratives/agb-kommentare-artikel']\n"
     ]
    },
    {
     "name": "stderr",
     "output_type": "stream",
     "text": [
      "INFO:scrapers.BaseScraper:Navigated to https://www.zeit.de/1946/15/index\n",
      "INFO:scrapers.BaseScraper:Found 59 article URLs on the current page: https://www.zeit.de/1946/15/index\n"
     ]
    },
    {
     "name": "stdout",
     "output_type": "stream",
     "text": [
      "['https://www.zeit.de/1946/15/index#navigation-content-main', 'https://www.zeit.de/beta/fragen-sie-zeit-online-news', 'https://www.zeit.de/1946/15/index#navigation-content-account', 'https://www.zeit.de/geld/2024-08/tourismusgebiete-anwohner-geld-tourismusbranche-reisen', 'https://www.zeit.de/politik/ausland/2024-09/nahostkonflikt-israel-palaestina-benjamin-netanjahu', 'https://www.zeit.de/gesellschaft/zeitgeschehen/2024-09/abwanderung-deutschland-ostdeutschland-bevoelkerung-trend', 'https://www.zeit.de/1946/15/appell-an-die-uno', 'https://www.zeit.de/1946/15/appell-an-die-uno', 'https://www.zeit.de/1946/15/staedte-waehlten', 'https://www.zeit.de/1946/15/staedte-waehlten', 'https://www.zeit.de/1946/15/duell-der-aussenminister', 'https://www.zeit.de/1946/15/duell-der-aussenminister', 'https://www.zeit.de/1946/15/die-polenballade-von-bardowick', 'https://www.zeit.de/1946/15/die-polenballade-von-bardowick', 'https://www.zeit.de/1946/15/land-im-ungewissen', 'https://www.zeit.de/1946/15/land-im-ungewissen', 'https://www.zeit.de/1946/15/tschechische-wahlen', 'https://www.zeit.de/1946/15/tschechische-wahlen', 'https://www.zeit.de/1946/15/ein-stein-fuer-ren-schickele', 'https://www.zeit.de/1946/15/ein-stein-fuer-ren-schickele', 'https://www.zeit.de/1946/15/erich-ziegel', 'https://www.zeit.de/1946/15/erich-ziegel', 'https://www.zeit.de/1946/15/mars-im-friedenskleid', 'https://www.zeit.de/1946/15/mars-im-friedenskleid', 'https://www.zeit.de/1946/15/der-offizier-ein-suendebock', 'https://www.zeit.de/1946/15/der-offizier-ein-suendebock', 'https://www.zeit.de/1946/15/abendlied-im-wald', 'https://www.zeit.de/1946/15/abendlied-im-wald', 'https://www.zeit.de/1946/15/die-muehle-im-grund', 'https://www.zeit.de/1946/15/die-muehle-im-grund', 'https://www.zeit.de/1946/15/sodom-und-gomorra', 'https://www.zeit.de/1946/15/sodom-und-gomorra', 'https://www.zeit.de/1946/15/jean-giraudoux-ein-botschafter-des-franzoesischen-geistes', 'https://www.zeit.de/1946/15/jean-giraudoux-ein-botschafter-des-franzoesischen-geistes', 'https://www.zeit.de/1946/15/am-rande-der-wirklichkeit', 'https://www.zeit.de/1946/15/am-rande-der-wirklichkeit', 'https://www.zeit.de/1946/15/der-tod-des-pegasus', 'https://www.zeit.de/1946/15/der-tod-des-pegasus', 'https://www.zeit.de/1946/15/die-spieler', 'https://www.zeit.de/1946/15/die-spieler', 'https://www.zeit.de/1946/15/interregnum-der-kunst', 'https://www.zeit.de/1946/15/interregnum-der-kunst', 'https://www.zeit.de/1946/15/beobachtungen-und-erkenntnisse', 'https://www.zeit.de/1946/15/beobachtungen-und-erkenntnisse', 'https://www.zeit.de/1946/15/also-doch--', 'https://www.zeit.de/1946/15/also-doch--', 'https://www.zeit.de/1946/15/ernaehrungskrise-realistisch-betrachtet', 'https://www.zeit.de/1946/15/ernaehrungskrise-realistisch-betrachtet', 'https://www.zeit.de/1946/15/gelenkte-wirtschaft-als-bedarfswirtschaft', 'https://www.zeit.de/1946/15/gelenkte-wirtschaft-als-bedarfswirtschaft', 'https://www.zeit.de/1946/15/weltwirtschaftliche-strategie', 'https://www.zeit.de/1946/15/weltwirtschaftliche-strategie', 'https://www.zeit.de/1946/15/kurze-wirtschaftsmeldungen', 'https://www.zeit.de/1946/15/kurze-wirtschaftsmeldungen', 'https://www.zeit.de/1946/15/die-boersen-entwicklung', 'https://www.zeit.de/1946/15/die-boersen-entwicklung', 'https://www.zeit.de/1946/15/streik-gegen-den-staat', 'https://www.zeit.de/1946/15/streik-gegen-den-staat', 'https://www.zeit.de/administratives/agb-kommentare-artikel']\n"
     ]
    },
    {
     "name": "stderr",
     "output_type": "stream",
     "text": [
      "INFO:scrapers.BaseScraper:Navigated to https://www.zeit.de/1946/16/index\n",
      "INFO:scrapers.BaseScraper:Found 61 article URLs on the current page: https://www.zeit.de/1946/16/index\n"
     ]
    },
    {
     "name": "stdout",
     "output_type": "stream",
     "text": [
      "['https://www.zeit.de/1946/16/index#navigation-content-main', 'https://www.zeit.de/beta/fragen-sie-zeit-online-news', 'https://www.zeit.de/1946/16/index#navigation-content-account', 'https://www.zeit.de/geld/2024-08/tourismusgebiete-anwohner-geld-tourismusbranche-reisen', 'https://www.zeit.de/politik/ausland/2024-09/nahostkonflikt-israel-palaestina-benjamin-netanjahu', 'https://www.zeit.de/gesellschaft/zeitgeschehen/2024-09/abwanderung-deutschland-ostdeutschland-bevoelkerung-trend', 'https://www.zeit.de/1946/16/der-eiserne-vorhang', 'https://www.zeit.de/1946/16/der-eiserne-vorhang', 'https://www.zeit.de/1946/16/der-geist-der-vernichtung', 'https://www.zeit.de/1946/16/der-geist-der-vernichtung', 'https://www.zeit.de/1946/16/aufbau-durch-kredit', 'https://www.zeit.de/1946/16/aufbau-durch-kredit', 'https://www.zeit.de/1946/16/katholischer-sieg', 'https://www.zeit.de/1946/16/katholischer-sieg', 'https://www.zeit.de/1946/16/zehn-tage-schleppkahnfahrt-auf-dem-rhein', 'https://www.zeit.de/1946/16/zehn-tage-schleppkahnfahrt-auf-dem-rhein', 'https://www.zeit.de/1946/16/worum-es-geht-in-kairo', 'https://www.zeit.de/1946/16/worum-es-geht-in-kairo', 'https://www.zeit.de/1946/16/norwegen-im-aufbau', 'https://www.zeit.de/1946/16/norwegen-im-aufbau', 'https://www.zeit.de/1946/16/die-meininger-heute', 'https://www.zeit.de/1946/16/die-meininger-heute', 'https://www.zeit.de/1946/16/verweigertes-studium', 'https://www.zeit.de/1946/16/verweigertes-studium', 'https://www.zeit.de/1946/16/zentraler-verkehr', 'https://www.zeit.de/1946/16/zentraler-verkehr', 'https://www.zeit.de/1946/16/rettung-einer-tragoedie', 'https://www.zeit.de/1946/16/rettung-einer-tragoedie', 'https://www.zeit.de/1946/16/moral-der-schreibmaschine', 'https://www.zeit.de/1946/16/moral-der-schreibmaschine', 'https://www.zeit.de/1946/16/ein-kinderheim', 'https://www.zeit.de/1946/16/ein-kinderheim', 'https://www.zeit.de/1946/16/vom-leibhaftigen-schmerz', 'https://www.zeit.de/1946/16/vom-leibhaftigen-schmerz', 'https://www.zeit.de/1946/16/kunstwoche-in-braunschweig', 'https://www.zeit.de/1946/16/kunstwoche-in-braunschweig', 'https://www.zeit.de/1946/16/mass-der-liebe', 'https://www.zeit.de/1946/16/mass-der-liebe', 'https://www.zeit.de/1946/16/laeuterung-der-alchimist', 'https://www.zeit.de/1946/16/laeuterung-der-alchimist', 'https://www.zeit.de/1946/16/das-maedchen-gina-in-der-schaukel', 'https://www.zeit.de/1946/16/das-maedchen-gina-in-der-schaukel', 'https://www.zeit.de/1946/16/ein-bild-ein-mensch-ein-zimmmer', 'https://www.zeit.de/1946/16/ein-bild-ein-mensch-ein-zimmmer', 'https://www.zeit.de/1946/16/vorstoss-ins-all', 'https://www.zeit.de/1946/16/vorstoss-ins-all', 'https://www.zeit.de/1946/16/wege-des-aktuellen', 'https://www.zeit.de/1946/16/wege-des-aktuellen', 'https://www.zeit.de/1946/16/so-etwa-koennte-das-aussehen', 'https://www.zeit.de/1946/16/so-etwa-koennte-das-aussehen', 'https://www.zeit.de/1946/16/das-neue-bezugsverfahren', 'https://www.zeit.de/1946/16/das-neue-bezugsverfahren', 'https://www.zeit.de/1946/16/kurze-wirtschaftsmeldungen', 'https://www.zeit.de/1946/16/kurze-wirtschaftsmeldungen', 'https://www.zeit.de/1946/16/anleihe-ohne-kursrisiko', 'https://www.zeit.de/1946/16/anleihe-ohne-kursrisiko', 'https://www.zeit.de/1946/16/rekord-schiffbau', 'https://www.zeit.de/1946/16/rekord-schiffbau', 'https://www.zeit.de/1946/16/die-letzte-boersenwoche', 'https://www.zeit.de/1946/16/die-letzte-boersenwoche', 'https://www.zeit.de/administratives/agb-kommentare-artikel']\n"
     ]
    },
    {
     "name": "stderr",
     "output_type": "stream",
     "text": [
      "INFO:scrapers.BaseScraper:Navigated to https://www.zeit.de/1946/17/index\n",
      "INFO:scrapers.BaseScraper:Found 53 article URLs on the current page: https://www.zeit.de/1946/17/index\n"
     ]
    },
    {
     "name": "stdout",
     "output_type": "stream",
     "text": [
      "['https://www.zeit.de/1946/17/index#navigation-content-main', 'https://www.zeit.de/beta/fragen-sie-zeit-online-news', 'https://www.zeit.de/1946/17/index#navigation-content-account', 'https://www.zeit.de/geld/2024-08/tourismusgebiete-anwohner-geld-tourismusbranche-reisen', 'https://www.zeit.de/politik/ausland/2024-09/nahostkonflikt-israel-palaestina-benjamin-netanjahu', 'https://www.zeit.de/gesellschaft/zeitgeschehen/2024-09/abwanderung-deutschland-ostdeutschland-bevoelkerung-trend', 'https://www.zeit.de/1946/17/wille-zur-synthese', 'https://www.zeit.de/1946/17/wille-zur-synthese', 'https://www.zeit.de/1946/17/gerhart-hauptmann', 'https://www.zeit.de/1946/17/gerhart-hauptmann', 'https://www.zeit.de/1946/17/die-veteranen-der-usa', 'https://www.zeit.de/1946/17/die-veteranen-der-usa', 'https://www.zeit.de/1946/17/angeklagtes-spanien', 'https://www.zeit.de/1946/17/angeklagtes-spanien', 'https://www.zeit.de/1946/17/die-oelinseln-bahrein', 'https://www.zeit.de/1946/17/die-oelinseln-bahrein', 'https://www.zeit.de/1946/17/kleine-reise-durch-bayern', 'https://www.zeit.de/1946/17/kleine-reise-durch-bayern', 'https://www.zeit.de/1946/17/wer-kauft-hundeschuhe', 'https://www.zeit.de/1946/17/wer-kauft-hundeschuhe', 'https://www.zeit.de/1946/17/woran-glauben-wir', 'https://www.zeit.de/1946/17/woran-glauben-wir', 'https://www.zeit.de/1946/17/die-auswanderer', 'https://www.zeit.de/1946/17/die-auswanderer', 'https://www.zeit.de/1946/17/zwei-antike-goetterbilder', 'https://www.zeit.de/1946/17/zwei-antike-goetterbilder', 'https://www.zeit.de/1946/17/abenteurer-zwischen-himmel-und-erde', 'https://www.zeit.de/1946/17/abenteurer-zwischen-himmel-und-erde', 'https://www.zeit.de/1946/17/der-passagier-ohne-gepaeck', 'https://www.zeit.de/1946/17/der-passagier-ohne-gepaeck', 'https://www.zeit.de/1946/17/metamorphose-der-jugend', 'https://www.zeit.de/1946/17/metamorphose-der-jugend', 'https://www.zeit.de/1946/17/neue-buecher', 'https://www.zeit.de/1946/17/neue-buecher', 'https://www.zeit.de/1946/17/lebendige-kunst', 'https://www.zeit.de/1946/17/lebendige-kunst', 'https://www.zeit.de/1946/17/sieg-des-geistes', 'https://www.zeit.de/1946/17/sieg-des-geistes', 'https://www.zeit.de/1946/17/kaffeehandel-zweigeteilt', 'https://www.zeit.de/1946/17/kaffeehandel-zweigeteilt', 'https://www.zeit.de/1946/17/aber-die-schwaben', 'https://www.zeit.de/1946/17/aber-die-schwaben', 'https://www.zeit.de/1946/17/der-unteilbare-wohlstand', 'https://www.zeit.de/1946/17/der-unteilbare-wohlstand', 'https://www.zeit.de/1946/17/kurze-wirtschaftsmeldungen', 'https://www.zeit.de/1946/17/kurze-wirtschaftsmeldungen', 'https://www.zeit.de/1946/17/bayern-und-die-maxhuette', 'https://www.zeit.de/1946/17/bayern-und-die-maxhuette', 'https://www.zeit.de/1946/17/vorschlag-stockwerkseigentum', 'https://www.zeit.de/1946/17/vorschlag-stockwerkseigentum', 'https://www.zeit.de/1946/17/werftarbeit-lebenswichtig', 'https://www.zeit.de/1946/17/werftarbeit-lebenswichtig', 'https://www.zeit.de/administratives/agb-kommentare-artikel']\n"
     ]
    },
    {
     "name": "stderr",
     "output_type": "stream",
     "text": [
      "INFO:scrapers.BaseScraper:Navigated to https://www.zeit.de/1946/18/index\n",
      "INFO:scrapers.BaseScraper:Found 63 article URLs on the current page: https://www.zeit.de/1946/18/index\n"
     ]
    },
    {
     "name": "stdout",
     "output_type": "stream",
     "text": [
      "['https://www.zeit.de/1946/18/index#navigation-content-main', 'https://www.zeit.de/beta/fragen-sie-zeit-online-news', 'https://www.zeit.de/1946/18/index#navigation-content-account', 'https://www.zeit.de/geld/2024-08/tourismusgebiete-anwohner-geld-tourismusbranche-reisen', 'https://www.zeit.de/politik/ausland/2024-09/nahostkonflikt-israel-palaestina-benjamin-netanjahu', 'https://www.zeit.de/gesellschaft/zeitgeschehen/2024-09/abwanderung-deutschland-ostdeutschland-bevoelkerung-trend', 'https://www.zeit.de/1946/18/universitaets-studium-in-hamburg', 'https://www.zeit.de/1946/18/universitaets-studium-in-hamburg', 'https://www.zeit.de/1946/18/befreiende-musik', 'https://www.zeit.de/1946/18/befreiende-musik', 'https://www.zeit.de/1946/18/das-fehlende-schraeubchen', 'https://www.zeit.de/1946/18/das-fehlende-schraeubchen', 'https://www.zeit.de/1946/18/prozess-mihailowitsch', 'https://www.zeit.de/1946/18/prozess-mihailowitsch', 'https://www.zeit.de/1946/18/durchgangsland-deutschland', 'https://www.zeit.de/1946/18/durchgangsland-deutschland', 'https://www.zeit.de/1946/18/frankreichs-drei-gesichter', 'https://www.zeit.de/1946/18/frankreichs-drei-gesichter', 'https://www.zeit.de/1946/18/labour-partei', 'https://www.zeit.de/1946/18/labour-partei', 'https://www.zeit.de/1946/18/das-abenteuer-der-begegnung-mit-berlin', 'https://www.zeit.de/1946/18/das-abenteuer-der-begegnung-mit-berlin', 'https://www.zeit.de/1946/18/tendenz-und-wahrheit', 'https://www.zeit.de/1946/18/tendenz-und-wahrheit', 'https://www.zeit.de/1946/18/krisenfeste-sammler', 'https://www.zeit.de/1946/18/krisenfeste-sammler', 'https://www.zeit.de/1946/18/pionier-des-fernsehens-gestorben', 'https://www.zeit.de/1946/18/pionier-des-fernsehens-gestorben', 'https://www.zeit.de/1946/18/reise-in-die-einsamkeit', 'https://www.zeit.de/1946/18/reise-in-die-einsamkeit', 'https://www.zeit.de/1946/18/paul-verlaine-roi-des-poetes', 'https://www.zeit.de/1946/18/paul-verlaine-roi-des-poetes', 'https://www.zeit.de/1946/18/das-zettelchen', 'https://www.zeit.de/1946/18/das-zettelchen', 'https://www.zeit.de/1946/18/der-traum-von-wassilikowa', 'https://www.zeit.de/1946/18/der-traum-von-wassilikowa', 'https://www.zeit.de/1946/18/ganz-verlassen-sollst-du-wandern', 'https://www.zeit.de/1946/18/ganz-verlassen-sollst-du-wandern', 'https://www.zeit.de/1946/18/das-referat', 'https://www.zeit.de/1946/18/das-referat', 'https://www.zeit.de/1946/18/der-dichter-der-lebensfuelle', 'https://www.zeit.de/1946/18/der-dichter-der-lebensfuelle', 'https://www.zeit.de/1946/18/die-tuerme-europas', 'https://www.zeit.de/1946/18/die-tuerme-europas', 'https://www.zeit.de/1946/18/traum-ohne-ende', 'https://www.zeit.de/1946/18/traum-ohne-ende', 'https://www.zeit.de/1946/18/quality-first', 'https://www.zeit.de/1946/18/quality-first', 'https://www.zeit.de/1946/18/schiffahrt-fuer-japan', 'https://www.zeit.de/1946/18/schiffahrt-fuer-japan', 'https://www.zeit.de/1946/18/zonengliederung-der-produktion', 'https://www.zeit.de/1946/18/zonengliederung-der-produktion', 'https://www.zeit.de/1946/18/keine-ware-fuer-den-freien-markt', 'https://www.zeit.de/1946/18/keine-ware-fuer-den-freien-markt', 'https://www.zeit.de/1946/18/schweizer-guthaben', 'https://www.zeit.de/1946/18/schweizer-guthaben', 'https://www.zeit.de/1946/18/kurze-wirtschaftsmeldungen', 'https://www.zeit.de/1946/18/kurze-wirtschaftsmeldungen', 'https://www.zeit.de/1946/18/notstandsgebiet-nr-1', 'https://www.zeit.de/1946/18/notstandsgebiet-nr-1', 'https://www.zeit.de/1946/18/die-letzte-boersenwoche', 'https://www.zeit.de/1946/18/die-letzte-boersenwoche', 'https://www.zeit.de/administratives/agb-kommentare-artikel']\n"
     ]
    },
    {
     "name": "stderr",
     "output_type": "stream",
     "text": [
      "INFO:scrapers.BaseScraper:Navigated to https://www.zeit.de/1946/19/index\n",
      "INFO:scrapers.BaseScraper:Found 51 article URLs on the current page: https://www.zeit.de/1946/19/index\n"
     ]
    },
    {
     "name": "stdout",
     "output_type": "stream",
     "text": [
      "['https://www.zeit.de/1946/19/index#navigation-content-main', 'https://www.zeit.de/beta/fragen-sie-zeit-online-news', 'https://www.zeit.de/1946/19/index#navigation-content-account', 'https://www.zeit.de/geld/2024-08/tourismusgebiete-anwohner-geld-tourismusbranche-reisen', 'https://www.zeit.de/politik/ausland/2024-09/nahostkonflikt-israel-palaestina-benjamin-netanjahu', 'https://www.zeit.de/gesellschaft/zeitgeschehen/2024-09/abwanderung-deutschland-ostdeutschland-bevoelkerung-trend', 'https://www.zeit.de/1946/19/aufbau-von-unten', 'https://www.zeit.de/1946/19/aufbau-von-unten', 'https://www.zeit.de/1946/19/hoffnung-auf-paris', 'https://www.zeit.de/1946/19/hoffnung-auf-paris', 'https://www.zeit.de/1946/19/polen-stimmt-ab', 'https://www.zeit.de/1946/19/polen-stimmt-ab', 'https://www.zeit.de/1946/19/die-eisenbahner-in-den-usa', 'https://www.zeit.de/1946/19/die-eisenbahner-in-den-usa', 'https://www.zeit.de/1946/19/fahrt-nach-sueddeutschland', 'https://www.zeit.de/1946/19/fahrt-nach-sueddeutschland', 'https://www.zeit.de/1946/19/gespraeche-im-schatten-der-daenischen-grenze', 'https://www.zeit.de/1946/19/gespraeche-im-schatten-der-daenischen-grenze', 'https://www.zeit.de/1946/19/kraft-und-stetigkeit', 'https://www.zeit.de/1946/19/kraft-und-stetigkeit', 'https://www.zeit.de/1946/19/die-uebergangene-generation', 'https://www.zeit.de/1946/19/die-uebergangene-generation', 'https://www.zeit.de/1946/19/vorzimmer-jahrgang-1946', 'https://www.zeit.de/1946/19/vorzimmer-jahrgang-1946', 'https://www.zeit.de/1946/19/die-vier', 'https://www.zeit.de/1946/19/die-vier', 'https://www.zeit.de/1946/19/ernte-neuer-kunstbesinnung', 'https://www.zeit.de/1946/19/ernte-neuer-kunstbesinnung', 'https://www.zeit.de/1946/19/hindemith-und-purcell', 'https://www.zeit.de/1946/19/hindemith-und-purcell', 'https://www.zeit.de/1946/19/die-grenze', 'https://www.zeit.de/1946/19/die-grenze', 'https://www.zeit.de/1946/19/unser-wappen', 'https://www.zeit.de/1946/19/unser-wappen', 'https://www.zeit.de/1946/19/moderne-musik-nach-13-jahren', 'https://www.zeit.de/1946/19/moderne-musik-nach-13-jahren', 'https://www.zeit.de/1946/19/kurze-wirtschaftsmeldungen', 'https://www.zeit.de/1946/19/kurze-wirtschaftsmeldungen', 'https://www.zeit.de/1946/19/autos-bleiben-mangelware', 'https://www.zeit.de/1946/19/autos-bleiben-mangelware', 'https://www.zeit.de/1946/19/tabak-steuerlich-ueberbelastet', 'https://www.zeit.de/1946/19/tabak-steuerlich-ueberbelastet', 'https://www.zeit.de/1946/19/mehr-lebensmittel-auf-gleicher-flaeche', 'https://www.zeit.de/1946/19/mehr-lebensmittel-auf-gleicher-flaeche', 'https://www.zeit.de/1946/19/die-letzte-boersenwoche', 'https://www.zeit.de/1946/19/die-letzte-boersenwoche', 'https://www.zeit.de/1946/19/aus-der-verkehrswirtschaft', 'https://www.zeit.de/1946/19/aus-der-verkehrswirtschaft', 'https://www.zeit.de/1946/19/verkehrszentrale-duisburg-ruhrort', 'https://www.zeit.de/1946/19/verkehrszentrale-duisburg-ruhrort', 'https://www.zeit.de/administratives/agb-kommentare-artikel']\n"
     ]
    },
    {
     "name": "stderr",
     "output_type": "stream",
     "text": [
      "INFO:scrapers.BaseScraper:Navigated to https://www.zeit.de/1946/20/index\n",
      "INFO:scrapers.BaseScraper:Found 63 article URLs on the current page: https://www.zeit.de/1946/20/index\n"
     ]
    },
    {
     "name": "stdout",
     "output_type": "stream",
     "text": [
      "['https://www.zeit.de/1946/20/index#navigation-content-main', 'https://www.zeit.de/beta/fragen-sie-zeit-online-news', 'https://www.zeit.de/1946/20/index#navigation-content-account', 'https://www.zeit.de/geld/2024-08/tourismusgebiete-anwohner-geld-tourismusbranche-reisen', 'https://www.zeit.de/politik/ausland/2024-09/nahostkonflikt-israel-palaestina-benjamin-netanjahu', 'https://www.zeit.de/gesellschaft/zeitgeschehen/2024-09/abwanderung-deutschland-ostdeutschland-bevoelkerung-trend', 'https://www.zeit.de/1946/20/das-land-der-freiheit', 'https://www.zeit.de/1946/20/das-land-der-freiheit', 'https://www.zeit.de/1946/20/die-sperre-von-schutt-und-vorurteilen', 'https://www.zeit.de/1946/20/die-sperre-von-schutt-und-vorurteilen', 'https://www.zeit.de/1946/20/die-neue-schule', 'https://www.zeit.de/1946/20/die-neue-schule', 'https://www.zeit.de/1946/20/zum-30-juni-1934', 'https://www.zeit.de/1946/20/zum-30-juni-1934', 'https://www.zeit.de/1946/20/das-ende-der-splitterparteien', 'https://www.zeit.de/1946/20/das-ende-der-splitterparteien', 'https://www.zeit.de/1946/20/griechenland-zwischen-zwei-wahlen', 'https://www.zeit.de/1946/20/griechenland-zwischen-zwei-wahlen', 'https://www.zeit.de/1946/20/neugestaltung-indochinas', 'https://www.zeit.de/1946/20/neugestaltung-indochinas', 'https://www.zeit.de/1946/20/die-buergerlichen-parteien-im-osten', 'https://www.zeit.de/1946/20/die-buergerlichen-parteien-im-osten', 'https://www.zeit.de/1946/20/das-heidedorf', 'https://www.zeit.de/1946/20/das-heidedorf', 'https://www.zeit.de/1946/20/ein-hungriger-hund', 'https://www.zeit.de/1946/20/ein-hungriger-hund', 'https://www.zeit.de/1946/20/geburt-des-schwarzhaendlers', 'https://www.zeit.de/1946/20/geburt-des-schwarzhaendlers', 'https://www.zeit.de/1946/20/freiheit-der-ueberzeugung', 'https://www.zeit.de/1946/20/freiheit-der-ueberzeugung', 'https://www.zeit.de/1946/20/der-versuch', 'https://www.zeit.de/1946/20/der-versuch', 'https://www.zeit.de/1946/20/wenn-goetter-hinter-den-wolken-plaudern', 'https://www.zeit.de/1946/20/wenn-goetter-hinter-den-wolken-plaudern', 'https://www.zeit.de/1946/20/schiff-des-friedens', 'https://www.zeit.de/1946/20/schiff-des-friedens', 'https://www.zeit.de/1946/20/deutsche-und-franzoesische-kunst', 'https://www.zeit.de/1946/20/deutsche-und-franzoesische-kunst', 'https://www.zeit.de/1946/20/hieronymus-im-gehaeus', 'https://www.zeit.de/1946/20/hieronymus-im-gehaeus', 'https://www.zeit.de/1946/20/die-welten-des-symbols', 'https://www.zeit.de/1946/20/die-welten-des-symbols', 'https://www.zeit.de/1946/20/christliche-kunset-der-gegenwart', 'https://www.zeit.de/1946/20/christliche-kunset-der-gegenwart', 'https://www.zeit.de/1946/20/der-fluechtling', 'https://www.zeit.de/1946/20/der-fluechtling', 'https://www.zeit.de/1946/20/drei-fragen-zur-bodenreform', 'https://www.zeit.de/1946/20/drei-fragen-zur-bodenreform', 'https://www.zeit.de/1946/20/kurze-wirtschaftsmeldungen', 'https://www.zeit.de/1946/20/kurze-wirtschaftsmeldungen', 'https://www.zeit.de/1946/20/kartoffel-saga', 'https://www.zeit.de/1946/20/kartoffel-saga', 'https://www.zeit.de/1946/20/steuererklaerungen-sind-faellig', 'https://www.zeit.de/1946/20/steuererklaerungen-sind-faellig', 'https://www.zeit.de/1946/20/die-letzte-boersenwoche', 'https://www.zeit.de/1946/20/die-letzte-boersenwoche', 'https://www.zeit.de/1946/20/kredite-fuer-ostfluechtlinge', 'https://www.zeit.de/1946/20/kredite-fuer-ostfluechtlinge', 'https://www.zeit.de/1946/20/finanzierung-durch-branntwein', 'https://www.zeit.de/1946/20/finanzierung-durch-branntwein', 'https://www.zeit.de/1946/20/brief-aus-daenemark', 'https://www.zeit.de/1946/20/brief-aus-daenemark', 'https://www.zeit.de/administratives/agb-kommentare-artikel']\n"
     ]
    },
    {
     "name": "stderr",
     "output_type": "stream",
     "text": [
      "INFO:scrapers.BaseScraper:Navigated to https://www.zeit.de/1946/21/index\n",
      "INFO:scrapers.BaseScraper:Found 57 article URLs on the current page: https://www.zeit.de/1946/21/index\n"
     ]
    },
    {
     "name": "stdout",
     "output_type": "stream",
     "text": [
      "['https://www.zeit.de/1946/21/index#navigation-content-main', 'https://www.zeit.de/beta/fragen-sie-zeit-online-news', 'https://www.zeit.de/1946/21/index#navigation-content-account', 'https://www.zeit.de/geld/2024-08/tourismusgebiete-anwohner-geld-tourismusbranche-reisen', 'https://www.zeit.de/politik/ausland/2024-09/nahostkonflikt-israel-palaestina-benjamin-netanjahu', 'https://www.zeit.de/gesellschaft/zeitgeschehen/2024-09/abwanderung-deutschland-ostdeutschland-bevoelkerung-trend', 'https://www.zeit.de/1946/21/blick-aus-england', 'https://www.zeit.de/1946/21/blick-aus-england', 'https://www.zeit.de/1946/21/das-neue-europa', 'https://www.zeit.de/1946/21/das-neue-europa', 'https://www.zeit.de/1946/21/ein-bombenversuch', 'https://www.zeit.de/1946/21/ein-bombenversuch', 'https://www.zeit.de/1946/21/das-tor-der-guten-hoffnung', 'https://www.zeit.de/1946/21/das-tor-der-guten-hoffnung', 'https://www.zeit.de/1946/21/triest-ungeloestes-hafenproblem', 'https://www.zeit.de/1946/21/triest-ungeloestes-hafenproblem', 'https://www.zeit.de/1946/21/unabhaengigkeit-der-philippinen', 'https://www.zeit.de/1946/21/unabhaengigkeit-der-philippinen', 'https://www.zeit.de/1946/21/geruechte-am-niederrhein', 'https://www.zeit.de/1946/21/geruechte-am-niederrhein', 'https://www.zeit.de/1946/21/begegnung-mit-einem-kochbuch', 'https://www.zeit.de/1946/21/begegnung-mit-einem-kochbuch', 'https://www.zeit.de/1946/21/ist-dies-ein-trost', 'https://www.zeit.de/1946/21/ist-dies-ein-trost', 'https://www.zeit.de/1946/21/tag-der-hummeln-und-der-schmetterlinge', 'https://www.zeit.de/1946/21/tag-der-hummeln-und-der-schmetterlinge', 'https://www.zeit.de/1946/21/gespenst-der-rassenkunde', 'https://www.zeit.de/1946/21/gespenst-der-rassenkunde', 'https://www.zeit.de/1946/21/musikpolitik-1946', 'https://www.zeit.de/1946/21/musikpolitik-1946', 'https://www.zeit.de/1946/21/surrealistische-landschaft', 'https://www.zeit.de/1946/21/surrealistische-landschaft', 'https://www.zeit.de/1946/21/geistiges-zentrum-gegen-tyrannei', 'https://www.zeit.de/1946/21/geistiges-zentrum-gegen-tyrannei', 'https://www.zeit.de/1946/21/dichter-und-journalist', 'https://www.zeit.de/1946/21/dichter-und-journalist', 'https://www.zeit.de/1946/21/theater-in-bremen', 'https://www.zeit.de/1946/21/theater-in-bremen', 'https://www.zeit.de/1946/21/knicks-in-england', 'https://www.zeit.de/1946/21/knicks-in-england', 'https://www.zeit.de/1946/21/stuerrecht-vor-handelsrecht', 'https://www.zeit.de/1946/21/stuerrecht-vor-handelsrecht', 'https://www.zeit.de/1946/21/alt-und-neu', 'https://www.zeit.de/1946/21/alt-und-neu', 'https://www.zeit.de/1946/21/dividende-ohne-kupon', 'https://www.zeit.de/1946/21/dividende-ohne-kupon', 'https://www.zeit.de/1946/21/staatskontrolle-oder-sozialisierung', 'https://www.zeit.de/1946/21/staatskontrolle-oder-sozialisierung', 'https://www.zeit.de/1946/21/tauschzentrale-fuer-handwerkszeug', 'https://www.zeit.de/1946/21/tauschzentrale-fuer-handwerkszeug', 'https://www.zeit.de/1946/21/wem-gehoert-die-marke', 'https://www.zeit.de/1946/21/wem-gehoert-die-marke', 'https://www.zeit.de/1946/21/die-letzte-boersenwoche', 'https://www.zeit.de/1946/21/die-letzte-boersenwoche', 'https://www.zeit.de/1946/21/kruze-wirtschaftsmeldungen', 'https://www.zeit.de/1946/21/kruze-wirtschaftsmeldungen', 'https://www.zeit.de/administratives/agb-kommentare-artikel']\n"
     ]
    },
    {
     "name": "stderr",
     "output_type": "stream",
     "text": [
      "INFO:scrapers.BaseScraper:Navigated to https://www.zeit.de/1946/22/index\n",
      "INFO:scrapers.BaseScraper:Found 55 article URLs on the current page: https://www.zeit.de/1946/22/index\n"
     ]
    },
    {
     "name": "stdout",
     "output_type": "stream",
     "text": [
      "['https://www.zeit.de/1946/22/index#navigation-content-main', 'https://www.zeit.de/beta/fragen-sie-zeit-online-news', 'https://www.zeit.de/1946/22/index#navigation-content-account', 'https://www.zeit.de/geld/2024-08/tourismusgebiete-anwohner-geld-tourismusbranche-reisen', 'https://www.zeit.de/politik/ausland/2024-09/nahostkonflikt-israel-palaestina-benjamin-netanjahu', 'https://www.zeit.de/gesellschaft/zeitgeschehen/2024-09/abwanderung-deutschland-ostdeutschland-bevoelkerung-trend', 'https://www.zeit.de/1946/22/ohne-versorgung', 'https://www.zeit.de/1946/22/ohne-versorgung', 'https://www.zeit.de/1946/22/die-welterdoellage', 'https://www.zeit.de/1946/22/die-welterdoellage', 'https://www.zeit.de/1946/22/dank-an-einen-herausgeber', 'https://www.zeit.de/1946/22/dank-an-einen-herausgeber', 'https://www.zeit.de/1946/22/das-heimliche-deutschland-der-maenner-des-20-juli', 'https://www.zeit.de/1946/22/das-heimliche-deutschland-der-maenner-des-20-juli', 'https://www.zeit.de/1946/22/gesetz-des-dschungels', 'https://www.zeit.de/1946/22/gesetz-des-dschungels', 'https://www.zeit.de/1946/22/die-neue-staatsidee', 'https://www.zeit.de/1946/22/die-neue-staatsidee', 'https://www.zeit.de/1946/22/radikale-bodenreform', 'https://www.zeit.de/1946/22/radikale-bodenreform', 'https://www.zeit.de/1946/22/schlechter-ratgeber', 'https://www.zeit.de/1946/22/schlechter-ratgeber', 'https://www.zeit.de/1946/22/kurze-wirtschaftsmeldungen', 'https://www.zeit.de/1946/22/kurze-wirtschaftsmeldungen', 'https://www.zeit.de/1946/22/bleibt-opa', 'https://www.zeit.de/1946/22/bleibt-opa', 'https://www.zeit.de/1946/22/ein-denkmal-der-arbeit', 'https://www.zeit.de/1946/22/ein-denkmal-der-arbeit', 'https://www.zeit.de/1946/22/buerokratismus-in-front', 'https://www.zeit.de/1946/22/buerokratismus-in-front', 'https://www.zeit.de/1946/22/die-idylle-zwischen-voelkerwirren', 'https://www.zeit.de/1946/22/die-idylle-zwischen-voelkerwirren', 'https://www.zeit.de/1946/22/das-attentat', 'https://www.zeit.de/1946/22/das-attentat', 'https://www.zeit.de/1946/22/das-bildnis-des-dichters', 'https://www.zeit.de/1946/22/das-bildnis-des-dichters', 'https://www.zeit.de/1946/22/neue-politik-in-berlin', 'https://www.zeit.de/1946/22/neue-politik-in-berlin', 'https://www.zeit.de/1946/22/griechenland-und-seine-maske', 'https://www.zeit.de/1946/22/griechenland-und-seine-maske', 'https://www.zeit.de/1946/22/die-letzte-boersenwoche', 'https://www.zeit.de/1946/22/die-letzte-boersenwoche', 'https://www.zeit.de/1946/22/aufgewertete-waehrungen', 'https://www.zeit.de/1946/22/aufgewertete-waehrungen', 'https://www.zeit.de/1946/22/der-arzt-als-schwerarbeiter', 'https://www.zeit.de/1946/22/der-arzt-als-schwerarbeiter', 'https://www.zeit.de/1946/22/studenten-sprachen-sich-aus', 'https://www.zeit.de/1946/22/studenten-sprachen-sich-aus', 'https://www.zeit.de/1946/22/klaus-graf-stauffenberg', 'https://www.zeit.de/1946/22/klaus-graf-stauffenberg', 'https://www.zeit.de/1946/22/die-letzten-tage-von-friedland', 'https://www.zeit.de/1946/22/die-letzten-tage-von-friedland', 'https://www.zeit.de/1946/22/vom-hamburger-hafen', 'https://www.zeit.de/1946/22/vom-hamburger-hafen', 'https://www.zeit.de/administratives/agb-kommentare-artikel']\n"
     ]
    },
    {
     "name": "stderr",
     "output_type": "stream",
     "text": [
      "INFO:scrapers.BaseScraper:Navigated to https://www.zeit.de/1946/23/index\n",
      "INFO:scrapers.BaseScraper:Found 58 article URLs on the current page: https://www.zeit.de/1946/23/index\n"
     ]
    },
    {
     "name": "stdout",
     "output_type": "stream",
     "text": [
      "['https://www.zeit.de/1946/23/index#navigation-content-main', 'https://www.zeit.de/beta/fragen-sie-zeit-online-news', 'https://www.zeit.de/1946/23/index#navigation-content-account', 'https://www.zeit.de/1946/23/deutsche-grenzen', 'https://www.zeit.de/1946/23/deutsche-grenzen', 'https://www.zeit.de/1946/23/das-hab-ich-nicht-gewollt', 'https://www.zeit.de/1946/23/das-hab-ich-nicht-gewollt', 'https://www.zeit.de/1946/23/die-fettluecke', 'https://www.zeit.de/1946/23/die-fettluecke', 'https://www.zeit.de/1946/23/oestliche-schulreform', 'https://www.zeit.de/1946/23/oestliche-schulreform', 'https://www.zeit.de/1946/23/unruhe-in-suedamerika', 'https://www.zeit.de/1946/23/unruhe-in-suedamerika', 'https://www.zeit.de/1946/23/demokratisierung-der-tuerkei', 'https://www.zeit.de/1946/23/demokratisierung-der-tuerkei', 'https://www.zeit.de/1946/23/wir-fangen-fische-in-der-arktis', 'https://www.zeit.de/1946/23/wir-fangen-fische-in-der-arktis', 'https://www.zeit.de/1946/23/die-ermordung-des-bundeskanzlers-engelbert-dollfuss', 'https://www.zeit.de/1946/23/die-ermordung-des-bundeskanzlers-engelbert-dollfuss', 'https://www.zeit.de/1946/23/krise-des-suezkanals', 'https://www.zeit.de/1946/23/krise-des-suezkanals', 'https://www.zeit.de/1946/23/das-vermaechtnis', 'https://www.zeit.de/1946/23/das-vermaechtnis', 'https://www.zeit.de/1946/23/der-roboter', 'https://www.zeit.de/1946/23/der-roboter', 'https://www.zeit.de/1946/23/im-zeichen-des-kindes', 'https://www.zeit.de/1946/23/im-zeichen-des-kindes', 'https://www.zeit.de/1946/23/der-gespenstertraum', 'https://www.zeit.de/1946/23/der-gespenstertraum', 'https://www.zeit.de/1946/23/bilder-und-traeume', 'https://www.zeit.de/1946/23/bilder-und-traeume', 'https://www.zeit.de/1946/23/die-strassenfeger', 'https://www.zeit.de/1946/23/die-strassenfeger', 'https://www.zeit.de/1946/23/kleinmacht-feuilleton', 'https://www.zeit.de/1946/23/kleinmacht-feuilleton', 'https://www.zeit.de/1946/23/gb-shaw-oder-der-weg-zu-methusalem', 'https://www.zeit.de/1946/23/gb-shaw-oder-der-weg-zu-methusalem', 'https://www.zeit.de/1946/23/worte-an-die-deutsche-jugend', 'https://www.zeit.de/1946/23/worte-an-die-deutsche-jugend', 'https://www.zeit.de/1946/23/barockoper-stilgetreu', 'https://www.zeit.de/1946/23/barockoper-stilgetreu', 'https://www.zeit.de/1946/23/freier-deutscher-rundfunk', 'https://www.zeit.de/1946/23/freier-deutscher-rundfunk', 'https://www.zeit.de/1946/23/englische-universitaetsprobleme', 'https://www.zeit.de/1946/23/englische-universitaetsprobleme', 'https://www.zeit.de/1946/23/frankreichs-erstarrte-schaetze', 'https://www.zeit.de/1946/23/frankreichs-erstarrte-schaetze', 'https://www.zeit.de/1946/23/blick-in-die-vierlande', 'https://www.zeit.de/1946/23/blick-in-die-vierlande', 'https://www.zeit.de/1946/23/kurze-wirtschaftsmeldung', 'https://www.zeit.de/1946/23/kurze-wirtschaftsmeldung', 'https://www.zeit.de/1946/23/genossenschaft-als-instrument', 'https://www.zeit.de/1946/23/genossenschaft-als-instrument', 'https://www.zeit.de/1946/23/ergaenzungen-zum-finanzplan', 'https://www.zeit.de/1946/23/ergaenzungen-zum-finanzplan', 'https://www.zeit.de/1946/23/die-letzte-boersenwoche', 'https://www.zeit.de/1946/23/die-letzte-boersenwoche', 'https://www.zeit.de/administratives/agb-kommentare-artikel']\n"
     ]
    },
    {
     "name": "stderr",
     "output_type": "stream",
     "text": [
      "INFO:scrapers.BaseScraper:Navigated to https://www.zeit.de/1946/24/index\n",
      "INFO:scrapers.BaseScraper:Found 56 article URLs on the current page: https://www.zeit.de/1946/24/index\n"
     ]
    },
    {
     "name": "stdout",
     "output_type": "stream",
     "text": [
      "['https://www.zeit.de/1946/24/index#navigation-content-main', 'https://www.zeit.de/beta/fragen-sie-zeit-online-news', 'https://www.zeit.de/1946/24/index#navigation-content-account', 'https://www.zeit.de/1946/24/ueber-unsere-kraft', 'https://www.zeit.de/1946/24/ueber-unsere-kraft', 'https://www.zeit.de/1946/24/erziehung-zur-politik', 'https://www.zeit.de/1946/24/erziehung-zur-politik', 'https://www.zeit.de/1946/24/politischer-katholizismus', 'https://www.zeit.de/1946/24/politischer-katholizismus', 'https://www.zeit.de/1946/24/frankreich-in-baden-baden', 'https://www.zeit.de/1946/24/frankreich-in-baden-baden', 'https://www.zeit.de/1946/24/englische-rechtspflege', 'https://www.zeit.de/1946/24/englische-rechtspflege', 'https://www.zeit.de/1946/24/masse-und-elite', 'https://www.zeit.de/1946/24/masse-und-elite', 'https://www.zeit.de/1946/24/einheit-des-geistes', 'https://www.zeit.de/1946/24/einheit-des-geistes', 'https://www.zeit.de/1946/24/die-beiden-maeuse-oder-der-neue-horaz', 'https://www.zeit.de/1946/24/die-beiden-maeuse-oder-der-neue-horaz', 'https://www.zeit.de/1946/24/ein-menschenfeind', 'https://www.zeit.de/1946/24/ein-menschenfeind', 'https://www.zeit.de/1946/24/ihre-kleine-stadt', 'https://www.zeit.de/1946/24/ihre-kleine-stadt', 'https://www.zeit.de/1946/24/ein-grandseigneur-der-toene', 'https://www.zeit.de/1946/24/ein-grandseigneur-der-toene', 'https://www.zeit.de/1946/24/von-den-graesern', 'https://www.zeit.de/1946/24/von-den-graesern', 'https://www.zeit.de/1946/24/kennzeichen-der-moderne', 'https://www.zeit.de/1946/24/kennzeichen-der-moderne', 'https://www.zeit.de/1946/24/der-hofrat-geier', 'https://www.zeit.de/1946/24/der-hofrat-geier', 'https://www.zeit.de/1946/24/das-bild-der-amerikanerin', 'https://www.zeit.de/1946/24/das-bild-der-amerikanerin', 'https://www.zeit.de/1946/24/fachschau-des-wiederaufbaus', 'https://www.zeit.de/1946/24/fachschau-des-wiederaufbaus', 'https://www.zeit.de/1946/24/opa-weiter-in-aktion', 'https://www.zeit.de/1946/24/opa-weiter-in-aktion', 'https://www.zeit.de/1946/24/fuenf-tage-woche', 'https://www.zeit.de/1946/24/fuenf-tage-woche', 'https://www.zeit.de/1946/24/kurze-wirtschaftsmeldungen', 'https://www.zeit.de/1946/24/kurze-wirtschaftsmeldungen', 'https://www.zeit.de/1946/24/beschlagnahmte-industrie', 'https://www.zeit.de/1946/24/beschlagnahmte-industrie', 'https://www.zeit.de/1946/24/aufhilfen-in-der-duengung', 'https://www.zeit.de/1946/24/aufhilfen-in-der-duengung', 'https://www.zeit.de/1946/24/gablonz-im-umzug', 'https://www.zeit.de/1946/24/gablonz-im-umzug', 'https://www.zeit.de/1946/24/die-letzte-boersenwoche', 'https://www.zeit.de/1946/24/die-letzte-boersenwoche', 'https://www.zeit.de/1946/24/sinn-und-unsinn-der-renten', 'https://www.zeit.de/1946/24/sinn-und-unsinn-der-renten', 'https://www.zeit.de/1946/24/kohle-gegen-weizen-schlechter-tausch', 'https://www.zeit.de/1946/24/kohle-gegen-weizen-schlechter-tausch', 'https://www.zeit.de/1946/24/verwaltung-und-oeffentliche-meinung', 'https://www.zeit.de/1946/24/verwaltung-und-oeffentliche-meinung', 'https://www.zeit.de/administratives/agb-kommentare-artikel']\n"
     ]
    },
    {
     "name": "stderr",
     "output_type": "stream",
     "text": [
      "INFO:scrapers.BaseScraper:Navigated to https://www.zeit.de/1946/25/index\n",
      "INFO:scrapers.BaseScraper:Found 44 article URLs on the current page: https://www.zeit.de/1946/25/index\n"
     ]
    },
    {
     "name": "stdout",
     "output_type": "stream",
     "text": [
      "['https://www.zeit.de/1946/25/index#navigation-content-main', 'https://www.zeit.de/beta/fragen-sie-zeit-online-news', 'https://www.zeit.de/1946/25/index#navigation-content-account', 'https://www.zeit.de/1946/25/fruchtbares-land-liegt-brach', 'https://www.zeit.de/1946/25/fruchtbares-land-liegt-brach', 'https://www.zeit.de/1946/25/umrisse-des-friedens', 'https://www.zeit.de/1946/25/umrisse-des-friedens', 'https://www.zeit.de/1946/25/umkaempftes-palaestina', 'https://www.zeit.de/1946/25/umkaempftes-palaestina', 'https://www.zeit.de/1946/25/belgiens-wiederaufstieg', 'https://www.zeit.de/1946/25/belgiens-wiederaufstieg', 'https://www.zeit.de/1946/25/auf-vorposten', 'https://www.zeit.de/1946/25/auf-vorposten', 'https://www.zeit.de/1946/25/das-taegliche-brot-und-das-dach-ueberm-kopf', 'https://www.zeit.de/1946/25/das-taegliche-brot-und-das-dach-ueberm-kopf', 'https://www.zeit.de/1946/25/der-reine-widerspruch', 'https://www.zeit.de/1946/25/der-reine-widerspruch', 'https://www.zeit.de/1946/25/die-pinguine', 'https://www.zeit.de/1946/25/die-pinguine', 'https://www.zeit.de/1946/25/pauline-blietzen', 'https://www.zeit.de/1946/25/pauline-blietzen', 'https://www.zeit.de/1946/25/mozart-und-wir', 'https://www.zeit.de/1946/25/mozart-und-wir', 'https://www.zeit.de/1946/25/in-der-eifel', 'https://www.zeit.de/1946/25/in-der-eifel', 'https://www.zeit.de/1946/25/europaeische-kunst-eduard-wiiralt', 'https://www.zeit.de/1946/25/europaeische-kunst-eduard-wiiralt', 'https://www.zeit.de/1946/25/kurze-wirtschaftsmeldungen', 'https://www.zeit.de/1946/25/kurze-wirtschaftsmeldungen', 'https://www.zeit.de/1946/25/hamburger-plan-gegen-berliner-regelung', 'https://www.zeit.de/1946/25/hamburger-plan-gegen-berliner-regelung', 'https://www.zeit.de/1946/25/auf-friedensstand', 'https://www.zeit.de/1946/25/auf-friedensstand', 'https://www.zeit.de/1946/25/der-sogenannte-zwischenhandel', 'https://www.zeit.de/1946/25/der-sogenannte-zwischenhandel', 'https://www.zeit.de/1946/25/die-letzte-boersenwoche', 'https://www.zeit.de/1946/25/die-letzte-boersenwoche', 'https://www.zeit.de/1946/25/ration-und-preis', 'https://www.zeit.de/1946/25/ration-und-preis', 'https://www.zeit.de/1946/25/ein-jahr-hamburger-boerse', 'https://www.zeit.de/1946/25/ein-jahr-hamburger-boerse', 'https://www.zeit.de/1946/25/bremer-brief', 'https://www.zeit.de/1946/25/bremer-brief', 'https://www.zeit.de/administratives/agb-kommentare-artikel']\n"
     ]
    },
    {
     "name": "stderr",
     "output_type": "stream",
     "text": [
      "INFO:scrapers.BaseScraper:Navigated to https://www.zeit.de/1946/26/index\n",
      "INFO:scrapers.BaseScraper:Found 53 article URLs on the current page: https://www.zeit.de/1946/26/index\n"
     ]
    },
    {
     "name": "stdout",
     "output_type": "stream",
     "text": [
      "['https://www.zeit.de/1946/26/index#navigation-content-main', 'https://www.zeit.de/beta/fragen-sie-zeit-online-news', 'https://www.zeit.de/1946/26/index#navigation-content-account', 'https://www.zeit.de/geld/2024-08/tourismusgebiete-anwohner-geld-tourismusbranche-reisen', 'https://www.zeit.de/politik/ausland/2024-09/nahostkonflikt-israel-palaestina-benjamin-netanjahu', 'https://www.zeit.de/gesellschaft/zeitgeschehen/2024-09/abwanderung-deutschland-ostdeutschland-bevoelkerung-trend', 'https://www.zeit.de/1946/26/hoffnung-auf-brot', 'https://www.zeit.de/1946/26/hoffnung-auf-brot', 'https://www.zeit.de/1946/26/ohne-recht', 'https://www.zeit.de/1946/26/ohne-recht', 'https://www.zeit.de/1946/26/der-kommunismus-in-westeuropa', 'https://www.zeit.de/1946/26/der-kommunismus-in-westeuropa', 'https://www.zeit.de/1946/26/norwegen-glueckliches-land', 'https://www.zeit.de/1946/26/norwegen-glueckliches-land', 'https://www.zeit.de/1946/26/deutsches-grenzland-im-westen', 'https://www.zeit.de/1946/26/deutsches-grenzland-im-westen', 'https://www.zeit.de/1946/26/francisco-solano-lopez-das-bildnis-eines-tyrannen', 'https://www.zeit.de/1946/26/francisco-solano-lopez-das-bildnis-eines-tyrannen', 'https://www.zeit.de/1946/26/strom-der-zuversicht', 'https://www.zeit.de/1946/26/strom-der-zuversicht', 'https://www.zeit.de/1946/26/sein-abschiedsgeschenk', 'https://www.zeit.de/1946/26/sein-abschiedsgeschenk', 'https://www.zeit.de/1946/26/lob-des-sonetts', 'https://www.zeit.de/1946/26/lob-des-sonetts', 'https://www.zeit.de/1946/26/joseph-conrad-oder-die-maennlichkeit', 'https://www.zeit.de/1946/26/joseph-conrad-oder-die-maennlichkeit', 'https://www.zeit.de/1946/26/wiedersehen-mit-hamburger-kuenstlern', 'https://www.zeit.de/1946/26/wiedersehen-mit-hamburger-kuenstlern', 'https://www.zeit.de/1946/26/salzburger-festspielstimmung', 'https://www.zeit.de/1946/26/salzburger-festspielstimmung', 'https://www.zeit.de/1946/26/der-schicksalsweg-des-menschenlammes', 'https://www.zeit.de/1946/26/der-schicksalsweg-des-menschenlammes', 'https://www.zeit.de/1946/26/meine-birke', 'https://www.zeit.de/1946/26/meine-birke', 'https://www.zeit.de/1946/26/shakespeare-an-der-ruhr', 'https://www.zeit.de/1946/26/shakespeare-an-der-ruhr', 'https://www.zeit.de/1946/26/kurze-wirtschaftsmeldungen', 'https://www.zeit.de/1946/26/kurze-wirtschaftsmeldungen', 'https://www.zeit.de/1946/26/der-salzhering-als-prinzip', 'https://www.zeit.de/1946/26/der-salzhering-als-prinzip', 'https://www.zeit.de/1946/26/export-importbank-in-bereitschaft', 'https://www.zeit.de/1946/26/export-importbank-in-bereitschaft', 'https://www.zeit.de/1946/26/zu-neuen-zielen', 'https://www.zeit.de/1946/26/zu-neuen-zielen', 'https://www.zeit.de/1946/26/verkehr-laeuft-staerker-an', 'https://www.zeit.de/1946/26/verkehr-laeuft-staerker-an', 'https://www.zeit.de/1946/26/3-milliarden-siedler-anleihe', 'https://www.zeit.de/1946/26/3-milliarden-siedler-anleihe', 'https://www.zeit.de/1946/26/pariser-sorgen', 'https://www.zeit.de/1946/26/pariser-sorgen', 'https://www.zeit.de/1946/26/die-letzte-boersenwoche', 'https://www.zeit.de/1946/26/die-letzte-boersenwoche', 'https://www.zeit.de/administratives/agb-kommentare-artikel']\n"
     ]
    },
    {
     "name": "stderr",
     "output_type": "stream",
     "text": [
      "INFO:scrapers.BaseScraper:Navigated to https://www.zeit.de/1946/27/index\n",
      "INFO:scrapers.BaseScraper:Found 57 article URLs on the current page: https://www.zeit.de/1946/27/index\n"
     ]
    },
    {
     "name": "stdout",
     "output_type": "stream",
     "text": [
      "['https://www.zeit.de/1946/27/index#navigation-content-main', 'https://www.zeit.de/beta/fragen-sie-zeit-online-news', 'https://www.zeit.de/1946/27/index#navigation-content-account', 'https://www.zeit.de/geld/2024-08/tourismusgebiete-anwohner-geld-tourismusbranche-reisen', 'https://www.zeit.de/politik/ausland/2024-09/nahostkonflikt-israel-palaestina-benjamin-netanjahu', 'https://www.zeit.de/gesellschaft/zeitgeschehen/2024-09/abwanderung-deutschland-ostdeutschland-bevoelkerung-trend', 'https://www.zeit.de/1946/27/nachruf-auf-eine-insel', 'https://www.zeit.de/1946/27/nachruf-auf-eine-insel', 'https://www.zeit.de/1946/27/tatsachen-zum-fall-samhaber', 'https://www.zeit.de/1946/27/tatsachen-zum-fall-samhaber', 'https://www.zeit.de/1946/27/pariser-zwischenbilanz', 'https://www.zeit.de/1946/27/pariser-zwischenbilanz', 'https://www.zeit.de/1946/27/soll-dies-das-schicksal-unserer-kriegsopfer-werden', 'https://www.zeit.de/1946/27/soll-dies-das-schicksal-unserer-kriegsopfer-werden', 'https://www.zeit.de/1946/27/das-ringen-um-die-dardanellen', 'https://www.zeit.de/1946/27/das-ringen-um-die-dardanellen', 'https://www.zeit.de/1946/27/die-wallfahrt-nach-kevelaer', 'https://www.zeit.de/1946/27/die-wallfahrt-nach-kevelaer', 'https://www.zeit.de/1946/27/unrra-ende', 'https://www.zeit.de/1946/27/unrra-ende', 'https://www.zeit.de/1946/27/die-anatomie-des-friedens-und-ordnung-durch-das-recht', 'https://www.zeit.de/1946/27/die-anatomie-des-friedens-und-ordnung-durch-das-recht', 'https://www.zeit.de/1946/27/gedicht-und-gesang', 'https://www.zeit.de/1946/27/gedicht-und-gesang', 'https://www.zeit.de/1946/27/deutschland-und-die-demokratie', 'https://www.zeit.de/1946/27/deutschland-und-die-demokratie', 'https://www.zeit.de/1946/27/nachtbild-einer-allee', 'https://www.zeit.de/1946/27/nachtbild-einer-allee', 'https://www.zeit.de/1946/27/von-professoren-und-studenten', 'https://www.zeit.de/1946/27/von-professoren-und-studenten', 'https://www.zeit.de/1946/27/selbstgespraech-eines-dachziegels', 'https://www.zeit.de/1946/27/selbstgespraech-eines-dachziegels', 'https://www.zeit.de/1946/27/die-froesche', 'https://www.zeit.de/1946/27/die-froesche', 'https://www.zeit.de/1946/27/unter-dem-himmel-italiens', 'https://www.zeit.de/1946/27/unter-dem-himmel-italiens', 'https://www.zeit.de/1946/27/der-zuendende-gedanke', 'https://www.zeit.de/1946/27/der-zuendende-gedanke', 'https://www.zeit.de/1946/27/modernes-frankreich', 'https://www.zeit.de/1946/27/modernes-frankreich', 'https://www.zeit.de/1946/27/mut-zum-optimismus', 'https://www.zeit.de/1946/27/mut-zum-optimismus', 'https://www.zeit.de/1946/27/kritik-am-hamburger-plan', 'https://www.zeit.de/1946/27/kritik-am-hamburger-plan', 'https://www.zeit.de/1946/27/ohne-staatsanzeiger', 'https://www.zeit.de/1946/27/ohne-staatsanzeiger', 'https://www.zeit.de/1946/27/die-schweiz-als-handelspartner', 'https://www.zeit.de/1946/27/die-schweiz-als-handelspartner', 'https://www.zeit.de/1946/27/kurze-wirtschaftsmeldungen', 'https://www.zeit.de/1946/27/kurze-wirtschaftsmeldungen', 'https://www.zeit.de/1946/27/steuerrecht-und-variationen', 'https://www.zeit.de/1946/27/steuerrecht-und-variationen', 'https://www.zeit.de/1946/27/hypothetische-hypotheken', 'https://www.zeit.de/1946/27/hypothetische-hypotheken', 'https://www.zeit.de/1946/27/die-letzte-boersenwoche', 'https://www.zeit.de/1946/27/die-letzte-boersenwoche', 'https://www.zeit.de/administratives/agb-kommentare-artikel']\n"
     ]
    },
    {
     "name": "stderr",
     "output_type": "stream",
     "text": [
      "INFO:scrapers.BaseScraper:Navigated to https://www.zeit.de/1946/28/index\n",
      "INFO:scrapers.BaseScraper:Found 52 article URLs on the current page: https://www.zeit.de/1946/28/index\n"
     ]
    },
    {
     "name": "stdout",
     "output_type": "stream",
     "text": [
      "['https://www.zeit.de/1946/28/index#navigation-content-main', 'https://www.zeit.de/beta/fragen-sie-zeit-online-news', 'https://www.zeit.de/1946/28/index#navigation-content-account', 'https://www.zeit.de/1946/28/die-fuenfte-zone', 'https://www.zeit.de/1946/28/die-fuenfte-zone', 'https://www.zeit.de/1946/28/philip-j-noel-baker', 'https://www.zeit.de/1946/28/philip-j-noel-baker', 'https://www.zeit.de/1946/28/frankreich-sucht-eine-neue-form-der-demokratie', 'https://www.zeit.de/1946/28/frankreich-sucht-eine-neue-form-der-demokratie', 'https://www.zeit.de/1946/28/london-aegypten-ohne-umsteigen', 'https://www.zeit.de/1946/28/london-aegypten-ohne-umsteigen', 'https://www.zeit.de/1946/28/die-heimkehrer-berichten', 'https://www.zeit.de/1946/28/die-heimkehrer-berichten', 'https://www.zeit.de/1946/28/right-or-wrong', 'https://www.zeit.de/1946/28/right-or-wrong', 'https://www.zeit.de/1946/28/zufriedene-leute', 'https://www.zeit.de/1946/28/zufriedene-leute', 'https://www.zeit.de/1946/28/oesterreich-zwischen-krieg-und-frieden', 'https://www.zeit.de/1946/28/oesterreich-zwischen-krieg-und-frieden', 'https://www.zeit.de/1946/28/das-ende-der-dynastie-la-follette', 'https://www.zeit.de/1946/28/das-ende-der-dynastie-la-follette', 'https://www.zeit.de/1946/28/recht-vor-macht', 'https://www.zeit.de/1946/28/recht-vor-macht', 'https://www.zeit.de/1946/28/studenten-und-politische-erziehung', 'https://www.zeit.de/1946/28/studenten-und-politische-erziehung', 'https://www.zeit.de/1946/28/der-vogel-scheint-mir-hat-humor', 'https://www.zeit.de/1946/28/der-vogel-scheint-mir-hat-humor', 'https://www.zeit.de/1946/28/mein-neues-steckenpferd', 'https://www.zeit.de/1946/28/mein-neues-steckenpferd', 'https://www.zeit.de/1946/28/erschuetterter-optimismus', 'https://www.zeit.de/1946/28/erschuetterter-optimismus', 'https://www.zeit.de/1946/28/ein-wort-an-die-akademische-jugend', 'https://www.zeit.de/1946/28/ein-wort-an-die-akademische-jugend', 'https://www.zeit.de/1946/28/der-reichtum-des-armen-mannes', 'https://www.zeit.de/1946/28/der-reichtum-des-armen-mannes', 'https://www.zeit.de/1946/28/selbstvertrauen-und-realismus', 'https://www.zeit.de/1946/28/selbstvertrauen-und-realismus', 'https://www.zeit.de/1946/28/kurze-wirtschaftsmeldungen', 'https://www.zeit.de/1946/28/kurze-wirtschaftsmeldungen', 'https://www.zeit.de/1946/28/belgien-kraefte-des-wiederaufbaus', 'https://www.zeit.de/1946/28/belgien-kraefte-des-wiederaufbaus', 'https://www.zeit.de/1946/28/opa-kompromiss', 'https://www.zeit.de/1946/28/opa-kompromiss', 'https://www.zeit.de/1946/28/die-deutschen-auslandswerte', 'https://www.zeit.de/1946/28/die-deutschen-auslandswerte', 'https://www.zeit.de/1946/28/ein-verlustgeschaeft', 'https://www.zeit.de/1946/28/ein-verlustgeschaeft', 'https://www.zeit.de/1946/28/die-letzte-boersenwoche', 'https://www.zeit.de/1946/28/die-letzte-boersenwoche', 'https://www.zeit.de/1946/28/zerstoert-erhalten', 'https://www.zeit.de/1946/28/zerstoert-erhalten', 'https://www.zeit.de/administratives/agb-kommentare-artikel']\n"
     ]
    },
    {
     "name": "stderr",
     "output_type": "stream",
     "text": [
      "INFO:scrapers.BaseScraper:Navigated to https://www.zeit.de/1946/29/index\n",
      "INFO:scrapers.BaseScraper:Found 57 article URLs on the current page: https://www.zeit.de/1946/29/index\n"
     ]
    },
    {
     "name": "stdout",
     "output_type": "stream",
     "text": [
      "['https://www.zeit.de/1946/29/index#navigation-content-main', 'https://www.zeit.de/beta/fragen-sie-zeit-online-news', 'https://www.zeit.de/1946/29/index#navigation-content-account', 'https://www.zeit.de/geld/2024-08/tourismusgebiete-anwohner-geld-tourismusbranche-reisen', 'https://www.zeit.de/politik/ausland/2024-09/nahostkonflikt-israel-palaestina-benjamin-netanjahu', 'https://www.zeit.de/gesellschaft/zeitgeschehen/2024-09/abwanderung-deutschland-ostdeutschland-bevoelkerung-trend', 'https://www.zeit.de/1946/29/der-entgoettlichte-tenno', 'https://www.zeit.de/1946/29/der-entgoettlichte-tenno', 'https://www.zeit.de/1946/29/ohne-heimat', 'https://www.zeit.de/1946/29/ohne-heimat', 'https://www.zeit.de/1946/29/neue-wege-der-enteignung', 'https://www.zeit.de/1946/29/neue-wege-der-enteignung', 'https://www.zeit.de/1946/29/eine-mondlandschaft-wird-produktiv', 'https://www.zeit.de/1946/29/eine-mondlandschaft-wird-produktiv', 'https://www.zeit.de/1946/29/litwinows-abschied', 'https://www.zeit.de/1946/29/litwinows-abschied', 'https://www.zeit.de/1946/29/einheitliche-wirtschaftspolitik', 'https://www.zeit.de/1946/29/einheitliche-wirtschaftspolitik', 'https://www.zeit.de/1946/29/wochenuebersicht-298-491946', 'https://www.zeit.de/1946/29/wochenuebersicht-298-491946', 'https://www.zeit.de/1946/29/raumpolitische-ueberschneidungen', 'https://www.zeit.de/1946/29/raumpolitische-ueberschneidungen', 'https://www.zeit.de/1946/29/die-toedlichen-superlative', 'https://www.zeit.de/1946/29/die-toedlichen-superlative', 'https://www.zeit.de/1946/29/brief-auf-umwegen', 'https://www.zeit.de/1946/29/brief-auf-umwegen', 'https://www.zeit.de/1946/29/demokratie-im-leben-des-dorfes', 'https://www.zeit.de/1946/29/demokratie-im-leben-des-dorfes', 'https://www.zeit.de/1946/29/ein-seltsamer-zeitgenosse', 'https://www.zeit.de/1946/29/ein-seltsamer-zeitgenosse', 'https://www.zeit.de/1946/29/mond-der-liebenden', 'https://www.zeit.de/1946/29/mond-der-liebenden', 'https://www.zeit.de/1946/29/latein-latein', 'https://www.zeit.de/1946/29/latein-latein', 'https://www.zeit.de/1946/29/gespenster-und-abstraktion', 'https://www.zeit.de/1946/29/gespenster-und-abstraktion', 'https://www.zeit.de/1946/29/eines-dichters-visionen-im-gefaengnis', 'https://www.zeit.de/1946/29/eines-dichters-visionen-im-gefaengnis', 'https://www.zeit.de/1946/29/liliom-oder-der-rueckgriff', 'https://www.zeit.de/1946/29/liliom-oder-der-rueckgriff', 'https://www.zeit.de/1946/29/rundfunk-hotel-in-baden-baden', 'https://www.zeit.de/1946/29/rundfunk-hotel-in-baden-baden', 'https://www.zeit.de/1946/29/hamburger-plan', 'https://www.zeit.de/1946/29/hamburger-plan', 'https://www.zeit.de/1946/29/oesterreich-als-einheit', 'https://www.zeit.de/1946/29/oesterreich-als-einheit', 'https://www.zeit.de/1946/29/seefischerei-bleibt-lebenswichtig', 'https://www.zeit.de/1946/29/seefischerei-bleibt-lebenswichtig', 'https://www.zeit.de/1946/29/kurze-wirtschaftsmeldungen', 'https://www.zeit.de/1946/29/kurze-wirtschaftsmeldungen', 'https://www.zeit.de/1946/29/noch-autoritaerer', 'https://www.zeit.de/1946/29/noch-autoritaerer', 'https://www.zeit.de/1946/29/die-letzte-boersenwoche', 'https://www.zeit.de/1946/29/die-letzte-boersenwoche', 'https://www.zeit.de/1946/29/zersplittertes-gemeinderecht', 'https://www.zeit.de/1946/29/zersplittertes-gemeinderecht', 'https://www.zeit.de/administratives/agb-kommentare-artikel']\n"
     ]
    },
    {
     "name": "stderr",
     "output_type": "stream",
     "text": [
      "INFO:scrapers.BaseScraper:Navigated to https://www.zeit.de/1946/30/index\n",
      "INFO:scrapers.BaseScraper:Found 59 article URLs on the current page: https://www.zeit.de/1946/30/index\n"
     ]
    },
    {
     "name": "stdout",
     "output_type": "stream",
     "text": [
      "['https://www.zeit.de/1946/30/index#navigation-content-main', 'https://www.zeit.de/beta/fragen-sie-zeit-online-news', 'https://www.zeit.de/1946/30/index#navigation-content-account', 'https://www.zeit.de/geld/2024-08/tourismusgebiete-anwohner-geld-tourismusbranche-reisen', 'https://www.zeit.de/politik/ausland/2024-09/nahostkonflikt-israel-palaestina-benjamin-netanjahu', 'https://www.zeit.de/gesellschaft/zeitgeschehen/2024-09/abwanderung-deutschland-ostdeutschland-bevoelkerung-trend', 'https://www.zeit.de/1946/30/neuer-kurs', 'https://www.zeit.de/1946/30/neuer-kurs', 'https://www.zeit.de/1946/30/das-friedenspotential', 'https://www.zeit.de/1946/30/das-friedenspotential', 'https://www.zeit.de/1946/30/freie-wahlen', 'https://www.zeit.de/1946/30/freie-wahlen', 'https://www.zeit.de/1946/30/die-wahlen-in-der-ostzone', 'https://www.zeit.de/1946/30/die-wahlen-in-der-ostzone', 'https://www.zeit.de/1946/30/volksrepublik-bulgarien', 'https://www.zeit.de/1946/30/volksrepublik-bulgarien', 'https://www.zeit.de/1946/30/china-und-die-angelsaechsischen-maechte', 'https://www.zeit.de/1946/30/china-und-die-angelsaechsischen-maechte', 'https://www.zeit.de/1946/30/gleichberechtigung-in-sued-tirol', 'https://www.zeit.de/1946/30/gleichberechtigung-in-sued-tirol', 'https://www.zeit.de/1946/30/zerbrochene-stadt-doch-ungebrochene-menschen', 'https://www.zeit.de/1946/30/zerbrochene-stadt-doch-ungebrochene-menschen', 'https://www.zeit.de/1946/30/im-mittelpunkt-der-freigelegte-domriese', 'https://www.zeit.de/1946/30/im-mittelpunkt-der-freigelegte-domriese', 'https://www.zeit.de/1946/30/von-250000-wohnungen-200000-zerstoert', 'https://www.zeit.de/1946/30/von-250000-wohnungen-200000-zerstoert', 'https://www.zeit.de/1946/30/nach-dem-abschied', 'https://www.zeit.de/1946/30/nach-dem-abschied', 'https://www.zeit.de/1946/30/die-zeit-feuilleton', 'https://www.zeit.de/1946/30/die-zeit-feuilleton', 'https://www.zeit.de/1946/30/zu-den-geschichten-aus-tausendundeiner-nacht', 'https://www.zeit.de/1946/30/zu-den-geschichten-aus-tausendundeiner-nacht', 'https://www.zeit.de/1946/30/die-kunst-zu-hassen', 'https://www.zeit.de/1946/30/die-kunst-zu-hassen', 'https://www.zeit.de/1946/30/der-wiedererstandene-film', 'https://www.zeit.de/1946/30/der-wiedererstandene-film', 'https://www.zeit.de/1946/30/deutsche-baumeister-in-russland', 'https://www.zeit.de/1946/30/deutsche-baumeister-in-russland', 'https://www.zeit.de/1946/30/september-oda-schaefer', 'https://www.zeit.de/1946/30/september-oda-schaefer', 'https://www.zeit.de/1946/30/theater-in-thueringen', 'https://www.zeit.de/1946/30/theater-in-thueringen', 'https://www.zeit.de/1946/30/das-karussell', 'https://www.zeit.de/1946/30/das-karussell', 'https://www.zeit.de/1946/30/kurze-wirtschaftsmeldungen', 'https://www.zeit.de/1946/30/kurze-wirtschaftsmeldungen', 'https://www.zeit.de/1946/30/womit-sollen-wir-uns-kleiden', 'https://www.zeit.de/1946/30/womit-sollen-wir-uns-kleiden', 'https://www.zeit.de/1946/30/wohnungstausch-auf-anordnung', 'https://www.zeit.de/1946/30/wohnungstausch-auf-anordnung', 'https://www.zeit.de/1946/30/kohle-fuer-frankreich', 'https://www.zeit.de/1946/30/kohle-fuer-frankreich', 'https://www.zeit.de/1946/30/streiflichter-auf-daenemark', 'https://www.zeit.de/1946/30/streiflichter-auf-daenemark', 'https://www.zeit.de/1946/30/ueberpruefung-der-testamente', 'https://www.zeit.de/1946/30/ueberpruefung-der-testamente', 'https://www.zeit.de/1946/30/die-letzte-boersenwoche', 'https://www.zeit.de/1946/30/die-letzte-boersenwoche', 'https://www.zeit.de/administratives/agb-kommentare-artikel']\n"
     ]
    },
    {
     "name": "stderr",
     "output_type": "stream",
     "text": [
      "INFO:scrapers.BaseScraper:Navigated to https://www.zeit.de/1946/31/index\n",
      "INFO:scrapers.BaseScraper:Found 57 article URLs on the current page: https://www.zeit.de/1946/31/index\n"
     ]
    },
    {
     "name": "stdout",
     "output_type": "stream",
     "text": [
      "['https://www.zeit.de/1946/31/index#navigation-content-main', 'https://www.zeit.de/beta/fragen-sie-zeit-online-news', 'https://www.zeit.de/1946/31/index#navigation-content-account', 'https://www.zeit.de/geld/2024-08/tourismusgebiete-anwohner-geld-tourismusbranche-reisen', 'https://www.zeit.de/politik/ausland/2024-09/nahostkonflikt-israel-palaestina-benjamin-netanjahu', 'https://www.zeit.de/gesellschaft/zeitgeschehen/2024-09/abwanderung-deutschland-ostdeutschland-bevoelkerung-trend', 'https://www.zeit.de/1946/31/mensch-und-schema', 'https://www.zeit.de/1946/31/mensch-und-schema', 'https://www.zeit.de/1946/31/problem-palaestina', 'https://www.zeit.de/1946/31/problem-palaestina', 'https://www.zeit.de/1946/31/das-echo', 'https://www.zeit.de/1946/31/das-echo', 'https://www.zeit.de/1946/31/erlebnisse-in-einer-torfkolonne', 'https://www.zeit.de/1946/31/erlebnisse-in-einer-torfkolonne', 'https://www.zeit.de/1946/31/griechenlands-volksabstimmung', 'https://www.zeit.de/1946/31/griechenlands-volksabstimmung', 'https://www.zeit.de/1946/31/um-die-neutralitaet-der-schweiz', 'https://www.zeit.de/1946/31/um-die-neutralitaet-der-schweiz', 'https://www.zeit.de/1946/31/die-beginen', 'https://www.zeit.de/1946/31/die-beginen', 'https://www.zeit.de/1946/31/das-neue-land-an-der-westgrenze', 'https://www.zeit.de/1946/31/das-neue-land-an-der-westgrenze', 'https://www.zeit.de/1946/31/systme-d', 'https://www.zeit.de/1946/31/systme-d', 'https://www.zeit.de/1946/31/was-sagt-die-amtliche-englische-presse', 'https://www.zeit.de/1946/31/was-sagt-die-amtliche-englische-presse', 'https://www.zeit.de/1946/31/ein-stil-betritt-die-szene', 'https://www.zeit.de/1946/31/ein-stil-betritt-die-szene', 'https://www.zeit.de/1946/31/reise-zur-erde', 'https://www.zeit.de/1946/31/reise-zur-erde', 'https://www.zeit.de/1946/31/das-land-orplid-und-die-truemmer', 'https://www.zeit.de/1946/31/das-land-orplid-und-die-truemmer', 'https://www.zeit.de/1946/31/eine-gute-melodie-kann-viel-vertragen', 'https://www.zeit.de/1946/31/eine-gute-melodie-kann-viel-vertragen', 'https://www.zeit.de/1946/31/zeit-und-funktion', 'https://www.zeit.de/1946/31/zeit-und-funktion', 'https://www.zeit.de/1946/31/der-weg-nach-stalingrad', 'https://www.zeit.de/1946/31/der-weg-nach-stalingrad', 'https://www.zeit.de/1946/31/die-entdeckung-des-planeten-neptun', 'https://www.zeit.de/1946/31/die-entdeckung-des-planeten-neptun', 'https://www.zeit.de/1946/31/liebe-und-fanfarenblasen', 'https://www.zeit.de/1946/31/liebe-und-fanfarenblasen', 'https://www.zeit.de/1946/31/das-prinzip-der-selbstverwaltung', 'https://www.zeit.de/1946/31/das-prinzip-der-selbstverwaltung', 'https://www.zeit.de/1946/31/das-werk-des-kieler-landtags', 'https://www.zeit.de/1946/31/das-werk-des-kieler-landtags', 'https://www.zeit.de/1946/31/mollet-statt-monnet', 'https://www.zeit.de/1946/31/mollet-statt-monnet', 'https://www.zeit.de/1946/31/kassenpatient-privatpatient', 'https://www.zeit.de/1946/31/kassenpatient-privatpatient', 'https://www.zeit.de/1946/31/kurze-wirtschaftsmeldungen', 'https://www.zeit.de/1946/31/kurze-wirtschaftsmeldungen', 'https://www.zeit.de/1946/31/ein-rechtsgutachten-professor-launs', 'https://www.zeit.de/1946/31/ein-rechtsgutachten-professor-launs', 'https://www.zeit.de/1946/31/die-letzte-boersenwoche', 'https://www.zeit.de/1946/31/die-letzte-boersenwoche', 'https://www.zeit.de/administratives/agb-kommentare-artikel']\n"
     ]
    },
    {
     "ename": "KeyboardInterrupt",
     "evalue": "",
     "output_type": "error",
     "traceback": [
      "\u001b[1;31m---------------------------------------------------------------------------\u001b[0m",
      "\u001b[1;31mKeyboardInterrupt\u001b[0m                         Traceback (most recent call last)",
      "Cell \u001b[1;32mIn[6], line 1\u001b[0m\n\u001b[1;32m----> 1\u001b[0m archive_articles \u001b[38;5;241m=\u001b[39m \u001b[43mscraper\u001b[49m\u001b[38;5;241;43m.\u001b[39;49m\u001b[43mscrape_archive\u001b[49m\u001b[43m(\u001b[49m\u001b[43m)\u001b[49m\n",
      "File \u001b[1;32mc:\\Users\\ra76lax\\Documents\\GitHub\\m3-scraper\\scrapers\\ZeitScraper.py:84\u001b[0m, in \u001b[0;36mZeitScraper.scrape_archive\u001b[1;34m(self)\u001b[0m\n\u001b[0;32m     81\u001b[0m issue_url \u001b[38;5;241m=\u001b[39m \u001b[38;5;124mf\u001b[39m\u001b[38;5;124m\"\u001b[39m\u001b[38;5;124mhttps://www.zeit.de/\u001b[39m\u001b[38;5;132;01m{\u001b[39;00myear\u001b[38;5;132;01m}\u001b[39;00m\u001b[38;5;124m/\u001b[39m\u001b[38;5;132;01m{\u001b[39;00missue_week\u001b[38;5;132;01m}\u001b[39;00m\u001b[38;5;124m/index\u001b[39m\u001b[38;5;124m\"\u001b[39m\n\u001b[0;32m     82\u001b[0m \u001b[38;5;28;01mtry\u001b[39;00m:\n\u001b[0;32m     83\u001b[0m     \u001b[38;5;66;03m# Use the updated navigate_to method\u001b[39;00m\n\u001b[1;32m---> 84\u001b[0m     \u001b[38;5;28;43mself\u001b[39;49m\u001b[38;5;241;43m.\u001b[39;49m\u001b[43mnavigate_to\u001b[49m\u001b[43m(\u001b[49m\u001b[43missue_url\u001b[49m\u001b[43m)\u001b[49m\n\u001b[0;32m     86\u001b[0m     \u001b[38;5;66;03m# If navigation was skipped due to a 404 status, break the loop\u001b[39;00m\n\u001b[0;32m     87\u001b[0m     \u001b[38;5;28;01mif\u001b[39;00m \u001b[38;5;28mself\u001b[39m\u001b[38;5;241m.\u001b[39murl \u001b[38;5;129;01mis\u001b[39;00m \u001b[38;5;28;01mNone\u001b[39;00m:\n",
      "File \u001b[1;32mc:\\Users\\ra76lax\\Documents\\GitHub\\m3-scraper\\scrapers\\BaseScraper.py:96\u001b[0m, in \u001b[0;36mBaseScraper.navigate_to\u001b[1;34m(self, url)\u001b[0m\n\u001b[0;32m     93\u001b[0m \u001b[38;5;250m\u001b[39m\u001b[38;5;124;03m\"\"\"Navigate to a specific URL and check for HTTP status.\"\"\"\u001b[39;00m\n\u001b[0;32m     94\u001b[0m \u001b[38;5;28;01mtry\u001b[39;00m:\n\u001b[0;32m     95\u001b[0m     \u001b[38;5;66;03m# Check the HTTP status code before navigating\u001b[39;00m\n\u001b[1;32m---> 96\u001b[0m     response \u001b[38;5;241m=\u001b[39m \u001b[43mrequests\u001b[49m\u001b[38;5;241;43m.\u001b[39;49m\u001b[43mhead\u001b[49m\u001b[43m(\u001b[49m\u001b[43murl\u001b[49m\u001b[43m,\u001b[49m\u001b[43m \u001b[49m\u001b[43mallow_redirects\u001b[49m\u001b[38;5;241;43m=\u001b[39;49m\u001b[38;5;28;43;01mTrue\u001b[39;49;00m\u001b[43m)\u001b[49m\n\u001b[0;32m     97\u001b[0m     \u001b[38;5;28;01mif\u001b[39;00m response\u001b[38;5;241m.\u001b[39mstatus_code \u001b[38;5;241m==\u001b[39m \u001b[38;5;241m404\u001b[39m:\n\u001b[0;32m     98\u001b[0m         logger\u001b[38;5;241m.\u001b[39mwarning(\u001b[38;5;124mf\u001b[39m\u001b[38;5;124m\"\u001b[39m\u001b[38;5;124m404 Not Found for URL: \u001b[39m\u001b[38;5;132;01m{\u001b[39;00murl\u001b[38;5;132;01m}\u001b[39;00m\u001b[38;5;124m. Skipping navigation.\u001b[39m\u001b[38;5;124m\"\u001b[39m)\n",
      "File \u001b[1;32mc:\\Users\\ra76lax\\AppData\\Local\\anaconda3\\envs\\python_m3_scrapers\\lib\\site-packages\\requests\\api.py:100\u001b[0m, in \u001b[0;36mhead\u001b[1;34m(url, **kwargs)\u001b[0m\n\u001b[0;32m     89\u001b[0m \u001b[38;5;250m\u001b[39m\u001b[38;5;124mr\u001b[39m\u001b[38;5;124;03m\"\"\"Sends a HEAD request.\u001b[39;00m\n\u001b[0;32m     90\u001b[0m \n\u001b[0;32m     91\u001b[0m \u001b[38;5;124;03m:param url: URL for the new :class:`Request` object.\u001b[39;00m\n\u001b[1;32m   (...)\u001b[0m\n\u001b[0;32m     96\u001b[0m \u001b[38;5;124;03m:rtype: requests.Response\u001b[39;00m\n\u001b[0;32m     97\u001b[0m \u001b[38;5;124;03m\"\"\"\u001b[39;00m\n\u001b[0;32m     99\u001b[0m kwargs\u001b[38;5;241m.\u001b[39msetdefault(\u001b[38;5;124m\"\u001b[39m\u001b[38;5;124mallow_redirects\u001b[39m\u001b[38;5;124m\"\u001b[39m, \u001b[38;5;28;01mFalse\u001b[39;00m)\n\u001b[1;32m--> 100\u001b[0m \u001b[38;5;28;01mreturn\u001b[39;00m request(\u001b[38;5;124m\"\u001b[39m\u001b[38;5;124mhead\u001b[39m\u001b[38;5;124m\"\u001b[39m, url, \u001b[38;5;241m*\u001b[39m\u001b[38;5;241m*\u001b[39mkwargs)\n",
      "File \u001b[1;32mc:\\Users\\ra76lax\\AppData\\Local\\anaconda3\\envs\\python_m3_scrapers\\lib\\site-packages\\requests\\api.py:59\u001b[0m, in \u001b[0;36mrequest\u001b[1;34m(method, url, **kwargs)\u001b[0m\n\u001b[0;32m     55\u001b[0m \u001b[38;5;66;03m# By using the 'with' statement we are sure the session is closed, thus we\u001b[39;00m\n\u001b[0;32m     56\u001b[0m \u001b[38;5;66;03m# avoid leaving sockets open which can trigger a ResourceWarning in some\u001b[39;00m\n\u001b[0;32m     57\u001b[0m \u001b[38;5;66;03m# cases, and look like a memory leak in others.\u001b[39;00m\n\u001b[0;32m     58\u001b[0m \u001b[38;5;28;01mwith\u001b[39;00m sessions\u001b[38;5;241m.\u001b[39mSession() \u001b[38;5;28;01mas\u001b[39;00m session:\n\u001b[1;32m---> 59\u001b[0m     \u001b[38;5;28;01mreturn\u001b[39;00m session\u001b[38;5;241m.\u001b[39mrequest(method\u001b[38;5;241m=\u001b[39mmethod, url\u001b[38;5;241m=\u001b[39murl, \u001b[38;5;241m*\u001b[39m\u001b[38;5;241m*\u001b[39mkwargs)\n",
      "File \u001b[1;32mc:\\Users\\ra76lax\\AppData\\Local\\anaconda3\\envs\\python_m3_scrapers\\lib\\site-packages\\requests\\sessions.py:589\u001b[0m, in \u001b[0;36mSession.request\u001b[1;34m(self, method, url, params, data, headers, cookies, files, auth, timeout, allow_redirects, proxies, hooks, stream, verify, cert, json)\u001b[0m\n\u001b[0;32m    584\u001b[0m send_kwargs \u001b[38;5;241m=\u001b[39m {\n\u001b[0;32m    585\u001b[0m     \u001b[38;5;124m\"\u001b[39m\u001b[38;5;124mtimeout\u001b[39m\u001b[38;5;124m\"\u001b[39m: timeout,\n\u001b[0;32m    586\u001b[0m     \u001b[38;5;124m\"\u001b[39m\u001b[38;5;124mallow_redirects\u001b[39m\u001b[38;5;124m\"\u001b[39m: allow_redirects,\n\u001b[0;32m    587\u001b[0m }\n\u001b[0;32m    588\u001b[0m send_kwargs\u001b[38;5;241m.\u001b[39mupdate(settings)\n\u001b[1;32m--> 589\u001b[0m resp \u001b[38;5;241m=\u001b[39m \u001b[38;5;28mself\u001b[39m\u001b[38;5;241m.\u001b[39msend(prep, \u001b[38;5;241m*\u001b[39m\u001b[38;5;241m*\u001b[39msend_kwargs)\n\u001b[0;32m    591\u001b[0m \u001b[38;5;28;01mreturn\u001b[39;00m resp\n",
      "File \u001b[1;32mc:\\Users\\ra76lax\\AppData\\Local\\anaconda3\\envs\\python_m3_scrapers\\lib\\site-packages\\requests\\sessions.py:703\u001b[0m, in \u001b[0;36mSession.send\u001b[1;34m(self, request, **kwargs)\u001b[0m\n\u001b[0;32m    700\u001b[0m start \u001b[38;5;241m=\u001b[39m preferred_clock()\n\u001b[0;32m    702\u001b[0m \u001b[38;5;66;03m# Send the request\u001b[39;00m\n\u001b[1;32m--> 703\u001b[0m r \u001b[38;5;241m=\u001b[39m adapter\u001b[38;5;241m.\u001b[39msend(request, \u001b[38;5;241m*\u001b[39m\u001b[38;5;241m*\u001b[39mkwargs)\n\u001b[0;32m    705\u001b[0m \u001b[38;5;66;03m# Total elapsed time of the request (approximately)\u001b[39;00m\n\u001b[0;32m    706\u001b[0m elapsed \u001b[38;5;241m=\u001b[39m preferred_clock() \u001b[38;5;241m-\u001b[39m start\n",
      "File \u001b[1;32mc:\\Users\\ra76lax\\AppData\\Local\\anaconda3\\envs\\python_m3_scrapers\\lib\\site-packages\\requests\\adapters.py:486\u001b[0m, in \u001b[0;36mHTTPAdapter.send\u001b[1;34m(self, request, stream, timeout, verify, cert, proxies)\u001b[0m\n\u001b[0;32m    483\u001b[0m     timeout \u001b[38;5;241m=\u001b[39m TimeoutSauce(connect\u001b[38;5;241m=\u001b[39mtimeout, read\u001b[38;5;241m=\u001b[39mtimeout)\n\u001b[0;32m    485\u001b[0m \u001b[38;5;28;01mtry\u001b[39;00m:\n\u001b[1;32m--> 486\u001b[0m     resp \u001b[38;5;241m=\u001b[39m \u001b[43mconn\u001b[49m\u001b[38;5;241;43m.\u001b[39;49m\u001b[43murlopen\u001b[49m\u001b[43m(\u001b[49m\n\u001b[0;32m    487\u001b[0m \u001b[43m        \u001b[49m\u001b[43mmethod\u001b[49m\u001b[38;5;241;43m=\u001b[39;49m\u001b[43mrequest\u001b[49m\u001b[38;5;241;43m.\u001b[39;49m\u001b[43mmethod\u001b[49m\u001b[43m,\u001b[49m\n\u001b[0;32m    488\u001b[0m \u001b[43m        \u001b[49m\u001b[43murl\u001b[49m\u001b[38;5;241;43m=\u001b[39;49m\u001b[43murl\u001b[49m\u001b[43m,\u001b[49m\n\u001b[0;32m    489\u001b[0m \u001b[43m        \u001b[49m\u001b[43mbody\u001b[49m\u001b[38;5;241;43m=\u001b[39;49m\u001b[43mrequest\u001b[49m\u001b[38;5;241;43m.\u001b[39;49m\u001b[43mbody\u001b[49m\u001b[43m,\u001b[49m\n\u001b[0;32m    490\u001b[0m \u001b[43m        \u001b[49m\u001b[43mheaders\u001b[49m\u001b[38;5;241;43m=\u001b[39;49m\u001b[43mrequest\u001b[49m\u001b[38;5;241;43m.\u001b[39;49m\u001b[43mheaders\u001b[49m\u001b[43m,\u001b[49m\n\u001b[0;32m    491\u001b[0m \u001b[43m        \u001b[49m\u001b[43mredirect\u001b[49m\u001b[38;5;241;43m=\u001b[39;49m\u001b[38;5;28;43;01mFalse\u001b[39;49;00m\u001b[43m,\u001b[49m\n\u001b[0;32m    492\u001b[0m \u001b[43m        \u001b[49m\u001b[43massert_same_host\u001b[49m\u001b[38;5;241;43m=\u001b[39;49m\u001b[38;5;28;43;01mFalse\u001b[39;49;00m\u001b[43m,\u001b[49m\n\u001b[0;32m    493\u001b[0m \u001b[43m        \u001b[49m\u001b[43mpreload_content\u001b[49m\u001b[38;5;241;43m=\u001b[39;49m\u001b[38;5;28;43;01mFalse\u001b[39;49;00m\u001b[43m,\u001b[49m\n\u001b[0;32m    494\u001b[0m \u001b[43m        \u001b[49m\u001b[43mdecode_content\u001b[49m\u001b[38;5;241;43m=\u001b[39;49m\u001b[38;5;28;43;01mFalse\u001b[39;49;00m\u001b[43m,\u001b[49m\n\u001b[0;32m    495\u001b[0m \u001b[43m        \u001b[49m\u001b[43mretries\u001b[49m\u001b[38;5;241;43m=\u001b[39;49m\u001b[38;5;28;43mself\u001b[39;49m\u001b[38;5;241;43m.\u001b[39;49m\u001b[43mmax_retries\u001b[49m\u001b[43m,\u001b[49m\n\u001b[0;32m    496\u001b[0m \u001b[43m        \u001b[49m\u001b[43mtimeout\u001b[49m\u001b[38;5;241;43m=\u001b[39;49m\u001b[43mtimeout\u001b[49m\u001b[43m,\u001b[49m\n\u001b[0;32m    497\u001b[0m \u001b[43m        \u001b[49m\u001b[43mchunked\u001b[49m\u001b[38;5;241;43m=\u001b[39;49m\u001b[43mchunked\u001b[49m\u001b[43m,\u001b[49m\n\u001b[0;32m    498\u001b[0m \u001b[43m    \u001b[49m\u001b[43m)\u001b[49m\n\u001b[0;32m    500\u001b[0m \u001b[38;5;28;01mexcept\u001b[39;00m (ProtocolError, \u001b[38;5;167;01mOSError\u001b[39;00m) \u001b[38;5;28;01mas\u001b[39;00m err:\n\u001b[0;32m    501\u001b[0m     \u001b[38;5;28;01mraise\u001b[39;00m \u001b[38;5;167;01mConnectionError\u001b[39;00m(err, request\u001b[38;5;241m=\u001b[39mrequest)\n",
      "File \u001b[1;32mc:\\Users\\ra76lax\\AppData\\Local\\anaconda3\\envs\\python_m3_scrapers\\lib\\site-packages\\urllib3\\connectionpool.py:715\u001b[0m, in \u001b[0;36mHTTPConnectionPool.urlopen\u001b[1;34m(self, method, url, body, headers, retries, redirect, assert_same_host, timeout, pool_timeout, release_conn, chunked, body_pos, **response_kw)\u001b[0m\n\u001b[0;32m    712\u001b[0m     \u001b[38;5;28mself\u001b[39m\u001b[38;5;241m.\u001b[39m_prepare_proxy(conn)\n\u001b[0;32m    714\u001b[0m \u001b[38;5;66;03m# Make the request on the httplib connection object.\u001b[39;00m\n\u001b[1;32m--> 715\u001b[0m httplib_response \u001b[38;5;241m=\u001b[39m \u001b[38;5;28;43mself\u001b[39;49m\u001b[38;5;241;43m.\u001b[39;49m\u001b[43m_make_request\u001b[49m\u001b[43m(\u001b[49m\n\u001b[0;32m    716\u001b[0m \u001b[43m    \u001b[49m\u001b[43mconn\u001b[49m\u001b[43m,\u001b[49m\n\u001b[0;32m    717\u001b[0m \u001b[43m    \u001b[49m\u001b[43mmethod\u001b[49m\u001b[43m,\u001b[49m\n\u001b[0;32m    718\u001b[0m \u001b[43m    \u001b[49m\u001b[43murl\u001b[49m\u001b[43m,\u001b[49m\n\u001b[0;32m    719\u001b[0m \u001b[43m    \u001b[49m\u001b[43mtimeout\u001b[49m\u001b[38;5;241;43m=\u001b[39;49m\u001b[43mtimeout_obj\u001b[49m\u001b[43m,\u001b[49m\n\u001b[0;32m    720\u001b[0m \u001b[43m    \u001b[49m\u001b[43mbody\u001b[49m\u001b[38;5;241;43m=\u001b[39;49m\u001b[43mbody\u001b[49m\u001b[43m,\u001b[49m\n\u001b[0;32m    721\u001b[0m \u001b[43m    \u001b[49m\u001b[43mheaders\u001b[49m\u001b[38;5;241;43m=\u001b[39;49m\u001b[43mheaders\u001b[49m\u001b[43m,\u001b[49m\n\u001b[0;32m    722\u001b[0m \u001b[43m    \u001b[49m\u001b[43mchunked\u001b[49m\u001b[38;5;241;43m=\u001b[39;49m\u001b[43mchunked\u001b[49m\u001b[43m,\u001b[49m\n\u001b[0;32m    723\u001b[0m \u001b[43m\u001b[49m\u001b[43m)\u001b[49m\n\u001b[0;32m    725\u001b[0m \u001b[38;5;66;03m# If we're going to release the connection in ``finally:``, then\u001b[39;00m\n\u001b[0;32m    726\u001b[0m \u001b[38;5;66;03m# the response doesn't need to know about the connection. Otherwise\u001b[39;00m\n\u001b[0;32m    727\u001b[0m \u001b[38;5;66;03m# it will also try to release it and we'll have a double-release\u001b[39;00m\n\u001b[0;32m    728\u001b[0m \u001b[38;5;66;03m# mess.\u001b[39;00m\n\u001b[0;32m    729\u001b[0m response_conn \u001b[38;5;241m=\u001b[39m conn \u001b[38;5;28;01mif\u001b[39;00m \u001b[38;5;129;01mnot\u001b[39;00m release_conn \u001b[38;5;28;01melse\u001b[39;00m \u001b[38;5;28;01mNone\u001b[39;00m\n",
      "File \u001b[1;32mc:\\Users\\ra76lax\\AppData\\Local\\anaconda3\\envs\\python_m3_scrapers\\lib\\site-packages\\urllib3\\connectionpool.py:467\u001b[0m, in \u001b[0;36mHTTPConnectionPool._make_request\u001b[1;34m(self, conn, method, url, timeout, chunked, **httplib_request_kw)\u001b[0m\n\u001b[0;32m    462\u001b[0m             httplib_response \u001b[38;5;241m=\u001b[39m conn\u001b[38;5;241m.\u001b[39mgetresponse()\n\u001b[0;32m    463\u001b[0m         \u001b[38;5;28;01mexcept\u001b[39;00m \u001b[38;5;167;01mBaseException\u001b[39;00m \u001b[38;5;28;01mas\u001b[39;00m e:\n\u001b[0;32m    464\u001b[0m             \u001b[38;5;66;03m# Remove the TypeError from the exception chain in\u001b[39;00m\n\u001b[0;32m    465\u001b[0m             \u001b[38;5;66;03m# Python 3 (including for exceptions like SystemExit).\u001b[39;00m\n\u001b[0;32m    466\u001b[0m             \u001b[38;5;66;03m# Otherwise it looks like a bug in the code.\u001b[39;00m\n\u001b[1;32m--> 467\u001b[0m             \u001b[43msix\u001b[49m\u001b[38;5;241;43m.\u001b[39;49m\u001b[43mraise_from\u001b[49m\u001b[43m(\u001b[49m\u001b[43me\u001b[49m\u001b[43m,\u001b[49m\u001b[43m \u001b[49m\u001b[38;5;28;43;01mNone\u001b[39;49;00m\u001b[43m)\u001b[49m\n\u001b[0;32m    468\u001b[0m \u001b[38;5;28;01mexcept\u001b[39;00m (SocketTimeout, BaseSSLError, SocketError) \u001b[38;5;28;01mas\u001b[39;00m e:\n\u001b[0;32m    469\u001b[0m     \u001b[38;5;28mself\u001b[39m\u001b[38;5;241m.\u001b[39m_raise_timeout(err\u001b[38;5;241m=\u001b[39me, url\u001b[38;5;241m=\u001b[39murl, timeout_value\u001b[38;5;241m=\u001b[39mread_timeout)\n",
      "File \u001b[1;32m<string>:3\u001b[0m, in \u001b[0;36mraise_from\u001b[1;34m(value, from_value)\u001b[0m\n",
      "File \u001b[1;32mc:\\Users\\ra76lax\\AppData\\Local\\anaconda3\\envs\\python_m3_scrapers\\lib\\site-packages\\urllib3\\connectionpool.py:462\u001b[0m, in \u001b[0;36mHTTPConnectionPool._make_request\u001b[1;34m(self, conn, method, url, timeout, chunked, **httplib_request_kw)\u001b[0m\n\u001b[0;32m    459\u001b[0m \u001b[38;5;28;01mexcept\u001b[39;00m \u001b[38;5;167;01mTypeError\u001b[39;00m:\n\u001b[0;32m    460\u001b[0m     \u001b[38;5;66;03m# Python 3\u001b[39;00m\n\u001b[0;32m    461\u001b[0m     \u001b[38;5;28;01mtry\u001b[39;00m:\n\u001b[1;32m--> 462\u001b[0m         httplib_response \u001b[38;5;241m=\u001b[39m \u001b[43mconn\u001b[49m\u001b[38;5;241;43m.\u001b[39;49m\u001b[43mgetresponse\u001b[49m\u001b[43m(\u001b[49m\u001b[43m)\u001b[49m\n\u001b[0;32m    463\u001b[0m     \u001b[38;5;28;01mexcept\u001b[39;00m \u001b[38;5;167;01mBaseException\u001b[39;00m \u001b[38;5;28;01mas\u001b[39;00m e:\n\u001b[0;32m    464\u001b[0m         \u001b[38;5;66;03m# Remove the TypeError from the exception chain in\u001b[39;00m\n\u001b[0;32m    465\u001b[0m         \u001b[38;5;66;03m# Python 3 (including for exceptions like SystemExit).\u001b[39;00m\n\u001b[0;32m    466\u001b[0m         \u001b[38;5;66;03m# Otherwise it looks like a bug in the code.\u001b[39;00m\n\u001b[0;32m    467\u001b[0m         six\u001b[38;5;241m.\u001b[39mraise_from(e, \u001b[38;5;28;01mNone\u001b[39;00m)\n",
      "File \u001b[1;32mc:\\Users\\ra76lax\\AppData\\Local\\anaconda3\\envs\\python_m3_scrapers\\lib\\http\\client.py:1377\u001b[0m, in \u001b[0;36mHTTPConnection.getresponse\u001b[1;34m(self)\u001b[0m\n\u001b[0;32m   1375\u001b[0m \u001b[38;5;28;01mtry\u001b[39;00m:\n\u001b[0;32m   1376\u001b[0m     \u001b[38;5;28;01mtry\u001b[39;00m:\n\u001b[1;32m-> 1377\u001b[0m         \u001b[43mresponse\u001b[49m\u001b[38;5;241;43m.\u001b[39;49m\u001b[43mbegin\u001b[49m\u001b[43m(\u001b[49m\u001b[43m)\u001b[49m\n\u001b[0;32m   1378\u001b[0m     \u001b[38;5;28;01mexcept\u001b[39;00m \u001b[38;5;167;01mConnectionError\u001b[39;00m:\n\u001b[0;32m   1379\u001b[0m         \u001b[38;5;28mself\u001b[39m\u001b[38;5;241m.\u001b[39mclose()\n",
      "File \u001b[1;32mc:\\Users\\ra76lax\\AppData\\Local\\anaconda3\\envs\\python_m3_scrapers\\lib\\http\\client.py:320\u001b[0m, in \u001b[0;36mHTTPResponse.begin\u001b[1;34m(self)\u001b[0m\n\u001b[0;32m    318\u001b[0m \u001b[38;5;66;03m# read until we get a non-100 response\u001b[39;00m\n\u001b[0;32m    319\u001b[0m \u001b[38;5;28;01mwhile\u001b[39;00m \u001b[38;5;28;01mTrue\u001b[39;00m:\n\u001b[1;32m--> 320\u001b[0m     version, status, reason \u001b[38;5;241m=\u001b[39m \u001b[38;5;28;43mself\u001b[39;49m\u001b[38;5;241;43m.\u001b[39;49m\u001b[43m_read_status\u001b[49m\u001b[43m(\u001b[49m\u001b[43m)\u001b[49m\n\u001b[0;32m    321\u001b[0m     \u001b[38;5;28;01mif\u001b[39;00m status \u001b[38;5;241m!=\u001b[39m CONTINUE:\n\u001b[0;32m    322\u001b[0m         \u001b[38;5;28;01mbreak\u001b[39;00m\n",
      "File \u001b[1;32mc:\\Users\\ra76lax\\AppData\\Local\\anaconda3\\envs\\python_m3_scrapers\\lib\\http\\client.py:281\u001b[0m, in \u001b[0;36mHTTPResponse._read_status\u001b[1;34m(self)\u001b[0m\n\u001b[0;32m    280\u001b[0m \u001b[38;5;28;01mdef\u001b[39;00m \u001b[38;5;21m_read_status\u001b[39m(\u001b[38;5;28mself\u001b[39m):\n\u001b[1;32m--> 281\u001b[0m     line \u001b[38;5;241m=\u001b[39m \u001b[38;5;28mstr\u001b[39m(\u001b[38;5;28;43mself\u001b[39;49m\u001b[38;5;241;43m.\u001b[39;49m\u001b[43mfp\u001b[49m\u001b[38;5;241;43m.\u001b[39;49m\u001b[43mreadline\u001b[49m\u001b[43m(\u001b[49m\u001b[43m_MAXLINE\u001b[49m\u001b[43m \u001b[49m\u001b[38;5;241;43m+\u001b[39;49m\u001b[43m \u001b[49m\u001b[38;5;241;43m1\u001b[39;49m\u001b[43m)\u001b[49m, \u001b[38;5;124m\"\u001b[39m\u001b[38;5;124miso-8859-1\u001b[39m\u001b[38;5;124m\"\u001b[39m)\n\u001b[0;32m    282\u001b[0m     \u001b[38;5;28;01mif\u001b[39;00m \u001b[38;5;28mlen\u001b[39m(line) \u001b[38;5;241m>\u001b[39m _MAXLINE:\n\u001b[0;32m    283\u001b[0m         \u001b[38;5;28;01mraise\u001b[39;00m LineTooLong(\u001b[38;5;124m\"\u001b[39m\u001b[38;5;124mstatus line\u001b[39m\u001b[38;5;124m\"\u001b[39m)\n",
      "File \u001b[1;32mc:\\Users\\ra76lax\\AppData\\Local\\anaconda3\\envs\\python_m3_scrapers\\lib\\socket.py:704\u001b[0m, in \u001b[0;36mSocketIO.readinto\u001b[1;34m(self, b)\u001b[0m\n\u001b[0;32m    702\u001b[0m \u001b[38;5;28;01mwhile\u001b[39;00m \u001b[38;5;28;01mTrue\u001b[39;00m:\n\u001b[0;32m    703\u001b[0m     \u001b[38;5;28;01mtry\u001b[39;00m:\n\u001b[1;32m--> 704\u001b[0m         \u001b[38;5;28;01mreturn\u001b[39;00m \u001b[38;5;28;43mself\u001b[39;49m\u001b[38;5;241;43m.\u001b[39;49m\u001b[43m_sock\u001b[49m\u001b[38;5;241;43m.\u001b[39;49m\u001b[43mrecv_into\u001b[49m\u001b[43m(\u001b[49m\u001b[43mb\u001b[49m\u001b[43m)\u001b[49m\n\u001b[0;32m    705\u001b[0m     \u001b[38;5;28;01mexcept\u001b[39;00m timeout:\n\u001b[0;32m    706\u001b[0m         \u001b[38;5;28mself\u001b[39m\u001b[38;5;241m.\u001b[39m_timeout_occurred \u001b[38;5;241m=\u001b[39m \u001b[38;5;28;01mTrue\u001b[39;00m\n",
      "File \u001b[1;32mc:\\Users\\ra76lax\\AppData\\Local\\anaconda3\\envs\\python_m3_scrapers\\lib\\ssl.py:1275\u001b[0m, in \u001b[0;36mSSLSocket.recv_into\u001b[1;34m(self, buffer, nbytes, flags)\u001b[0m\n\u001b[0;32m   1271\u001b[0m     \u001b[38;5;28;01mif\u001b[39;00m flags \u001b[38;5;241m!=\u001b[39m \u001b[38;5;241m0\u001b[39m:\n\u001b[0;32m   1272\u001b[0m         \u001b[38;5;28;01mraise\u001b[39;00m \u001b[38;5;167;01mValueError\u001b[39;00m(\n\u001b[0;32m   1273\u001b[0m           \u001b[38;5;124m\"\u001b[39m\u001b[38;5;124mnon-zero flags not allowed in calls to recv_into() on \u001b[39m\u001b[38;5;132;01m%s\u001b[39;00m\u001b[38;5;124m\"\u001b[39m \u001b[38;5;241m%\u001b[39m\n\u001b[0;32m   1274\u001b[0m           \u001b[38;5;28mself\u001b[39m\u001b[38;5;241m.\u001b[39m\u001b[38;5;18m__class__\u001b[39m)\n\u001b[1;32m-> 1275\u001b[0m     \u001b[38;5;28;01mreturn\u001b[39;00m \u001b[38;5;28;43mself\u001b[39;49m\u001b[38;5;241;43m.\u001b[39;49m\u001b[43mread\u001b[49m\u001b[43m(\u001b[49m\u001b[43mnbytes\u001b[49m\u001b[43m,\u001b[49m\u001b[43m \u001b[49m\u001b[43mbuffer\u001b[49m\u001b[43m)\u001b[49m\n\u001b[0;32m   1276\u001b[0m \u001b[38;5;28;01melse\u001b[39;00m:\n\u001b[0;32m   1277\u001b[0m     \u001b[38;5;28;01mreturn\u001b[39;00m \u001b[38;5;28msuper\u001b[39m()\u001b[38;5;241m.\u001b[39mrecv_into(buffer, nbytes, flags)\n",
      "File \u001b[1;32mc:\\Users\\ra76lax\\AppData\\Local\\anaconda3\\envs\\python_m3_scrapers\\lib\\ssl.py:1133\u001b[0m, in \u001b[0;36mSSLSocket.read\u001b[1;34m(self, len, buffer)\u001b[0m\n\u001b[0;32m   1131\u001b[0m \u001b[38;5;28;01mtry\u001b[39;00m:\n\u001b[0;32m   1132\u001b[0m     \u001b[38;5;28;01mif\u001b[39;00m buffer \u001b[38;5;129;01mis\u001b[39;00m \u001b[38;5;129;01mnot\u001b[39;00m \u001b[38;5;28;01mNone\u001b[39;00m:\n\u001b[1;32m-> 1133\u001b[0m         \u001b[38;5;28;01mreturn\u001b[39;00m \u001b[38;5;28;43mself\u001b[39;49m\u001b[38;5;241;43m.\u001b[39;49m\u001b[43m_sslobj\u001b[49m\u001b[38;5;241;43m.\u001b[39;49m\u001b[43mread\u001b[49m\u001b[43m(\u001b[49m\u001b[38;5;28;43mlen\u001b[39;49m\u001b[43m,\u001b[49m\u001b[43m \u001b[49m\u001b[43mbuffer\u001b[49m\u001b[43m)\u001b[49m\n\u001b[0;32m   1134\u001b[0m     \u001b[38;5;28;01melse\u001b[39;00m:\n\u001b[0;32m   1135\u001b[0m         \u001b[38;5;28;01mreturn\u001b[39;00m \u001b[38;5;28mself\u001b[39m\u001b[38;5;241m.\u001b[39m_sslobj\u001b[38;5;241m.\u001b[39mread(\u001b[38;5;28mlen\u001b[39m)\n",
      "\u001b[1;31mKeyboardInterrupt\u001b[0m: "
     ]
    }
   ],
   "source": [
    "archive_articles = scraper.scrape_archive()\n"
   ]
  },
  {
   "cell_type": "code",
   "execution_count": 5,
   "id": "362e89a5",
   "metadata": {},
   "outputs": [
    {
     "data": {
      "text/plain": [
       "['https://www.zeit.de/politisches-feuilleton/index',\n",
       " 'https://www.zeit.de/politik/index',\n",
       " 'https://www.zeit.de/zeit-magazin/index',\n",
       " 'https://www.zeit.de/wirtschaft/index',\n",
       " 'https://www.zeit.de/geld/index',\n",
       " 'https://www.zeit.de/wochenende/index',\n",
       " 'https://www.zeit.de/gesellschaft/index',\n",
       " 'https://www.zeit.de/arbeit/index',\n",
       " 'https://www.zeit.de/kultur/index',\n",
       " 'https://www.zeit.de/campus/index',\n",
       " 'https://www.zeit.de/wissen/index',\n",
       " 'https://www.zeit.de/zett/index',\n",
       " 'https://www.zeit.de/gesundheit/index',\n",
       " 'https://www.zeit.de/familie/index',\n",
       " 'https://www.zeit.de/digital/index',\n",
       " 'https://www.zeit.de/entdecken/index',\n",
       " 'https://www.zeit.de/mobilitaet/index',\n",
       " 'https://www.zeit.de/sinn/index',\n",
       " 'https://www.zeit.de/sport/index',\n",
       " 'https://www.zeit.de/hamburg/index',\n",
       " 'https://www.zeit.de/green/index',\n",
       " 'https://www.zeit.de/podcasts/index',\n",
       " 'https://www.zeit.de/video/index',\n",
       " 'https://www.zeit.de/newsletter/index',\n",
       " 'https://www.zeit.de/news/index',\n",
       " 'https://www.zeit.de/daten-und-visualisierung',\n",
       " 'https://www.zeit.de/beta/fragen-sie-zeit-online-news',\n",
       " 'https://www.zeit.de/archiv/index',\n",
       " 'https://www.zeit.de/thema/index',\n",
       " 'https://www.zeit.de/oesterreich/index',\n",
       " 'https://www.zeit.de/schweiz/index',\n",
       " 'https://www.zeit.de/rezepte/index',\n",
       " 'https://www.zeit.de/impressum/index']"
      ]
     },
     "execution_count": 5,
     "metadata": {},
     "output_type": "execute_result"
    }
   ],
   "source": [
    "scraper._get_subpage_urls_on_current_page()"
   ]
  },
  {
   "cell_type": "code",
   "execution_count": null,
   "id": "be98b20b",
   "metadata": {},
   "outputs": [],
   "source": []
  },
  {
   "cell_type": "code",
   "execution_count": null,
   "id": "c2802e86",
   "metadata": {},
   "outputs": [],
   "source": []
  },
  {
   "cell_type": "code",
   "execution_count": 4,
   "id": "e873660c",
   "metadata": {},
   "outputs": [
    {
     "ename": "KeyboardInterrupt",
     "evalue": "",
     "output_type": "error",
     "traceback": [
      "\u001b[1;31m---------------------------------------------------------------------------\u001b[0m",
      "\u001b[1;31mTimeoutError\u001b[0m                              Traceback (most recent call last)",
      "File \u001b[1;32mc:\\Users\\ra76lax\\AppData\\Local\\anaconda3\\envs\\python_m3_scrapers\\lib\\site-packages\\urllib3\\util\\connection.py:85\u001b[0m, in \u001b[0;36mcreate_connection\u001b[1;34m(address, timeout, source_address, socket_options)\u001b[0m\n\u001b[0;32m     84\u001b[0m     sock\u001b[38;5;241m.\u001b[39mbind(source_address)\n\u001b[1;32m---> 85\u001b[0m \u001b[43msock\u001b[49m\u001b[38;5;241;43m.\u001b[39;49m\u001b[43mconnect\u001b[49m\u001b[43m(\u001b[49m\u001b[43msa\u001b[49m\u001b[43m)\u001b[49m\n\u001b[0;32m     86\u001b[0m \u001b[38;5;28;01mreturn\u001b[39;00m sock\n",
      "\u001b[1;31mTimeoutError\u001b[0m: [WinError 10060] A connection attempt failed because the connected party did not properly respond after a period of time, or established connection failed because connected host has failed to respond",
      "\nDuring handling of the above exception, another exception occurred:\n",
      "\u001b[1;31mKeyboardInterrupt\u001b[0m                         Traceback (most recent call last)",
      "Cell \u001b[1;32mIn[4], line 2\u001b[0m\n\u001b[0;32m      1\u001b[0m \u001b[38;5;66;03m# get the token for the database\u001b[39;00m\n\u001b[1;32m----> 2\u001b[0m keycloak_login \u001b[38;5;241m=\u001b[39m \u001b[43mKeycloakLogin\u001b[49m\u001b[43m(\u001b[49m\u001b[43m)\u001b[49m\n\u001b[0;32m      3\u001b[0m token \u001b[38;5;241m=\u001b[39m keycloak_login\u001b[38;5;241m.\u001b[39mreturn_token()\n",
      "File \u001b[1;32mc:\\Users\\ra76lax\\Documents\\GitHub\\m3-scraper\\database_handling\\KeycloakLogin.py:11\u001b[0m, in \u001b[0;36mKeycloakLogin.__init__\u001b[1;34m(self)\u001b[0m\n\u001b[0;32m      9\u001b[0m \u001b[38;5;28mself\u001b[39m\u001b[38;5;241m.\u001b[39mkeycloak_credentials \u001b[38;5;241m=\u001b[39m KEYCLOAK_CREDENTIALS_PATH\n\u001b[0;32m     10\u001b[0m \u001b[38;5;28mself\u001b[39m\u001b[38;5;241m.\u001b[39mset_credentials(\u001b[38;5;124m\"\u001b[39m\u001b[38;5;124mcredentials_keycloak.txt\u001b[39m\u001b[38;5;124m\"\u001b[39m)\n\u001b[1;32m---> 11\u001b[0m \u001b[38;5;28mself\u001b[39m\u001b[38;5;241m.\u001b[39mtoken \u001b[38;5;241m=\u001b[39m \u001b[38;5;28;43mself\u001b[39;49m\u001b[38;5;241;43m.\u001b[39;49m\u001b[43mlogin\u001b[49m\u001b[43m(\u001b[49m\u001b[43m)\u001b[49m[\u001b[38;5;124m'\u001b[39m\u001b[38;5;124maccess_token\u001b[39m\u001b[38;5;124m'\u001b[39m]\n",
      "File \u001b[1;32mc:\\Users\\ra76lax\\Documents\\GitHub\\m3-scraper\\database_handling\\KeycloakLogin.py:30\u001b[0m, in \u001b[0;36mKeycloakLogin.login\u001b[1;34m(self)\u001b[0m\n\u001b[0;32m     25\u001b[0m \u001b[38;5;250m\u001b[39m\u001b[38;5;124;03m\"\"\"Login to the keycloak server and get the token. In case login has to happen again somewhere in the code.\"\"\"\u001b[39;00m\n\u001b[0;32m     26\u001b[0m keycloak_openid \u001b[38;5;241m=\u001b[39m KeycloakOpenID(server_url\u001b[38;5;241m=\u001b[39m\u001b[38;5;28mself\u001b[39m\u001b[38;5;241m.\u001b[39mserver_url, \n\u001b[0;32m     27\u001b[0m                                  client_id\u001b[38;5;241m=\u001b[39m\u001b[38;5;28mself\u001b[39m\u001b[38;5;241m.\u001b[39mclient_id,\n\u001b[0;32m     28\u001b[0m                                  realm_name\u001b[38;5;241m=\u001b[39m\u001b[38;5;28mself\u001b[39m\u001b[38;5;241m.\u001b[39mrealm_name, \n\u001b[0;32m     29\u001b[0m                                  verify\u001b[38;5;241m=\u001b[39m\u001b[38;5;28;01mTrue\u001b[39;00m)\n\u001b[1;32m---> 30\u001b[0m token_json \u001b[38;5;241m=\u001b[39m \u001b[43mkeycloak_openid\u001b[49m\u001b[38;5;241;43m.\u001b[39;49m\u001b[43mtoken\u001b[49m\u001b[43m(\u001b[49m\u001b[43musername\u001b[49m\u001b[38;5;241;43m=\u001b[39;49m\u001b[38;5;28;43mself\u001b[39;49m\u001b[38;5;241;43m.\u001b[39;49m\u001b[43musername\u001b[49m\u001b[43m,\u001b[49m\u001b[43m \u001b[49m\n\u001b[0;32m     31\u001b[0m \u001b[43m                              \u001b[49m\u001b[43mpassword\u001b[49m\u001b[38;5;241;43m=\u001b[39;49m\u001b[38;5;28;43mself\u001b[39;49m\u001b[38;5;241;43m.\u001b[39;49m\u001b[43mpassword\u001b[49m\u001b[43m,\u001b[49m\u001b[43m \u001b[49m\n\u001b[0;32m     32\u001b[0m \u001b[43m                              \u001b[49m\u001b[43mscope\u001b[49m\u001b[38;5;241;43m=\u001b[39;49m\u001b[38;5;124;43m'\u001b[39;49m\u001b[38;5;124;43mopenid\u001b[39;49m\u001b[38;5;124;43m'\u001b[39;49m\u001b[43m,\u001b[49m\n\u001b[0;32m     33\u001b[0m \u001b[43m                              \u001b[49m\u001b[43mgrant_type\u001b[49m\u001b[38;5;241;43m=\u001b[39;49m\u001b[38;5;124;43m'\u001b[39;49m\u001b[38;5;124;43mpassword\u001b[39;49m\u001b[38;5;124;43m'\u001b[39;49m\u001b[43m)\u001b[49m\n\u001b[0;32m     34\u001b[0m \u001b[38;5;28;01mreturn\u001b[39;00m token_json\n",
      "File \u001b[1;32mc:\\Users\\ra76lax\\AppData\\Local\\anaconda3\\envs\\python_m3_scrapers\\lib\\site-packages\\keycloak\\keycloak_openid.py:318\u001b[0m, in \u001b[0;36mKeycloakOpenID.token\u001b[1;34m(self, username, password, grant_type, code, redirect_uri, totp, scope, **extra)\u001b[0m\n\u001b[0;32m    315\u001b[0m     payload[\u001b[38;5;124m\"\u001b[39m\u001b[38;5;124mtotp\u001b[39m\u001b[38;5;124m\"\u001b[39m] \u001b[38;5;241m=\u001b[39m totp\n\u001b[0;32m    317\u001b[0m payload \u001b[38;5;241m=\u001b[39m \u001b[38;5;28mself\u001b[39m\u001b[38;5;241m.\u001b[39m_add_secret_key(payload)\n\u001b[1;32m--> 318\u001b[0m data_raw \u001b[38;5;241m=\u001b[39m \u001b[38;5;28;43mself\u001b[39;49m\u001b[38;5;241;43m.\u001b[39;49m\u001b[43mconnection\u001b[49m\u001b[38;5;241;43m.\u001b[39;49m\u001b[43mraw_post\u001b[49m\u001b[43m(\u001b[49m\u001b[43mURL_TOKEN\u001b[49m\u001b[38;5;241;43m.\u001b[39;49m\u001b[43mformat\u001b[49m\u001b[43m(\u001b[49m\u001b[38;5;241;43m*\u001b[39;49m\u001b[38;5;241;43m*\u001b[39;49m\u001b[43mparams_path\u001b[49m\u001b[43m)\u001b[49m\u001b[43m,\u001b[49m\u001b[43m \u001b[49m\u001b[43mdata\u001b[49m\u001b[38;5;241;43m=\u001b[39;49m\u001b[43mpayload\u001b[49m\u001b[43m)\u001b[49m\n\u001b[0;32m    319\u001b[0m \u001b[38;5;28;01mreturn\u001b[39;00m raise_error_from_response(data_raw, KeycloakPostError)\n",
      "File \u001b[1;32mc:\\Users\\ra76lax\\AppData\\Local\\anaconda3\\envs\\python_m3_scrapers\\lib\\site-packages\\keycloak\\connection.py:224\u001b[0m, in \u001b[0;36mConnectionManager.raw_post\u001b[1;34m(self, path, data, **kwargs)\u001b[0m\n\u001b[0;32m    211\u001b[0m \u001b[38;5;250m\u001b[39m\u001b[38;5;124;03m\"\"\"Submit post request to the path.\u001b[39;00m\n\u001b[0;32m    212\u001b[0m \n\u001b[0;32m    213\u001b[0m \u001b[38;5;124;03m:param path: Path for request.\u001b[39;00m\n\u001b[1;32m   (...)\u001b[0m\n\u001b[0;32m    221\u001b[0m \u001b[38;5;124;03m:raises KeycloakConnectionError: HttpError Can't connect to server.\u001b[39;00m\n\u001b[0;32m    222\u001b[0m \u001b[38;5;124;03m\"\"\"\u001b[39;00m\n\u001b[0;32m    223\u001b[0m \u001b[38;5;28;01mtry\u001b[39;00m:\n\u001b[1;32m--> 224\u001b[0m     \u001b[38;5;28;01mreturn\u001b[39;00m \u001b[38;5;28;43mself\u001b[39;49m\u001b[38;5;241;43m.\u001b[39;49m\u001b[43m_s\u001b[49m\u001b[38;5;241;43m.\u001b[39;49m\u001b[43mpost\u001b[49m\u001b[43m(\u001b[49m\n\u001b[0;32m    225\u001b[0m \u001b[43m        \u001b[49m\u001b[43murljoin\u001b[49m\u001b[43m(\u001b[49m\u001b[38;5;28;43mself\u001b[39;49m\u001b[38;5;241;43m.\u001b[39;49m\u001b[43mbase_url\u001b[49m\u001b[43m,\u001b[49m\u001b[43m \u001b[49m\u001b[43mpath\u001b[49m\u001b[43m)\u001b[49m\u001b[43m,\u001b[49m\n\u001b[0;32m    226\u001b[0m \u001b[43m        \u001b[49m\u001b[43mparams\u001b[49m\u001b[38;5;241;43m=\u001b[39;49m\u001b[43mkwargs\u001b[49m\u001b[43m,\u001b[49m\n\u001b[0;32m    227\u001b[0m \u001b[43m        \u001b[49m\u001b[43mdata\u001b[49m\u001b[38;5;241;43m=\u001b[39;49m\u001b[43mdata\u001b[49m\u001b[43m,\u001b[49m\n\u001b[0;32m    228\u001b[0m \u001b[43m        \u001b[49m\u001b[43mheaders\u001b[49m\u001b[38;5;241;43m=\u001b[39;49m\u001b[38;5;28;43mself\u001b[39;49m\u001b[38;5;241;43m.\u001b[39;49m\u001b[43mheaders\u001b[49m\u001b[43m,\u001b[49m\n\u001b[0;32m    229\u001b[0m \u001b[43m        \u001b[49m\u001b[43mtimeout\u001b[49m\u001b[38;5;241;43m=\u001b[39;49m\u001b[38;5;28;43mself\u001b[39;49m\u001b[38;5;241;43m.\u001b[39;49m\u001b[43mtimeout\u001b[49m\u001b[43m,\u001b[49m\n\u001b[0;32m    230\u001b[0m \u001b[43m        \u001b[49m\u001b[43mverify\u001b[49m\u001b[38;5;241;43m=\u001b[39;49m\u001b[38;5;28;43mself\u001b[39;49m\u001b[38;5;241;43m.\u001b[39;49m\u001b[43mverify\u001b[49m\u001b[43m,\u001b[49m\n\u001b[0;32m    231\u001b[0m \u001b[43m    \u001b[49m\u001b[43m)\u001b[49m\n\u001b[0;32m    232\u001b[0m \u001b[38;5;28;01mexcept\u001b[39;00m \u001b[38;5;167;01mException\u001b[39;00m \u001b[38;5;28;01mas\u001b[39;00m e:\n\u001b[0;32m    233\u001b[0m     \u001b[38;5;28;01mraise\u001b[39;00m KeycloakConnectionError(\u001b[38;5;124m\"\u001b[39m\u001b[38;5;124mCan\u001b[39m\u001b[38;5;124m'\u001b[39m\u001b[38;5;124mt connect to server (\u001b[39m\u001b[38;5;132;01m%s\u001b[39;00m\u001b[38;5;124m)\u001b[39m\u001b[38;5;124m\"\u001b[39m \u001b[38;5;241m%\u001b[39m e)\n",
      "File \u001b[1;32mc:\\Users\\ra76lax\\AppData\\Local\\anaconda3\\envs\\python_m3_scrapers\\lib\\site-packages\\requests\\sessions.py:637\u001b[0m, in \u001b[0;36mSession.post\u001b[1;34m(self, url, data, json, **kwargs)\u001b[0m\n\u001b[0;32m    626\u001b[0m \u001b[38;5;28;01mdef\u001b[39;00m \u001b[38;5;21mpost\u001b[39m(\u001b[38;5;28mself\u001b[39m, url, data\u001b[38;5;241m=\u001b[39m\u001b[38;5;28;01mNone\u001b[39;00m, json\u001b[38;5;241m=\u001b[39m\u001b[38;5;28;01mNone\u001b[39;00m, \u001b[38;5;241m*\u001b[39m\u001b[38;5;241m*\u001b[39mkwargs):\n\u001b[0;32m    627\u001b[0m \u001b[38;5;250m    \u001b[39m\u001b[38;5;124mr\u001b[39m\u001b[38;5;124;03m\"\"\"Sends a POST request. Returns :class:`Response` object.\u001b[39;00m\n\u001b[0;32m    628\u001b[0m \n\u001b[0;32m    629\u001b[0m \u001b[38;5;124;03m    :param url: URL for the new :class:`Request` object.\u001b[39;00m\n\u001b[1;32m   (...)\u001b[0m\n\u001b[0;32m    634\u001b[0m \u001b[38;5;124;03m    :rtype: requests.Response\u001b[39;00m\n\u001b[0;32m    635\u001b[0m \u001b[38;5;124;03m    \"\"\"\u001b[39;00m\n\u001b[1;32m--> 637\u001b[0m     \u001b[38;5;28;01mreturn\u001b[39;00m \u001b[38;5;28mself\u001b[39m\u001b[38;5;241m.\u001b[39mrequest(\u001b[38;5;124m\"\u001b[39m\u001b[38;5;124mPOST\u001b[39m\u001b[38;5;124m\"\u001b[39m, url, data\u001b[38;5;241m=\u001b[39mdata, json\u001b[38;5;241m=\u001b[39mjson, \u001b[38;5;241m*\u001b[39m\u001b[38;5;241m*\u001b[39mkwargs)\n",
      "File \u001b[1;32mc:\\Users\\ra76lax\\AppData\\Local\\anaconda3\\envs\\python_m3_scrapers\\lib\\site-packages\\requests\\sessions.py:589\u001b[0m, in \u001b[0;36mSession.request\u001b[1;34m(self, method, url, params, data, headers, cookies, files, auth, timeout, allow_redirects, proxies, hooks, stream, verify, cert, json)\u001b[0m\n\u001b[0;32m    584\u001b[0m send_kwargs \u001b[38;5;241m=\u001b[39m {\n\u001b[0;32m    585\u001b[0m     \u001b[38;5;124m\"\u001b[39m\u001b[38;5;124mtimeout\u001b[39m\u001b[38;5;124m\"\u001b[39m: timeout,\n\u001b[0;32m    586\u001b[0m     \u001b[38;5;124m\"\u001b[39m\u001b[38;5;124mallow_redirects\u001b[39m\u001b[38;5;124m\"\u001b[39m: allow_redirects,\n\u001b[0;32m    587\u001b[0m }\n\u001b[0;32m    588\u001b[0m send_kwargs\u001b[38;5;241m.\u001b[39mupdate(settings)\n\u001b[1;32m--> 589\u001b[0m resp \u001b[38;5;241m=\u001b[39m \u001b[38;5;28mself\u001b[39m\u001b[38;5;241m.\u001b[39msend(prep, \u001b[38;5;241m*\u001b[39m\u001b[38;5;241m*\u001b[39msend_kwargs)\n\u001b[0;32m    591\u001b[0m \u001b[38;5;28;01mreturn\u001b[39;00m resp\n",
      "File \u001b[1;32mc:\\Users\\ra76lax\\AppData\\Local\\anaconda3\\envs\\python_m3_scrapers\\lib\\site-packages\\requests\\sessions.py:703\u001b[0m, in \u001b[0;36mSession.send\u001b[1;34m(self, request, **kwargs)\u001b[0m\n\u001b[0;32m    700\u001b[0m start \u001b[38;5;241m=\u001b[39m preferred_clock()\n\u001b[0;32m    702\u001b[0m \u001b[38;5;66;03m# Send the request\u001b[39;00m\n\u001b[1;32m--> 703\u001b[0m r \u001b[38;5;241m=\u001b[39m adapter\u001b[38;5;241m.\u001b[39msend(request, \u001b[38;5;241m*\u001b[39m\u001b[38;5;241m*\u001b[39mkwargs)\n\u001b[0;32m    705\u001b[0m \u001b[38;5;66;03m# Total elapsed time of the request (approximately)\u001b[39;00m\n\u001b[0;32m    706\u001b[0m elapsed \u001b[38;5;241m=\u001b[39m preferred_clock() \u001b[38;5;241m-\u001b[39m start\n",
      "File \u001b[1;32mc:\\Users\\ra76lax\\AppData\\Local\\anaconda3\\envs\\python_m3_scrapers\\lib\\site-packages\\requests\\adapters.py:486\u001b[0m, in \u001b[0;36mHTTPAdapter.send\u001b[1;34m(self, request, stream, timeout, verify, cert, proxies)\u001b[0m\n\u001b[0;32m    483\u001b[0m     timeout \u001b[38;5;241m=\u001b[39m TimeoutSauce(connect\u001b[38;5;241m=\u001b[39mtimeout, read\u001b[38;5;241m=\u001b[39mtimeout)\n\u001b[0;32m    485\u001b[0m \u001b[38;5;28;01mtry\u001b[39;00m:\n\u001b[1;32m--> 486\u001b[0m     resp \u001b[38;5;241m=\u001b[39m \u001b[43mconn\u001b[49m\u001b[38;5;241;43m.\u001b[39;49m\u001b[43murlopen\u001b[49m\u001b[43m(\u001b[49m\n\u001b[0;32m    487\u001b[0m \u001b[43m        \u001b[49m\u001b[43mmethod\u001b[49m\u001b[38;5;241;43m=\u001b[39;49m\u001b[43mrequest\u001b[49m\u001b[38;5;241;43m.\u001b[39;49m\u001b[43mmethod\u001b[49m\u001b[43m,\u001b[49m\n\u001b[0;32m    488\u001b[0m \u001b[43m        \u001b[49m\u001b[43murl\u001b[49m\u001b[38;5;241;43m=\u001b[39;49m\u001b[43murl\u001b[49m\u001b[43m,\u001b[49m\n\u001b[0;32m    489\u001b[0m \u001b[43m        \u001b[49m\u001b[43mbody\u001b[49m\u001b[38;5;241;43m=\u001b[39;49m\u001b[43mrequest\u001b[49m\u001b[38;5;241;43m.\u001b[39;49m\u001b[43mbody\u001b[49m\u001b[43m,\u001b[49m\n\u001b[0;32m    490\u001b[0m \u001b[43m        \u001b[49m\u001b[43mheaders\u001b[49m\u001b[38;5;241;43m=\u001b[39;49m\u001b[43mrequest\u001b[49m\u001b[38;5;241;43m.\u001b[39;49m\u001b[43mheaders\u001b[49m\u001b[43m,\u001b[49m\n\u001b[0;32m    491\u001b[0m \u001b[43m        \u001b[49m\u001b[43mredirect\u001b[49m\u001b[38;5;241;43m=\u001b[39;49m\u001b[38;5;28;43;01mFalse\u001b[39;49;00m\u001b[43m,\u001b[49m\n\u001b[0;32m    492\u001b[0m \u001b[43m        \u001b[49m\u001b[43massert_same_host\u001b[49m\u001b[38;5;241;43m=\u001b[39;49m\u001b[38;5;28;43;01mFalse\u001b[39;49;00m\u001b[43m,\u001b[49m\n\u001b[0;32m    493\u001b[0m \u001b[43m        \u001b[49m\u001b[43mpreload_content\u001b[49m\u001b[38;5;241;43m=\u001b[39;49m\u001b[38;5;28;43;01mFalse\u001b[39;49;00m\u001b[43m,\u001b[49m\n\u001b[0;32m    494\u001b[0m \u001b[43m        \u001b[49m\u001b[43mdecode_content\u001b[49m\u001b[38;5;241;43m=\u001b[39;49m\u001b[38;5;28;43;01mFalse\u001b[39;49;00m\u001b[43m,\u001b[49m\n\u001b[0;32m    495\u001b[0m \u001b[43m        \u001b[49m\u001b[43mretries\u001b[49m\u001b[38;5;241;43m=\u001b[39;49m\u001b[38;5;28;43mself\u001b[39;49m\u001b[38;5;241;43m.\u001b[39;49m\u001b[43mmax_retries\u001b[49m\u001b[43m,\u001b[49m\n\u001b[0;32m    496\u001b[0m \u001b[43m        \u001b[49m\u001b[43mtimeout\u001b[49m\u001b[38;5;241;43m=\u001b[39;49m\u001b[43mtimeout\u001b[49m\u001b[43m,\u001b[49m\n\u001b[0;32m    497\u001b[0m \u001b[43m        \u001b[49m\u001b[43mchunked\u001b[49m\u001b[38;5;241;43m=\u001b[39;49m\u001b[43mchunked\u001b[49m\u001b[43m,\u001b[49m\n\u001b[0;32m    498\u001b[0m \u001b[43m    \u001b[49m\u001b[43m)\u001b[49m\n\u001b[0;32m    500\u001b[0m \u001b[38;5;28;01mexcept\u001b[39;00m (ProtocolError, \u001b[38;5;167;01mOSError\u001b[39;00m) \u001b[38;5;28;01mas\u001b[39;00m err:\n\u001b[0;32m    501\u001b[0m     \u001b[38;5;28;01mraise\u001b[39;00m \u001b[38;5;167;01mConnectionError\u001b[39;00m(err, request\u001b[38;5;241m=\u001b[39mrequest)\n",
      "File \u001b[1;32mc:\\Users\\ra76lax\\AppData\\Local\\anaconda3\\envs\\python_m3_scrapers\\lib\\site-packages\\urllib3\\connectionpool.py:715\u001b[0m, in \u001b[0;36mHTTPConnectionPool.urlopen\u001b[1;34m(self, method, url, body, headers, retries, redirect, assert_same_host, timeout, pool_timeout, release_conn, chunked, body_pos, **response_kw)\u001b[0m\n\u001b[0;32m    712\u001b[0m     \u001b[38;5;28mself\u001b[39m\u001b[38;5;241m.\u001b[39m_prepare_proxy(conn)\n\u001b[0;32m    714\u001b[0m \u001b[38;5;66;03m# Make the request on the httplib connection object.\u001b[39;00m\n\u001b[1;32m--> 715\u001b[0m httplib_response \u001b[38;5;241m=\u001b[39m \u001b[38;5;28;43mself\u001b[39;49m\u001b[38;5;241;43m.\u001b[39;49m\u001b[43m_make_request\u001b[49m\u001b[43m(\u001b[49m\n\u001b[0;32m    716\u001b[0m \u001b[43m    \u001b[49m\u001b[43mconn\u001b[49m\u001b[43m,\u001b[49m\n\u001b[0;32m    717\u001b[0m \u001b[43m    \u001b[49m\u001b[43mmethod\u001b[49m\u001b[43m,\u001b[49m\n\u001b[0;32m    718\u001b[0m \u001b[43m    \u001b[49m\u001b[43murl\u001b[49m\u001b[43m,\u001b[49m\n\u001b[0;32m    719\u001b[0m \u001b[43m    \u001b[49m\u001b[43mtimeout\u001b[49m\u001b[38;5;241;43m=\u001b[39;49m\u001b[43mtimeout_obj\u001b[49m\u001b[43m,\u001b[49m\n\u001b[0;32m    720\u001b[0m \u001b[43m    \u001b[49m\u001b[43mbody\u001b[49m\u001b[38;5;241;43m=\u001b[39;49m\u001b[43mbody\u001b[49m\u001b[43m,\u001b[49m\n\u001b[0;32m    721\u001b[0m \u001b[43m    \u001b[49m\u001b[43mheaders\u001b[49m\u001b[38;5;241;43m=\u001b[39;49m\u001b[43mheaders\u001b[49m\u001b[43m,\u001b[49m\n\u001b[0;32m    722\u001b[0m \u001b[43m    \u001b[49m\u001b[43mchunked\u001b[49m\u001b[38;5;241;43m=\u001b[39;49m\u001b[43mchunked\u001b[49m\u001b[43m,\u001b[49m\n\u001b[0;32m    723\u001b[0m \u001b[43m\u001b[49m\u001b[43m)\u001b[49m\n\u001b[0;32m    725\u001b[0m \u001b[38;5;66;03m# If we're going to release the connection in ``finally:``, then\u001b[39;00m\n\u001b[0;32m    726\u001b[0m \u001b[38;5;66;03m# the response doesn't need to know about the connection. Otherwise\u001b[39;00m\n\u001b[0;32m    727\u001b[0m \u001b[38;5;66;03m# it will also try to release it and we'll have a double-release\u001b[39;00m\n\u001b[0;32m    728\u001b[0m \u001b[38;5;66;03m# mess.\u001b[39;00m\n\u001b[0;32m    729\u001b[0m response_conn \u001b[38;5;241m=\u001b[39m conn \u001b[38;5;28;01mif\u001b[39;00m \u001b[38;5;129;01mnot\u001b[39;00m release_conn \u001b[38;5;28;01melse\u001b[39;00m \u001b[38;5;28;01mNone\u001b[39;00m\n",
      "File \u001b[1;32mc:\\Users\\ra76lax\\AppData\\Local\\anaconda3\\envs\\python_m3_scrapers\\lib\\site-packages\\urllib3\\connectionpool.py:404\u001b[0m, in \u001b[0;36mHTTPConnectionPool._make_request\u001b[1;34m(self, conn, method, url, timeout, chunked, **httplib_request_kw)\u001b[0m\n\u001b[0;32m    402\u001b[0m \u001b[38;5;66;03m# Trigger any extra validation we need to do.\u001b[39;00m\n\u001b[0;32m    403\u001b[0m \u001b[38;5;28;01mtry\u001b[39;00m:\n\u001b[1;32m--> 404\u001b[0m     \u001b[38;5;28;43mself\u001b[39;49m\u001b[38;5;241;43m.\u001b[39;49m\u001b[43m_validate_conn\u001b[49m\u001b[43m(\u001b[49m\u001b[43mconn\u001b[49m\u001b[43m)\u001b[49m\n\u001b[0;32m    405\u001b[0m \u001b[38;5;28;01mexcept\u001b[39;00m (SocketTimeout, BaseSSLError) \u001b[38;5;28;01mas\u001b[39;00m e:\n\u001b[0;32m    406\u001b[0m     \u001b[38;5;66;03m# Py2 raises this as a BaseSSLError, Py3 raises it as socket timeout.\u001b[39;00m\n\u001b[0;32m    407\u001b[0m     \u001b[38;5;28mself\u001b[39m\u001b[38;5;241m.\u001b[39m_raise_timeout(err\u001b[38;5;241m=\u001b[39me, url\u001b[38;5;241m=\u001b[39murl, timeout_value\u001b[38;5;241m=\u001b[39mconn\u001b[38;5;241m.\u001b[39mtimeout)\n",
      "File \u001b[1;32mc:\\Users\\ra76lax\\AppData\\Local\\anaconda3\\envs\\python_m3_scrapers\\lib\\site-packages\\urllib3\\connectionpool.py:1058\u001b[0m, in \u001b[0;36mHTTPSConnectionPool._validate_conn\u001b[1;34m(self, conn)\u001b[0m\n\u001b[0;32m   1056\u001b[0m \u001b[38;5;66;03m# Force connect early to allow us to validate the connection.\u001b[39;00m\n\u001b[0;32m   1057\u001b[0m \u001b[38;5;28;01mif\u001b[39;00m \u001b[38;5;129;01mnot\u001b[39;00m \u001b[38;5;28mgetattr\u001b[39m(conn, \u001b[38;5;124m\"\u001b[39m\u001b[38;5;124msock\u001b[39m\u001b[38;5;124m\"\u001b[39m, \u001b[38;5;28;01mNone\u001b[39;00m):  \u001b[38;5;66;03m# AppEngine might not have  `.sock`\u001b[39;00m\n\u001b[1;32m-> 1058\u001b[0m     \u001b[43mconn\u001b[49m\u001b[38;5;241;43m.\u001b[39;49m\u001b[43mconnect\u001b[49m\u001b[43m(\u001b[49m\u001b[43m)\u001b[49m\n\u001b[0;32m   1060\u001b[0m \u001b[38;5;28;01mif\u001b[39;00m \u001b[38;5;129;01mnot\u001b[39;00m conn\u001b[38;5;241m.\u001b[39mis_verified:\n\u001b[0;32m   1061\u001b[0m     warnings\u001b[38;5;241m.\u001b[39mwarn(\n\u001b[0;32m   1062\u001b[0m         (\n\u001b[0;32m   1063\u001b[0m             \u001b[38;5;124m\"\u001b[39m\u001b[38;5;124mUnverified HTTPS request is being made to host \u001b[39m\u001b[38;5;124m'\u001b[39m\u001b[38;5;132;01m%s\u001b[39;00m\u001b[38;5;124m'\u001b[39m\u001b[38;5;124m. \u001b[39m\u001b[38;5;124m\"\u001b[39m\n\u001b[1;32m   (...)\u001b[0m\n\u001b[0;32m   1068\u001b[0m         InsecureRequestWarning,\n\u001b[0;32m   1069\u001b[0m     )\n",
      "File \u001b[1;32mc:\\Users\\ra76lax\\AppData\\Local\\anaconda3\\envs\\python_m3_scrapers\\lib\\site-packages\\urllib3\\connection.py:363\u001b[0m, in \u001b[0;36mHTTPSConnection.connect\u001b[1;34m(self)\u001b[0m\n\u001b[0;32m    361\u001b[0m \u001b[38;5;28;01mdef\u001b[39;00m \u001b[38;5;21mconnect\u001b[39m(\u001b[38;5;28mself\u001b[39m):\n\u001b[0;32m    362\u001b[0m     \u001b[38;5;66;03m# Add certificate verification\u001b[39;00m\n\u001b[1;32m--> 363\u001b[0m     \u001b[38;5;28mself\u001b[39m\u001b[38;5;241m.\u001b[39msock \u001b[38;5;241m=\u001b[39m conn \u001b[38;5;241m=\u001b[39m \u001b[38;5;28;43mself\u001b[39;49m\u001b[38;5;241;43m.\u001b[39;49m\u001b[43m_new_conn\u001b[49m\u001b[43m(\u001b[49m\u001b[43m)\u001b[49m\n\u001b[0;32m    364\u001b[0m     hostname \u001b[38;5;241m=\u001b[39m \u001b[38;5;28mself\u001b[39m\u001b[38;5;241m.\u001b[39mhost\n\u001b[0;32m    365\u001b[0m     tls_in_tls \u001b[38;5;241m=\u001b[39m \u001b[38;5;28;01mFalse\u001b[39;00m\n",
      "File \u001b[1;32mc:\\Users\\ra76lax\\AppData\\Local\\anaconda3\\envs\\python_m3_scrapers\\lib\\site-packages\\urllib3\\connection.py:174\u001b[0m, in \u001b[0;36mHTTPConnection._new_conn\u001b[1;34m(self)\u001b[0m\n\u001b[0;32m    171\u001b[0m     extra_kw[\u001b[38;5;124m\"\u001b[39m\u001b[38;5;124msocket_options\u001b[39m\u001b[38;5;124m\"\u001b[39m] \u001b[38;5;241m=\u001b[39m \u001b[38;5;28mself\u001b[39m\u001b[38;5;241m.\u001b[39msocket_options\n\u001b[0;32m    173\u001b[0m \u001b[38;5;28;01mtry\u001b[39;00m:\n\u001b[1;32m--> 174\u001b[0m     conn \u001b[38;5;241m=\u001b[39m connection\u001b[38;5;241m.\u001b[39mcreate_connection(\n\u001b[0;32m    175\u001b[0m         (\u001b[38;5;28mself\u001b[39m\u001b[38;5;241m.\u001b[39m_dns_host, \u001b[38;5;28mself\u001b[39m\u001b[38;5;241m.\u001b[39mport), \u001b[38;5;28mself\u001b[39m\u001b[38;5;241m.\u001b[39mtimeout, \u001b[38;5;241m*\u001b[39m\u001b[38;5;241m*\u001b[39mextra_kw\n\u001b[0;32m    176\u001b[0m     )\n\u001b[0;32m    178\u001b[0m \u001b[38;5;28;01mexcept\u001b[39;00m SocketTimeout:\n\u001b[0;32m    179\u001b[0m     \u001b[38;5;28;01mraise\u001b[39;00m ConnectTimeoutError(\n\u001b[0;32m    180\u001b[0m         \u001b[38;5;28mself\u001b[39m,\n\u001b[0;32m    181\u001b[0m         \u001b[38;5;124m\"\u001b[39m\u001b[38;5;124mConnection to \u001b[39m\u001b[38;5;132;01m%s\u001b[39;00m\u001b[38;5;124m timed out. (connect timeout=\u001b[39m\u001b[38;5;132;01m%s\u001b[39;00m\u001b[38;5;124m)\u001b[39m\u001b[38;5;124m\"\u001b[39m\n\u001b[0;32m    182\u001b[0m         \u001b[38;5;241m%\u001b[39m (\u001b[38;5;28mself\u001b[39m\u001b[38;5;241m.\u001b[39mhost, \u001b[38;5;28mself\u001b[39m\u001b[38;5;241m.\u001b[39mtimeout),\n\u001b[0;32m    183\u001b[0m     )\n",
      "File \u001b[1;32mc:\\Users\\ra76lax\\AppData\\Local\\anaconda3\\envs\\python_m3_scrapers\\lib\\site-packages\\urllib3\\util\\connection.py:85\u001b[0m, in \u001b[0;36mcreate_connection\u001b[1;34m(address, timeout, source_address, socket_options)\u001b[0m\n\u001b[0;32m     83\u001b[0m     \u001b[38;5;28;01mif\u001b[39;00m source_address:\n\u001b[0;32m     84\u001b[0m         sock\u001b[38;5;241m.\u001b[39mbind(source_address)\n\u001b[1;32m---> 85\u001b[0m     \u001b[43msock\u001b[49m\u001b[38;5;241;43m.\u001b[39;49m\u001b[43mconnect\u001b[49m\u001b[43m(\u001b[49m\u001b[43msa\u001b[49m\u001b[43m)\u001b[49m\n\u001b[0;32m     86\u001b[0m     \u001b[38;5;28;01mreturn\u001b[39;00m sock\n\u001b[0;32m     88\u001b[0m \u001b[38;5;28;01mexcept\u001b[39;00m socket\u001b[38;5;241m.\u001b[39merror \u001b[38;5;28;01mas\u001b[39;00m e:\n",
      "\u001b[1;31mKeyboardInterrupt\u001b[0m: "
     ]
    }
   ],
   "source": [
    "# get the token for the database\n",
    "keycloak_login = KeycloakLogin()\n",
    "token = keycloak_login.return_token()"
   ]
  },
  {
   "cell_type": "code",
   "execution_count": 5,
   "id": "4cade106-b392-4364-8b48-24328a839f73",
   "metadata": {},
   "outputs": [
    {
     "name": "stderr",
     "output_type": "stream",
     "text": [
      "INFO:scrapers.BaseScraper:Navigated to https://www.spiegel.de/\n",
      "INFO:scrapers.BaseScraper:Navigated to https://www.spiegel.de/fuermich/\n",
      "INFO:scrapers.BaseScraper:Navigated to https://www.spiegel.de/schlagzeilen/\n",
      "INFO:scrapers.BaseScraper:Navigated to https://www.spiegel.de/spiegel/\n",
      "INFO:scrapers.BaseScraper:Navigated to https://www.spiegel.de/audio/\n",
      "INFO:scrapers.BaseScraper:Navigated to https://www.spiegel.de/fuermich/\n",
      "INFO:scrapers.BaseScraper:Navigated to https://www.spiegel.de/schlagzeilen/\n",
      "INFO:scrapers.BaseScraper:Navigated to https://www.spiegel.de/plus/\n",
      "INFO:scrapers.BaseScraper:Navigated to https://www.spiegel.de/ausland/\n",
      "INFO:scrapers.BaseScraper:Navigated to https://www.spiegel.de/panorama/\n",
      "INFO:scrapers.BaseScraper:Navigated to https://www.spiegel.de/sport/\n",
      "INFO:scrapers.BaseScraper:Navigated to https://www.spiegel.de/wirtschaft/\n",
      "INFO:scrapers.BaseScraper:Navigated to https://www.spiegel.de/wissenschaft/\n",
      "INFO:scrapers.BaseScraper:Navigated to https://www.spiegel.de/netzwelt/\n",
      "INFO:scrapers.BaseScraper:Navigated to https://www.spiegel.de/kultur/\n",
      "INFO:scrapers.BaseScraper:Navigated to https://www.spiegel.de/karriere/\n",
      "INFO:scrapers.BaseScraper:Navigated to https://www.spiegel.de/start/\n",
      "INFO:scrapers.BaseScraper:Navigated to https://www.spiegel.de/tests/\n",
      "INFO:scrapers.BaseScraper:Navigated to https://www.spiegel.de/geschichte/\n",
      "INFO:scrapers.BaseScraper:Navigated to https://www.spiegel.de/auto/\n",
      "INFO:scrapers.BaseScraper:Navigated to https://www.spiegel.de/audio/\n",
      "INFO:scrapers.BaseScraper:Navigated to https://www.spiegel.de/video/\n",
      "INFO:scrapers.BaseScraper:Navigated to https://www.spiegel.de/debatten/\n",
      "INFO:scrapers.BaseScraper:Navigated to https://www.spiegel.de/deinspiegel/\n",
      "INFO:scrapers.BaseScraper:Navigated to https://www.spiegel.de/international/\n",
      "INFO:scrapers.BaseScraper:Navigated to https://www.spiegel.de/audio/\n",
      "INFO:scrapers.BaseScraper:Navigated to https://www.spiegel.de/audio/\n",
      "INFO:scrapers.BaseScraper:Navigated to https://www.spiegel.de/audio/\n",
      "INFO:scrapers.BaseScraper:Navigated to https://www.spiegel.de/plus/\n",
      "INFO:scrapers.BaseScraper:Navigated to https://www.spiegel.de/plus/\n",
      "INFO:scrapers.BaseScraper:Navigated to https://www.spiegel.de/plus/\n",
      "INFO:scrapers.BaseScraper:Navigated to https://www.spiegel.de/plus/\n",
      "INFO:scrapers.BaseScraper:Navigated to https://www.spiegel.de/plus/\n",
      "INFO:scrapers.BaseScraper:Navigated to https://www.spiegel.de/plus/\n",
      "INFO:scrapers.BaseScraper:Navigated to https://www.spiegel.de/video/\n",
      "INFO:scrapers.BaseScraper:Navigated to https://www.spiegel.de/video/\n",
      "INFO:scrapers.BaseScraper:Navigated to https://www.spiegel.de/video/\n",
      "INFO:scrapers.BaseScraper:Navigated to https://www.spiegel.de/politik/\n",
      "INFO:scrapers.BaseScraper:Navigated to https://www.spiegel.de/ausland/\n",
      "INFO:scrapers.BaseScraper:Navigated to https://www.spiegel.de/panorama/\n",
      "INFO:scrapers.BaseScraper:Navigated to https://www.spiegel.de/wissenschaft/\n",
      "INFO:scrapers.BaseScraper:Navigated to https://www.spiegel.de/wirtschaft/\n",
      "INFO:scrapers.BaseScraper:Navigated to https://www.spiegel.de/sport/\n",
      "INFO:scrapers.BaseScraper:Navigated to https://www.spiegel.de/netzwelt/\n",
      "INFO:scrapers.BaseScraper:Navigated to https://www.spiegel.de/kultur/\n",
      "INFO:scrapers.BaseScraper:Navigated to https://www.spiegel.de/karriere/\n",
      "INFO:scrapers.BaseScraper:Navigated to https://www.spiegel.de/start/\n",
      "INFO:scrapers.BaseScraper:Navigated to https://www.spiegel.de/geschichte/\n",
      "INFO:scrapers.BaseScraper:Navigated to https://www.spiegel.de/tests/\n",
      "INFO:scrapers.BaseScraper:Navigated to https://www.spiegel.de/auto/\n",
      "INFO:scrapers.BaseScraper:Navigated to https://www.spiegel.de/gesundheit/\n",
      "INFO:scrapers.BaseScraper:Navigated to https://www.spiegel.de/psychologie/\n",
      "INFO:scrapers.BaseScraper:Navigated to https://www.spiegel.de/familie/\n",
      "INFO:scrapers.BaseScraper:Navigated to https://www.spiegel.de/partnerschaft/\n",
      "INFO:scrapers.BaseScraper:Navigated to https://www.spiegel.de/reise/\n",
      "INFO:scrapers.BaseScraper:Navigated to https://www.spiegel.de/stil/\n",
      "INFO:scrapers.BaseScraper:Navigated to https://www.spiegel.de/deinspiegel/\n",
      "INFO:scrapers.BaseScraper:Navigated to https://www.spiegel.de/tests/\n",
      "INFO:scrapers.BaseScraper:Navigated to https://www.spiegel.de/tests/\n",
      "INFO:scrapers.BaseScraper:Navigated to https://www.spiegel.de/tests/\n",
      "INFO:scrapers.BaseScraper:Navigated to https://www.spiegel.de/deinspiegel/\n",
      "INFO:scrapers.BaseScraper:Navigated to https://www.spiegel.de/services/\n",
      "INFO:scrapers.BaseScraper:Navigated to https://www.spiegel.de/schlagzeilen/\n",
      "INFO:scrapers.BaseScraper:Navigated to https://www.spiegel.de/debatten/\n",
      "INFO:scrapers.BaseScraper:Navigated to https://www.spiegel.de/plus/\n",
      "INFO:scrapers.BaseScraper:Navigated to https://www.spiegel.de/ausland/\n",
      "INFO:scrapers.BaseScraper:Navigated to https://www.spiegel.de/panorama/\n",
      "INFO:scrapers.BaseScraper:Navigated to https://www.spiegel.de/sport/\n",
      "INFO:scrapers.BaseScraper:Navigated to https://www.spiegel.de/wirtschaft/\n",
      "INFO:scrapers.BaseScraper:Navigated to https://www.spiegel.de/wissenschaft/\n",
      "INFO:scrapers.BaseScraper:Navigated to https://www.spiegel.de/netzwelt/\n",
      "INFO:scrapers.BaseScraper:Navigated to https://www.spiegel.de/kultur/\n",
      "INFO:scrapers.BaseScraper:Navigated to https://www.spiegel.de/reise/\n",
      "INFO:scrapers.BaseScraper:Navigated to https://www.spiegel.de/stil/\n",
      "INFO:scrapers.BaseScraper:Navigated to https://www.spiegel.de/gesundheit/\n",
      "INFO:scrapers.BaseScraper:Navigated to https://www.spiegel.de/familie/\n",
      "INFO:scrapers.BaseScraper:Navigated to https://www.spiegel.de/psychologie/\n",
      "INFO:scrapers.BaseScraper:Navigated to https://www.spiegel.de/karriere/\n",
      "INFO:scrapers.BaseScraper:Navigated to https://www.spiegel.de/start/\n",
      "INFO:scrapers.BaseScraper:Navigated to https://www.spiegel.de/geschichte/\n",
      "INFO:scrapers.BaseScraper:Navigated to https://www.spiegel.de/auto/\n",
      "INFO:scrapers.BaseScraper:Navigated to https://www.spiegel.de/international/\n",
      "INFO:scrapers.BaseScraper:Navigated to https://www.spiegel.de/deinspiegel/\n",
      "INFO:scrapers.BaseScraper:Navigated to https://www.spiegel.de/audio/\n",
      "INFO:scrapers.BaseScraper:Navigated to https://www.spiegel.de/video/\n",
      "INFO:scrapers.BaseScraper:Navigated to https://www.spiegel.de/tests/\n",
      "INFO:scrapers.BaseScraper:Navigated to https://www.spiegel.de/backstage/\n",
      "INFO:scrapers.BaseScraper:Navigated to https://www.spiegel.de/services/\n",
      "INFO:scrapers.BaseScraper:Navigated to https://www.spiegel.de/nachrichtenarchiv/\n"
     ]
    }
   ],
   "source": [
    "this_runs_articles = scraper.scrape(token)"
   ]
  },
  {
   "cell_type": "code",
   "execution_count": null,
   "id": "668fe0c9-045a-4457-bb53-3d5dc9db662d",
   "metadata": {},
   "outputs": [],
   "source": [
    "this_runs_articles"
   ]
  },
  {
   "cell_type": "code",
   "execution_count": 2,
   "id": "64c9eeab-d60b-4da4-9f62-86ff614ce251",
   "metadata": {},
   "outputs": [],
   "source": [
    "# Open the file and load its content\n",
    "with open(\"spiegel_articles.json\", 'r') as file:\n",
    "    this_runs_articles = json.load(file)"
   ]
  },
  {
   "cell_type": "code",
   "execution_count": null,
   "id": "63e9d23a-319d-446f-ae23-486238e8e398",
   "metadata": {},
   "outputs": [],
   "source": [
    "# Save the responses to a json file\n",
    "with open('spiegel_articles.json', 'w') as f:\n",
    "    json.dump(this_runs_articles, f)\n"
   ]
  },
  {
   "cell_type": "code",
   "execution_count": 3,
   "id": "e9b2926d-b10c-441a-a60c-009897376483",
   "metadata": {},
   "outputs": [],
   "source": [
    "# get the token for the database\n",
    "keycloak_login = KeycloakLogin()\n",
    "token = keycloak_login.return_token()"
   ]
  },
  {
   "cell_type": "code",
   "execution_count": null,
   "id": "d6bf3eef-45fb-4a6b-810b-096fed7a7341",
   "metadata": {
    "tags": []
   },
   "outputs": [],
   "source": [
    "from database_handling.DataDownload import DataDownloader\n",
    "\n",
    "test_url_checker = DataDownloader(token)\n",
    "status_code = test_url_checker.get_content_rehydrate_status_code_only(url=\"https://www.spiegel.de/deinspiegel/wie-der-wolf-zum-hund-wurde-der-beginn-einer-wunderbaren-freundschaft-a-4388fdf5-aeef-40f0-9d9c-753f3de38f9c\")"
   ]
  },
  {
   "cell_type": "code",
   "execution_count": null,
   "id": "810e4154-8e3b-40e7-b26e-16208c883886",
   "metadata": {},
   "outputs": [],
   "source": [
    "status_code"
   ]
  },
  {
   "cell_type": "code",
   "execution_count": null,
   "id": "035f5613-56fd-4f63-baa3-273b7ed8b629",
   "metadata": {},
   "outputs": [],
   "source": [
    "import requests"
   ]
  },
  {
   "cell_type": "code",
   "execution_count": null,
   "id": "8e28d2d8-fddb-4540-83e6-bca1a79c2c09",
   "metadata": {},
   "outputs": [],
   "source": [
    "# Construct the full URL for the API request\n",
    "api_url = f\"https://api.m3.ifkw.lmu.de/api/v1/content/rehydrate/\"\n",
    "\n",
    "# Send the HEAD request with the optional query parameters\n",
    "response = requests.head(api_url, url=\"https://www.spiegel.de/deinspiegel/wie-der-wolf-zum-hund-wurde-der-beginn-einer-wunderbaren-freundschaft-a-4388fdf5-aeef-40f0-9d9c-753f3de38f9c\")"
   ]
  },
  {
   "cell_type": "code",
   "execution_count": 4,
   "id": "add8ddc0-aa2f-4978-9229-118f2ae0c284",
   "metadata": {},
   "outputs": [
    {
     "name": "stdout",
     "output_type": "stream",
     "text": [
      "Total articles fetched: 747\n"
     ]
    }
   ],
   "source": [
    "# Initialize the data downloader with the provided token\n",
    "data_downloader = DataDownloader(token)\n",
    "\n",
    "# Initialize variables for pagination\n",
    "all_articles_in_db = []\n",
    "page_size = 100  # Assuming the server returns 100 items per page by default\n",
    "offset = 0\n",
    "url = \"https://www.spiegel.de/\"\n",
    "\n",
    "# Loop until all pages are retrieved\n",
    "while True:\n",
    "    # Fetch articles from the current page\n",
    "    articles_in_db = data_downloader.get_content(url=url, limit=page_size, offset=offset)\n",
    "    \n",
    "    # Check if articles were returned\n",
    "    if not articles_in_db or 'items' not in articles_in_db:\n",
    "        break\n",
    "    \n",
    "    # Add the current batch of articles to the complete list\n",
    "    all_articles_in_db.extend(articles_in_db['items'])\n",
    "    \n",
    "    # Update the offset for the next page\n",
    "    offset += page_size\n",
    "    \n",
    "    # Check if we have fetched all articles\n",
    "    if len(all_articles_in_db) >= articles_in_db['count']:\n",
    "        break\n",
    "\n",
    "# The total number of articles retrieved\n",
    "article_count = len(all_articles_in_db)\n",
    "\n",
    "print(f\"Total articles fetched: {article_count}\")\n"
   ]
  },
  {
   "cell_type": "code",
   "execution_count": 5,
   "id": "9a50eccb-a834-49f8-9d1a-6014abaa1880",
   "metadata": {},
   "outputs": [],
   "source": [
    "# instantiate the data handler\n",
    "data_handler = DataHandler()"
   ]
  },
  {
   "cell_type": "code",
   "execution_count": 6,
   "id": "75744cf4-af27-4b1c-bbd6-8f00a71b1915",
   "metadata": {},
   "outputs": [],
   "source": [
    "# for the articles that are already in the database, only update the last_verification_date\n",
    "articles_for_last_verifcation_date_update = data_handler.find_scraped_articles_already_in_db(this_runs_articles, all_articles_in_db)\n",
    "# safe the responses to the last verification date update\n",
    "responses_to_last_verifcation_date_update = data_handler.patch_last_online_verification_date(token, articles_for_last_verifcation_date_update)\n",
    "# get the articles that are not yet in the database\n",
    "articles_not_yet_in_db = data_handler.find_scraped_articles_not_already_in_db(this_runs_articles, all_articles_in_db)\n",
    "articles_not_yet_in_db_list_of_dicts = [article for article in this_runs_articles if article['url'] in articles_not_yet_in_db]\n",
    "\n",
    "# Define the number of articles to process and upload per iteration\n",
    "articles_per_iteration = 10\n",
    "\n",
    "# Calculate the number of iterations\n",
    "iterations = len(articles_not_yet_in_db_list_of_dicts) // articles_per_iteration + (len(articles_not_yet_in_db_list_of_dicts) % articles_per_iteration > 0)\n",
    "\n",
    "responses = []"
   ]
  },
  {
   "cell_type": "code",
   "execution_count": 7,
   "id": "feb05c50-3543-4902-abe0-c91faa389420",
   "metadata": {},
   "outputs": [
    {
     "name": "stdout",
     "output_type": "stream",
     "text": [
      "Starting entity extraction...\n",
      "2024-08-29 09:16:17,488 SequenceTagger predicts: Dictionary with 20 tags: <unk>, O, B-PER, E-PER, S-LOC, B-MISC, I-MISC, E-MISC, S-PER, B-ORG, E-ORG, S-ORG, I-ORG, B-LOC, E-LOC, S-MISC, I-PER, I-LOC, <START>, <STOP>\n",
      "Tagger instantiated successfully\n"
     ]
    },
    {
     "data": {
      "application/vnd.jupyter.widget-view+json": {
       "model_id": "511484a711514c25af45896dca62b73e",
       "version_major": 2,
       "version_minor": 0
      },
      "text/plain": [
       "Map:   0%|          | 0/160 [00:00<?, ? examples/s]"
      ]
     },
     "metadata": {},
     "output_type": "display_data"
    },
    {
     "name": "stdout",
     "output_type": "stream",
     "text": [
      "Entity extraction completed.\n",
      "Starting topic extraction...\n"
     ]
    },
    {
     "name": "stderr",
     "output_type": "stream",
     "text": [
      "/opt/conda/lib/python3.10/site-packages/huggingface_hub/file_download.py:1150: FutureWarning: `resume_download` is deprecated and will be removed in version 1.0.0. Downloads always resume when possible. If you want to force a new download, use `force_download=True`.\n",
      "  warnings.warn(\n"
     ]
    },
    {
     "data": {
      "application/vnd.jupyter.widget-view+json": {
       "model_id": "ef17ca485d1442e4804c576a2ee38d4e",
       "version_major": 2,
       "version_minor": 0
      },
      "text/plain": [
       "Map:   0%|          | 0/160 [00:00<?, ? examples/s]"
      ]
     },
     "metadata": {},
     "output_type": "display_data"
    },
    {
     "name": "stderr",
     "output_type": "stream",
     "text": [
      "No sentence-transformers model found with name deepset/gbert-base. Creating a new one with MEAN pooling.\n"
     ]
    },
    {
     "name": "stdout",
     "output_type": "stream",
     "text": [
      "Topic extraction completed.\n",
      "Starting vectorization...\n"
     ]
    },
    {
     "data": {
      "application/vnd.jupyter.widget-view+json": {
       "model_id": "f073a4e1750c412ab3972a37a78ce0f7",
       "version_major": 2,
       "version_minor": 0
      },
      "text/plain": [
       "config.json:   0%|          | 0.00/362 [00:00<?, ?B/s]"
      ]
     },
     "metadata": {},
     "output_type": "display_data"
    },
    {
     "data": {
      "application/vnd.jupyter.widget-view+json": {
       "model_id": "8dc3f220aff04312a5bf02fa805a97db",
       "version_major": 2,
       "version_minor": 0
      },
      "text/plain": [
       "model.safetensors:   0%|          | 0.00/442M [00:00<?, ?B/s]"
      ]
     },
     "metadata": {},
     "output_type": "display_data"
    },
    {
     "data": {
      "application/vnd.jupyter.widget-view+json": {
       "model_id": "4eada540d1444921b242b2b4678dd783",
       "version_major": 2,
       "version_minor": 0
      },
      "text/plain": [
       "tokenizer_config.json:   0%|          | 0.00/83.0 [00:00<?, ?B/s]"
      ]
     },
     "metadata": {},
     "output_type": "display_data"
    },
    {
     "data": {
      "application/vnd.jupyter.widget-view+json": {
       "model_id": "bcb8d5554f3a4ae6b5ea12ceb50a6f1a",
       "version_major": 2,
       "version_minor": 0
      },
      "text/plain": [
       "vocab.txt:   0%|          | 0.00/240k [00:00<?, ?B/s]"
      ]
     },
     "metadata": {},
     "output_type": "display_data"
    },
    {
     "name": "stderr",
     "output_type": "stream",
     "text": [
      "No sentence-transformers model found with name T-Systems-onsite/german-roberta-sentence-transformer-v2. Creating a new one with MEAN pooling.\n"
     ]
    },
    {
     "data": {
      "application/vnd.jupyter.widget-view+json": {
       "model_id": "bcac6123e82148128fdc0f967885b8e8",
       "version_major": 2,
       "version_minor": 0
      },
      "text/plain": [
       "config.json:   0%|          | 0.00/541 [00:00<?, ?B/s]"
      ]
     },
     "metadata": {},
     "output_type": "display_data"
    },
    {
     "data": {
      "application/vnd.jupyter.widget-view+json": {
       "model_id": "a721a200c66a4c11a2274f10e5ffd8da",
       "version_major": 2,
       "version_minor": 0
      },
      "text/plain": [
       "model.safetensors:   0%|          | 0.00/1.11G [00:00<?, ?B/s]"
      ]
     },
     "metadata": {},
     "output_type": "display_data"
    },
    {
     "data": {
      "application/vnd.jupyter.widget-view+json": {
       "model_id": "c8817b53da3349b6ad74b7cb08576093",
       "version_major": 2,
       "version_minor": 0
      },
      "text/plain": [
       "tokenizer_config.json:   0%|          | 0.00/188 [00:00<?, ?B/s]"
      ]
     },
     "metadata": {},
     "output_type": "display_data"
    },
    {
     "data": {
      "application/vnd.jupyter.widget-view+json": {
       "model_id": "c52e5d8f5b294a1f984b7fa83e43039e",
       "version_major": 2,
       "version_minor": 0
      },
      "text/plain": [
       "sentencepiece.bpe.model:   0%|          | 0.00/5.07M [00:00<?, ?B/s]"
      ]
     },
     "metadata": {},
     "output_type": "display_data"
    },
    {
     "data": {
      "application/vnd.jupyter.widget-view+json": {
       "model_id": "afa102389fb14fcb8ddbfaed71b2348d",
       "version_major": 2,
       "version_minor": 0
      },
      "text/plain": [
       "special_tokens_map.json:   0%|          | 0.00/150 [00:00<?, ?B/s]"
      ]
     },
     "metadata": {},
     "output_type": "display_data"
    },
    {
     "data": {
      "application/vnd.jupyter.widget-view+json": {
       "model_id": "ac523ec78514446cb0f559d45eac2c2c",
       "version_major": 2,
       "version_minor": 0
      },
      "text/plain": [
       "modules.json:   0%|          | 0.00/229 [00:00<?, ?B/s]"
      ]
     },
     "metadata": {},
     "output_type": "display_data"
    },
    {
     "data": {
      "application/vnd.jupyter.widget-view+json": {
       "model_id": "efdd1822ae944059adc8b795260e95fd",
       "version_major": 2,
       "version_minor": 0
      },
      "text/plain": [
       "config_sentence_transformers.json:   0%|          | 0.00/124 [00:00<?, ?B/s]"
      ]
     },
     "metadata": {},
     "output_type": "display_data"
    },
    {
     "data": {
      "application/vnd.jupyter.widget-view+json": {
       "model_id": "84aea25c6844444ebc97f2ac051fcd38",
       "version_major": 2,
       "version_minor": 0
      },
      "text/plain": [
       "README.md:   0%|          | 0.00/3.02k [00:00<?, ?B/s]"
      ]
     },
     "metadata": {},
     "output_type": "display_data"
    },
    {
     "data": {
      "application/vnd.jupyter.widget-view+json": {
       "model_id": "cfaab25eed294c67b52050995dd920e1",
       "version_major": 2,
       "version_minor": 0
      },
      "text/plain": [
       "sentence_bert_config.json:   0%|          | 0.00/53.0 [00:00<?, ?B/s]"
      ]
     },
     "metadata": {},
     "output_type": "display_data"
    },
    {
     "data": {
      "application/vnd.jupyter.widget-view+json": {
       "model_id": "5b6f29ad084c4b92b13f7ccd5178143f",
       "version_major": 2,
       "version_minor": 0
      },
      "text/plain": [
       "config.json:   0%|          | 0.00/626 [00:00<?, ?B/s]"
      ]
     },
     "metadata": {},
     "output_type": "display_data"
    },
    {
     "data": {
      "application/vnd.jupyter.widget-view+json": {
       "model_id": "4f6987afa60c44ccb9e5ef0266b356bb",
       "version_major": 2,
       "version_minor": 0
      },
      "text/plain": [
       "pytorch_model.bin:   0%|          | 0.00/1.34G [00:00<?, ?B/s]"
      ]
     },
     "metadata": {},
     "output_type": "display_data"
    },
    {
     "data": {
      "application/vnd.jupyter.widget-view+json": {
       "model_id": "c413fc45c21c43d1b53934f8e2a88f3b",
       "version_major": 2,
       "version_minor": 0
      },
      "text/plain": [
       "tokenizer_config.json:   0%|          | 0.00/395 [00:00<?, ?B/s]"
      ]
     },
     "metadata": {},
     "output_type": "display_data"
    },
    {
     "data": {
      "application/vnd.jupyter.widget-view+json": {
       "model_id": "0edecd2bc6df4af2b083172431c7195d",
       "version_major": 2,
       "version_minor": 0
      },
      "text/plain": [
       "vocab.txt:   0%|          | 0.00/240k [00:00<?, ?B/s]"
      ]
     },
     "metadata": {},
     "output_type": "display_data"
    },
    {
     "data": {
      "application/vnd.jupyter.widget-view+json": {
       "model_id": "bddb4610ec2a4ebc9c3c5c21f8a562f7",
       "version_major": 2,
       "version_minor": 0
      },
      "text/plain": [
       "tokenizer.json:   0%|          | 0.00/729k [00:00<?, ?B/s]"
      ]
     },
     "metadata": {},
     "output_type": "display_data"
    },
    {
     "data": {
      "application/vnd.jupyter.widget-view+json": {
       "model_id": "b855e3b0cb844d39b52ddaa0b0df8a16",
       "version_major": 2,
       "version_minor": 0
      },
      "text/plain": [
       "special_tokens_map.json:   0%|          | 0.00/125 [00:00<?, ?B/s]"
      ]
     },
     "metadata": {},
     "output_type": "display_data"
    },
    {
     "data": {
      "application/vnd.jupyter.widget-view+json": {
       "model_id": "5e51367aa9c54de9b1d52a90ca60b54b",
       "version_major": 2,
       "version_minor": 0
      },
      "text/plain": [
       "1_Pooling/config.json:   0%|          | 0.00/191 [00:00<?, ?B/s]"
      ]
     },
     "metadata": {},
     "output_type": "display_data"
    },
    {
     "name": "stderr",
     "output_type": "stream",
     "text": [
      "No sentence-transformers model found with name xlm-roberta-large. Creating a new one with MEAN pooling.\n"
     ]
    },
    {
     "data": {
      "application/vnd.jupyter.widget-view+json": {
       "model_id": "8106b222d6c64f848e65941bc6645771",
       "version_major": 2,
       "version_minor": 0
      },
      "text/plain": [
       "config.json:   0%|          | 0.00/616 [00:00<?, ?B/s]"
      ]
     },
     "metadata": {},
     "output_type": "display_data"
    },
    {
     "data": {
      "application/vnd.jupyter.widget-view+json": {
       "model_id": "c591077291bd41a1a04d13628f93eff3",
       "version_major": 2,
       "version_minor": 0
      },
      "text/plain": [
       "model.safetensors:   0%|          | 0.00/2.24G [00:00<?, ?B/s]"
      ]
     },
     "metadata": {},
     "output_type": "display_data"
    },
    {
     "data": {
      "application/vnd.jupyter.widget-view+json": {
       "model_id": "d1d88f5e62224f6196b551769ca33d83",
       "version_major": 2,
       "version_minor": 0
      },
      "text/plain": [
       "tokenizer_config.json:   0%|          | 0.00/25.0 [00:00<?, ?B/s]"
      ]
     },
     "metadata": {},
     "output_type": "display_data"
    },
    {
     "data": {
      "application/vnd.jupyter.widget-view+json": {
       "model_id": "33fa8e8aed0840538493fcf1cf3fb83c",
       "version_major": 2,
       "version_minor": 0
      },
      "text/plain": [
       "sentencepiece.bpe.model:   0%|          | 0.00/5.07M [00:00<?, ?B/s]"
      ]
     },
     "metadata": {},
     "output_type": "display_data"
    },
    {
     "data": {
      "application/vnd.jupyter.widget-view+json": {
       "model_id": "fc8fbfef7afd40fd8a69ec3d1b715afc",
       "version_major": 2,
       "version_minor": 0
      },
      "text/plain": [
       "tokenizer.json:   0%|          | 0.00/9.10M [00:00<?, ?B/s]"
      ]
     },
     "metadata": {},
     "output_type": "display_data"
    },
    {
     "name": "stderr",
     "output_type": "stream",
     "text": [
      "No sentence-transformers model found with name google/bigbird-roberta-large. Creating a new one with MEAN pooling.\n"
     ]
    },
    {
     "data": {
      "application/vnd.jupyter.widget-view+json": {
       "model_id": "90963c7340364067ab119432cd11da5f",
       "version_major": 2,
       "version_minor": 0
      },
      "text/plain": [
       "config.json:   0%|          | 0.00/758 [00:00<?, ?B/s]"
      ]
     },
     "metadata": {},
     "output_type": "display_data"
    },
    {
     "data": {
      "application/vnd.jupyter.widget-view+json": {
       "model_id": "01b12d121f8c48a4a2a2c96583a85a4a",
       "version_major": 2,
       "version_minor": 0
      },
      "text/plain": [
       "pytorch_model.bin:   0%|          | 0.00/1.44G [00:00<?, ?B/s]"
      ]
     },
     "metadata": {},
     "output_type": "display_data"
    },
    {
     "data": {
      "application/vnd.jupyter.widget-view+json": {
       "model_id": "fd49a9aa24bd4d5cb58bade61d682d73",
       "version_major": 2,
       "version_minor": 0
      },
      "text/plain": [
       "tokenizer_config.json:   0%|          | 0.00/969 [00:00<?, ?B/s]"
      ]
     },
     "metadata": {},
     "output_type": "display_data"
    },
    {
     "data": {
      "application/vnd.jupyter.widget-view+json": {
       "model_id": "b3dfc9da1f644a328e66a8346ead5142",
       "version_major": 2,
       "version_minor": 0
      },
      "text/plain": [
       "spiece.model:   0%|          | 0.00/846k [00:00<?, ?B/s]"
      ]
     },
     "metadata": {},
     "output_type": "display_data"
    },
    {
     "data": {
      "application/vnd.jupyter.widget-view+json": {
       "model_id": "2ac81fa77f2940a1bc08f3bd8e072285",
       "version_major": 2,
       "version_minor": 0
      },
      "text/plain": [
       "special_tokens_map.json:   0%|          | 0.00/775 [00:00<?, ?B/s]"
      ]
     },
     "metadata": {},
     "output_type": "display_data"
    },
    {
     "name": "stderr",
     "output_type": "stream",
     "text": [
      "No sentence-transformers model found with name severinsimmler/xlm-roberta-longformer-large-16384. Creating a new one with MEAN pooling.\n"
     ]
    },
    {
     "data": {
      "application/vnd.jupyter.widget-view+json": {
       "model_id": "54978360f829487f975446af028885e7",
       "version_major": 2,
       "version_minor": 0
      },
      "text/plain": [
       "config.json:   0%|          | 0.00/976 [00:00<?, ?B/s]"
      ]
     },
     "metadata": {},
     "output_type": "display_data"
    },
    {
     "data": {
      "application/vnd.jupyter.widget-view+json": {
       "model_id": "7e0a0bb81dbf4633825f6fcfc8b07f9d",
       "version_major": 2,
       "version_minor": 0
      },
      "text/plain": [
       "model.safetensors:   0%|          | 0.00/2.61G [00:00<?, ?B/s]"
      ]
     },
     "metadata": {},
     "output_type": "display_data"
    },
    {
     "data": {
      "application/vnd.jupyter.widget-view+json": {
       "model_id": "29d95c839c124e2ebeed8bd45ee6d68d",
       "version_major": 2,
       "version_minor": 0
      },
      "text/plain": [
       "tokenizer_config.json:   0%|          | 0.00/420 [00:00<?, ?B/s]"
      ]
     },
     "metadata": {},
     "output_type": "display_data"
    },
    {
     "data": {
      "application/vnd.jupyter.widget-view+json": {
       "model_id": "6bd73e6de1a7423f9a6e2649c2c4a9dd",
       "version_major": 2,
       "version_minor": 0
      },
      "text/plain": [
       "tokenizer.json:   0%|          | 0.00/17.1M [00:00<?, ?B/s]"
      ]
     },
     "metadata": {},
     "output_type": "display_data"
    },
    {
     "data": {
      "application/vnd.jupyter.widget-view+json": {
       "model_id": "862cd2230e25486089ec37c8dd872fd0",
       "version_major": 2,
       "version_minor": 0
      },
      "text/plain": [
       "special_tokens_map.json:   0%|          | 0.00/280 [00:00<?, ?B/s]"
      ]
     },
     "metadata": {},
     "output_type": "display_data"
    },
    {
     "data": {
      "application/vnd.jupyter.widget-view+json": {
       "model_id": "38ea4158585942ebb97e0032b39d5de6",
       "version_major": 2,
       "version_minor": 0
      },
      "text/plain": [
       "Map:   0%|          | 0/160 [00:00<?, ? examples/s]"
      ]
     },
     "metadata": {},
     "output_type": "display_data"
    },
    {
     "name": "stdout",
     "output_type": "stream",
     "text": [
      "Vectorization completed.\n",
      "Beginning article upload...\n",
      "Article upload completed.\n"
     ]
    }
   ],
   "source": [
    "import torch\n",
    "import gc\n",
    "import json\n",
    "\n",
    "def clear_gpu_memory():\n",
    "    \"\"\"Clears GPU memory and forces garbage collection.\"\"\"\n",
    "    torch.cuda.empty_cache()\n",
    "    gc.collect()\n",
    "\n",
    "def process_articles_in_batches(text_analysis_class, method_name, articles, batch_size):\n",
    "    \"\"\"Process articles in batches using the specified text analysis class and method.\"\"\"\n",
    "    processor = text_analysis_class()\n",
    "    method = getattr(processor, method_name)\n",
    "    \n",
    "    for i in range(0, len(articles), batch_size):\n",
    "        batch = articles[i:i + batch_size]\n",
    "        batch = method(batch)\n",
    "        \n",
    "        # Reassign the processed batch back to the main list\n",
    "        articles[i:i + batch_size] = batch\n",
    "        \n",
    "        clear_gpu_memory()  # Clear memory after each batch\n",
    "    \n",
    "    del processor  # Delete the processor instance to free up GPU memory\n",
    "    clear_gpu_memory()\n",
    "\n",
    "# Define your batch size\n",
    "batch_size = len(articles_not_yet_in_db_list_of_dicts)  # Adjust this based on your GPU capacity\n",
    "\n",
    "# Process with Entity Extractor\n",
    "print(\"Starting entity extraction...\")\n",
    "process_articles_in_batches(NEExtractor, 'extract_entities', articles_not_yet_in_db_list_of_dicts, batch_size)\n",
    "print(\"Entity extraction completed.\")\n",
    "\n",
    "# Process with Topic Extractor\n",
    "print(\"Starting topic extraction...\")\n",
    "process_articles_in_batches(TopicExtractor, 'extract_topics', articles_not_yet_in_db_list_of_dicts, batch_size)\n",
    "print(\"Topic extraction completed.\")\n",
    "\n",
    "# Process with Vectorizer\n",
    "print(\"Starting vectorization...\")\n",
    "process_articles_in_batches(Vectorizer, 'vectorize', articles_not_yet_in_db_list_of_dicts, batch_size)\n",
    "print(\"Vectorization completed.\")\n",
    "\n",
    "# Remove main_text and lead_text from articles to save space before uploading\n",
    "for article in articles_not_yet_in_db_list_of_dicts:\n",
    "    article.pop('main_text', None)\n",
    "    article.pop('lead_text', None)\n",
    "\n",
    "# Upload each article to the database\n",
    "print(\"Beginning article upload...\")\n",
    "responses = []\n",
    "keycloak_login = KeycloakLogin()\n",
    "token = keycloak_login.return_token()\n",
    "data_uploader = DataUploader(token)\n",
    "\n",
    "for article in articles_not_yet_in_db_list_of_dicts:\n",
    "    response = data_uploader.post_content(article)\n",
    "    responses.append(response)\n",
    "\n",
    "# Save the responses to a JSON file\n",
    "with open('responses.json', 'w') as f:\n",
    "    json.dump(responses, f)\n",
    "\n",
    "print(\"Article upload completed.\")\n"
   ]
  },
  {
   "cell_type": "code",
   "execution_count": null,
   "id": "86cd1498-12b3-4ca6-8352-67a119bfc8af",
   "metadata": {},
   "outputs": [],
   "source": []
  },
  {
   "cell_type": "code",
   "execution_count": null,
   "id": "1b3c47e2-ca46-44dd-8457-90bc4de266b1",
   "metadata": {},
   "outputs": [],
   "source": []
  },
  {
   "cell_type": "code",
   "execution_count": null,
   "id": "9e0f3e1e-6c4f-4bd6-868d-875b22965348",
   "metadata": {},
   "outputs": [],
   "source": [
    "#for i in range(iterations):\n",
    "#    print(\"Processing articles\", i*articles_per_iteration, \"to\", (i+1)*articles_per_iteration, \"from\", len(articles_not_yet_in_db_list_of_dicts))\n",
    "#    # Get the articles for this iteration\n",
    "#    articles = spiegel_articles_not_yet_in_db_list_of_dicts[i*articles_per_iteration:(i+1)*articles_per_iteration]#\n",
    "#\n",
    "#    print(\"Running text processing on articles\", i*articles_per_iteration, \"to\", (i+1)*articles_per_iteration, \"from\", len(articles_not_yet_in_db_list_of_dicts))\n",
    "    # Add the summaries, named entities, topics, and vectors to the articles dict\n",
    "    #articles = summarizer.summarize(articles)\n",
    "#    articles = entity_extractor.extract_entities(articles)\n",
    "#    articles = topic_extractor.extract_topics(articles)\n",
    "#    articles = vectorizer.vectorize(articles)\n",
    "\n",
    "    # Remove main_text and lead_text from articles\n",
    "#    for article in articles:\n",
    "#        article.pop('main_text', None)\n",
    "#        article.pop('lead_text', None)\n",
    "        \n",
    "#    print(\"Uploading articles\", i*articles_per_iteration, \"to\", (i+1)*articles_per_iteration, \"from\", len(articles_not_yet_in_db_list_of_dicts))\n",
    "    # Ensure that the token is still valid every n iterations\n",
    "    # TODO: Tell Mario chuncking was done because I get a new token every 30 uploads to make sure the token is always valid\n",
    "    # if we do that every 1 upload that takes much longer since it takes ~20 seconds to get a net token/ensure the token is valid#\n",
    "#    keycloak_login = KeycloakLogin()\n",
    "#    token = keycloak_login.return_token()\n",
    "    \n",
    "    # Loop over articles and put every article into the database\n",
    "#    data_uploader = DataUploader(token)\n",
    "    \n",
    "#    for article in articles:\n",
    "#        response = data_uploader.post_content(article)\n",
    "#        responses.append(response)\n",
    "    \n",
    "#    print(\"Processed and uploaded articles\", i*articles_per_iteration, \"to\", (i+1)*articles_per_iteration, \"from\", len(articles_not_yet_in_db_list_of_dicts))\n",
    "    \n",
    "        \n",
    "    # save the responses to a json file\n",
    "#    with open('responses.json', 'w') as f:\n",
    "#        json.dump(responses, f)"
   ]
  }
 ],
 "metadata": {
  "kernelspec": {
   "display_name": "Python 3",
   "language": "python",
   "name": "python3"
  },
  "language_info": {
   "codemirror_mode": {
    "name": "ipython",
    "version": 3
   },
   "file_extension": ".py",
   "mimetype": "text/x-python",
   "name": "python",
   "nbconvert_exporter": "python",
   "pygments_lexer": "ipython3",
   "version": "3.9.19"
  }
 },
 "nbformat": 4,
 "nbformat_minor": 5
}
